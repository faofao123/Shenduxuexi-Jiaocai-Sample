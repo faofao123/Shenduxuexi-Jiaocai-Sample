{
 "cells": [
  {
   "cell_type": "markdown",
   "metadata": {
    "chapterId": "SyUAPlA7M",
    "id": "chapter_name"
   },
   "source": [
    "# Chapter10　数据可视化的准备"
   ]
  },
  {
   "cell_type": "markdown",
   "metadata": {
    "id": "table"
   },
   "source": [
    "- **10.1 各种各样的图表**\n",
    "    - **10.1.1 折线图**\n",
    "    - **10.1.2 条形图**\n",
    "    - **10.1.3 直方图**\n",
    "    - **10.1.4 散点图**\n",
    "    - **10.1.5 饼形图**\n",
    "<br><br>\n",
    "- **10.2 随机数的生成**\n",
    "    - **10.2.1 设置种子**\n",
    "    - **10.2.2 生成服从正态分布的随机数**\n",
    "    - **10.2.3 生成服从二项分布的随机数**\n",
    "    - **10.2.4 列表数据的随机选择**\n",
    "<br><br>\n",
    "- **10.3 时间序列数据**\n",
    "    - **10.3.1 datetime类型**\n",
    "    - **10.3.2 timedelta 类型**\n",
    "    - **10.3.3 datetime 与 timedelta 型数据的运算**\n",
    "    - **10.3.4 从表示时间的字符串中创建 datetime 对象**\n",
    "<br><br>\n",
    "- **10.4 数据的操作**\n",
    "    - **10.4.1 字符串型到数值型的转换**\n",
    "    - **10.4.2 生成间距相等的序列①**\n",
    "    - **10.4.3 生成间距相等的序列②**\n",
    "<br><br>\n",
    "- **附加习题**"
   ]
  },
  {
   "cell_type": "markdown",
   "metadata": {
    "id": "section_name",
    "sectionId": "BJgIRweRmG"
   },
   "source": [
    "# ●10.1 各种各样的图表"
   ]
  },
  {
   "cell_type": "markdown",
   "metadata": {
    "courseId": 4040,
    "exerciseId": "rybIAweCXf",
    "id": "quiz_session_name",
    "important": false,
    "isDL": false,
    "timeoutSecs": 10
   },
   "source": [
    "### ○10.1.1 折线图"
   ]
  },
  {
   "cell_type": "markdown",
   "metadata": {},
   "source": [
    "本节没有样本文件。"
   ]
  },
  {
   "cell_type": "markdown",
   "metadata": {
    "courseId": 4040,
    "exerciseId": "S1fLRDe0QM",
    "id": "quiz_session_name",
    "important": false,
    "isDL": false,
    "timeoutSecs": 10
   },
   "source": [
    "### ○10.1.2 条形图"
   ]
  },
  {
   "cell_type": "markdown",
   "metadata": {},
   "source": [
    "本节没有样本文件。"
   ]
  },
  {
   "cell_type": "markdown",
   "metadata": {
    "courseId": 4040,
    "exerciseId": "H1QLCveAmf",
    "id": "quiz_session_name",
    "important": false,
    "isDL": false,
    "timeoutSecs": 10
   },
   "source": [
    "### ○10.1.3 直方图"
   ]
  },
  {
   "cell_type": "markdown",
   "metadata": {},
   "source": [
    "本节没有样本文件。"
   ]
  },
  {
   "cell_type": "markdown",
   "metadata": {
    "courseId": 4040,
    "exerciseId": "Hk4UAwxRmM",
    "id": "quiz_session_name",
    "important": false,
    "isDL": false,
    "timeoutSecs": 10
   },
   "source": [
    "### ○10.1.4 散点图"
   ]
  },
  {
   "cell_type": "markdown",
   "metadata": {},
   "source": [
    "本节没有样本文件。"
   ]
  },
  {
   "cell_type": "markdown",
   "metadata": {
    "courseId": 4040,
    "exerciseId": "rkBLRDeC7f",
    "id": "quiz_session_name",
    "important": false,
    "isDL": false,
    "timeoutSecs": 10
   },
   "source": [
    "### ○10.1.5 饼形图"
   ]
  },
  {
   "cell_type": "markdown",
   "metadata": {},
   "source": [
    "本节没有样本文件。"
   ]
  },
  {
   "cell_type": "markdown",
   "metadata": {
    "id": "section_name",
    "sectionId": "HJIL0Dl07G"
   },
   "source": [
    "## ●10.2 随机数的生成"
   ]
  },
  {
   "cell_type": "markdown",
   "metadata": {
    "courseId": 4040,
    "exerciseId": "SyvLRwx0mz",
    "id": "code_session_name",
    "important": false,
    "isDL": false,
    "timeoutSecs": 10
   },
   "source": [
    "### 〇10.2.1 设置种子"
   ]
  },
  {
   "cell_type": "markdown",
   "metadata": {},
   "source": [
    "#### □习题"
   ]
  },
  {
   "cell_type": "code",
   "execution_count": null,
   "metadata": {
    "collapsed": true,
    "id": "index"
   },
   "outputs": [],
   "source": [
    "import numpy as np\n",
    "\n",
    "# 确认不进行初始化设置时产生的随机数是否会一致\n",
    "# 分别在 X、Y 中保存 5 个随机数\n",
    "X = np.random.randn(5)\n",
    "Y = np.random.randn(5)\n",
    "# 对 X、Y 的值进行输出\n",
    "print(\"不对种子进行设置时\")\n",
    "print(\"X:\",X)\n",
    "print(\"Y:\",Y)\n",
    "\n",
    "# 请对种子进行设置\n",
    "np.random.seed(0)\n",
    "# 将随机数序列代入变量中\n",
    "x = np.random.randn(5)\n",
    "# 请传入相同的种子值进行初始化设置\n",
    "np.random.seed(0)\n",
    "# 再次创建随机数序列并将其代入其他的变量中\n",
    "y = np.random.randn(5)\n",
    "# 对 x、y 的值进行输出，并确认其是否一致\n",
    "print(\"对种子进行设置后\")\n",
    "print(\"x:\",x)\n",
    "print(\"y:\",y)\n",
    "# 请直接输出结果"
   ]
  },
  {
   "cell_type": "markdown",
   "metadata": {},
   "source": [
    "**程序清单10.1：习题**　"
   ]
  },
  {
   "cell_type": "markdown",
   "metadata": {},
   "source": [
    "#### □参考答案（输出结果可能和实际界面有所不同）"
   ]
  },
  {
   "cell_type": "code",
   "execution_count": 1,
   "metadata": {
    "id": "answer",
    "scrolled": false
   },
   "outputs": [
    {
     "name": "stdout",
     "output_type": "stream",
     "text": [
      "不对种子进行设置时\n",
      "X: [ 1.69064161 -0.42743008 -0.86123923  1.16849608 -0.23130923]\n",
      "Y: [-1.78682841 -0.99348616 -0.89491737 -0.701891   -0.33340253]\n",
      "对种子进行设置后\n",
      "x: [1.76405235 0.40015721 0.97873798 2.2408932  1.86755799]\n",
      "y: [1.76405235 0.40015721 0.97873798 2.2408932  1.86755799]\n"
     ]
    }
   ],
   "source": [
    "import numpy as np\n",
    "\n",
    "# 确认不进行初始化设置时产生的随机数是否会一致\n",
    "# 分别在 X、Y 中保存 5 个随机数\n",
    "X = np.random.randn(5)\n",
    "Y = np.random.randn(5)\n",
    "# 对 X、Y 的值进行输出\n",
    "print(\"不对种子进行设置时\")\n",
    "print(\"X:\",X)\n",
    "print(\"Y:\",Y)\n",
    "\n",
    "# 请对种子进行设置\n",
    "np.random.seed(0)\n",
    "# 将随机数序列代入变量中\n",
    "x = np.random.randn(5)\n",
    "# 请传入相同的种子值进行初始化设置\n",
    "np.random.seed(0)\n",
    "# 再次创建随机数序列并将其代入其他的变量中\n",
    "y = np.random.randn(5)\n",
    "# 对 x、y 的值进行输出，并确认其是否一致\n",
    "print(\"对种子进行设置后\")\n",
    "print(\"x:\",x)\n",
    "print(\"y:\",y)\n",
    "# 请直接输出结果"
   ]
  },
  {
   "cell_type": "markdown",
   "metadata": {},
   "source": [
    "**程序清单10.2：参考答案**"
   ]
  },
  {
   "cell_type": "markdown",
   "metadata": {
    "courseId": 4040,
    "exerciseId": "r1OL0DeR7M",
    "id": "code_session_name",
    "important": false,
    "isDL": false,
    "timeoutSecs": 10
   },
   "source": [
    "### 〇10.2.2 生成服从正态分布的随机数"
   ]
  },
  {
   "cell_type": "markdown",
   "metadata": {},
   "source": [
    "#### □习题"
   ]
  },
  {
   "cell_type": "code",
   "execution_count": null,
   "metadata": {
    "collapsed": true,
    "id": "index"
   },
   "outputs": [],
   "source": [
    "import numpy as np\n",
    "import matplotlib.pyplot as plt\n",
    "%matplotlib inline\n",
    "\n",
    "# 请将种子的值设置为 0\n",
    "\n",
    "# 请生成 10000 个服从正态分布的随机数，并将它们代入变量 x 中\n",
    "x = \n",
    "\n",
    "# 进行可视化处理\n",
    "plt.hist(x, bins='auto')\n",
    "plt.show()"
   ]
  },
  {
   "cell_type": "markdown",
   "metadata": {},
   "source": [
    "**程序清单10.3：习题**"
   ]
  },
  {
   "cell_type": "markdown",
   "metadata": {},
   "source": [
    "#### □参考答案"
   ]
  },
  {
   "cell_type": "code",
   "execution_count": 1,
   "metadata": {
    "id": "answer",
    "scrolled": true
   },
   "outputs": [
    {
     "data": {
      "image/png": "[encoded data removed]",
      "text/plain": [
       "<Figure size 432x288 with 1 Axes>"
      ]
     },
     "metadata": {
      "needs_background": "light"
     },
     "output_type": "display_data"
    }
   ],
   "source": [
    "import numpy as np\n",
    "import matplotlib.pyplot as plt\n",
    "%matplotlib inline\n",
    "\n",
    "# 请将种子的值设置为 0\n",
    "np.random.seed(0)\n",
    "# 请生成 10000 个服从正态分布的随机数，并将它们代入变量 x 中\n",
    "x = np.random.randn(10000)\n",
    "\n",
    "# 进行可视化处理\n",
    "plt.hist(x, bins='auto')\n",
    "plt.show()"
   ]
  },
  {
   "cell_type": "markdown",
   "metadata": {},
   "source": [
    "**程序清单10.4：参考答案**"
   ]
  },
  {
   "cell_type": "markdown",
   "metadata": {
    "courseId": 4040,
    "exerciseId": "rkt8ADxRmz",
    "id": "code_session_name",
    "important": false,
    "isDL": false,
    "timeoutSecs": 10
   },
   "source": [
    "### 〇10.2.3 生成服从二项分布的随机数"
   ]
  },
  {
   "cell_type": "markdown",
   "metadata": {},
   "source": [
    "#### □习题"
   ]
  },
  {
   "cell_type": "code",
   "execution_count": null,
   "metadata": {
    "collapsed": true,
    "id": "index"
   },
   "outputs": [],
   "source": [
    "import numpy as np\n",
    "\n",
    "# 请对种子进行设置\n",
    "np.random.seed(0)\n",
    "# 请对在成功概率 0.5 的条件下尝试 100 次得到的成功次数进行 10000 次的求解，并将结果代入变量 nums 中\n",
    "nums = \n",
    "\n",
    "# 请对成功率的平均值进行输出\n"
   ]
  },
  {
   "cell_type": "markdown",
   "metadata": {},
   "source": [
    "**程序清单10.5：习题**"
   ]
  },
  {
   "cell_type": "markdown",
   "metadata": {},
   "source": [
    "#### □参考答案"
   ]
  },
  {
   "cell_type": "code",
   "execution_count": 3,
   "metadata": {
    "id": "answer",
    "scrolled": true
   },
   "outputs": [
    {
     "name": "stdout",
     "output_type": "stream",
     "text": [
      "0.49832\n"
     ]
    }
   ],
   "source": [
    "import numpy as np\n",
    "\n",
    "# 请对种子进行设置\n",
    "np.random.seed(0)\n",
    "# 请对在成功概率 0.5 的条件下尝试 100 次得到的成功次数进行 10000 次的求解，并将结果代入变量 nums 中\n",
    "nums = np.random.binomial(100, 0.5, size=10000)\n",
    "\n",
    "# 请对成功率的平均值进行输出\n",
    "print(nums.mean()/100)"
   ]
  },
  {
   "cell_type": "markdown",
   "metadata": {},
   "source": [
    "**程序清单10.6：参考答案**"
   ]
  },
  {
   "cell_type": "markdown",
   "metadata": {
    "courseId": 4040,
    "exerciseId": "HJ5I0ve0mf",
    "id": "code_session_name",
    "important": false,
    "isDL": false,
    "timeoutSecs": 10
   },
   "source": [
    "### 〇10.2.4 列表数据的随机选择"
   ]
  },
  {
   "cell_type": "markdown",
   "metadata": {},
   "source": [
    "#### □习题"
   ]
  },
  {
   "cell_type": "code",
   "execution_count": null,
   "metadata": {
    "collapsed": true,
    "id": "index"
   },
   "outputs": [],
   "source": [
    "import numpy as np\n",
    "\n",
    "x = ['Apple', 'Orange', 'Banana', 'Pineapple', 'Kiwifruit', 'Strawberry']\n",
    "\n",
    "# 请对种子进行设置\n",
    "np.random.seed(0)\n",
    "# 请从列表 x 中随机选择 5 个元素，并将结果代入变量 y 中\n",
    "y = \n",
    "\n",
    "print(y)"
   ]
  },
  {
   "cell_type": "markdown",
   "metadata": {},
   "source": [
    "**程序清单10.7：习题**"
   ]
  },
  {
   "cell_type": "markdown",
   "metadata": {},
   "source": [
    "#### □参考答案"
   ]
  },
  {
   "cell_type": "code",
   "execution_count": 2,
   "metadata": {
    "id": "answer",
    "scrolled": false
   },
   "outputs": [
    {
     "name": "stdout",
     "output_type": "stream",
     "text": [
      "['Kiwifruit' 'Strawberry' 'Apple' 'Pineapple' 'Pineapple']\n"
     ]
    }
   ],
   "source": [
    "import numpy as np\n",
    "\n",
    "x = ['Apple', 'Orange', 'Banana', 'Pineapple', 'Kiwifruit', 'Strawberry']\n",
    "\n",
    "# 请对种子进行设置\n",
    "np.random.seed(0)\n",
    "# 请从列表 x 中随机选择 5 个元素，并将结果代入变量 y 中\n",
    "y = np.random.choice(x, 5)\n",
    "\n",
    "print(y)"
   ]
  },
  {
   "cell_type": "markdown",
   "metadata": {},
   "source": [
    "**程序清单10.8：参考答案**"
   ]
  },
  {
   "cell_type": "markdown",
   "metadata": {
    "id": "section_name",
    "sectionId": "SyiL0wxC7G"
   },
   "source": [
    "## ●10.3 时间序列数据"
   ]
  },
  {
   "cell_type": "markdown",
   "metadata": {
    "courseId": 4040,
    "exerciseId": "HkhI0vxCmz",
    "id": "code_session_name",
    "important": false,
    "isDL": false,
    "timeoutSecs": 10
   },
   "source": [
    "### ○10.3.1 datetime类型"
   ]
  },
  {
   "cell_type": "markdown",
   "metadata": {},
   "source": [
    "#### □习题"
   ]
  },
  {
   "cell_type": "code",
   "execution_count": null,
   "metadata": {
    "collapsed": true,
    "id": "index"
   },
   "outputs": [],
   "source": [
    "import datetime as dt\n",
    "\n",
    "# 请创建表示 1992 年 10 月 22 日的 datetime 对象，并将其代入 x 中\n",
    "x = \n",
    "\n",
    "# 输出结果\n",
    "print(x)"
   ]
  },
  {
   "cell_type": "markdown",
   "metadata": {},
   "source": [
    "**程序清单10.9：习题**"
   ]
  },
  {
   "cell_type": "markdown",
   "metadata": {},
   "source": [
    "#### □参考答案"
   ]
  },
  {
   "cell_type": "code",
   "execution_count": 4,
   "metadata": {
    "id": "answer",
    "scrolled": true
   },
   "outputs": [
    {
     "name": "stdout",
     "output_type": "stream",
     "text": [
      "1992-10-22 00:00:00\n"
     ]
    }
   ],
   "source": [
    "import datetime as dt\n",
    "\n",
    "# 请创建表示 1992 年 10 月 22 日的 datetime 对象，并将其代入 x 中\n",
    "x = dt.datetime(1992, 10, 22)\n",
    "\n",
    "# 输出结果\n",
    "print(x)"
   ]
  },
  {
   "cell_type": "markdown",
   "metadata": {},
   "source": [
    "**程序清单10.10：参考答案**"
   ]
  },
  {
   "cell_type": "markdown",
   "metadata": {
    "courseId": 4040,
    "exerciseId": "H1TIAPxAXf",
    "id": "code_session_name",
    "important": false,
    "isDL": false,
    "timeoutSecs": 10
   },
   "source": [
    "### ○10.3.2 timedelta类型"
   ]
  },
  {
   "cell_type": "markdown",
   "metadata": {},
   "source": [
    "#### □习题"
   ]
  },
  {
   "cell_type": "code",
   "execution_count": null,
   "metadata": {},
   "outputs": [],
   "source": [
    "import datetime as dt\n",
    "\n",
    "# 请创建表示1.5小时的 timedelta 对象，并将其代入 x 中\n",
    "x = \n",
    "\n",
    "# 输出结果\n",
    "print(x)"
   ]
  },
  {
   "cell_type": "markdown",
   "metadata": {},
   "source": [
    "**程序清单10.11：习题**"
   ]
  },
  {
   "cell_type": "markdown",
   "metadata": {},
   "source": [
    "#### □参考答案"
   ]
  },
  {
   "cell_type": "code",
   "execution_count": 6,
   "metadata": {
    "id": "answer"
   },
   "outputs": [
    {
     "name": "stdout",
     "output_type": "stream",
     "text": [
      "1:30:00\n"
     ]
    }
   ],
   "source": [
    "import datetime as dt\n",
    "\n",
    "# 请创建表示1.5小时的 timedelta 对象，并将其代入 x 中\n",
    "x = dt.timedelta(hours=1, minutes=30)\n",
    "\n",
    "# 输出结果\n",
    "print(x)"
   ]
  },
  {
   "cell_type": "markdown",
   "metadata": {},
   "source": [
    "**程序清单10.12：参考答案**"
   ]
  },
  {
   "cell_type": "markdown",
   "metadata": {
    "courseId": 4040,
    "exerciseId": "ryCLAPeAXM",
    "id": "code_session_name",
    "important": false,
    "isDL": false,
    "timeoutSecs": 10
   },
   "source": [
    "### ○10.3.3  datetime 与 timedelta 型数据的运算"
   ]
  },
  {
   "cell_type": "markdown",
   "metadata": {},
   "source": [
    "#### □习题"
   ]
  },
  {
   "cell_type": "code",
   "execution_count": null,
   "metadata": {
    "collapsed": true,
    "id": "index"
   },
   "outputs": [],
   "source": [
    "import datetime as dt\n",
    "\n",
    "\n",
    "# 请创建表示 1992 年 10 月 22 日的 datetime 对象，并将其代入 x 中\n",
    "x = \n",
    "\n",
    "# 请从变量 x 创建表示一天后的 datetime 对象并代入 y 中\n",
    "y = \n",
    "\n",
    "# 输出结果\n",
    "print(y)"
   ]
  },
  {
   "cell_type": "markdown",
   "metadata": {},
   "source": [
    "**程序清单10.13：习题**"
   ]
  },
  {
   "cell_type": "markdown",
   "metadata": {},
   "source": [
    "#### □参考答案"
   ]
  },
  {
   "cell_type": "code",
   "execution_count": 5,
   "metadata": {
    "id": "answer",
    "scrolled": false
   },
   "outputs": [
    {
     "name": "stdout",
     "output_type": "stream",
     "text": [
      "1992-10-23 00:00:00\n"
     ]
    }
   ],
   "source": [
    "import datetime as dt\n",
    "\n",
    "\n",
    "# 请创建表示 1992 年 10 月 22 日的 datetime 对象，并将其代入 x 中\n",
    "x = dt.datetime(1992, 10, 22)\n",
    "\n",
    "# 请从变量 x 创建表示一天后的 datetime 对象并代入 y 中\n",
    "y = x + dt.timedelta(1)\n",
    "\n",
    "# 输出结果\n",
    "print(y)"
   ]
  },
  {
   "cell_type": "markdown",
   "metadata": {},
   "source": [
    "**程序清单10.14：参考答案**"
   ]
  },
  {
   "cell_type": "markdown",
   "metadata": {
    "courseId": 4040,
    "exerciseId": "rkkeLCPx07f",
    "id": "code_session_name",
    "important": false,
    "isDL": false,
    "timeoutSecs": 10
   },
   "source": [
    "### ○10.3.4  从表示时间的字符串中创建 datetime 对象"
   ]
  },
  {
   "cell_type": "markdown",
   "metadata": {},
   "source": [
    "#### □习题"
   ]
  },
  {
   "cell_type": "code",
   "execution_count": null,
   "metadata": {
    "collapsed": true,
    "id": "index"
   },
   "outputs": [],
   "source": [
    "import datetime as dt\n",
    "\n",
    "# 请将表示 1992 年 10 月 22 日的字符串以 “年 - 月 - 日” 的格式代入 s 中\n",
    "s = \n",
    "# 请对 s 进行转换，将表示 1992 年 10 月 22 日的 datetime 对象代入 x 中\n",
    "x = \n",
    "\n",
    "# 输出结果\n",
    "print(x)"
   ]
  },
  {
   "cell_type": "markdown",
   "metadata": {},
   "source": [
    "**程序清单10.15：习题**"
   ]
  },
  {
   "cell_type": "markdown",
   "metadata": {},
   "source": [
    "#### □参考答案"
   ]
  },
  {
   "cell_type": "code",
   "execution_count": 6,
   "metadata": {
    "id": "answer",
    "scrolled": false
   },
   "outputs": [
    {
     "name": "stdout",
     "output_type": "stream",
     "text": [
      "1992-10-22 00:00:00\n"
     ]
    }
   ],
   "source": [
    "import datetime as dt\n",
    "\n",
    "# 请将表示 1992 年 10 月 22 日的字符串以 “年 - 月 - 日” 的格式代入 s 中\n",
    "s = \"1992-10-22\"\n",
    "# 请对 s 进行转换，将表示 1992 年 10 月 22 日的 datetime 对象代入 x 中\n",
    "x = dt.datetime.strptime(s, \"%Y-%m-%d\")\n",
    "\n",
    "# 输出结果\n",
    "print(x)"
   ]
  },
  {
   "cell_type": "markdown",
   "metadata": {},
   "source": [
    "**程序清单10.16：参考答案**"
   ]
  },
  {
   "cell_type": "markdown",
   "metadata": {},
   "source": [
    "## ●10.4 数据的操作"
   ]
  },
  {
   "cell_type": "markdown",
   "metadata": {
    "courseId": 4040,
    "exerciseId": "SyZe80DlRmG",
    "id": "code_session_name",
    "important": false,
    "isDL": false,
    "timeoutSecs": 10
   },
   "source": [
    "### ○10.4.1 字符串型到数值型的转换"
   ]
  },
  {
   "cell_type": "markdown",
   "metadata": {},
   "source": [
    "#### □习题"
   ]
  },
  {
   "cell_type": "code",
   "execution_count": null,
   "metadata": {
    "collapsed": true,
    "id": "index"
   },
   "outputs": [],
   "source": [
    "# 代入字符串类型\n",
    "x = '64'\n",
    "y = '16'\n",
    "\n",
    "# 请将变量 x、y 通过 int() 进行转换，并将其数值的和代入 z 中\n",
    "z = \n",
    "\n",
    "# 对 z 的值进行输出\n",
    "print(z)"
   ]
  },
  {
   "cell_type": "markdown",
   "metadata": {},
   "source": [
    "**程序清单10.17：习题**"
   ]
  },
  {
   "cell_type": "markdown",
   "metadata": {},
   "source": [
    "#### □参考答案"
   ]
  },
  {
   "cell_type": "code",
   "execution_count": 7,
   "metadata": {
    "id": "answer"
   },
   "outputs": [
    {
     "name": "stdout",
     "output_type": "stream",
     "text": [
      "80\n"
     ]
    }
   ],
   "source": [
    "# 代入字符串类型\n",
    "x = '64'\n",
    "y = '16'\n",
    "\n",
    "# 请将变量 x、y 通过 int() 进行转换，并将其数值的和代入 z 中\n",
    "z = int(x) + int(y)\n",
    "\n",
    "# 对 z 的值进行输出\n",
    "print(z)"
   ]
  },
  {
   "cell_type": "markdown",
   "metadata": {},
   "source": [
    "**程序清单10.18：参考答案**"
   ]
  },
  {
   "cell_type": "markdown",
   "metadata": {
    "courseId": 4040,
    "exerciseId": "rkGe8RPe07z",
    "id": "code_session_name",
    "important": false,
    "isDL": false,
    "timeoutSecs": 10
   },
   "source": [
    "### ○10.4.2 生成间距相等的序列①"
   ]
  },
  {
   "cell_type": "markdown",
   "metadata": {},
   "source": [
    "#### □习题"
   ]
  },
  {
   "cell_type": "code",
   "execution_count": null,
   "metadata": {
    "collapsed": true,
    "id": "index"
   },
   "outputs": [],
   "source": [
    "import numpy as np\n",
    "\n",
    "# 请将从 0 到 10 的偶数数列代入 x 中，结束的值为 12 也是正确的\n",
    "x = \n",
    "\n",
    "# 输出结果\n",
    "print(x)"
   ]
  },
  {
   "cell_type": "markdown",
   "metadata": {},
   "source": [
    "**程序清单10.19：习题**"
   ]
  },
  {
   "cell_type": "markdown",
   "metadata": {},
   "source": [
    "#### □参考答案"
   ]
  },
  {
   "cell_type": "code",
   "execution_count": 10,
   "metadata": {
    "id": "answer"
   },
   "outputs": [
    {
     "name": "stdout",
     "output_type": "stream",
     "text": [
      "[ 0  2  4  6  8 10]\n"
     ]
    }
   ],
   "source": [
    "import numpy as np\n",
    "\n",
    "# 请将从 0 到 10 的偶数数列代入 x 中，结束的值为 12 也是正确的\n",
    "x = np.arange(0, 11, 2)\n",
    "\n",
    "# 输出结果\n",
    "print(x)"
   ]
  },
  {
   "cell_type": "markdown",
   "metadata": {},
   "source": [
    "**程序清单10.20：参考答案**"
   ]
  },
  {
   "cell_type": "markdown",
   "metadata": {
    "courseId": 4040,
    "exerciseId": "BJmgUAvgRmf",
    "id": "code_session_name",
    "important": false,
    "isDL": false,
    "timeoutSecs": 10
   },
   "source": [
    "### ○10.4.3 生成间距相等的序列②"
   ]
  },
  {
   "cell_type": "markdown",
   "metadata": {},
   "source": [
    "#### □习题"
   ]
  },
  {
   "cell_type": "code",
   "execution_count": null,
   "metadata": {
    "collapsed": true,
    "id": "index"
   },
   "outputs": [],
   "source": [
    "import numpy as np\n",
    "\n",
    "# 请将从 0 到 10 的范围内按相同间隔进行划分的 5 个点代入 x 中\n",
    "x = \n",
    "\n",
    "# 输出结果\n",
    "print(x)"
   ]
  },
  {
   "cell_type": "markdown",
   "metadata": {},
   "source": [
    "**程序清单10.21：习题**"
   ]
  },
  {
   "cell_type": "markdown",
   "metadata": {},
   "source": [
    "#### □参考答案"
   ]
  },
  {
   "cell_type": "code",
   "execution_count": 9,
   "metadata": {
    "id": "answer",
    "scrolled": true
   },
   "outputs": [
    {
     "name": "stdout",
     "output_type": "stream",
     "text": [
      "[ 0.   2.5  5.   7.5 10. ]\n"
     ]
    }
   ],
   "source": [
    "import numpy as np\n",
    "\n",
    "# 请将从 0 到 10 的范围内按相同间隔进行划分的 5 个点代入 x 中\n",
    "x = np.linspace(0, 10, 5)\n",
    "\n",
    "# 输出结果\n",
    "print(x)"
   ]
  },
  {
   "cell_type": "markdown",
   "metadata": {},
   "source": [
    "**程序清单10.22：参考答案**"
   ]
  },
  {
   "cell_type": "markdown",
   "metadata": {
    "id": "chapter_exam"
   },
   "source": [
    "## ●附加习题"
   ]
  },
  {
   "cell_type": "markdown",
   "metadata": {},
   "source": [
    "#### □习题"
   ]
  },
  {
   "cell_type": "code",
   "execution_count": null,
   "metadata": {
    "collapsed": true,
    "id": "index"
   },
   "outputs": [],
   "source": [
    "import matplotlib.pyplot as plt\n",
    "import numpy as np\n",
    "\n",
    "np.random.seed(100)\n",
    "\n",
    "# 请生成 10000 个均匀分布的随机数，并将其代入 random_number_1 中\n",
    "\n",
    "# 请生成 10000 个服从正态分布的随机数，并将其代入 random_number_2 中\n",
    "\n",
    "# 请生成 10000 个服从二项分布的随机数，将将其代入 random_number_3 中，请将成功概率设置为 0.5\n",
    "\n",
    "\n",
    "plt.figure(figsize=(5,5))\n",
    "# 请使用直方图对均匀分布的随机数进行显示。请将 bins 指定为 50\n",
    "\n",
    "plt.title('uniform_distribution')\n",
    "plt.grid(True)\n",
    "plt.show()\n",
    "\n",
    "plt.figure(figsize=(5,5))\n",
    "# 请使用直方图对服从正态分布的随机数进行显示。请将 bins 指定为 50\n",
    "\n",
    "plt.title('normal_distribution')\n",
    "plt.grid(True)\n",
    "plt.show()\n",
    "\n",
    "plt.figure(figsize=(5,5))\n",
    "# 请使用直方图对服从二项分布的随机数进行显示。请将 bins 指定为 50\n",
    "\n",
    "plt.title('binomial_distribution')\n",
    "plt.grid(True)\n",
    "plt.show()"
   ]
  },
  {
   "cell_type": "markdown",
   "metadata": {},
   "source": [
    "**程序清单10.23：习题**"
   ]
  },
  {
   "cell_type": "markdown",
   "metadata": {},
   "source": [
    "#### □参考答案"
   ]
  },
  {
   "cell_type": "code",
   "execution_count": 13,
   "metadata": {
    "id": "answer"
   },
   "outputs": [
    {
     "data": {
      "image/png": "[encoded data removed]",
      "text/plain": [
       "<Figure size 360x360 with 1 Axes>"
      ]
     },
     "metadata": {
      "needs_background": "light"
     },
     "output_type": "display_data"
    },
    {
     "data": {
      "image/png": "[encoded data removed]",
      "text/plain": [
       "<Figure size 360x360 with 1 Axes>"
      ]
     },
     "metadata": {
      "needs_background": "light"
     },
     "output_type": "display_data"
    },
    {
     "data": {
      "image/png": "[encoded data removed]",
      "text/plain": [
       "<Figure size 360x360 with 1 Axes>"
      ]
     },
     "metadata": {
      "needs_background": "light"
     },
     "output_type": "display_data"
    }
   ],
   "source": [
    "import matplotlib.pyplot as plt\n",
    "import numpy as np\n",
    "\n",
    "np.random.seed(100)\n",
    "\n",
    "# 请生成 10000 个均匀分布的随机数，并将其代入 random_number_1 中\n",
    "random_number_1 = np.random.rand(10000)\n",
    "# 请生成 10000 个服从正态分布的随机数，并将其代入 random_number_2 中\n",
    "random_number_2 = np.random.randn(10000)\n",
    "# 请生成 10000 个服从二项分布的随机数，将将其代入 random_number_3 中，请将成功概率设置为 0.5\n",
    "random_number_3 = np.random.binomial(100, 0.5, size=(10000))\n",
    "\n",
    "plt.figure(figsize=(5,5))\n",
    "# 请使用直方图对均匀分布的随机数进行显示。请将 bins 指定为 50\n",
    "plt.hist(random_number_1, bins=50)\n",
    "plt.title('uniform_distribution')\n",
    "plt.grid(True)\n",
    "plt.show()\n",
    "\n",
    "plt.figure(figsize=(5,5))\n",
    "# 请使用直方图对服从正态分布的随机数进行显示。请将 bins 指定为 50\n",
    "plt.hist(random_number_2, bins=50)\n",
    "plt.title('normal_distribution')\n",
    "plt.grid(True)\n",
    "plt.show()\n",
    "\n",
    "plt.figure(figsize=(5,5))\n",
    "# 请使用直方图对服从二项分布的随机数进行显示。请将 bins 指定为 50\n",
    "plt.hist(random_number_3, bins=50)\n",
    "plt.title('binomial_distribution')\n",
    "plt.grid(True)\n",
    "plt.show()"
   ]
  },
  {
   "cell_type": "markdown",
   "metadata": {},
   "source": [
    "**程序清单10.24：参考答案**"
   ]
  }
 ],
 "metadata": {
  "celltoolbar": "Edit Metadata",
  "kernelspec": {
   "display_name": "Python 3",
   "language": "python",
   "name": "python3"
  },
  "language_info": {
   "codemirror_mode": {
    "name": "ipython",
    "version": 3
   },
   "file_extension": ".py",
   "mimetype": "text/x-python",
   "name": "python",
   "nbconvert_exporter": "python",
   "pygments_lexer": "ipython3",
   "version": "3.6.6"
  }
 },
 "nbformat": 4,
 "nbformat_minor": 2
}
