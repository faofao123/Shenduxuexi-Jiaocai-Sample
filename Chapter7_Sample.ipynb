{
 "cells": [
  {
   "cell_type": "markdown",
   "metadata": {
    "chapterId": "ryAdAX-gZf",
    "id": "chapter_name"
   },
   "source": [
    "#  Chapter7　NumPy的基础"
   ]
  },
  {
   "cell_type": "markdown",
   "metadata": {
    "id": "table"
   },
   "source": [
    "- **7.1 NumPy 概要**\n",
    "    - **7.1.1 何谓NumPy**\n",
    "    - **7.1.2 体验NumPy的高性能处理**\n",
    "<br><br>\n",
    "- **7.2 NumPy 一维数组**\n",
    "    - **7.2.1 import**\n",
    "    - **7.2.2 一维数组**\n",
    "    - **7.2.3 一维数组的计算**\n",
    "    - **7.2.4 索引引用与切片**\n",
    "    - **7.2.5 使用ndarray 的注意事项**\n",
    "    - **7.2.6 view与copy**\n",
    "    - **7.2.7 布尔索引的引用** \n",
    "    - **7.2.8 通用函数**\n",
    "    - **7.2.9 集合函数**  \n",
    "    - **7.2.10 随机数**\n",
    "<br><br>\n",
    "- **7.3 NumPy 二维数组**\n",
    "    - **7.3.1 二维数组**\n",
    "    - **7.3.2 索引引用与切片**\n",
    "    - **7.3.3 axis**\n",
    "    - **7.3.4 花式索引引用**\n",
    "    - **7.3.5 转置矩阵**\n",
    "    - **7.3.6 排序**\n",
    "    - **7.3.7 矩阵计算**\n",
    "    - **7.3.8 统计函数**\n",
    "    - **7.3.9 广播**\n",
    "<br><br>\n",
    "- **附加习题**\n",
    "- **综合附加习题**"
   ]
  },
  {
   "cell_type": "markdown",
   "metadata": {
    "id": "section_name",
    "sectionId": "S1kgd07-lWz"
   },
   "source": [
    "## ●7.1 NumPy 概要"
   ]
  },
  {
   "cell_type": "markdown",
   "metadata": {},
   "source": [
    "### ○7.1.1 何谓NumPy"
   ]
  },
  {
   "cell_type": "markdown",
   "metadata": {},
   "source": [
    "这里没有样本"
   ]
  },
  {
   "cell_type": "markdown",
   "metadata": {
    "courseId": 4000,
    "exerciseId": "HJcMYh8jLgf",
    "id": "code_session_name",
    "important": true,
    "isDL": false,
    "timeoutSecs": 10
   },
   "source": [
    "### ○7.1.2 体验NumPy的高性能处理"
   ]
  },
  {
   "cell_type": "markdown",
   "metadata": {},
   "source": [
    "#### □习题\n"
   ]
  },
  {
   "cell_type": "code",
   "execution_count": null,
   "metadata": {
    "id": "index",
    "timeout": 20
   },
   "outputs": [],
   "source": [
    "# 对比要的软件库进行导入\n",
    "import numpy as np\n",
    "import time\n",
    "from numpy.random import rand\n",
    "\n",
    "# 行和列的大小\n",
    "N = 150\n",
    "\n",
    "# 对矩阵进行初始化\n",
    "matA = np.array(rand(N, N))\n",
    "matB = np.array(rand(N, N))\n",
    "matC = np.array([[0] * N for _ in range(N)])\n",
    "\n",
    "# 使用 Python 的列表进行计算\n",
    "\n",
    "# 获取开始时间\n",
    "start = time.time()\n",
    "\n",
    "# 通过 for 语句实现矩阵的乘法运算\n",
    "for i in range(N):\n",
    "    for j in range(N):\n",
    "        for k in range(N):\n",
    "            matC[i][j] = matA[i][k] * matB[k][j]\n",
    "\n",
    "print(\"只用Python的基本功能进行计算的结果：%.2f[sec]\" % float(time.time() - start))\n",
    "\n",
    "# 使用 NumPy 进行计算\n",
    "\n",
    "# 获得开始时间\n",
    "start = time.time()\n",
    "\n",
    "# 使用 NumPy 执行矩阵的乘法运算\n",
    "matC = np.dot(matA, matB)\n",
    "\n",
    "# 由于舍去了小数点后 2 位数之后的部分，因此 NumPy 显示为 0.00[sec]\n",
    "print(\"通过NumPy进行加速运算的结果：%.2f[sec]\" % float(time.time() - start))"
   ]
  },
  {
   "cell_type": "markdown",
   "metadata": {},
   "source": [
    "**程序清单7.2：习题**"
   ]
  },
  {
   "cell_type": "markdown",
   "metadata": {},
   "source": [
    "#### □参考答案（实际的秒数根据其执行的环境会大有不同）"
   ]
  },
  {
   "cell_type": "code",
   "execution_count": 1,
   "metadata": {
    "id": "answer",
    "timeout": 20
   },
   "outputs": [
    {
     "name": "stdout",
     "output_type": "stream",
     "text": [
      "只用 Python 的基本功能进行计算的结果：3.20[sec]\n",
      "通过NumPy进行加速运算的结果：0.32[sec]\n"
     ]
    }
   ],
   "source": [
    "# 对比要的软件库进行导入\n",
    "import numpy as np\n",
    "import time\n",
    "from numpy.random import rand\n",
    "\n",
    "# 行和列的大小\n",
    "N = 150\n",
    "\n",
    "# 对矩阵进行初始化\n",
    "matA = np.array(rand(N, N))\n",
    "matB = np.array(rand(N, N))\n",
    "matC = np.array([[0] * N for _ in range(N)])\n",
    "\n",
    "# 使用 Python 的列表进行计算\n",
    "\n",
    "# 获得开始时间\n",
    "start = time.time()\n",
    "\n",
    "# 通过 for 语句实现矩阵的乘法运算\n",
    "for i in range(N):\n",
    "    for j in range(N):\n",
    "        for k in range(N):\n",
    "            matC[i][j] = matA[i][k] * matB[k][j]\n",
    "\n",
    "print(\"只用 Python 的基本功能进行计算的结果：%.2f[sec]\" % float(time.time() - start))\n",
    "\n",
    "# 使用 NumPy 进行计算\n",
    "\n",
    "# 获得开始时间\n",
    "start = time.time()\n",
    "\n",
    "# 使用 NumPy 执行矩阵的乘法运算\n",
    "matC = np.dot(matA, matB)\n",
    "\n",
    "# 由于舍去了小数点后 2 位数之后的部分，因此 NumPy 显示为 0.00[sec]\n",
    "print(\"通过NumPy进行加速运算的结果：%.2f[sec]\" % float(time.time() - start))"
   ]
  },
  {
   "cell_type": "markdown",
   "metadata": {},
   "source": [
    "**程序清单7.2：参考答案**"
   ]
  },
  {
   "cell_type": "markdown",
   "metadata": {
    "id": "section_name",
    "sectionId": "rJxluRQWgZz"
   },
   "source": [
    "## ○7.2 NumPy 一维数组"
   ]
  },
  {
   "cell_type": "markdown",
   "metadata": {
    "courseId": 4000,
    "exerciseId": "S1izFnUoUez",
    "id": "code_session_name",
    "important": true,
    "isDL": false,
    "timeoutSecs": 5
   },
   "source": [
    "### □7.2.1 import"
   ]
  },
  {
   "cell_type": "markdown",
   "metadata": {},
   "source": [
    "#### □习题"
   ]
  },
  {
   "cell_type": "code",
   "execution_count": null,
   "metadata": {
    "id": "index"
   },
   "outputs": [],
   "source": [
    "# 请导入 NumPy 库\n",
    "\n"
   ]
  },
  {
   "cell_type": "markdown",
   "metadata": {},
   "source": [
    "**程序清单7.3：习题**"
   ]
  },
  {
   "cell_type": "markdown",
   "metadata": {},
   "source": [
    "#### □参考答案"
   ]
  },
  {
   "cell_type": "code",
   "execution_count": 2,
   "metadata": {
    "id": "answer"
   },
   "outputs": [],
   "source": [
    "# 请导入 NumPy 库\n",
    "import numpy as np"
   ]
  },
  {
   "cell_type": "markdown",
   "metadata": {},
   "source": [
    "**程序清单7.4：参考答案**"
   ]
  },
  {
   "cell_type": "markdown",
   "metadata": {
    "courseId": 4000,
    "exerciseId": "Hy3fF3Li8lM",
    "id": "code_session_name",
    "important": true,
    "isDL": false,
    "timeoutSecs": 5
   },
   "source": [
    "### ○7.2.2 一维数组"
   ]
  },
  {
   "cell_type": "markdown",
   "metadata": {},
   "source": [
    "#### □习题"
   ]
  },
  {
   "cell_type": "code",
   "execution_count": null,
   "metadata": {},
   "outputs": [],
   "source": [
    "import numpy as np\n",
    "\n",
    "storages = [24, 3, 4, 23, 10, 12]\n",
    "print(storages)\n",
    "\n",
    "# 请生成 ndarray 数组，并将其代入变量 np_storages 中\n",
    "\n",
    "\n",
    "# 请对变量 np_storages 的类型进行输出\n",
    "print()"
   ]
  },
  {
   "cell_type": "markdown",
   "metadata": {},
   "source": [
    "**程序清单7.5：习题**"
   ]
  },
  {
   "cell_type": "markdown",
   "metadata": {},
   "source": [
    "#### □参考答案"
   ]
  },
  {
   "cell_type": "code",
   "execution_count": 3,
   "metadata": {
    "id": "answer"
   },
   "outputs": [
    {
     "name": "stdout",
     "output_type": "stream",
     "text": [
      "[24, 3, 4, 23, 10, 12]\n",
      "<class 'numpy.ndarray'>\n"
     ]
    }
   ],
   "source": [
    "import numpy as np\n",
    "\n",
    "storages = [24, 3, 4, 23, 10, 12]\n",
    "print(storages)\n",
    "\n",
    "# 请生成 ndarray 数组，并将其代入变量 np_storages 中\n",
    "np_storages = np.array(storages)\n",
    "\n",
    "# 请对变量 np_storages 的类型进行输出\n",
    "print(type(np_storages))"
   ]
  },
  {
   "cell_type": "markdown",
   "metadata": {},
   "source": [
    "**程序清单7.6：参考答案**"
   ]
  },
  {
   "cell_type": "markdown",
   "metadata": {
    "courseId": 4000,
    "exerciseId": "BJpMY2Ij8lf",
    "id": "code_session_name",
    "important": true,
    "isDL": false,
    "timeoutSecs": 5
   },
   "source": [
    "### ○7.2.3 一维数组的计算"
   ]
  },
  {
   "cell_type": "code",
   "execution_count": 5,
   "metadata": {},
   "outputs": [
    {
     "name": "stdout",
     "output_type": "stream",
     "text": [
      "[2, 4, 6, 8]\n"
     ]
    }
   ],
   "source": [
    "# 请在不使用 NumPy 的条件下实现\n",
    "storages = [1, 2, 3, 4]\n",
    "new_storages = []\n",
    "for n in storages:\n",
    "    n += n\n",
    "    new_storages.append(n)\n",
    "print(new_storages)"
   ]
  },
  {
   "cell_type": "markdown",
   "metadata": {},
   "source": [
    "**程序清单7.7：一维数组的计算示例①**"
   ]
  },
  {
   "cell_type": "code",
   "execution_count": 6,
   "metadata": {},
   "outputs": [
    {
     "name": "stdout",
     "output_type": "stream",
     "text": [
      "[2 4 6 8]\n"
     ]
    }
   ],
   "source": [
    "# 使用 NumPy 实现\n",
    "import numpy as np\n",
    "storages = np.array([1, 2, 3, 4])\n",
    "storages += storages\n",
    "print(storages)"
   ]
  },
  {
   "cell_type": "markdown",
   "metadata": {},
   "source": [
    "**程序清单 7.8：一维数组的计算示例②**"
   ]
  },
  {
   "cell_type": "markdown",
   "metadata": {},
   "source": [
    "#### □习题\n"
   ]
  },
  {
   "cell_type": "code",
   "execution_count": null,
   "metadata": {
    "id": "index"
   },
   "outputs": [],
   "source": [
    "import numpy as np\n",
    "\n",
    "arr = np.array([2, 5, 3, 4, 8])\n",
    "\n",
    "# arr + arr\n",
    "print()\n",
    "\n",
    "# arr - arr\n",
    "print()\n",
    "\n",
    "# arr ** 3\n",
    "print()\n",
    "\n",
    "# 1 / arr\n",
    "print()"
   ]
  },
  {
   "cell_type": "markdown",
   "metadata": {},
   "source": [
    "**程序清单7.9：习题**"
   ]
  },
  {
   "cell_type": "markdown",
   "metadata": {},
   "source": [
    "#### □参考答案"
   ]
  },
  {
   "cell_type": "code",
   "execution_count": 7,
   "metadata": {
    "id": "answer"
   },
   "outputs": [
    {
     "name": "stdout",
     "output_type": "stream",
     "text": [
      "arr + arr\n",
      "[ 4 10  6  8 16]\n",
      "\n",
      "arr - arr\n",
      "[0 0 0 0 0]\n",
      "\n",
      "arr ** 3\n",
      "[  8 125  27  64 512]\n",
      "\n",
      "1 / arr\n",
      "[0.5        0.2        0.33333333 0.25       0.125     ]\n",
      "\n"
     ]
    }
   ],
   "source": [
    "import numpy as np\n",
    "\n",
    "arr = np.array([2, 5, 3, 4, 8])\n",
    "\n",
    "# arr + arr\n",
    "print('arr + arr')\n",
    "print(arr + arr)\n",
    "print()\n",
    "\n",
    "# arr - arr\n",
    "print('arr - arr')\n",
    "print(arr - arr)\n",
    "print()\n",
    "\n",
    "# arr ** 3\n",
    "print('arr ** 3')\n",
    "print(arr ** 3)\n",
    "print()\n",
    "\n",
    "# 1 / arr\n",
    "print('1 / arr')\n",
    "print(1 / arr)\n",
    "print()"
   ]
  },
  {
   "cell_type": "markdown",
   "metadata": {},
   "source": [
    "**程序清单7.10：参考答案**"
   ]
  },
  {
   "cell_type": "markdown",
   "metadata": {
    "courseId": 4000,
    "exerciseId": "S1RMY2UiIxG",
    "id": "code_session_name",
    "important": true,
    "isDL": false,
    "timeoutSecs": 5
   },
   "source": [
    "### ○7.2.4 索引引用与切片"
   ]
  },
  {
   "cell_type": "code",
   "execution_count": 8,
   "metadata": {},
   "outputs": [
    {
     "name": "stdout",
     "output_type": "stream",
     "text": [
      "[0 1 2 3 4 5 6 7 8 9]\n"
     ]
    }
   ],
   "source": [
    "\n",
    "arr = np.arange(10)\n",
    "print(arr)"
   ]
  },
  {
   "cell_type": "markdown",
   "metadata": {},
   "source": [
    "**程序清单7.11：切片的示例①**　"
   ]
  },
  {
   "cell_type": "code",
   "execution_count": 12,
   "metadata": {},
   "outputs": [
    {
     "name": "stdout",
     "output_type": "stream",
     "text": [
      "[1 1 1 3 4 5 6 7 8 9]\n"
     ]
    }
   ],
   "source": [
    "arr = np.arange(10)\n",
    "arr[0:3] = 1\n",
    "print(arr)"
   ]
  },
  {
   "cell_type": "markdown",
   "metadata": {},
   "source": [
    "**程序清单7.12：切片的示例②**"
   ]
  },
  {
   "cell_type": "markdown",
   "metadata": {},
   "source": [
    "#### □习题"
   ]
  },
  {
   "cell_type": "code",
   "execution_count": null,
   "metadata": {
    "id": "index"
   },
   "outputs": [],
   "source": [
    "import numpy as np\n",
    "\n",
    "arr = np.arange(10)\n",
    "print(arr)\n",
    "\n",
    "# 请将变量 arr 中的 3、 4、 5 这几个元素单独进行输出\n",
    "print()\n",
    "\n",
    "# 请将变量 arr 中的元素 3、 4、 5 更改为 24\n",
    "\n",
    "print(arr)"
   ]
  },
  {
   "cell_type": "markdown",
   "metadata": {},
   "source": [
    "**程序清单7.13：习题**"
   ]
  },
  {
   "cell_type": "markdown",
   "metadata": {},
   "source": [
    "#### □参考答案"
   ]
  },
  {
   "cell_type": "code",
   "execution_count": 9,
   "metadata": {
    "id": "answer"
   },
   "outputs": [
    {
     "name": "stdout",
     "output_type": "stream",
     "text": [
      "[0 1 2 3 4 5 6 7 8 9]\n",
      "[3 4 5]\n",
      "[ 0  1  2 24 24 24  6  7  8  9]\n"
     ]
    }
   ],
   "source": [
    "import numpy as np\n",
    "\n",
    "arr = np.arange(10)\n",
    "print(arr)\n",
    "\n",
    "# 请将变量 arr 中的 3、 4、 5 这几个元素单独进行输出\n",
    "print(arr[3:6])\n",
    "\n",
    "# 请将变量 arr 中的元素 3、 4、 5 更改为 24\n",
    "arr[3:6] = 24\n",
    "print(arr)"
   ]
  },
  {
   "cell_type": "markdown",
   "metadata": {},
   "source": [
    "**程序清单7.14：参考答案**"
   ]
  },
  {
   "cell_type": "markdown",
   "metadata": {
    "courseId": 4000,
    "exerciseId": "H1kXF2UsUxG",
    "id": "code_session_name",
    "important": true,
    "isDL": false,
    "timeoutSecs": 5
   },
   "source": [
    "### ○7.2.5 使用ndarray 的注意事项"
   ]
  },
  {
   "cell_type": "markdown",
   "metadata": {},
   "source": [
    "#### □习题\n"
   ]
  },
  {
   "cell_type": "code",
   "execution_count": null,
   "metadata": {
    "id": "index"
   },
   "outputs": [],
   "source": [
    "import numpy as np\n",
    "\n",
    "# 观察将 ndarray 直接代入其他变量时的变化\n",
    "arr1 = np.array([1, 2, 3, 4, 5])\n",
    "print(arr1)\n",
    "\n",
    "arr2 = arr1\n",
    "arr2[0] = 100\n",
    "\n",
    "# 更改了其他变量之后，原始的变量也受到了影响\n",
    "print(arr1)\n",
    "\n",
    "# 观察使用 copy() 后，将 ndarray 代入其他变量时的变化\n",
    "arr1 = np.array([1, 2, 3, 4, 5])\n",
    "print(arr1)\n",
    "\n",
    "arr2 = arr1.copy()\n",
    "arr2[0] = 100\n",
    "\n",
    "# 更改了其他变量之后，原始的变量没有受到影响\n",
    "print(arr1)"
   ]
  },
  {
   "cell_type": "markdown",
   "metadata": {},
   "source": [
    "**程序清单7.15：习题**"
   ]
  },
  {
   "cell_type": "markdown",
   "metadata": {},
   "source": [
    "#### □参考答案"
   ]
  },
  {
   "cell_type": "code",
   "execution_count": 10,
   "metadata": {
    "id": "answer"
   },
   "outputs": [
    {
     "name": "stdout",
     "output_type": "stream",
     "text": [
      "[1 2 3 4 5]\n",
      "[100   2   3   4   5]\n",
      "[1 2 3 4 5]\n",
      "[1 2 3 4 5]\n"
     ]
    }
   ],
   "source": [
    "import numpy as np\n",
    "\n",
    "# 观察将 ndarray 直接代入其他变量时的变化\n",
    "arr1 = np.array([1, 2, 3, 4, 5])\n",
    "print(arr1)\n",
    "\n",
    "arr2 = arr1\n",
    "arr2[0] = 100\n",
    "\n",
    "# 更改了其他变量之后，原始的变量也受到了影响\n",
    "print(arr1)\n",
    "\n",
    "# 观察使用 copy() 后，将 ndarray 代入其他变量时的变化\n",
    "arr1 = np.array([1, 2, 3, 4, 5])\n",
    "print(arr1)\n",
    "\n",
    "arr2 = arr1.copy()\n",
    "arr2[0] = 100\n",
    "\n",
    "# 更改了其他变量之后，原始的变量没有受到影响\n",
    "print(arr1)"
   ]
  },
  {
   "cell_type": "markdown",
   "metadata": {},
   "source": [
    "**程序清单7.16：参考答案**"
   ]
  },
  {
   "cell_type": "markdown",
   "metadata": {
    "courseId": 4000,
    "exerciseId": "HyxQY2Ui8lM",
    "id": "code_session_name",
    "important": true,
    "isDL": false,
    "timeoutSecs": 5
   },
   "source": [
    "### ○7.2.6 view与copy"
   ]
  },
  {
   "cell_type": "markdown",
   "metadata": {},
   "source": [
    "#### □习题\n"
   ]
  },
  {
   "cell_type": "code",
   "execution_count": null,
   "metadata": {
    "id": "index"
   },
   "outputs": [],
   "source": [
    "import numpy as np\n",
    "\n",
    "# 观察在 Python 的列表中使用切片时程序的行为\n",
    "arr_List = [x for x in range(10)]\n",
    "print(\"列表类型的数据\")\n",
    "print(\"arr_List:\",arr_List)\n",
    "\n",
    "print()\n",
    "arr_List_copy = arr_List[:]\n",
    "arr_List_copy[0] = 100\n",
    "\n",
    "\n",
    "print(\"因为列表的切片是对数据进行复制而成的，所以在 arr_List 中不会反映出 arr_List_copy 中的变化\")\n",
    "print(\"arr_List:\",arr_List)\n",
    "print()\n",
    "\n",
    "# 观察在 NumPy 的 ndarray 中使用切片时程序的行为\n",
    "arr_NumPy = np.arange(10)\n",
    "print(\"NumPy的ndarray数据\")\n",
    "print(\"arr_NumPy:\",arr_NumPy)\n",
    "print()\n",
    "\n",
    "arr_NumPy_view = arr_NumPy[:]\n",
    "arr_NumPy_view[0] = 100\n",
    "\n",
    "print(\"NumPy 的切片会将 view ( 保存数据的地址信息 ) 代入，对 arr_NumPy_view 的变更将在 arr_NumPy 中被反映出来\")\n",
    "print(\"arr_NumPy:\",arr_NumPy)\n",
    "print()\n",
    "\n",
    "# NumPyのndarrayでcopy()を用いた場合での挙動を確認しましょう\n",
    "arr_NumPy = np.arange(10)\n",
    "print('NumPyのndarrayでcopy()を用いた場合での挙動です')\n",
    "print(\"arr_NumPy:\",arr_NumPy)\n",
    "print()\n",
    "arr_NumPy_copy = arr_NumPy[:].copy()\n",
    "arr_NumPy_copy[0] = 100\n",
    "\n",
    "print(\"copy()を用いた場合は、コピーが生成されているのでarr_NumPy_copyはarr_NumPyに影響を与えません\")\n",
    "print(\"arr_NumPy:\",arr_NumPy)"
   ]
  },
  {
   "cell_type": "markdown",
   "metadata": {},
   "source": [
    "**程序清单7.17：习题**"
   ]
  },
  {
   "cell_type": "markdown",
   "metadata": {},
   "source": [
    "#### □参考答案"
   ]
  },
  {
   "cell_type": "code",
   "execution_count": 1,
   "metadata": {
    "id": "answer"
   },
   "outputs": [
    {
     "name": "stdout",
     "output_type": "stream",
     "text": [
      "列表类型的数据\n",
      "arr_List: [0, 1, 2, 3, 4, 5, 6, 7, 8, 9]\n",
      "\n",
      "因为列表的切片是对数据进行复制而成的，所以在 arr_List 中不会反映出 arr_List_copy 中的变化\n",
      "arr_List: [0, 1, 2, 3, 4, 5, 6, 7, 8, 9]\n",
      "\n",
      "NumPy的ndarray数据\n",
      "arr_NumPy: [0 1 2 3 4 5 6 7 8 9]\n",
      "\n",
      "NumPy 的切片会将 view ( 保存数据的地址信息 ) 代入，对 arr_NumPy_view 的变更将在 arr_NumPy 中被反映出来\n",
      "arr_NumPy: [100   1   2   3   4   5   6   7   8   9]\n",
      "\n",
      "在 NumPy 的 ndarray 中使用 copy() 的变化\n",
      "arr_NumPy: [0 1 2 3 4 5 6 7 8 9]\n",
      "\n",
      "使用 copy() 会生成备份，arr_NumPy_copy 不会对 arr_NumPy 造成影响\n",
      "arr_NumPy: [0 1 2 3 4 5 6 7 8 9]\n"
     ]
    }
   ],
   "source": [
    "import numpy as np\n",
    "\n",
    "# 观察在 Python 的列表中使用切片时程序的行为\n",
    "arr_List = [x for x in range(10)]\n",
    "print(\"列表类型的数据\")\n",
    "print(\"arr_List:\",arr_List)\n",
    "\n",
    "print()\n",
    "arr_List_copy = arr_List[:]\n",
    "arr_List_copy[0] = 100\n",
    "\n",
    "print(\"因为列表的切片是对数据进行复制而成的，所以在 arr_List 中不会反映出 arr_List_copy 中的变化\")\n",
    "print(\"arr_List:\",arr_List)\n",
    "print()\n",
    "\n",
    "# 观察在 NumPy 的 ndarray 中使用切片时程序的行为\n",
    "arr_NumPy = np.arange(10)\n",
    "print(\"NumPy的ndarray数据\")\n",
    "print(\"arr_NumPy:\",arr_NumPy)\n",
    "print()\n",
    "\n",
    "arr_NumPy_view = arr_NumPy[:]\n",
    "arr_NumPy_view[0] = 100\n",
    "\n",
    "print(\"NumPy 的切片会将 view ( 保存数据的地址信息 ) 代入，对 arr_NumPy_view 的变更将在 arr_NumPy 中被反映出来\")\n",
    "print(\"arr_NumPy:\",arr_NumPy)\n",
    "print()\n",
    "\n",
    "# 观察在 NumPy 的 ndarray 中使用copy() 时程序的行为\n",
    "arr_NumPy = np.arange(10)\n",
    "print('在 NumPy 的 ndarray 中使用 copy() 的变化')\n",
    "print(\"arr_NumPy:\",arr_NumPy)\n",
    "print()\n",
    "arr_NumPy_copy = arr_NumPy[:].copy()\n",
    "arr_NumPy_copy[0] = 100\n",
    "\n",
    "print(\"使用 copy() 会生成备份，arr_NumPy_copy 不会对 arr_NumPy 造成影响\")\n",
    "print(\"arr_NumPy:\",arr_NumPy)"
   ]
  },
  {
   "cell_type": "markdown",
   "metadata": {},
   "source": [
    "**程序清单7.18：参考答案**"
   ]
  },
  {
   "cell_type": "markdown",
   "metadata": {
    "courseId": 4000,
    "exerciseId": "HkZ7F2IoLgM",
    "id": "code_session_name",
    "important": false,
    "isDL": false,
    "timeoutSecs": 5
   },
   "source": [
    "### ○7.2.7 布尔索引的引用"
   ]
  },
  {
   "cell_type": "code",
   "execution_count": 13,
   "metadata": {},
   "outputs": [
    {
     "name": "stdout",
     "output_type": "stream",
     "text": [
      "[2 4 6]\n"
     ]
    }
   ],
   "source": [
    "arr = np.array([2, 4, 6, 7]) \n",
    "print(arr[np.array([True, True, True, False])])  "
   ]
  },
  {
   "cell_type": "markdown",
   "metadata": {},
   "source": [
    "**程序清单7.19：布尔索引引用的示例①**"
   ]
  },
  {
   "cell_type": "code",
   "execution_count": 16,
   "metadata": {},
   "outputs": [
    {
     "name": "stdout",
     "output_type": "stream",
     "text": [
      "[4 7]\n"
     ]
    }
   ],
   "source": [
    "arr = np.array([2, 4, 6, 7]) \n",
    "print(arr[arr % 3 == 1])"
   ]
  },
  {
   "cell_type": "markdown",
   "metadata": {},
   "source": [
    "**程序清单7.20：布尔索引引用的示例②**"
   ]
  },
  {
   "cell_type": "markdown",
   "metadata": {},
   "source": [
    "#### □习题\n"
   ]
  },
  {
   "cell_type": "code",
   "execution_count": null,
   "metadata": {
    "id": "index"
   },
   "outputs": [],
   "source": [
    "import numpy as np\n",
    "\n",
    "arr = np.array([2, 3, 4, 5, 6, 7])\n",
    "\n",
    "# 请对表示变量 arr 的各个元素是否能被 2 整除的布尔值的数组进行输出\n",
    "print()\n",
    "\n",
    "# 请对变量 arr 各个元素中能被 2 整除的元素所组成的数组进行输出\n",
    "print()"
   ]
  },
  {
   "cell_type": "markdown",
   "metadata": {},
   "source": [
    "**程序清单7.21：习题**"
   ]
  },
  {
   "cell_type": "markdown",
   "metadata": {},
   "source": [
    "#### □参考答案"
   ]
  },
  {
   "cell_type": "code",
   "execution_count": 17,
   "metadata": {
    "id": "answer"
   },
   "outputs": [
    {
     "name": "stdout",
     "output_type": "stream",
     "text": [
      "[ True False  True False  True False]\n",
      "[2 4 6]\n"
     ]
    }
   ],
   "source": [
    "import numpy as np\n",
    "\n",
    "arr = np.array([2, 3, 4, 5, 6, 7])\n",
    "\n",
    "# 请对表示变量 arr 的各个元素是否能被 2 整除的布尔值的数组进行输出\n",
    "print(arr % 2 == 0)\n",
    "\n",
    "# 请对变量 arr 各个元素中能被 2 整除的元素所组成的数组进行输出\n",
    "print(arr[arr % 2 == 0])"
   ]
  },
  {
   "cell_type": "markdown",
   "metadata": {},
   "source": [
    "**程序清单7.22：参考答案**"
   ]
  },
  {
   "cell_type": "markdown",
   "metadata": {
    "courseId": 4000,
    "exerciseId": "r1fQKnLoUef",
    "id": "code_session_name",
    "important": true,
    "isDL": false,
    "timeoutSecs": 5
   },
   "source": [
    "### ○7.2.8 通用函数"
   ]
  },
  {
   "cell_type": "markdown",
   "metadata": {},
   "source": [
    "#### □习题\n"
   ]
  },
  {
   "cell_type": "code",
   "execution_count": null,
   "metadata": {
    "id": "index"
   },
   "outputs": [],
   "source": [
    "import numpy as np\n",
    "\n",
    "arr = np.array([4, -9, 16, -4, 20])\n",
    "print(arr)\n",
    "\n",
    "# 请将变量 arr 中的各个元素转换成绝对值并代入变量 arr_abs 中\n",
    "arr_abs = \n",
    "print(arr_abs)\n",
    "\n",
    "# 请对变量 arr_abs 的各个元素的 e 的幂和平方根进行输出\n",
    "print()\n",
    "print()"
   ]
  },
  {
   "cell_type": "markdown",
   "metadata": {},
   "source": [
    "**程序清单7.23：习题**"
   ]
  },
  {
   "cell_type": "markdown",
   "metadata": {},
   "source": [
    "#### □参考答案"
   ]
  },
  {
   "cell_type": "code",
   "execution_count": 18,
   "metadata": {
    "id": "answer"
   },
   "outputs": [
    {
     "name": "stdout",
     "output_type": "stream",
     "text": [
      "[ 4 -9 16 -4 20]\n",
      "[ 4  9 16  4 20]\n",
      "[5.45981500e+01 8.10308393e+03 8.88611052e+06 5.45981500e+01\n",
      " 4.85165195e+08]\n",
      "[2.         3.         4.         2.         4.47213595]\n"
     ]
    }
   ],
   "source": [
    "import numpy as np\n",
    "\n",
    "arr = np.array([4, -9, 16, -4, 20])\n",
    "print(arr)\n",
    "\n",
    "# 请将变量 arr 中的各个元素转换成绝对值并代入变量 arr_abs 中\n",
    "arr_abs = np.abs(arr)\n",
    "print(arr_abs)\n",
    "\n",
    "# 请对变量 arr_abs 的各个元素的 e 的幂和平方根进行输出\n",
    "print(np.exp(arr_abs))\n",
    "print(np.sqrt(arr_abs))"
   ]
  },
  {
   "cell_type": "markdown",
   "metadata": {},
   "source": [
    "**程序清单7.24：参考答案**"
   ]
  },
  {
   "cell_type": "markdown",
   "metadata": {
    "courseId": 4000,
    "exerciseId": "B1QXY28jUlz",
    "id": "code_session_name",
    "important": false,
    "isDL": false,
    "timeoutSecs": 5
   },
   "source": [
    "### ○7.2.9 集合函数"
   ]
  },
  {
   "cell_type": "markdown",
   "metadata": {},
   "source": [
    "#### □习题\n"
   ]
  },
  {
   "cell_type": "code",
   "execution_count": null,
   "metadata": {
    "id": "index"
   },
   "outputs": [],
   "source": [
    "import numpy as np\n",
    "\n",
    "arr1 = [2, 5, 7, 9, 5, 2]\n",
    "arr2 = [2, 5, 8, 3, 1]\n",
    "\n",
    "# 请使用 np.unique() 函数，将变量 arr1 中重复的元素去除之后的数组代入变量 new_arr1 中\n",
    "new_arr1 = \n",
    "print(new_arr1)\n",
    "\n",
    "# 请对变量 new_arr1 和变量 arr2 的并集进行输出\n",
    "print()\n",
    "\n",
    "# 请对变量 new_arr1 和变量 arr2 的交集进行输出\n",
    "print()\n",
    "\n",
    "# 请对从变量 new_arr1 中减去变量 arr2 的差集进行输出\n",
    "print()"
   ]
  },
  {
   "cell_type": "markdown",
   "metadata": {},
   "source": [
    "**程序清单7.25：习题**"
   ]
  },
  {
   "cell_type": "markdown",
   "metadata": {},
   "source": [
    "#### □参考答案"
   ]
  },
  {
   "cell_type": "code",
   "execution_count": 19,
   "metadata": {
    "id": "answer"
   },
   "outputs": [
    {
     "name": "stdout",
     "output_type": "stream",
     "text": [
      "[2 5 7 9]\n",
      "[1 2 3 5 7 8 9]\n",
      "[2 5]\n",
      "[7 9]\n"
     ]
    }
   ],
   "source": [
    "import numpy as np\n",
    "\n",
    "arr1 = [2, 5, 7, 9, 5, 2]\n",
    "arr2 = [2, 5, 8, 3, 1]\n",
    "\n",
    "# 请使用 np.unique() 函数，将变量 arr1 中重复的元素去除之后的数组代入变量 new_arr1 中\n",
    "new_arr1 = np.unique(arr1)\n",
    "print(new_arr1)\n",
    "\n",
    "# 请对变量 new_arr1 和变量 arr2 的并集进行输出\n",
    "print(np.union1d(new_arr1, arr2))\n",
    "\n",
    "# 请对变量 new_arr1 和变量 arr2 的交集进行输出\n",
    "print(np.intersect1d(new_arr1, arr2))\n",
    "\n",
    "# 请对从变量 new_arr1 中减去变量 arr2 的差集进行输出\n",
    "print(np.setdiff1d(new_arr1, arr2))"
   ]
  },
  {
   "cell_type": "markdown",
   "metadata": {},
   "source": [
    "**程序清单7.26：解答**"
   ]
  },
  {
   "cell_type": "markdown",
   "metadata": {
    "courseId": 4000,
    "exerciseId": "Hy4XK28iLgG",
    "id": "code_session_name",
    "important": true,
    "isDL": false,
    "timeoutSecs": 5
   },
   "source": [
    "### ○7.2.10 随机数"
   ]
  },
  {
   "cell_type": "markdown",
   "metadata": {},
   "source": [
    "#### □习题\n"
   ]
  },
  {
   "cell_type": "code",
   "execution_count": null,
   "metadata": {
    "id": "index"
   },
   "outputs": [],
   "source": [
    "import numpy as np\n",
    "\n",
    "# 请在不需要添加 np.random 的方式下导入 randint() 函数\n",
    "\n",
    "\n",
    "# 请将各元素大于 0 小于 10 的整数的矩阵 (5 × 2) 代入变量 arr1 中\n",
    "arr1 = \n",
    "print(arr1)\n",
    "\n",
    "# 请将 3 个 0~1 均匀分布的随机数代入变量 arr2 中\n",
    "arr2 = \n",
    "print(arr2)"
   ]
  },
  {
   "cell_type": "markdown",
   "metadata": {},
   "source": [
    "**程序清单7.27：习题**"
   ]
  },
  {
   "cell_type": "markdown",
   "metadata": {},
   "source": [
    "#### □参考答案（输出结果可能和实际界面有所不同）"
   ]
  },
  {
   "cell_type": "code",
   "execution_count": 20,
   "metadata": {
    "id": "answer",
    "scrolled": true
   },
   "outputs": [
    {
     "name": "stdout",
     "output_type": "stream",
     "text": [
      "[[6 7]\n",
      " [0 6]\n",
      " [9 5]\n",
      " [4 8]\n",
      " [7 7]]\n",
      "[0.63789953 0.25708531 0.05888615]\n"
     ]
    }
   ],
   "source": [
    "import numpy as np\n",
    "\n",
    "# 请在不需要添加 np.random 的方式下导入 randint() 函数\n",
    "from numpy.random import randint\n",
    "\n",
    "# 请将各元素大于 0 小于 10 的整数的矩阵 (5 × 2) 代入变量 arr1 中\n",
    "arr1 = randint(0, 11, (5, 2))\n",
    "print(arr1)\n",
    "\n",
    "# 请将 3 个 0~1 均匀分布的随机数代入变量 arr2 中\n",
    "arr2 = np.random.rand(3)\n",
    "print(arr2)"
   ]
  },
  {
   "cell_type": "markdown",
   "metadata": {},
   "source": [
    "**程序清单7.28：参考答案**"
   ]
  },
  {
   "cell_type": "markdown",
   "metadata": {
    "id": "section_name",
    "sectionId": "BkWx_C7beZG"
   },
   "source": [
    "## ●7.3 NumPy 二维数组"
   ]
  },
  {
   "cell_type": "markdown",
   "metadata": {
    "courseId": 4000,
    "exerciseId": "H1Smt38i8gf",
    "id": "code_session_name",
    "important": true,
    "isDL": false,
    "timeoutSecs": 5
   },
   "source": [
    "### ○7.3.1 二维数组"
   ]
  },
  {
   "cell_type": "markdown",
   "metadata": {},
   "source": [
    "#### □习题\n"
   ]
  },
  {
   "cell_type": "code",
   "execution_count": null,
   "metadata": {
    "id": "index"
   },
   "outputs": [],
   "source": [
    "import numpy as np\n",
    "\n",
    "# 请将二维数组代入变量 arr 中\n",
    "arr = \n",
    "print(arr)\n",
    "\n",
    "# 请对变量 arr 的矩阵中的各个维度的元素数量进行输出\n",
    "print()\n",
    "\n",
    "# 请将变量 arr 转换成 4 行 2 列的矩阵\n",
    "print()"
   ]
  },
  {
   "cell_type": "markdown",
   "metadata": {},
   "source": [
    "**程序清单 7.29：习题**"
   ]
  },
  {
   "cell_type": "markdown",
   "metadata": {},
   "source": [
    "#### □参考答案"
   ]
  },
  {
   "cell_type": "code",
   "execution_count": 21,
   "metadata": {
    "id": "answer"
   },
   "outputs": [
    {
     "name": "stdout",
     "output_type": "stream",
     "text": [
      "[[1 2 3 4]\n",
      " [5 6 7 8]]\n",
      "(2, 4)\n",
      "[[1 2]\n",
      " [3 4]\n",
      " [5 6]\n",
      " [7 8]]\n"
     ]
    }
   ],
   "source": [
    "import numpy as np\n",
    "\n",
    "# 请将二维数组代入变量 arr 中\n",
    "arr = np.array([[1, 2, 3, 4], [5, 6, 7, 8]])\n",
    "print(arr)\n",
    "\n",
    "# 请对变量 arr 的矩阵中的各个维度的元素数量进行输出\n",
    "print(arr.shape)\n",
    "\n",
    "# 请将变量 arr 转换成 4 行 2 列的矩阵\n",
    "print(arr.reshape(4, 2))"
   ]
  },
  {
   "cell_type": "markdown",
   "metadata": {},
   "source": [
    "**程序清单7.30：参考答案**"
   ]
  },
  {
   "cell_type": "markdown",
   "metadata": {
    "courseId": 4000,
    "exerciseId": "S1UXtnLi8eM",
    "id": "code_session_name",
    "important": true,
    "isDL": false,
    "timeoutSecs": 5
   },
   "source": [
    "### ○7.3.2 索引引用与切片"
   ]
  },
  {
   "cell_type": "code",
   "execution_count": 22,
   "metadata": {},
   "outputs": [
    {
     "name": "stdout",
     "output_type": "stream",
     "text": [
      "[4 5 6]\n"
     ]
    }
   ],
   "source": [
    "arr = np.array([[1, 2 ,3], [4, 5, 6]])\n",
    "print(arr[1])"
   ]
  },
  {
   "cell_type": "markdown",
   "metadata": {},
   "source": [
    "**程序清单7.31：索引引用的示例①**"
   ]
  },
  {
   "cell_type": "code",
   "execution_count": 23,
   "metadata": {},
   "outputs": [
    {
     "name": "stdout",
     "output_type": "stream",
     "text": [
      "6\n"
     ]
    }
   ],
   "source": [
    "arr = np.array([[1, 2 ,3], [4, 5, 6]])\n",
    "print(arr[1,2])"
   ]
  },
  {
   "cell_type": "markdown",
   "metadata": {},
   "source": [
    "**程序清单7.32：索引引用的示例②**"
   ]
  },
  {
   "cell_type": "code",
   "execution_count": 24,
   "metadata": {},
   "outputs": [
    {
     "name": "stdout",
     "output_type": "stream",
     "text": [
      "[5 6]\n"
     ]
    }
   ],
   "source": [
    "# 程序清单7.33\n",
    "arr = np.array([[1, 2 ,3], [4, 5, 6]])\n",
    "print(arr[1,1:])"
   ]
  },
  {
   "cell_type": "markdown",
   "metadata": {},
   "source": [
    "**程序清单7.33：切片的示例**"
   ]
  },
  {
   "cell_type": "markdown",
   "metadata": {},
   "source": [
    "#### □习题\n"
   ]
  },
  {
   "cell_type": "code",
   "execution_count": null,
   "metadata": {
    "id": "index"
   },
   "outputs": [],
   "source": [
    "import numpy as np\n",
    "\n",
    "arr = np.array([[1, 2, 3], [4, 5, 6], [7, 8, 9]])\n",
    "print(arr)\n",
    "\n",
    "# 请对变量 arr 中的元素 3 进行输出\n",
    "print()\n",
    "\n",
    "# 请从变量 arr 中取出指定的数组并进行输出\n",
    "print()"
   ]
  },
  {
   "cell_type": "markdown",
   "metadata": {},
   "source": [
    "**程序清单7.34：习题**"
   ]
  },
  {
   "cell_type": "markdown",
   "metadata": {},
   "source": [
    "#### □参考答案"
   ]
  },
  {
   "cell_type": "code",
   "execution_count": 25,
   "metadata": {
    "id": "answer"
   },
   "outputs": [
    {
     "name": "stdout",
     "output_type": "stream",
     "text": [
      "[[1 2 3]\n",
      " [4 5 6]\n",
      " [7 8 9]]\n",
      "3\n",
      "[[4 5]\n",
      " [7 8]]\n"
     ]
    }
   ],
   "source": [
    "import numpy as np\n",
    "\n",
    "arr = np.array([[1, 2, 3], [4, 5, 6], [7, 8, 9]])\n",
    "print(arr)\n",
    "\n",
    "# 请对变量 arr 中的元素 3 进行输出\n",
    "print(arr[0, 2])\n",
    "\n",
    "# 请从变量 arr 中取出指定的数组并进行输出\n",
    "# 下面取出的是“第 1 行之后的行”和“到第 2 列为止”的数组\n",
    "print(arr[1:, :2])"
   ]
  },
  {
   "cell_type": "markdown",
   "metadata": {},
   "source": [
    "**程序清单7.35：参考答案**"
   ]
  },
  {
   "cell_type": "markdown",
   "metadata": {
    "courseId": 4000,
    "exerciseId": "rJPmY38sLeG",
    "id": "code_session_name",
    "important": true,
    "isDL": false,
    "timeoutSecs": 5
   },
   "source": [
    "### ○7.3.3 axis"
   ]
  },
  {
   "cell_type": "code",
   "execution_count": 26,
   "metadata": {},
   "outputs": [
    {
     "name": "stdout",
     "output_type": "stream",
     "text": [
      "21\n",
      "[5 7 9]\n",
      "[ 6 15]\n"
     ]
    }
   ],
   "source": [
    "arr = np.array([[1, 2 ,3], [4, 5, 6]])\n",
    "\n",
    "print(arr.sum())\n",
    "print(arr.sum(axis=0))\n",
    "print(arr.sum(axis=1))"
   ]
  },
  {
   "cell_type": "markdown",
   "metadata": {},
   "source": [
    "**程序清单7.36：axis 的示例**"
   ]
  },
  {
   "cell_type": "markdown",
   "metadata": {},
   "source": [
    "#### □习题\n"
   ]
  },
  {
   "cell_type": "code",
   "execution_count": null,
   "metadata": {
    "id": "index"
   },
   "outputs": [],
   "source": [
    "import numpy as np\n",
    "\n",
    "arr = np.array([[1, 2, 3], [4, 5, 12], [15, 20, 22]])\n",
    "\n",
    "# 请对 arr 的行的合计值进行求解，并返回如习题中所示的数组\n",
    "print()"
   ]
  },
  {
   "cell_type": "markdown",
   "metadata": {},
   "source": [
    "**程序清单7.37：习题**"
   ]
  },
  {
   "cell_type": "markdown",
   "metadata": {},
   "source": [
    "#### □参考答案"
   ]
  },
  {
   "cell_type": "code",
   "execution_count": 27,
   "metadata": {
    "id": "answer"
   },
   "outputs": [
    {
     "name": "stdout",
     "output_type": "stream",
     "text": [
      "[ 6 21 57]\n"
     ]
    }
   ],
   "source": [
    "import numpy as np\n",
    "\n",
    "arr = np.array([[1, 2, 3], [4, 5, 12], [15, 20, 22]])\n",
    "\n",
    "# 请对 arr 的行的合计值进行求解，并返回如习题中所示的数组\n",
    "print(arr.sum(axis=1))"
   ]
  },
  {
   "cell_type": "markdown",
   "metadata": {},
   "source": [
    "**程序清单7.38：参考答案**"
   ]
  },
  {
   "cell_type": "markdown",
   "metadata": {
    "courseId": 4000,
    "exerciseId": "S1O7FhIiLxz",
    "id": "code_session_name",
    "important": true,
    "isDL": false,
    "timeoutSecs": 5
   },
   "source": [
    "### ○7.3.4 花式索引引用"
   ]
  },
  {
   "cell_type": "code",
   "execution_count": 28,
   "metadata": {},
   "outputs": [
    {
     "name": "stdout",
     "output_type": "stream",
     "text": [
      "[[7 8]\n",
      " [5 6]\n",
      " [1 2]]\n"
     ]
    }
   ],
   "source": [
    "arr = np.array([[1, 2], [3, 4], [5, 6], [7, 8]]) \n",
    "\n",
    "# 按照第 3 行、第 2 行、第 0 行的顺序将行数据取出，并生成新的元素\n",
    "# 索引编号从 0 开始\n",
    "print(arr[[3, 2, 0]]) "
   ]
  },
  {
   "cell_type": "markdown",
   "metadata": {},
   "source": [
    "**程序清单7.39：花式索引引用的示例**"
   ]
  },
  {
   "cell_type": "markdown",
   "metadata": {},
   "source": [
    "#### □习题\n"
   ]
  },
  {
   "cell_type": "code",
   "execution_count": null,
   "metadata": {
    "id": "index"
   },
   "outputs": [],
   "source": [
    "import numpy as np\n",
    "\n",
    "arr = np.arange(25).reshape(5, 5)\n",
    "\n",
    "# 请对变量 arr 中的行的顺序进行更改并输出结果\n",
    "print()"
   ]
  },
  {
   "cell_type": "markdown",
   "metadata": {},
   "source": [
    "**程序清单7.40：习题**"
   ]
  },
  {
   "cell_type": "markdown",
   "metadata": {},
   "source": [
    "#### □参考答案"
   ]
  },
  {
   "cell_type": "code",
   "execution_count": 28,
   "metadata": {
    "id": "answer"
   },
   "outputs": [
    {
     "name": "stdout",
     "output_type": "stream",
     "text": [
      "[[ 5  6  7  8  9]\n",
      " [15 16 17 18 19]\n",
      " [ 0  1  2  3  4]]\n"
     ]
    }
   ],
   "source": [
    "import numpy as np\n",
    "\n",
    "arr = np.arange(25).reshape(5, 5)\n",
    "\n",
    "# 请对变量 arr 中的行的顺序进行更改并输出结果\n",
    "print(arr[[1, 3, 0]])"
   ]
  },
  {
   "cell_type": "markdown",
   "metadata": {},
   "source": [
    "**程序清单7.41：参考答案**"
   ]
  },
  {
   "cell_type": "markdown",
   "metadata": {
    "courseId": 4000,
    "exerciseId": "HJKmYnIsUxM",
    "id": "code_session_name",
    "important": true,
    "isDL": false,
    "timeoutSecs": 5
   },
   "source": [
    "### ○7.3.5 转置矩阵"
   ]
  },
  {
   "cell_type": "markdown",
   "metadata": {},
   "source": [
    "#### □习题\n"
   ]
  },
  {
   "cell_type": "code",
   "execution_count": null,
   "metadata": {
    "id": "index"
   },
   "outputs": [],
   "source": [
    "import numpy as np\n",
    "\n",
    "arr = np.arange(10).reshape(2, 5)\n",
    "\n",
    "# 请将变量 arr 进行转置\n",
    "print()"
   ]
  },
  {
   "cell_type": "markdown",
   "metadata": {},
   "source": [
    "**程序清单7.42：习题**"
   ]
  },
  {
   "cell_type": "markdown",
   "metadata": {},
   "source": [
    "#### □参考答案"
   ]
  },
  {
   "cell_type": "code",
   "execution_count": 29,
   "metadata": {
    "id": "answer"
   },
   "outputs": [
    {
     "name": "stdout",
     "output_type": "stream",
     "text": [
      "[[0 5]\n",
      " [1 6]\n",
      " [2 7]\n",
      " [3 8]\n",
      " [4 9]]\n"
     ]
    }
   ],
   "source": [
    "import numpy as np\n",
    "\n",
    "arr = np.arange(10).reshape(2, 5)\n",
    "\n",
    "# 请将变量 arr 进行转置\n",
    "print(arr.T) # print(np.transpose(arr))"
   ]
  },
  {
   "cell_type": "markdown",
   "metadata": {},
   "source": [
    "**程序清单7.43：参考答案**"
   ]
  },
  {
   "cell_type": "markdown",
   "metadata": {
    "courseId": 4000,
    "exerciseId": "HJcXFhIjIgf",
    "id": "code_session_name",
    "important": true,
    "isDL": false,
    "timeoutSecs": 5
   },
   "source": [
    "### ○7.3.6 排序"
   ]
  },
  {
   "cell_type": "code",
   "execution_count": 29,
   "metadata": {},
   "outputs": [
    {
     "data": {
      "text/plain": [
       "array([2, 0, 1], dtype=int64)"
      ]
     },
     "execution_count": 29,
     "metadata": {},
     "output_type": "execute_result"
    }
   ],
   "source": [
    "arr = np.array([15, 30, 5])\n",
    "arr.argsort()"
   ]
  },
  {
   "cell_type": "markdown",
   "metadata": {},
   "source": [
    "**程序清单7.44：排序的示例**"
   ]
  },
  {
   "cell_type": "markdown",
   "metadata": {},
   "source": [
    "#### □习题\n"
   ]
  },
  {
   "cell_type": "code",
   "execution_count": null,
   "metadata": {
    "id": "index"
   },
   "outputs": [],
   "source": [
    "import numpy as np\n",
    "\n",
    "arr = np.array([[8, 4, 2], [3, 5, 1]])\n",
    "\n",
    "# 请使用 argsort() 方法对变量arr进行排序并对结果进行输出\n",
    "print()\n",
    "\n",
    "# 请使用 np.sort() 函数对变量arr进行排序并对结果进行输出\n",
    "print()\n",
    "\n",
    "# 请使用 sort() 方法将变量arr按行进行排序\n",
    "\n",
    "print(arr)"
   ]
  },
  {
   "cell_type": "markdown",
   "metadata": {},
   "source": [
    "**程序清单7.45：习题**"
   ]
  },
  {
   "cell_type": "markdown",
   "metadata": {},
   "source": [
    "#### □参考答案"
   ]
  },
  {
   "cell_type": "code",
   "execution_count": 30,
   "metadata": {
    "id": "answer"
   },
   "outputs": [
    {
     "name": "stdout",
     "output_type": "stream",
     "text": [
      "[[2 1 0]\n",
      " [2 0 1]]\n",
      "[[2 4 8]\n",
      " [1 3 5]]\n",
      "[[2 4 8]\n",
      " [1 3 5]]\n"
     ]
    }
   ],
   "source": [
    "import numpy as np\n",
    "\n",
    "arr = np.array([[8, 4, 2], [3, 5, 1]])\n",
    "\n",
    "# 请使用 argsort() 方法对变量arr进行排序并对结果进行输出\n",
    "print(arr.argsort())\n",
    "\n",
    "# 请使用 np.sort() 函数对变量arr进行排序并对结果进行输出\n",
    "print(np.sort(arr))\n",
    "\n",
    "# 请使用 sort() 方法将变量arr按行进行排序\n",
    "arr.sort(1)\n",
    "print(arr)"
   ]
  },
  {
   "cell_type": "markdown",
   "metadata": {},
   "source": [
    "**程序清单7.46：参考答案**　"
   ]
  },
  {
   "cell_type": "markdown",
   "metadata": {
    "courseId": 4000,
    "exerciseId": "SJo7FhLjIgz",
    "id": "code_session_name",
    "important": true,
    "isDL": false,
    "timeoutSecs": 5
   },
   "source": [
    "### ○7.3.7 矩阵计算"
   ]
  },
  {
   "cell_type": "markdown",
   "metadata": {},
   "source": [
    "#### □习题\n"
   ]
  },
  {
   "cell_type": "code",
   "execution_count": null,
   "metadata": {
    "id": "index"
   },
   "outputs": [],
   "source": [
    "import numpy as np\n",
    "\n",
    "# 对 arr 进行定义\n",
    "arr = np.arange(9).reshape(3, 3)\n",
    "\n",
    "# 请对变量 arr 与 arr 的矩阵乘积进行输出\n",
    "print()\n",
    "\n",
    "# 对 vec 进行定义\n",
    "vec = arr.reshape(9)\n",
    "\n",
    "# 请对变量 vec 的范数进行输出\n",
    "print()"
   ]
  },
  {
   "cell_type": "markdown",
   "metadata": {},
   "source": [
    "**程序清单7.47：习题**"
   ]
  },
  {
   "cell_type": "markdown",
   "metadata": {},
   "source": [
    "#### □参考答案"
   ]
  },
  {
   "cell_type": "code",
   "execution_count": 31,
   "metadata": {
    "id": "answer"
   },
   "outputs": [
    {
     "name": "stdout",
     "output_type": "stream",
     "text": [
      "[[ 15  18  21]\n",
      " [ 42  54  66]\n",
      " [ 69  90 111]]\n",
      "14.2828568570857\n"
     ]
    }
   ],
   "source": [
    "import numpy as np\n",
    "\n",
    "# 对 arr 进行定义\n",
    "arr = np.arange(9).reshape(3, 3)\n",
    "\n",
    "# 请对变量 arr 与 arr 的矩阵乘积进行输出\n",
    "print(np.dot(arr, arr))\n",
    "\n",
    "# 对 vec 进行定义\n",
    "vec = arr.reshape(9)\n",
    "\n",
    "# 请对变量 vec 的范数进行输出\n",
    "print(np.linalg.norm(vec))"
   ]
  },
  {
   "cell_type": "markdown",
   "metadata": {},
   "source": [
    "**程序清单7.48：参考答案**"
   ]
  },
  {
   "cell_type": "markdown",
   "metadata": {
    "courseId": 4000,
    "exerciseId": "Sk37FnUj8lf",
    "id": "code_session_name",
    "important": true,
    "isDL": false,
    "timeoutSecs": 5
   },
   "source": [
    "### ○7.3.8 统计函数"
   ]
  },
  {
   "cell_type": "markdown",
   "metadata": {},
   "source": [
    "#### □习题\n"
   ]
  },
  {
   "cell_type": "code",
   "execution_count": null,
   "metadata": {
    "id": "index"
   },
   "outputs": [],
   "source": [
    "import numpy as np\n",
    "\n",
    "arr = np.arange(15).reshape(3, 5)\n",
    "\n",
    "# 请对变量 arr 中每一列的平均值进行输出\n",
    "print()\n",
    "\n",
    "# 请对变量 arr 中行的合计值进行输出\n",
    "print()\n",
    "\n",
    "# 请对变量 arr 的最小值进行输出\n",
    "print()\n",
    "\n",
    "# 请对变量 arr 每一列中最大值的索引编号进行输出\n",
    "print()"
   ]
  },
  {
   "cell_type": "markdown",
   "metadata": {},
   "source": [
    "**程序清单7.49：习题**"
   ]
  },
  {
   "cell_type": "markdown",
   "metadata": {},
   "source": [
    "#### □参考答案"
   ]
  },
  {
   "cell_type": "code",
   "execution_count": 31,
   "metadata": {
    "id": "answer",
    "scrolled": false
   },
   "outputs": [
    {
     "name": "stdout",
     "output_type": "stream",
     "text": [
      "[5. 6. 7. 8. 9.]\n",
      "[10 35 60]\n",
      "0\n",
      "[2 2 2 2 2]\n"
     ]
    }
   ],
   "source": [
    "import numpy as np\n",
    "\n",
    "arr = np.arange(15).reshape(3, 5)\n",
    "\n",
    "# 请对变量 arr 中每一列的平均值进行输出\n",
    "print(arr.mean(axis=0))\n",
    "\n",
    "# 请对变量 arr 中行的合计值进行输出\n",
    "print(arr.sum(axis=1))\n",
    "\n",
    "# 请对变量 arr 的最小值进行输出\n",
    "print(arr.min())\n",
    "\n",
    "# 请对变量 arr 每一列中最大值的索引编号进行输出\n",
    "print(arr.argmax(axis=0))"
   ]
  },
  {
   "cell_type": "markdown",
   "metadata": {},
   "source": [
    "**程序清单 7.50：参考答案**"
   ]
  },
  {
   "cell_type": "markdown",
   "metadata": {
    "courseId": 4000,
    "exerciseId": "HypQKn8iUgG",
    "id": "code_session_name",
    "important": true,
    "isDL": false,
    "timeoutSecs": 5
   },
   "source": [
    "### ○7.3.9 广播"
   ]
  },
  {
   "cell_type": "code",
   "execution_count": 34,
   "metadata": {},
   "outputs": [
    {
     "name": "stdout",
     "output_type": "stream",
     "text": [
      "[[1 2 3]\n",
      " [4 5 6]]\n"
     ]
    }
   ],
   "source": [
    "x = np.arange(6).reshape(2, 3)\n",
    "print(x + 1)"
   ]
  },
  {
   "cell_type": "markdown",
   "metadata": {},
   "source": [
    "**程序清单7.51：广播的示例**"
   ]
  },
  {
   "cell_type": "markdown",
   "metadata": {},
   "source": [
    "#### □习题"
   ]
  },
  {
   "cell_type": "code",
   "execution_count": null,
   "metadata": {},
   "outputs": [],
   "source": [
    "import numpy as np\n",
    "\n",
    "\n",
    "\n",
    "# 请生成包含从 0 到 14 的整数值的 3 × 5 的 ndarray 数组 x\n",
    "x = np.arange(15).reshape(3, 5)\n",
    "\n",
    "# 请生成包含从 0 到 4 的整数值的 1 × 5 的 ndarray 数组 y\n",
    "y = np.array([np.arange(5)])\n",
    "\n",
    "# 请从数组 x 的第 n 个列的所有行中减去 n\n",
    "z = \n",
    "\n",
    "# 对 z 进行输出\n",
    "print(z)"
   ]
  },
  {
   "cell_type": "markdown",
   "metadata": {},
   "source": [
    "**程序清单7.52：习题**"
   ]
  },
  {
   "cell_type": "markdown",
   "metadata": {},
   "source": [
    "#### □参考答案"
   ]
  },
  {
   "cell_type": "code",
   "execution_count": 35,
   "metadata": {
    "id": "answer",
    "scrolled": true
   },
   "outputs": [
    {
     "name": "stdout",
     "output_type": "stream",
     "text": [
      "[[ 0  0  0  0  0]\n",
      " [ 5  5  5  5  5]\n",
      " [10 10 10 10 10]]\n"
     ]
    }
   ],
   "source": [
    "import numpy as np\n",
    "\n",
    "\n",
    "# 请生成包含从 0 到 14 的整数值的 3 × 5 的 ndarray 数组 x\n",
    "x = np.arange(15).reshape(3, 5)\n",
    "\n",
    "# 请生成包含从 0 到 4 的整数值的 1 × 5 的 ndarray 数组 y\n",
    "y = np.array([np.arange(5)])\n",
    "\n",
    "# 请从数组 x 的第 n 个列的所有行中减去 n\n",
    "z = x - y\n",
    "\n",
    "# 对 z 进行输出\n",
    "print(z)"
   ]
  },
  {
   "cell_type": "markdown",
   "metadata": {},
   "source": [
    "**程序清单 7.53：参考答案**"
   ]
  },
  {
   "cell_type": "markdown",
   "metadata": {
    "id": "chapter_exam"
   },
   "source": [
    "## ●7.3 附加习题"
   ]
  },
  {
   "cell_type": "markdown",
   "metadata": {},
   "source": [
    "#### □习题\n"
   ]
  },
  {
   "cell_type": "code",
   "execution_count": null,
   "metadata": {
    "id": "index"
   },
   "outputs": [],
   "source": [
    "import numpy as np\n",
    "\n",
    "\n",
    "np.random.seed(100)\n",
    "\n",
    "# 请将各元素为 0~30 的整数的矩阵（5 × 3）代入变量 arr 中\n",
    "\n",
    "print(arr)\n",
    "\n",
    "# 请对变量 arr 进行转置\n",
    "\n",
    "print(arr)\n",
    "\n",
    "# 请将变量 arr 的 2、 3、 4 列中的矩阵 (3 × 3) 代入变量 arr1 中\n",
    "\n",
    "print(arr1)\n",
    "\n",
    "# 请使用行对变量 arr1 进行排序\n",
    "\n",
    "print(arr1)\n",
    "\n",
    "# 请对每一列的平均值进行输出\n",
    "\n"
   ]
  },
  {
   "cell_type": "markdown",
   "metadata": {},
   "source": [
    "**程序清单7.54：习题**"
   ]
  },
  {
   "cell_type": "markdown",
   "metadata": {},
   "source": [
    "#### □参考答案"
   ]
  },
  {
   "cell_type": "code",
   "execution_count": 32,
   "metadata": {
    "id": "answer",
    "scrolled": true
   },
   "outputs": [
    {
     "name": "stdout",
     "output_type": "stream",
     "text": [
      "[[ 8 24  3]\n",
      " [ 7 23 15]\n",
      " [16 10 30]\n",
      " [20  2 21]\n",
      " [ 2  2 14]]\n",
      "[[ 8  7 16 20  2]\n",
      " [24 23 10  2  2]\n",
      " [ 3 15 30 21 14]]\n",
      "[[ 7 16 20]\n",
      " [23 10  2]\n",
      " [15 30 21]]\n",
      "[[ 7 10  2]\n",
      " [15 16 20]\n",
      " [23 30 21]]\n",
      "[15.         18.66666667 14.33333333]\n"
     ]
    }
   ],
   "source": [
    "import numpy as np\n",
    "\n",
    "\n",
    "np.random.seed(100)\n",
    "\n",
    "# 请将各元素为 0~30 的整数的矩阵（5 × 3）代入变量 arr 中\n",
    "arr = np.random.randint(0, 31, (5, 3))\n",
    "print(arr)\n",
    "\n",
    "# 请对变量 arr 进行转置\n",
    "arr = arr.T\n",
    "print(arr)\n",
    "\n",
    "# 请将变量 arr 的 2、 3、 4 列中的矩阵 (3 × 3) 代入变量 arr1 中\n",
    "arr1 = arr[:, 1:4]\n",
    "print(arr1)\n",
    "\n",
    "# 请使用行对变量 arr1 进行排序\n",
    "arr1.sort(0)\n",
    "print(arr1)\n",
    "\n",
    "# 请对每一列的平均值进行输出\n",
    "print(arr1.mean(axis = 0))"
   ]
  },
  {
   "cell_type": "markdown",
   "metadata": {},
   "source": [
    "**程序清单7.55：参考答案**"
   ]
  },
  {
   "cell_type": "markdown",
   "metadata": {},
   "source": [
    "# ●综合附加习题"
   ]
  },
  {
   "cell_type": "markdown",
   "metadata": {},
   "source": [
    "### □习题"
   ]
  },
  {
   "cell_type": "code",
   "execution_count": null,
   "metadata": {},
   "outputs": [],
   "source": [
    "import numpy as np\n",
    "\n",
    "# 对随机数进行初始化处理\n",
    "np.random.seed(0)\n",
    "\n",
    "# 根据所指定的宽度和高度使用随机数来生成图像的函数\n",
    "def make_image(m, n):\n",
    "    \n",
    "    # 请对 n × m 数组的各个元素使用 0~5 之间的随机值进行填充\n",
    "\n",
    "    \n",
    "    return image\n",
    "\n",
    "\n",
    "# 对指定的矩阵的一部分内容进行变更的函数\n",
    "def change_little(matrix):\n",
    "    # 请获取所指定矩阵的形状，并将其代入 shape 中\n",
    "\n",
    "    \n",
    "    # 对于矩阵中的各个元素，随机地决定是否对其进行变更\n",
    "    # 如果进行变更的话，请对 0~5 中的任意一个整数进行随机的替换\n",
    "    \n",
    "    \n",
    "    \n",
    "    \n",
    "    return matrix\n",
    "\n",
    "# 随机的生成图像\n",
    "image1 = make_image(3, 3)\n",
    "print(image1)\n",
    "print()\n",
    "\n",
    "# 随机的应用变更\n",
    "image2 = change_little(np.copy(image1))\n",
    "print(image2)\n",
    "print()\n",
    "\n",
    "# 请计算 image1 和 image2 的差分，并将结果代入 image3 中\n",
    "\n",
    "print(image3)\n",
    "print()\n",
    "\n",
    "# 请计算 image3 中各元素的绝对值，并将其再次代入 image3 中\n",
    "\n",
    "\n",
    "# 对 image3 进行输出\n",
    "print(image3)"
   ]
  },
  {
   "cell_type": "markdown",
   "metadata": {},
   "source": [
    "**程序清单7.56：习题**"
   ]
  },
  {
   "cell_type": "markdown",
   "metadata": {},
   "source": [
    "###  □参考答案"
   ]
  },
  {
   "cell_type": "code",
   "execution_count": 33,
   "metadata": {},
   "outputs": [
    {
     "name": "stdout",
     "output_type": "stream",
     "text": [
      "[[4 5 0]\n",
      " [3 3 3]\n",
      " [1 3 5]]\n",
      "\n",
      "[[4 5 0]\n",
      " [3 3 3]\n",
      " [0 5 5]]\n",
      "\n",
      "[[ 0  0  0]\n",
      " [ 0  0  0]\n",
      " [-1  2  0]]\n",
      "\n",
      "[[0 0 0]\n",
      " [0 0 0]\n",
      " [1 2 0]]\n"
     ]
    }
   ],
   "source": [
    "import numpy as np\n",
    "\n",
    "# 对随机数进行初始化处理\n",
    "np.random.seed(0)\n",
    "\n",
    "# 根据所指定的宽度和高度使用随机数来生成图像的函数\n",
    "def make_image(m, n):\n",
    "    \n",
    "    # 请对 n × m 数组的各个元素使用 0~5 之间的随机值进行填充\n",
    "    image = np.random.randint(0, 6, (m, n))\n",
    "        \n",
    "    return image\n",
    "\n",
    "# 对指定的矩阵的一部分内容进行变更的函数\n",
    "def change_little(matrix):\n",
    "    # 请获取所指定矩阵的形状，并将其代入 shape 中\n",
    "    shape = matrix.shape\n",
    "    \n",
    "    # 对于矩阵中的各个元素，随机地决定是否对其进行变更\n",
    "    # 如果进行变更的话，请对 0~5 中的任意一个整数进行随机的替换\n",
    "    for i in range(shape[0]):\n",
    "        for j in range(shape[1]):\n",
    "            if np.random.randint(0, 2)==1:\n",
    "                matrix[i][j] = np.random.randint(0, 6, 1)\n",
    "    return matrix\n",
    "\n",
    "# 随机的生成图像\n",
    "image1 = make_image(3, 3)\n",
    "print(image1)\n",
    "print()\n",
    "\n",
    "# 随机的应用变更\n",
    "image2 = change_little(np.copy(image1))\n",
    "print(image2)\n",
    "print()\n",
    "\n",
    "# 请计算 image1 和 image2 的差分，并将结果代入 image3 中\n",
    "image3 = image2 - image1\n",
    "print(image3)\n",
    "print()\n",
    "\n",
    "# 请计算 image3 中各元素的绝对值，并将其再次代入 image3 中\n",
    "image3 = np.abs(image3)\n",
    "\n",
    "# 对 image3 进行输出\n",
    "print(image3)"
   ]
  },
  {
   "cell_type": "markdown",
   "metadata": {},
   "source": [
    "**程序清单7.57：参考答案**"
   ]
  }
 ],
 "metadata": {
  "celltoolbar": "Edit Metadata",
  "kernelspec": {
   "display_name": "Python 3",
   "language": "python",
   "name": "python3"
  },
  "language_info": {
   "codemirror_mode": {
    "name": "ipython",
    "version": 3
   },
   "file_extension": ".py",
   "mimetype": "text/x-python",
   "name": "python",
   "nbconvert_exporter": "python",
   "pygments_lexer": "ipython3",
   "version": "3.6.6"
  },
  "varInspector": {
   "cols": {
    "lenName": 16,
    "lenType": 16,
    "lenVar": 40
   },
   "kernels_config": {
    "python": {
     "delete_cmd_postfix": "",
     "delete_cmd_prefix": "del ",
     "library": "var_list.py",
     "varRefreshCmd": "print(var_dic_list())"
    },
    "r": {
     "delete_cmd_postfix": ") ",
     "delete_cmd_prefix": "rm(",
     "library": "var_list.r",
     "varRefreshCmd": "cat(var_dic_list()) "
    }
   },
   "types_to_exclude": [
    "module",
    "function",
    "builtin_function_or_method",
    "instance",
    "_Feature"
   ],
   "window_display": false
  }
 },
 "nbformat": 4,
 "nbformat_minor": 2
}
