{
 "cells": [
  {
   "cell_type": "markdown",
   "metadata": {
    "chapterId": "rJFf_RmZxZf",
    "id": "chapter_name"
   },
   "source": [
    "# Chapter16　监督学习（分类）的基础"
   ]
  },
  {
   "cell_type": "markdown",
   "metadata": {
    "id": "table"
   },
   "source": [
    "- **16.1 了解监督学习（分类）**\n",
    "    - **16.1.1 何谓分类**\n",
    "    - **16.1.2 二元分类与多元分类**\n",
    "    - **16.1.3 分类的流程**\n",
    "    - **16.1.4 准备数据**\n",
    "    - **16.1.5 学习与预测**\n",
    "<br><br>\n",
    "- **16.2 主要算法简介**\n",
    "    - **16.2.1 逻辑回归**\n",
    "    - **16.2.2 线性 SVM**\n",
    "    - **16.2.3 非线性 SVM**\n",
    "    - **16.2.4 决策树**\n",
    "    - **16.2.5 随机森林**\n",
    "    - **16.2.6 k-NN**\n",
    "<br><br>\n",
    "- **附加习题**"
   ]
  },
  {
   "cell_type": "markdown",
   "metadata": {},
   "source": [
    "***"
   ]
  },
  {
   "cell_type": "markdown",
   "metadata": {
    "id": "section_name",
    "sectionId": "r15zdCX-eWf"
   },
   "source": [
    "## ●16.1 了解监督学习（分类）"
   ]
  },
  {
   "cell_type": "markdown",
   "metadata": {
    "courseId": 5020,
    "exerciseId": "r1452LsUlG",
    "id": "quiz_session_name",
    "important": false,
    "isDL": false,
    "timeoutSecs": 5
   },
   "source": [
    "### ○16.1.1 何谓分类"
   ]
  },
  {
   "cell_type": "markdown",
   "metadata": {},
   "source": [
    "本节没有示例程序"
   ]
  },
  {
   "cell_type": "markdown",
   "metadata": {
    "courseId": 5020,
    "exerciseId": "BJrc2IoUgG",
    "id": "quiz_session_name",
    "important": false,
    "isDL": false,
    "timeoutSecs": 5
   },
   "source": [
    "### ○16.1.2 二元分类与多元分类"
   ]
  },
  {
   "cell_type": "markdown",
   "metadata": {},
   "source": [
    "本节没有示例程序"
   ]
  },
  {
   "cell_type": "markdown",
   "metadata": {
    "courseId": 5020,
    "exerciseId": "rkU53Li8xG",
    "id": "quiz_session_name",
    "important": false,
    "isDL": false,
    "timeoutSecs": 5
   },
   "source": [
    "### ○16.1.3 分类的流程"
   ]
  },
  {
   "cell_type": "markdown",
   "metadata": {},
   "source": [
    "本节没有示例程序"
   ]
  },
  {
   "cell_type": "markdown",
   "metadata": {
    "courseId": 5020,
    "exerciseId": "SJwc28s8ez",
    "id": "code_session_name",
    "important": true,
    "isDL": false,
    "timeoutSecs": 5
   },
   "source": [
    "### ○16.1.4 准备数据"
   ]
  },
  {
   "cell_type": "code",
   "execution_count": null,
   "metadata": {},
   "outputs": [],
   "source": [
    "# 导入需要使用的模块\n",
    "from sklearn.datasets import make_classification\n",
    "# 创建数据 X 和标签 y\n",
    "X, y = make_classification(n_samples=XX, n_classes=XX, n_features=XX, n_redundant=XX, random_state=XX)"
   ]
  },
  {
   "cell_type": "markdown",
   "metadata": {},
   "source": [
    "**程序清单 16.1：创建适合分类处理的数据的示例**"
   ]
  },
  {
   "cell_type": "markdown",
   "metadata": {},
   "source": [
    "#### □习题"
   ]
  },
  {
   "cell_type": "code",
   "execution_count": 7,
   "metadata": {
    "id": "index",
    "scrolled": true
   },
   "outputs": [
    {
     "data": {
      "image/png": "[encoded data removed]",
      "text/plain": [
       "<Figure size 432x288 with 1 Axes>"
      ]
     },
     "metadata": {
      "needs_background": "light"
     },
     "output_type": "display_data"
    }
   ],
   "source": [
    "# 导入需要使用的模块\n",
    "from sklearn.datasets import make_classification\n",
    "# 导入用于绘制图表的模块\n",
    "import matplotlib.pyplot as plt\n",
    "import matplotlib\n",
    "%matplotlib inline\n",
    "\n",
    "# 生成数据 X 和标签 y\n",
    "# 请在此处输入答案\n",
    "\n",
    "\n",
    "# 数据的着色和绘制等处理\n",
    "plt.scatter(X[:, 0], X[:, 1], c=y, marker=\".\",\n",
    "            cmap=matplotlib.cm.get_cmap(name=\"bwr\"), alpha=0.7)\n",
    "plt.grid(True)\n",
    "plt.show()"
   ]
  },
  {
   "cell_type": "markdown",
   "metadata": {},
   "source": [
    "**程序清单 16.2：习题**"
   ]
  },
  {
   "cell_type": "markdown",
   "metadata": {},
   "source": [
    "#### □参考答案"
   ]
  },
  {
   "cell_type": "code",
   "execution_count": 8,
   "metadata": {
    "id": "answer"
   },
   "outputs": [
    {
     "data": {
      "image/png": "[encoded data removed]",
      "text/plain": [
       "<Figure size 432x288 with 1 Axes>"
      ]
     },
     "metadata": {
      "needs_background": "light"
     },
     "output_type": "display_data"
    }
   ],
   "source": [
    "# 导入需要使用的模块\n",
    "from sklearn.datasets import make_classification\n",
    "# 导入用于绘制图表的模块\n",
    "import matplotlib.pyplot as plt\n",
    "import matplotlib\n",
    "%matplotlib inline\n",
    "\n",
    "# 生成数据 X 和标签 y\n",
    "# 请在此处输入答案\n",
    "X, y = make_classification(n_samples=50, n_features=2, n_redundant=0, random_state=0)\n",
    "\n",
    "# 数据的着色和绘制等处理\n",
    "plt.scatter(X[:, 0], X[:, 1], c=y, marker=\".\",\n",
    "            cmap=matplotlib.cm.get_cmap(name=\"bwr\"), alpha=0.7)\n",
    "plt.grid(True)\n",
    "plt.show()"
   ]
  },
  {
   "cell_type": "markdown",
   "metadata": {},
   "source": [
    "**程序清单 16. 3：参考答案**"
   ]
  },
  {
   "cell_type": "markdown",
   "metadata": {
    "courseId": 5020,
    "exerciseId": "Bku93Ij8xf",
    "id": "code_session_name",
    "important": true,
    "isDL": false,
    "timeoutSecs": 5
   },
   "source": [
    "### ○16.1.5 学习与预测"
   ]
  },
  {
   "cell_type": "code",
   "execution_count": null,
   "metadata": {},
   "outputs": [],
   "source": [
    "# 导入需要使用的模块\n",
    "# 以模型为单位进行模块的导入\n",
    "from sklearn.linear_model import LogisticRegression\n",
    "from sklearn.svm import LinearSVC, SVC\n",
    "from sklearn.tree import DecisionTreeClassifier\n",
    "from sklearn.ensemble import RandomForestClassifier\n",
    "from sklearn.neighbors import KNeighborsClassifier\n",
    "\n",
    "# 构建模型\n",
    "model = Classifier()\n",
    "# 对模型进行训练\n",
    "model.fit(train_X, train_y)\n",
    "# 使用模型对数据进行预测\n",
    "model.predict(test_X)\n",
    "\n",
    "# 模型的准确率\n",
    "# 准确率是使用 ( 模型预测的分类与实际的分类相同的数据的数量 )÷( 数据的总数量 ) 公式计算出来的\n",
    "model.score(test_X, test_y)"
   ]
  },
  {
   "cell_type": "markdown",
   "metadata": {},
   "source": [
    "**程序清单 16.4：以虚构的模型 Classifier 为例的使用方法（这是一个示例代码，请不要执行）**"
   ]
  },
  {
   "cell_type": "markdown",
   "metadata": {},
   "source": [
    "#### □习题"
   ]
  },
  {
   "cell_type": "code",
   "execution_count": null,
   "metadata": {
    "collapsed": true,
    "id": "index"
   },
   "outputs": [],
   "source": [
    "from sklearn.linear_model import LogisticRegression\n",
    "from sklearn.model_selection import train_test_split\n",
    "from sklearn.datasets import make_classification\n",
    "\n",
    "# 生成数据\n",
    "X, y = make_classification(n_samples=100, n_features=2, n_redundant=0, random_state=42)\n",
    "# 将数据分为用于学习的部分和用于评估的部分\n",
    "train_X, test_X, train_y, test_y = train_test_split(X, y, random_state=42)\n",
    "\n",
    "# 构建模型\n",
    "model = LogisticRegression(random_state=42)\n",
    "\n",
    "# 使用数据 train_X、train_y 对模型进行训练\n",
    "# 请在此处输入答案\n",
    "\n",
    "# 模型对数据 test_X 进行分类预测的结果\n",
    "# 请在此处输入答案\n",
    "\n",
    "\n"
   ]
  },
  {
   "cell_type": "markdown",
   "metadata": {},
   "source": [
    "**程序清单 16.5：习题**"
   ]
  },
  {
   "cell_type": "markdown",
   "metadata": {},
   "source": [
    "#### □参考答案"
   ]
  },
  {
   "cell_type": "code",
   "execution_count": 10,
   "metadata": {
    "id": "answer",
    "scrolled": true
   },
   "outputs": [
    {
     "name": "stdout",
     "output_type": "stream",
     "text": [
      "[0 1 1 0 1 0 0 0 1 1 1 0 1 0 0 1 1 1 0 0 0 0 1 0 1]\n"
     ]
    }
   ],
   "source": [
    "from sklearn.linear_model import LogisticRegression\n",
    "from sklearn.model_selection import train_test_split\n",
    "from sklearn.datasets import make_classification\n",
    "\n",
    "# 生成数据\n",
    "X, y = make_classification(n_samples=100, n_features=2, n_redundant=0, random_state=42)\n",
    "#  将数据分为用于学习的部分和用于评估的部分\n",
    "train_X, test_X, train_y, test_y = train_test_split(X, y, random_state=42)\n",
    "\n",
    "# 构建模型\n",
    "model = LogisticRegression(random_state=42)\n",
    "\n",
    "# 使用数据 train_X、train_y 对模型进行训练\n",
    "# 请在此处输入答案\n",
    "model.fit(train_X, train_y)\n",
    "\n",
    "# 模型对数据 test_X 进行分类预测的结果\n",
    "# 请在此处输入答案\n",
    "pred_y = model.predict(test_X)\n",
    "print(pred_y)"
   ]
  },
  {
   "cell_type": "markdown",
   "metadata": {},
   "source": [
    "**程序清单 16.6　参考答案**"
   ]
  },
  {
   "cell_type": "markdown",
   "metadata": {
    "id": "section_name",
    "sectionId": "r1if_AmbxWG"
   },
   "source": [
    "## ●16.2 主要算法简介"
   ]
  },
  {
   "cell_type": "markdown",
   "metadata": {
    "courseId": 5020,
    "exerciseId": "Bkt5hIoIlG",
    "id": "code_session_name",
    "important": true,
    "isDL": false,
    "timeoutSecs": 5
   },
   "source": [
    "### ○16.2.1 逻辑回归"
   ]
  },
  {
   "cell_type": "code",
   "execution_count": null,
   "metadata": {},
   "outputs": [],
   "source": [
    "# 从软件库中调用模型\n",
    "from sklearn.linear_model import LogisticRegression\n",
    "\n",
    "# 构建模型\n",
    "model = LogisticRegression()\n",
    "\n",
    "# 训练模型\n",
    "# train_data_detail 中保存的是用于对数据的类别进行预测所需的信息\n",
    "# train_data_label 是数据所属分类的标签\n",
    "model.fit(train_data_detail, train_data_label)\n",
    "\n",
    "# 使用模型进行预测\n",
    "model.predict(data_detail)\n",
    "\n",
    "# 模型预测结果的准确率\n",
    "model.score(data_detail, data_true_label)"
   ]
  },
  {
   "cell_type": "markdown",
   "metadata": {},
   "source": [
    "**程序清单 16.7：调用模型的示例（因为是加载的例子，所以不要执行）**"
   ]
  },
  {
   "cell_type": "code",
   "execution_count": 12,
   "metadata": {},
   "outputs": [
    {
     "ename": "AttributeError",
     "evalue": "'LogisticRegression' object has no attribute 'coef_'",
     "output_type": "error",
     "traceback": [
      "\u001b[1;31m---------------------------------------------------------------------------\u001b[0m",
      "\u001b[1;31mAttributeError\u001b[0m                            Traceback (most recent call last)",
      "\u001b[1;32m<ipython-input-12-32e288f8efee>\u001b[0m in \u001b[0;36m<module>\u001b[1;34m()\u001b[0m\n\u001b[0;32m     14\u001b[0m \u001b[1;31m# model.intercept_はデータの要素全部に対する補正（切片）を表します\u001b[0m\u001b[1;33m\u001b[0m\u001b[1;33m\u001b[0m\u001b[0m\n\u001b[0;32m     15\u001b[0m \u001b[0mXi\u001b[0m \u001b[1;33m=\u001b[0m \u001b[0mnp\u001b[0m\u001b[1;33m.\u001b[0m\u001b[0mlinspace\u001b[0m\u001b[1;33m(\u001b[0m\u001b[1;33m-\u001b[0m\u001b[1;36m10\u001b[0m\u001b[1;33m,\u001b[0m \u001b[1;36m10\u001b[0m\u001b[1;33m)\u001b[0m\u001b[1;33m\u001b[0m\u001b[0m\n\u001b[1;32m---> 16\u001b[1;33m \u001b[0mY\u001b[0m \u001b[1;33m=\u001b[0m \u001b[1;33m-\u001b[0m\u001b[0mmodel\u001b[0m\u001b[1;33m.\u001b[0m\u001b[0mcoef_\u001b[0m\u001b[1;33m[\u001b[0m\u001b[1;36m0\u001b[0m\u001b[1;33m]\u001b[0m\u001b[1;33m[\u001b[0m\u001b[1;36m0\u001b[0m\u001b[1;33m]\u001b[0m \u001b[1;33m/\u001b[0m \u001b[0mmodel\u001b[0m\u001b[1;33m.\u001b[0m\u001b[0mcoef_\u001b[0m\u001b[1;33m[\u001b[0m\u001b[1;36m0\u001b[0m\u001b[1;33m]\u001b[0m\u001b[1;33m[\u001b[0m\u001b[1;36m1\u001b[0m\u001b[1;33m]\u001b[0m \u001b[1;33m*\u001b[0m     \u001b[0mXi\u001b[0m \u001b[1;33m-\u001b[0m \u001b[0mmodel\u001b[0m\u001b[1;33m.\u001b[0m\u001b[0mintercept_\u001b[0m \u001b[1;33m/\u001b[0m \u001b[0mmodel\u001b[0m\u001b[1;33m.\u001b[0m\u001b[0mcoef_\u001b[0m\u001b[1;33m[\u001b[0m\u001b[1;36m0\u001b[0m\u001b[1;33m]\u001b[0m\u001b[1;33m[\u001b[0m\u001b[1;36m1\u001b[0m\u001b[1;33m]\u001b[0m\u001b[1;33m\u001b[0m\u001b[0m\n\u001b[0m\u001b[0;32m     17\u001b[0m \u001b[0mplt\u001b[0m\u001b[1;33m.\u001b[0m\u001b[0mplot\u001b[0m\u001b[1;33m(\u001b[0m\u001b[0mXi\u001b[0m\u001b[1;33m,\u001b[0m \u001b[0mY\u001b[0m\u001b[1;33m)\u001b[0m\u001b[1;33m\u001b[0m\u001b[0m\n\u001b[0;32m     18\u001b[0m \u001b[1;33m\u001b[0m\u001b[0m\n",
      "\u001b[1;31mAttributeError\u001b[0m: 'LogisticRegression' object has no attribute 'coef_'"
     ]
    },
    {
     "data": {
      "image/png": "[encoded data removed]",
      "text/plain": [
       "<Figure size 432x288 with 1 Axes>"
      ]
     },
     "metadata": {
      "needs_background": "light"
     },
     "output_type": "display_data"
    }
   ],
   "source": [
    "#  导入需要使用的软件包\n",
    "import numpy as np\n",
    "import matplotlib\n",
    "import matplotlib.pyplot as plt\n",
    "# 设置直接在页面上显示图表\n",
    "%matplotlib inline\n",
    "\n",
    "# 对生成的数据进行绘制\n",
    "plt.scatter(X[:, 0], X[:, 1], c=y, marker=\".\",\n",
    "            cmap=matplotlib.cm.get_cmap(name=\"bwr\"), alpha=0.7)\n",
    "\n",
    "# 将经过训练并被导出的分界线进行绘制\n",
    "# model.coef_ 表示的是数据的各个元素的权重\n",
    "# model.intercept_ 表示的是对数据中全部元素的修正（切片）\n",
    "Xi = np.linspace(-10, 10)\n",
    "Y = -model.coef_[0][0] / model.coef_[0][1] * \\\n",
    "    Xi - model.intercept_ / model.coef_[0][1]\n",
    "plt.plot(Xi, Y)\n",
    "\n",
    "# 调整图表的缩放尺度\n",
    "plt.xlim(min(X[:, 0]) - 0.5, max(X[:, 0]) + 0.5)\n",
    "plt.ylim(min(X[:, 1]) - 0.5, max(X[:, 1]) + 0.5)\n",
    "plt.axes().set_aspect(\"equal\", \"datalim\")\n",
    "# 设置图表的标题\n",
    "plt.title(\"classification data using LogisticRegression\")\n",
    "# 分别为 x 轴和 y 轴设置名称\n",
    "plt.xlabel(\"x-axis\")\n",
    "plt.ylabel(\"y-axis\")\n",
    "plt.show()"
   ]
  },
  {
   "cell_type": "markdown",
   "metadata": {},
   "source": [
    "**程序清单 16.8：逻辑回归的示例（虽然会显示错误，但因为是示例，所以没有问题）**"
   ]
  },
  {
   "cell_type": "markdown",
   "metadata": {},
   "source": [
    "#### □习题"
   ]
  },
  {
   "cell_type": "code",
   "execution_count": null,
   "metadata": {},
   "outputs": [],
   "source": [
    "# 导入需要使用的软件包\n",
    "import numpy as np\n",
    "import matplotlib\n",
    "import matplotlib.pyplot as plt\n",
    "from sklearn.linear_model import LogisticRegression\n",
    "from sklearn.model_selection import train_test_split\n",
    "from sklearn.datasets import make_classification\n",
    "# 设置直接在页面上显示图表\n",
    "%matplotlib inline\n",
    "\n",
    "# 生成数据\n",
    "X, y = make_classification(n_samples=100, n_features=2,\n",
    "                           n_redundant=0, random_state=42)\n",
    "train_X, test_X, train_y, test_y = train_test_split(X, y, random_state=42)\n",
    "\n",
    "# 请在此处输入答案\n",
    "# 请构建模型\n",
    "\n",
    "\n",
    "# 请使用 train_X 和 train_y 对模型进行训练\n",
    "\n",
    "\n",
    "# 请输出模型对 test_X 进行分类预测的结果\n",
    "\n",
    "\n",
    "# 添加的代码到此处为止\n",
    "# 对生成的数据进行绘制\n",
    "plt.scatter(X[:, 0], X[:, 1], c=y, marker=\".\",\n",
    "            cmap=matplotlib.cm.get_cmap(name=\"bwr\"), alpha=0.7)\n",
    "\n",
    "# 对经过学习并导出的分界线进行绘制\n",
    "Xi = np.linspace(-10, 10)\n",
    "Y = -model.coef_[0][0] / model.coef_[0][1] * \\\n",
    "    Xi - model.intercept_ / model.coef_[0][1]\n",
    "plt.plot(Xi, Y)\n",
    "\n",
    "# 调整图表的缩放尺度\n",
    "plt.xlim(min(X[:, 0]) - 0.5, max(X[:, 0]) + 0.5)\n",
    "plt.ylim(min(X[:, 1]) - 0.5, max(X[:, 1]) + 0.5)\n",
    "plt.axes().set_aspect(\"equal\", \"datalim\")\n",
    "# 设置图表的标题\n",
    "plt.title(\"classification data using LogisticRegression\")\n",
    "# 分别为 x 轴和 y 轴设置名称\n",
    "plt.xlabel(\"x-axis\")\n",
    "plt.ylabel(\"y-axis\")\n",
    "plt.show()"
   ]
  },
  {
   "cell_type": "markdown",
   "metadata": {},
   "source": [
    "**程序清单 16.9：习题**"
   ]
  },
  {
   "cell_type": "markdown",
   "metadata": {},
   "source": [
    "#### □参考答案"
   ]
  },
  {
   "cell_type": "code",
   "execution_count": 13,
   "metadata": {
    "id": "answer",
    "scrolled": true
   },
   "outputs": [
    {
     "name": "stderr",
     "output_type": "stream",
     "text": [
      "C:\\Users\\miyakoshi\\Anaconda3\\envs\\aidemytest\\lib\\site-packages\\matplotlib\\cbook\\deprecation.py:107: MatplotlibDeprecationWarning: Adding an axes using the same arguments as a previous axes currently reuses the earlier instance.  In a future version, a new instance will always be created and returned.  Meanwhile, this warning can be suppressed, and the future behavior ensured, by passing a unique label to each axes instance.\n",
      "  warnings.warn(message, mplDeprecation, stacklevel=1)\n"
     ]
    },
    {
     "data": {
      "image/png": "[encoded data removed]",
      "text/plain": [
       "<Figure size 432x288 with 1 Axes>"
      ]
     },
     "metadata": {
      "needs_background": "light"
     },
     "output_type": "display_data"
    }
   ],
   "source": [
    "# 导入需要使用的软件包\n",
    "import numpy as np\n",
    "import matplotlib\n",
    "import matplotlib.pyplot as plt\n",
    "from sklearn.linear_model import LogisticRegression\n",
    "from sklearn.model_selection import train_test_split\n",
    "from sklearn.datasets import make_classification\n",
    "# 设置直接在页面上显示图表\n",
    "%matplotlib inline\n",
    "\n",
    "# 生成数据\n",
    "X, y = make_classification(n_samples=100, n_features=2,\n",
    "                           n_redundant=0, random_state=42)\n",
    "train_X, test_X, train_y, test_y = train_test_split(X, y, random_state=42)\n",
    "\n",
    "# 请在此处输入答案\n",
    "# 请构建模型\n",
    "model = LogisticRegression()\n",
    "\n",
    "# 请使用 train_X 和 train_y 对模型进行训练\n",
    "model.fit(train_X, train_y)\n",
    "\n",
    "# 请输出模型对 test_X 进行分类预测的结果\n",
    "pred_y = model.predict(test_X)\n",
    "# 添加的代码到此处为止\n",
    "# 对生成的数据进行绘制\n",
    "plt.scatter(X[:, 0], X[:, 1], c=y, marker=\".\",\n",
    "            cmap=matplotlib.cm.get_cmap(name=\"bwr\"), alpha=0.7)\n",
    "\n",
    "# 对经过学习并导出的分界线进行绘制\n",
    "Xi = np.linspace(-10, 10)\n",
    "Y = -model.coef_[0][0] / model.coef_[0][1] * \\\n",
    "    Xi - model.intercept_ / model.coef_[0][1]\n",
    "plt.plot(Xi, Y)\n",
    "\n",
    "# 调整图表的缩放尺度\n",
    "plt.xlim(min(X[:, 0]) - 0.5, max(X[:, 0]) + 0.5)\n",
    "plt.ylim(min(X[:, 1]) - 0.5, max(X[:, 1]) + 0.5)\n",
    "plt.axes().set_aspect(\"equal\", \"datalim\")\n",
    "# 设置图表的标题\n",
    "plt.title(\"classification data using LogisticRegression\")\n",
    "# 分别为 x 轴和 y 轴设置名称\n",
    "plt.xlabel(\"x-axis\")\n",
    "plt.ylabel(\"y-axis\")\n",
    "plt.show()"
   ]
  },
  {
   "cell_type": "markdown",
   "metadata": {},
   "source": [
    "**程序清单 16.10：参考答案**"
   ]
  },
  {
   "cell_type": "markdown",
   "metadata": {
    "courseId": 5020,
    "exerciseId": "HJ55hLoIeM",
    "id": "code_session_name",
    "important": true,
    "isDL": false,
    "timeoutSecs": 5
   },
   "source": [
    "### ○16.2.2 线性 SVM"
   ]
  },
  {
   "cell_type": "code",
   "execution_count": 14,
   "metadata": {},
   "outputs": [
    {
     "data": {
      "text/plain": [
       "1.0"
      ]
     },
     "execution_count": 14,
     "metadata": {},
     "output_type": "execute_result"
    }
   ],
   "source": [
    "from sklearn.svm import LinearSVC\n",
    "from sklearn.datasets import make_classification\n",
    "from sklearn.model_selection import train_test_split\n",
    "\n",
    "# 生成数据\n",
    "X, y = make_classification(n_samples=100, n_features=2,\n",
    "                           n_redundant=0, random_state=42)\n",
    "\n",
    "# 将数据划分为监督数据和需要预测的数据\n",
    "train_X, test_X, train_y, test_y = train_test_split(X, y, random_state=42)\n",
    "\n",
    "# 构建模型\n",
    "model = LinearSVC()\n",
    "# 对模型进行训练\n",
    "model.fit(train_X, train_y)\n",
    "\n",
    "# 输出准确率\n",
    "model.score(test_X, test_y)"
   ]
  },
  {
   "cell_type": "markdown",
   "metadata": {},
   "source": [
    "**程序清单 16.11：线性 SVM 的示例①**"
   ]
  },
  {
   "cell_type": "code",
   "execution_count": 12,
   "metadata": {
    "scrolled": true
   },
   "outputs": [
    {
     "name": "stderr",
     "output_type": "stream",
     "text": [
      "C:\\Users\\miyakoshi\\Anaconda3\\envs\\aidemy\\lib\\site-packages\\matplotlib\\cbook\\deprecation.py:107: MatplotlibDeprecationWarning: Adding an axes using the same arguments as a previous axes currently reuses the earlier instance.  In a future version, a new instance will always be created and returned.  Meanwhile, this warning can be suppressed, and the future behavior ensured, by passing a unique label to each axes instance.\n",
      "  warnings.warn(message, mplDeprecation, stacklevel=1)\n"
     ]
    },
    {
     "data": {
      "image/png": "[encoded data removed]",
      "text/plain": [
       "<Figure size 432x288 with 1 Axes>"
      ]
     },
     "metadata": {
      "needs_background": "light"
     },
     "output_type": "display_data"
    }
   ],
   "source": [
    "import matplotlib\n",
    "import matplotlib.pyplot as plt\n",
    "import numpy as np\n",
    "%matplotlib inline\n",
    "\n",
    "# 对生成的数据进行绘制\n",
    "plt.scatter(X[:, 0], X[:, 1], c=y, marker=\".\",\n",
    "            cmap=matplotlib.cm.get_cmap(name=\"bwr\"), alpha=0.7)\n",
    "# 将经过训练并被导出的分界线进行绘制\n",
    "Xi = np.linspace(-10, 10)\n",
    "Y = -model.coef_[0][0] / model.coef_[0][1] * \\\n",
    "    Xi - model.intercept_ / model.coef_[0][1]\n",
    "# 绘制图表\n",
    "plt.plot(Xi, Y)\n",
    "# 调整图表的缩放尺度\n",
    "plt.xlim(min(X[:, 0]) - 0.5, max(X[:, 0]) + 0.5)\n",
    "plt.ylim(min(X[:, 1]) - 0.5, max(X[:, 1]) + 0.5)\n",
    "plt.axes().set_aspect(\"equal\", \"datalim\")\n",
    "# 设置图表的标题\n",
    "plt.title(\"classification data using LinearSVC\")\n",
    "# 分别为 x 轴和 y 轴设置名称\n",
    "plt.xlabel(\"x-axis\")\n",
    "plt.ylabel(\"y-axis\")\n",
    "plt.show()"
   ]
  },
  {
   "cell_type": "markdown",
   "metadata": {},
   "source": [
    "**程序清单 16.12　线性 SVM 的示例②**"
   ]
  },
  {
   "cell_type": "markdown",
   "metadata": {},
   "source": [
    "#### □习题"
   ]
  },
  {
   "cell_type": "code",
   "execution_count": null,
   "metadata": {},
   "outputs": [],
   "source": [
    "# 导入需要使用的软件包\n",
    "import numpy as np\n",
    "import matplotlib\n",
    "import matplotlib.pyplot as plt\n",
    "from sklearn.svm import LinearSVC\n",
    "from sklearn.model_selection import train_test_split\n",
    "from sklearn.datasets import make_classification\n",
    "%matplotlib inline\n",
    "\n",
    "# 生成数据\n",
    "X, y = make_classification(n_samples=100, n_features=2,\n",
    "                           n_redundant=0, random_state=42)\n",
    "train_X, test_X, train_y, test_y = train_test_split(X, y, random_state=42)\n",
    "\n",
    "# 请在此处输入答案\n",
    "# 请构建模型\n",
    "\n",
    "\n",
    "# 请使用 train_X 和 train_y 对模型进行训练\n",
    "\n",
    "\n",
    "# 请使用 test_X 和 test_y 对模型的准确率进行输出\n",
    "\n",
    "\n",
    "# 添加的代码到此处为止\n",
    "# 对生成的数据进行绘制\n",
    "plt.scatter(X[:, 0], X[:, 1], c=y, marker=\".\",\n",
    "            cmap=matplotlib.cm.get_cmap(name=\"bwr\"), alpha=0.7)\n",
    "\n",
    "# 对经过学习并导出的分界线进行绘制\n",
    "Xi = np.linspace(-10, 10)\n",
    "Y = -model.coef_[0][0] / model.coef_[0][1] * Xi - model.intercept_ / model.coef_[0][1]\n",
    "plt.plot(Xi, Y)\n",
    "\n",
    "# 调整图表的缩放尺度\n",
    "plt.xlim(min(X[:, 0]) - 0.5, max(X[:, 0]) + 0.5)\n",
    "plt.ylim(min(X[:, 1]) - 0.5, max(X[:, 1]) + 0.5)\n",
    "plt.axes().set_aspect(\"equal\", \"datalim\")\n",
    "# 设置图表的标题\n",
    "plt.title(\"classification data using LinearSVC\")\n",
    "# 分别为 x 轴和 y 轴设置名称\n",
    "plt.xlabel(\"x-axis\")\n",
    "plt.ylabel(\"y-axis\")\n",
    "plt.show()"
   ]
  },
  {
   "cell_type": "markdown",
   "metadata": {},
   "source": [
    "**程序清单 16.13：习题**"
   ]
  },
  {
   "cell_type": "markdown",
   "metadata": {},
   "source": [
    "#### □参考答案"
   ]
  },
  {
   "cell_type": "code",
   "execution_count": 15,
   "metadata": {
    "id": "answer"
   },
   "outputs": [
    {
     "name": "stdout",
     "output_type": "stream",
     "text": [
      "1.0\n"
     ]
    },
    {
     "name": "stderr",
     "output_type": "stream",
     "text": [
      "C:\\Users\\miyakoshi\\Anaconda3\\envs\\aidemytest\\lib\\site-packages\\matplotlib\\cbook\\deprecation.py:107: MatplotlibDeprecationWarning: Adding an axes using the same arguments as a previous axes currently reuses the earlier instance.  In a future version, a new instance will always be created and returned.  Meanwhile, this warning can be suppressed, and the future behavior ensured, by passing a unique label to each axes instance.\n",
      "  warnings.warn(message, mplDeprecation, stacklevel=1)\n"
     ]
    },
    {
     "data": {
      "image/png": "[encoded data removed]",
      "text/plain": [
       "<Figure size 432x288 with 1 Axes>"
      ]
     },
     "metadata": {
      "needs_background": "light"
     },
     "output_type": "display_data"
    }
   ],
   "source": [
    "# 导入需要使用的软件包\n",
    "import numpy as np\n",
    "import matplotlib\n",
    "import matplotlib.pyplot as plt\n",
    "from sklearn.svm import LinearSVC\n",
    "from sklearn.model_selection import train_test_split\n",
    "from sklearn.datasets import make_classification\n",
    "%matplotlib inline\n",
    "\n",
    "# 生成数据\n",
    "X, y = make_classification(n_samples=100, n_features=2,\n",
    "                           n_redundant=0, random_state=42)\n",
    "train_X, test_X, train_y, test_y = train_test_split(X, y, random_state=42)\n",
    "\n",
    "# 请在此处输入答案\n",
    "# 请构建模型\n",
    "model = LinearSVC()\n",
    "\n",
    "# 请使用 train_X 和 train_y 对模型进行训练\n",
    "model.fit(train_X, train_y)\n",
    "\n",
    "# 请使用 test_X 和 test_y 对模型的准确率进行输出\n",
    "print(model.score(test_X, test_y))\n",
    "\n",
    "# 添加的代码到此处为止\n",
    "# 对生成的数据进行绘制\n",
    "plt.scatter(X[:, 0], X[:, 1], c=y, marker=\".\",\n",
    "            cmap=matplotlib.cm.get_cmap(name=\"bwr\"), alpha=0.7)\n",
    "\n",
    "# 对经过学习并导出的分界线进行绘制\n",
    "Xi = np.linspace(-10, 10)\n",
    "Y = -model.coef_[0][0] / model.coef_[0][1] * Xi - model.intercept_ / model.coef_[0][1]\n",
    "plt.plot(Xi, Y)\n",
    "\n",
    "# 调整图表的缩放尺度\n",
    "plt.xlim(min(X[:, 0]) - 0.5, max(X[:, 0]) + 0.5)\n",
    "plt.ylim(min(X[:, 1]) - 0.5, max(X[:, 1]) + 0.5)\n",
    "plt.axes().set_aspect(\"equal\", \"datalim\")\n",
    "# 设置图表的标题\n",
    "plt.title(\"classification data using LinearSVC\")\n",
    "# 分别为 x 轴和 y 轴设置名称\n",
    "plt.xlabel(\"x-axis\")\n",
    "plt.ylabel(\"y-axis\")\n",
    "plt.show()"
   ]
  },
  {
   "cell_type": "markdown",
   "metadata": {},
   "source": [
    "**程序清单 16.14：参考答案**"
   ]
  },
  {
   "cell_type": "markdown",
   "metadata": {
    "courseId": 5020,
    "exerciseId": "SJj9n8oLgz",
    "id": "code_session_name",
    "important": true,
    "isDL": false,
    "timeoutSecs": 5
   },
   "source": [
    "### ○16.2.3 非线性 SVM"
   ]
  },
  {
   "cell_type": "markdown",
   "metadata": {},
   "source": [
    "**实现**"
   ]
  },
  {
   "cell_type": "code",
   "execution_count": 16,
   "metadata": {},
   "outputs": [
    {
     "name": "stdout",
     "output_type": "stream",
     "text": [
      "0.991\n"
     ]
    }
   ],
   "source": [
    "import matplotlib\n",
    "from sklearn.svm import SVC\n",
    "from sklearn.datasets import make_gaussian_quantiles\n",
    "import matplotlib.pyplot as plt\n",
    "%matplotlib inline\n",
    "\n",
    "# 生成数据\n",
    "# 由于这里的数据是线性不可分的，因此准备了其他数据\n",
    "data, label = make_gaussian_quantiles(n_samples=1000, n_classes=2, n_features=2, random_state=42)\n",
    "\n",
    "# 构建模型\n",
    "# 线性不可分的数据的分类不是使用 LinearSVC 而是使用 SVC\n",
    "model = SVC()\n",
    "# 对模型进行训练\n",
    "model.fit(data,label)\n",
    "\n",
    "# 计算准确率\n",
    "print(model.score(data,label))"
   ]
  },
  {
   "cell_type": "markdown",
   "metadata": {},
   "source": [
    "**程序清单 16.15：非线性 SVM的示例**"
   ]
  },
  {
   "cell_type": "markdown",
   "metadata": {},
   "source": [
    "#### □习题"
   ]
  },
  {
   "cell_type": "code",
   "execution_count": null,
   "metadata": {
    "collapsed": true,
    "id": "index"
   },
   "outputs": [],
   "source": [
    "from sklearn.svm import LinearSVC\n",
    "from sklearn.svm import SVC\n",
    "from sklearn.model_selection import train_test_split\n",
    "from sklearn.datasets import make_gaussian_quantiles\n",
    "\n",
    "# 生成数据\n",
    "X, y = make_gaussian_quantiles(\n",
    "    n_samples=1000, n_classes=2, n_features=2, random_state=42)\n",
    "train_X, test_X, train_y, test_y = train_test_split(X, y, random_state=42)\n",
    "\n",
    "# 请在此处输入答案\n",
    "# 请构建模型\n",
    "\n",
    "\n",
    "# 请使用 train_X 和 train_y 对模型进行训练\n",
    "\n",
    "\n",
    "# 添加的代码到此处为止\n",
    "# 计算准确率\n",
    "print(\"非线性 SVM: {}\".format(model1.score(test_X, test_y)))\n",
    "print(\"线性 SVM: {}\".format(model2.score(test_X, test_y)))"
   ]
  },
  {
   "cell_type": "markdown",
   "metadata": {},
   "source": [
    "**程序清单 16.16：习题**"
   ]
  },
  {
   "cell_type": "markdown",
   "metadata": {},
   "source": [
    "#### 参考答案"
   ]
  },
  {
   "cell_type": "code",
   "execution_count": 17,
   "metadata": {
    "id": "answer"
   },
   "outputs": [
    {
     "name": "stdout",
     "output_type": "stream",
     "text": [
      "非线性 SVM: 0.976\n",
      "线性 SVM: 0.528\n"
     ]
    }
   ],
   "source": [
    "from sklearn.svm import LinearSVC\n",
    "from sklearn.svm import SVC\n",
    "from sklearn.model_selection import train_test_split\n",
    "from sklearn.datasets import make_gaussian_quantiles\n",
    "\n",
    "# 生成数据\n",
    "X, y = make_gaussian_quantiles(\n",
    "    n_samples=1000, n_classes=2, n_features=2, random_state=42)\n",
    "train_X, test_X, train_y, test_y = train_test_split(X, y, random_state=42)\n",
    "\n",
    "# 请在此处输入答案\n",
    "# 请构建模型\n",
    "model1 = SVC()\n",
    "model2 = LinearSVC()\n",
    "\n",
    "# 请使用 train_X 和 train_y 对模型进行训练\n",
    "model1.fit(train_X, train_y)\n",
    "model2.fit(train_X, train_y)\n",
    "# 添加的代码到此处为止\n",
    "# 计算准确率\n",
    "print(\"非线性 SVM: {}\".format(model1.score(test_X, test_y)))\n",
    "print(\"线性 SVM: {}\".format(model2.score(test_X, test_y)))"
   ]
  },
  {
   "cell_type": "markdown",
   "metadata": {},
   "source": [
    "**程序清单 16.17：参考答案**"
   ]
  },
  {
   "cell_type": "markdown",
   "metadata": {
    "courseId": 5020,
    "exerciseId": "Skh92UiUlz",
    "id": "code_session_name",
    "important": true,
    "isDL": false,
    "timeoutSecs": 5
   },
   "source": [
    "### ○16.2.4 决策树"
   ]
  },
  {
   "cell_type": "markdown",
   "metadata": {},
   "source": [
    "**实现**"
   ]
  },
  {
   "cell_type": "code",
   "execution_count": 18,
   "metadata": {},
   "outputs": [
    {
     "name": "stdout",
     "output_type": "stream",
     "text": [
      "0.96\n"
     ]
    }
   ],
   "source": [
    "from sklearn.datasets import make_classification\n",
    "from sklearn.model_selection import train_test_split\n",
    "\n",
    "X, y = make_classification(n_samples=100, n_features=2, n_redundant=0, random_state=42)\n",
    "\n",
    "# 将数据划分为学习数据和测试数据\n",
    "train_X, test_X, train_y, test_y = train_test_split(X, y, random_state=42)\n",
    "\n",
    "# 读取模型\n",
    "from sklearn.tree import DecisionTreeClassifier\n",
    "\n",
    "# 构建模型\n",
    "model = DecisionTreeClassifier()\n",
    "# 对模型进行训练\n",
    "model.fit(train_X, train_y)\n",
    "\n",
    "# 计算准确率\n",
    "print(model.score(test_X, test_y))"
   ]
  },
  {
   "cell_type": "markdown",
   "metadata": {},
   "source": [
    "**程序清单 16.18：决策树示例**"
   ]
  },
  {
   "cell_type": "markdown",
   "metadata": {},
   "source": [
    "#### □习题"
   ]
  },
  {
   "cell_type": "code",
   "execution_count": null,
   "metadata": {
    "collapsed": true,
    "id": "index"
   },
   "outputs": [],
   "source": [
    "# 获取蘑菇的数据\n",
    "# 导入需要使用的软件包\n",
    "import requests\n",
    "import zipfile\n",
    "from io import StringIO\n",
    "import io\n",
    "import pandas as pd\n",
    "# 导入对数据进行预处理时需要使用的软件包\n",
    "from sklearn.model_selection import train_test_split\n",
    "from sklearn import preprocessing\n",
    "\n",
    "# 指定 url\n",
    "mush_data_url = \"http://archive.ics.uci.edu/ml/machine-learning-databases/mushroom/agaricus-lepiota.data\"\n",
    "s = requests.get(mush_data_url).content\n",
    "\n",
    "# 转换数据的格式\n",
    "mush_data = pd.read_csv(io.StringIO(s.decode(\"utf-8\")), header=None)\n",
    "\n",
    "# 为数据设置名称 ( 为了使数据便于处理 )\n",
    "mush_data.columns = [\"classes\", \"cap_shape\", \"cap_surface\", \n",
    "                     \"cap_color\", \"odor\", \"bruises\",\n",
    "                     \"gill_attachment\", \"gill_spacing\", \n",
    "                     \"gill_size\", \"gill_color\", \"stalk_shape\",\n",
    "                     \"stalk_root\", \"stalk_surface_above_ring\", \n",
    "                     \"stalk_surface_below_ring\",\n",
    "                     \"stalk_color_above_ring\", \n",
    "                     \"stalk_color_below_ring\", \n",
    "                     \"veil_type\", \"veil_color\",\"ring_number\", \n",
    "                     \"ring_type\", \"spore_print_color\", \n",
    "                     \"population\", \"habitat\"]\n",
    "# 将类目变量（颜色的种类等无法用数字的大小衡量的信息）转换为哑变量（yes或 no）\n",
    "mush_data_dummy = pd.get_dummies(\n",
    "    mush_data[[\"gill_color\", \"gill_attachment\", \"odor\", \"cap_color\"]])\n",
    "# 设置目标变量 flg\n",
    "mush_data_dummy[\"flg\"] = mush_data[\"classes\"].map(\n",
    "    lambda x: 1 if x == \"p\" else 0)\n",
    "\n",
    "# 设置解释变量和目标变量\n",
    "X = mush_data_dummy.drop(\"flg\", axis=1)\n",
    "Y = mush_data_dummy[\"flg\"]\n",
    "\n",
    "# 将数据划分为学习数据和测试数据\n",
    "train_X, test_X, train_y, test_y = train_test_split(X,Y, random_state=42)\n",
    "\n",
    "# 请在此处输入答案\n",
    "# 请读取模型\n",
    "\n",
    "\n",
    "\n",
    "# 请构建模型\n",
    "\n",
    "\n",
    "\n",
    "# 请对模型进行训练\n",
    "\n",
    "\n",
    "\n",
    "# 添加的代码到此处为止\n",
    "\n",
    "# 计算准确率\n",
    "print(model.score(test_X, test_y))"
   ]
  },
  {
   "cell_type": "markdown",
   "metadata": {},
   "source": [
    "**程序清单 16.19：习题** import"
   ]
  },
  {
   "cell_type": "markdown",
   "metadata": {},
   "source": [
    "#### □参考答案"
   ]
  },
  {
   "cell_type": "code",
   "execution_count": 21,
   "metadata": {
    "id": "answer"
   },
   "outputs": [
    {
     "name": "stdout",
     "output_type": "stream",
     "text": [
      "0.9094042343673068\n"
     ]
    }
   ],
   "source": [
    "# 获取蘑菇的数据\n",
    "# 导入需要使用的软件包\n",
    "import requests\n",
    "import zipfile\n",
    "from io import StringIO\n",
    "import io\n",
    "import pandas as pd\n",
    "# 导入对数据进行预处理时需要使用的软件包\n",
    "from sklearn.model_selection import train_test_split\n",
    "from sklearn import preprocessing\n",
    "\n",
    "# 指定 url\n",
    "mush_data_url = \"http://archive.ics.uci.edu/ml/machine-learning-databases/mushroom/agaricus-lepiota.data\"\n",
    "s = requests.get(mush_data_url).content\n",
    "\n",
    "# 转换数据的格式\n",
    "mush_data = pd.read_csv(io.StringIO(s.decode(\"utf-8\")), header=None)\n",
    "\n",
    "# 为数据设置名称 ( 为了使数据便于处理 )\n",
    "mush_data.columns = [\"classes\", \"cap_shape\", \"cap_surface\", \n",
    "                     \"cap_color\", \"odor\", \"bruises\",\n",
    "                     \"gill_attachment\", \"gill_spacing\", \n",
    "                     \"gill_size\", \"gill_color\", \"stalk_shape\",\n",
    "                     \"stalk_root\", \"stalk_surface_above_ring\", \n",
    "                     \"stalk_surface_below_ring\",\n",
    "                     \"stalk_color_above_ring\",\n",
    "                     \"stalk_color_below_ring\",\n",
    "                     \"veil_type\", \"veil_color\",\"ring_number\", \n",
    "                     \"ring_type\", \"spore_print_color\", \n",
    "                     \"population\", \"habitat\"]\n",
    "# 将类目变量（颜色的种类等无法用数字的大小衡量的信息）转换为哑变量（yes或 no）\n",
    "mush_data_dummy = pd.get_dummies(\n",
    "    mush_data[[\"gill_color\", \"gill_attachment\", \"odor\", \"cap_color\"]])\n",
    "# 设置目标变量 flg\n",
    "mush_data_dummy[\"flg\"] = mush_data[\"classes\"].map(\n",
    "    lambda x: 1 if x == \"p\" else 0)\n",
    "\n",
    "# 设置解释变量和目标变量\n",
    "X = mush_data_dummy.drop(\"flg\", axis=1)\n",
    "Y = mush_data_dummy[\"flg\"]\n",
    "\n",
    "# 将数据划分为学习数据和测试数据\n",
    "train_X, test_X, train_y, test_y = train_test_split(X,Y, random_state=42)\n",
    "\n",
    "# 请在此处输入答案\n",
    "# 请读取模型\n",
    "from sklearn.tree import DecisionTreeClassifier\n",
    "\n",
    "# 请构建模型\n",
    "model = DecisionTreeClassifier()\n",
    "# 请对模型进行训练\n",
    "model.fit(train_X, train_y)\n",
    "\n",
    "# 添加的代码到此处为止\n",
    "\n",
    "# 计算准确率\n",
    "print(model.score(test_X, test_y))"
   ]
  },
  {
   "cell_type": "markdown",
   "metadata": {},
   "source": [
    "**程序清单 16.20：参考答案**"
   ]
  },
  {
   "cell_type": "markdown",
   "metadata": {
    "courseId": 5020,
    "exerciseId": "SJp92LoUef",
    "id": "code_session_name",
    "important": true,
    "isDL": false,
    "timeoutSecs": 5
   },
   "source": [
    "### ○16.2.5 随机森林"
   ]
  },
  {
   "cell_type": "markdown",
   "metadata": {},
   "source": [
    "**实现**"
   ]
  },
  {
   "cell_type": "code",
   "execution_count": 22,
   "metadata": {},
   "outputs": [
    {
     "data": {
      "text/plain": [
       "0.96"
      ]
     },
     "execution_count": 22,
     "metadata": {},
     "output_type": "execute_result"
    }
   ],
   "source": [
    "from sklearn.datasets import make_classification\n",
    "from sklearn.model_selection import train_test_split\n",
    "\n",
    "X, y = make_classification(n_samples=100, n_features=2, n_redundant=0, random_state=42)\n",
    "\n",
    "# 将数据划分为学习数据和测试数据\n",
    "train_X, test_X, train_y, test_y = train_test_split(X, y, random_state=42)\n",
    "\n",
    "# 读取模型\n",
    "from sklearn.ensemble import RandomForestClassifier\n",
    "\n",
    "# 构建模型\n",
    "model = RandomForestClassifier()\n",
    "# 对模型进行训练\n",
    "model.fit(train_X, train_y)\n",
    "\n",
    "# 计算准确率\n",
    "model.score(test_X, test_y)"
   ]
  },
  {
   "cell_type": "markdown",
   "metadata": {},
   "source": [
    "**程序清单 16.21：随机森林示例**"
   ]
  },
  {
   "cell_type": "markdown",
   "metadata": {},
   "source": [
    "#### □习题"
   ]
  },
  {
   "cell_type": "code",
   "execution_count": null,
   "metadata": {
    "collapsed": true,
    "id": "index"
   },
   "outputs": [],
   "source": [
    "# 获取蘑菇的数据\n",
    "# 导入需要使用的软件包\n",
    "import requests\n",
    "import zipfile\n",
    "from io import StringIO\n",
    "import io\n",
    "import pandas as pd\n",
    "# 导入对数据进行预处理时需要使用的软件包\n",
    "from sklearn.model_selection import train_test_split\n",
    "from sklearn import preprocessing\n",
    "\n",
    "# 指定 url\n",
    "mush_data_url = \"http://archive.ics.uci.edu/ml/machine-learning-databases/mushroom/agaricus-lepiota.data\"\n",
    "s = requests.get(mush_data_url).content\n",
    "\n",
    "# 转换数据的格式\n",
    "mush_data = pd.read_csv(io.StringIO(s.decode(\"utf-8\")), header=None)\n",
    "\n",
    "# 为数据设置名称 ( 为了使数据便于处理 )\n",
    "mush_data.columns = [\"classes\", \"cap_shape\", \"cap_surface\", \"cap_color\", \"odor\", \"bruises\",\n",
    "                     \"gill_attachment\", \"gill_spacing\", \"gill_size\", \"gill_color\", \"stalk_shape\",\n",
    "                     \"stalk_root\", \"stalk_surface_above_ring\", \"stalk_surface_below_ring\",\n",
    "                     \"stalk_color_above_ring\", \"stalk_color_below_ring\", \"veil_type\", \"veil_color\",\n",
    "                     \"ring_number\", \"ring_type\", \"spore_print_color\", \"population\", \"habitat\"]\n",
    "\n",
    "# 将类目变量（颜色的种类等无法用数字的大小衡量的信息）转换为哑变量（yes或 no）\n",
    "mush_data_dummy = pd.get_dummies(\n",
    "    mush_data[[\"gill_color\", \"gill_attachment\", \"odor\", \"cap_color\"]])\n",
    "# 设置目标变量 flg\n",
    "mush_data_dummy[\"flg\"] = mush_data[\"classes\"].map(\n",
    "    lambda x: 1 if x == \"p\" else 0)\n",
    "\n",
    "# 设置解释变量和目标变量\n",
    "X = mush_data_dummy.drop(\"flg\", axis=1)\n",
    "Y = mush_data_dummy[\"flg\"]\n",
    "\n",
    "# 将数据划分为学习数据和测试数据\n",
    "train_X, test_X, train_y, test_y = train_test_split(X,Y, random_state=42)\n",
    "\n",
    "# 请在此处输入答案\n",
    "# 请读取模型\n",
    "\n",
    "\n",
    "# 请构建模型\n",
    "\n",
    "\n",
    "# 请对模型进行训练\n",
    "\n",
    "\n",
    "# 请计算准确率\n",
    "\n"
   ]
  },
  {
   "cell_type": "markdown",
   "metadata": {},
   "source": [
    "**程序清单 16.22：习题**"
   ]
  },
  {
   "cell_type": "markdown",
   "metadata": {},
   "source": [
    "#### □参考答案"
   ]
  },
  {
   "cell_type": "code",
   "execution_count": 23,
   "metadata": {
    "id": "answer"
   },
   "outputs": [
    {
     "name": "stdout",
     "output_type": "stream",
     "text": [
      "0.9094042343673068\n",
      "0.9094042343673068\n"
     ]
    }
   ],
   "source": [
    "# 获取蘑菇的数据\n",
    "# 导入需要使用的软件包\n",
    "import requests\n",
    "import zipfile\n",
    "from io import StringIO\n",
    "import io\n",
    "import pandas as pd\n",
    "# 导入对数据进行预处理时需要使用的软件包\n",
    "from sklearn.model_selection import train_test_split\n",
    "from sklearn import preprocessing\n",
    "\n",
    "# 指定 url\n",
    "mush_data_url = \"http://archive.ics.uci.edu/ml/machine-learning-databases/mushroom/agaricus-lepiota.data\"\n",
    "s = requests.get(mush_data_url).content\n",
    "\n",
    "# 转换数据的格式\n",
    "mush_data = pd.read_csv(io.StringIO(s.decode(\"utf-8\")), header=None)\n",
    "\n",
    "#  n",
    "mush_data.columns = [\"classes\", \"cap_shape\", \"cap_surface\", \"cap_color\", \"odor\", \"bruises\",\n",
    "                     \"gill_attachment\", \"gill_spacing\", \"gill_size\", \"gill_color\", \"stalk_shape\",\n",
    "                     \"stalk_root\", \"stalk_surface_above_ring\", \"stalk_surface_below_ring\",\n",
    "                     \"stalk_color_above_ring\", \"stalk_color_below_ring\", \"veil_type\", \"veil_color\",\n",
    "                     \"ring_number\", \"ring_type\", \"spore_print_color\", \"population\", \"habitat\"]\n",
    "\n",
    "# 将类目变量（颜色的种类等无法用数字的大小衡量的信息）转换为哑变量（yes或 no）\n",
    "mush_data_dummy = pd.get_dummies(\n",
    "    mush_data[[\"gill_color\", \"gill_attachment\", \"odor\", \"cap_color\"]])\n",
    "# 设置目标变量 flg\n",
    "mush_data_dummy[\"flg\"] = mush_data[\"classes\"].map(\n",
    "    lambda x: 1 if x == \"p\" else 0)\n",
    "\n",
    "# 设置解释变量和目标变量\n",
    "X = mush_data_dummy.drop(\"flg\", axis=1)\n",
    "Y = mush_data_dummy[\"flg\"]\n",
    "\n",
    "# 将数据划分为学习数据和测试数据\n",
    "train_X, test_X, train_y, test_y = train_test_split(X,Y, random_state=42)\n",
    "\n",
    "# 请在此处输入答案\n",
    "# 请读取模型\n",
    "from sklearn.ensemble import RandomForestClassifier\n",
    "from sklearn.tree import DecisionTreeClassifier\n",
    "\n",
    "# 请构建模型\n",
    "model1 = RandomForestClassifier()\n",
    "model2 = DecisionTreeClassifier()\n",
    "\n",
    "# 请对模型进行训练\n",
    "model1.fit(train_X, train_y)\n",
    "model2.fit(train_X, train_y)\n",
    "\n",
    "# 请计算准确率\n",
    "print(model1.score(test_X, test_y))\n",
    "print(model2.score(test_X, test_y))"
   ]
  },
  {
   "cell_type": "markdown",
   "metadata": {},
   "source": [
    "**程序清单 16.23：参考答案**"
   ]
  },
  {
   "cell_type": "markdown",
   "metadata": {
    "courseId": 5020,
    "exerciseId": "rk0cnIo8ef",
    "id": "code_session_name",
    "important": true,
    "isDL": false,
    "timeoutSecs": 20
   },
   "source": [
    "### ○16.2.6 k-NN"
   ]
  },
  {
   "cell_type": "code",
   "execution_count": 25,
   "metadata": {},
   "outputs": [
    {
     "data": {
      "text/plain": [
       "1.0"
      ]
     },
     "execution_count": 25,
     "metadata": {},
     "output_type": "execute_result"
    }
   ],
   "source": [
    "from sklearn.datasets import make_classification\n",
    "from sklearn.model_selection import train_test_split\n",
    "\n",
    "X, y = make_classification(n_samples=100, n_features=2, n_redundant=0, random_state=42)\n",
    "\n",
    "# 将数据划分为学习数据和测试数据\n",
    "train_X, test_X, train_y, test_y = train_test_split(X, y, random_state=42)\n",
    "\n",
    "# 读取模型\n",
    "from sklearn.neighbors import KNeighborsClassifier\n",
    "\n",
    "# 构建模型\n",
    "model = KNeighborsClassifier()\n",
    "# 训练模型\n",
    "model.fit(train_X, train_y)\n",
    "\n",
    "# 计算准确率\n",
    "model.score(test_X, test_y)"
   ]
  },
  {
   "cell_type": "markdown",
   "metadata": {},
   "source": [
    "**程序清单 16.24：k-NN 的示例**　# 训练模型"
   ]
  },
  {
   "cell_type": "markdown",
   "metadata": {},
   "source": [
    "#### □习题"
   ]
  },
  {
   "cell_type": "code",
   "execution_count": null,
   "metadata": {
    "collapsed": true,
    "id": "index"
   },
   "outputs": [],
   "source": [
    "# 获取蘑菇的数据\n",
    "# 导入需要使用的软件包\n",
    "import requests\n",
    "import zipfile\n",
    "from io import StringIO\n",
    "import io\n",
    "import pandas as pd\n",
    "from sklearn.model_selection import train_test_split\n",
    "from sklearn import preprocessing\n",
    "\n",
    "# 指定 url\n",
    "mush_data_url = \"http://archive.ics.uci.edu/ml/machine-learning-databases/mushroom/agaricus-lepiota.data\"\n",
    "s = requests.get(mush_data_url).content\n",
    "\n",
    "# 转换数据的格式\n",
    "mush_data = pd.read_csv(io.StringIO(s.decode(\"utf-8\")), header=None)\n",
    "\n",
    "# 为数据设置名称 ( 为了使数据便于处理 )\n",
    "mush_data.columns = [\"classes\", \"cap_shape\", \"cap_surface\", \"cap_color\", \"odor\", \"bruises\",\n",
    "                     \"gill_attachment\", \"gill_spacing\", \"gill_size\", \"gill_color\", \"stalk_shape\",\n",
    "                     \"stalk_root\", \"stalk_surface_above_ring\", \"stalk_surface_below_ring\",\n",
    "                     \"stalk_color_above_ring\", \"stalk_color_below_ring\", \"veil_type\", \"veil_color\",\n",
    "                     \"ring_number\", \"ring_type\", \"spore_print_color\", \"population\", \"habitat\"]\n",
    "\n",
    "# 将类目变量转换为哑变量\n",
    "mush_data_dummy = pd.get_dummies(\n",
    "    mush_data[[\"gill_color\", \"gill_attachment\", \"odor\", \"cap_color\"]])\n",
    "# 设置目标变量 flg\n",
    "mush_data_dummy[\"flg\"] = mush_data[\"classes\"].map(\n",
    "    lambda x: 1 if x == \"p\" else 0)\n",
    "\n",
    "# 设置解释变量和目标变量\n",
    "X = mush_data_dummy.drop(\"flg\", axis=1)\n",
    "Y = mush_data_dummy[\"flg\"]\n",
    "\n",
    "# 将数据划分为学习数据和测试数据\n",
    "train_X, test_X, train_y, test_y = train_test_split(X,Y, random_state=42)\n",
    "\n",
    "# 请在此处输入答案\n",
    "# 请读取模型\n",
    "\n",
    "\n",
    "# 请构建模型\n",
    "\n",
    "\n",
    "# 请对模型进行训练\n",
    "\n",
    "\n",
    "# 请显示准确率\n",
    "\n"
   ]
  },
  {
   "cell_type": "markdown",
   "metadata": {},
   "source": [
    "**程序清单 16.25：习题**"
   ]
  },
  {
   "cell_type": "markdown",
   "metadata": {},
   "source": [
    "#### □参考答案"
   ]
  },
  {
   "cell_type": "code",
   "execution_count": 26,
   "metadata": {
    "id": "answer"
   },
   "outputs": [
    {
     "name": "stdout",
     "output_type": "stream",
     "text": [
      "0.9039881831610044\n"
     ]
    }
   ],
   "source": [
    "# 获取蘑菇的数据\n",
    "# 导入需要使用的软件包\n",
    "import requests\n",
    "import zipfile\n",
    "from io import StringIO\n",
    "import io\n",
    "import pandas as pd\n",
    "from sklearn.model_selection import train_test_split\n",
    "from sklearn import preprocessing\n",
    "\n",
    "# 指定 url\n",
    "mush_data_url = \"http://archive.ics.uci.edu/ml/machine-learning-databases/mushroom/agaricus-lepiota.data\"\n",
    "s = requests.get(mush_data_url).content\n",
    "\n",
    "# 转换数据的格式\n",
    "mush_data = pd.read_csv(io.StringIO(s.decode(\"utf-8\")), header=None)\n",
    "\n",
    "# 为数据设置名称 ( 为了使数据便于处理 )\n",
    "mush_data.columns = [\"classes\", \"cap_shape\", \"cap_surface\", \"cap_color\", \"odor\", \"bruises\",\n",
    "                     \"gill_attachment\", \"gill_spacing\", \"gill_size\", \"gill_color\", \"stalk_shape\",\n",
    "                     \"stalk_root\", \"stalk_surface_above_ring\", \"stalk_surface_below_ring\",\n",
    "                     \"stalk_color_above_ring\", \"stalk_color_below_ring\", \"veil_type\", \"veil_color\",\n",
    "                     \"ring_number\", \"ring_type\", \"spore_print_color\", \"population\", \"habitat\"]\n",
    "\n",
    "# 将类目变量转换为哑变量\n",
    "mush_data_dummy = pd.get_dummies(\n",
    "    mush_data[[\"gill_color\", \"gill_attachment\", \"odor\", \"cap_color\"]])\n",
    "# 设置目标变量 flg\n",
    "mush_data_dummy[\"flg\"] = mush_data[\"classes\"].map(\n",
    "    lambda x: 1 if x == \"p\" else 0)\n",
    "\n",
    "# 设置解释变量和目标变量\n",
    "X = mush_data_dummy.drop(\"flg\", axis=1)\n",
    "Y = mush_data_dummy[\"flg\"]\n",
    "\n",
    "# 将数据划分为学习数据和测试数据\n",
    "train_X, test_X, train_y, test_y = train_test_split(X,Y, random_state=42)\n",
    "\n",
    "# 请在此处输入答案\n",
    "# 请读取模型\n",
    "from sklearn.neighbors import KNeighborsClassifier\n",
    "\n",
    "# 请构建模型\n",
    "model = KNeighborsClassifier()\n",
    "\n",
    "# 请对模型进行训练\n",
    "model.fit(train_X, train_y)\n",
    "\n",
    "# 请显示准确率\n",
    "print(model.score(test_X, test_y))"
   ]
  },
  {
   "cell_type": "markdown",
   "metadata": {},
   "source": [
    "**程序清单 16.26：参考答案**"
   ]
  },
  {
   "cell_type": "markdown",
   "metadata": {
    "config": [
     "leap"
    ],
    "id": "chapter_exam"
   },
   "source": [
    "## ●附加习题"
   ]
  },
  {
   "cell_type": "markdown",
   "metadata": {},
   "source": [
    "#### □习题"
   ]
  },
  {
   "cell_type": "code",
   "execution_count": null,
   "metadata": {
    "collapsed": true,
    "id": "index"
   },
   "outputs": [],
   "source": [
    "from sklearn.datasets import make_classification\n",
    "from sklearn.model_selection import train_test_split\n",
    "from sklearn.linear_model import LogisticRegression\n",
    "from sklearn.svm import LinearSVC\n",
    "from sklearn.svm import SVC\n",
    "from sklearn.tree import DecisionTreeClassifier\n",
    "from sklearn.ensemble import RandomForestClassifier\n",
    "\n",
    "# 生成数据 X、数据 y(samples=1000, features=2,random_state=42)\n",
    "X, y = make_classification()\n",
    "\n",
    "# 将数据分成 train 数据、test 数据（test_size=0.2,random_state=42）\n",
    "train_X, test_X, train_y, test_y = train_test_split()\n",
    "\n",
    "# 请构建模型\n",
    "model_list = {'逻辑回归':  ,\n",
    "                        '线性 SVM':  ,\n",
    "                        '非线性 SVM':  ,\n",
    "                        '决策树':  ,\n",
    "                        '随机森林':  }\n",
    "\n",
    "# 使用 for 语句对模型进行训练，并输出准确率\n",
    "for model_name, model in model_list.items():\n",
    "    # 对模型进行训练\n",
    "    model.fit(train_X,train_y)\n",
    "    print(model_name)\n",
    "    # 输出准确率\n",
    "    print('准确率:  '+str())\n",
    "    print()"
   ]
  },
  {
   "cell_type": "markdown",
   "metadata": {},
   "source": [
    "**程序清单 16.27：习题**"
   ]
  },
  {
   "cell_type": "markdown",
   "metadata": {},
   "source": [
    "#### □参考答案"
   ]
  },
  {
   "cell_type": "code",
   "execution_count": 27,
   "metadata": {
    "id": "answer"
   },
   "outputs": [
    {
     "name": "stdout",
     "output_type": "stream",
     "text": [
      "逻辑回归\n",
      "准确率:  0.96\n",
      "\n",
      "线性 SVM\n",
      "准确率:  0.955\n",
      "\n",
      "非线性 SVM\n",
      "准确率:  0.97\n",
      "\n",
      "决策树\n",
      "准确率:  0.95\n",
      "\n",
      "随机森林\n",
      "准确率:  0.965\n",
      "\n"
     ]
    }
   ],
   "source": [
    "from sklearn.datasets import make_classification\n",
    "from sklearn.model_selection import train_test_split\n",
    "from sklearn.linear_model import LogisticRegression\n",
    "from sklearn.svm import LinearSVC\n",
    "from sklearn.svm import SVC\n",
    "from sklearn.tree import DecisionTreeClassifier\n",
    "from sklearn.ensemble import RandomForestClassifier\n",
    "\n",
    "# 生成数据 X、数据 y(samples=1000, features=2,random_state=42)\n",
    "X, y = make_classification(n_samples=1000, n_features=2,\n",
    "                           n_redundant=0, random_state=0)\n",
    "\n",
    "# 将数据分成 train 数据、test 数据（test_size=0.2,random_state=42）\n",
    "train_X, test_X, train_y, test_y = train_test_split(\n",
    "    X, y, test_size=0.2, random_state=42)\n",
    "\n",
    "# 请构建模型\n",
    "model_list = {'逻辑回归':LogisticRegression(),\n",
    "                        '线性 SVM':LinearSVC(),\n",
    "                        '非线性 SVM':SVC(),\n",
    "                        '决策树':DecisionTreeClassifier(),\n",
    "                        '随机森林':RandomForestClassifier()}\n",
    "\n",
    "# 使用 for 语句对模型进行训练，并输出准确率\n",
    "for model_name, model in model_list.items():\n",
    "    # 对模型进行训练\n",
    "    model.fit(train_X,train_y)\n",
    "    print(model_name)\n",
    "     # 输出准确率\n",
    "    print('准确率:  '+str(model.score(test_X,test_y)))\n",
    "    print()"
   ]
  },
  {
   "cell_type": "markdown",
   "metadata": {},
   "source": [
    "**程序清单 16.28：参考答案**"
   ]
  }
 ],
 "metadata": {
  "celltoolbar": "Edit Metadata",
  "kernelspec": {
   "display_name": "Python 3",
   "language": "python",
   "name": "python3"
  },
  "language_info": {
   "codemirror_mode": {
    "name": "ipython",
    "version": 3
   },
   "file_extension": ".py",
   "mimetype": "text/x-python",
   "name": "python",
   "nbconvert_exporter": "python",
   "pygments_lexer": "ipython3",
   "version": "3.6.6"
  }
 },
 "nbformat": 4,
 "nbformat_minor": 2
}
