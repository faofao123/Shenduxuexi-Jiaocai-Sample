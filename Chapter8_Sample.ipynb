{
 "cells": [
  {
   "cell_type": "markdown",
   "metadata": {
    "chapterId": "SyMl_A7ZxWf",
    "id": "chapter_name"
   },
   "source": [
    "#  Chapter8 Pandas的基础"
   ]
  },
  {
   "cell_type": "markdown",
   "metadata": {
    "id": "table"
   },
   "source": [
    "- **8.1 Pandas的基础**\n",
    "    - **8.1.1 何谓Pandas**\n",
    "    - **8.2.2 Series 与 DataFrame 数据的确认**\n",
    "<br><br>\n",
    "- **8.2 Series**\n",
    "    - **8.2.1 创建Series**\n",
    "    - **8.2.2 数据的引用**\n",
    "    - **8.2.3 数据与索引的读取**\n",
    "    - **8.2.4 元素的添加**\n",
    "    - **8.2.5 元素的删除**\n",
    "    - **8.2.6 过滤**\n",
    "    - **8.2.7 排序**\n",
    "<br><br>\n",
    "- **8.3 DataFrame**\n",
    "    - **8.3.1 DataFrame的创建**\n",
    "    - **8.3.2 设置索引和列**\n",
    "    - **8.3.3 添加行**\n",
    "    - **8.3.4 添加列**\n",
    "    - **8.3.5 数据的引用**\n",
    "    - **8.3.6 按名称引用**\n",
    "    - **8.3.7 按编号引用**\n",
    "    - **8.3.8 行和列的删除**\n",
    "    - **8.3.9 排序**\n",
    "    - **8.3.10 过滤**\n",
    "<br><br>\n",
    "- **附加习题**"
   ]
  },
  {
   "cell_type": "markdown",
   "metadata": {
    "id": "section_name",
    "sectionId": "S1mlO0Q-gZf"
   },
   "source": [
    "## ●8.1 Pandas的基础"
   ]
  },
  {
   "cell_type": "markdown",
   "metadata": {},
   "source": [
    "### 〇8.1.1 何谓Pandas"
   ]
  },
  {
   "cell_type": "markdown",
   "metadata": {},
   "source": [
    "本节没有样本。"
   ]
  },
  {
   "cell_type": "markdown",
   "metadata": {
    "courseId": 4010,
    "exerciseId": "SkJNF3IjUef",
    "id": "code_session_name",
    "important": true,
    "isDL": false,
    "timeoutSecs": 5
   },
   "source": [
    "### 〇8.1.2 Series 与 DataFrame 数据的确认"
   ]
  },
  {
   "cell_type": "code",
   "execution_count": 1,
   "metadata": {},
   "outputs": [
    {
     "name": "stdout",
     "output_type": "stream",
     "text": [
      "banana    3\n",
      "orange    2\n",
      "dtype: int64\n"
     ]
    }
   ],
   "source": [
    "# 将 Pandas 库 import 为 pd\n",
    "import pandas as pd\n",
    "# 下面是 Series 类型的数据\n",
    "fruits = {\"orange\": 2, \"banana\": 3}\n",
    "print(pd.Series(fruits))"
   ]
  },
  {
   "cell_type": "markdown",
   "metadata": {},
   "source": [
    "**程序清单 8.1：Series 和 DataFrame 数据的示例①**"
   ]
  },
  {
   "cell_type": "code",
   "execution_count": 4,
   "metadata": {},
   "outputs": [
    {
     "name": "stdout",
     "output_type": "stream",
     "text": [
      "       fruits  time  year\n",
      "0       apple     1  2001\n",
      "1      orange     4  2002\n",
      "2      banana     5  2001\n",
      "3  strawberry     6  2008\n",
      "4   kiwifruit     3  2006\n"
     ]
    }
   ],
   "source": [
    "# 将 Pandas 库 import 为 pd\n",
    "import pandas as pd\n",
    "\n",
    "# 下面是 DataFrame 类型的数据\n",
    "data = {\"fruits\": [\"apple\", \"orange\", \"banana\", \"strawberry\", \"kiwifruit\"],\n",
    "        \"year\": [2001, 2002, 2001, 2008, 2006],\n",
    "        \"time\": [1, 4, 5, 6, 3]}\n",
    "df = pd.DataFrame(data)\n",
    "print(df)"
   ]
  },
  {
   "cell_type": "markdown",
   "metadata": {},
   "source": [
    "**程序清单 8.2：Series 和 DataFrame 数据的示例②**"
   ]
  },
  {
   "cell_type": "markdown",
   "metadata": {},
   "source": [
    "#### □习题"
   ]
  },
  {
   "cell_type": "code",
   "execution_count": null,
   "metadata": {
    "collapsed": true,
    "id": "index",
    "scrolled": true
   },
   "outputs": [],
   "source": [
    "# 将 Pandas 库 import 为 pd\n",
    "import pandas as pd\n",
    "\n",
    "# 创建 Series 数据使用的标签（索引）\n",
    "index = [\"apple\", \"orange\", \"banana\", \"strawberry\", \"kiwifruit\"]\n",
    "\n",
    "# 代入 Series 数据所使用的数值\n",
    "data = [10, 5, 8, 12, 3]\n",
    "\n",
    "# 创建 Series\n",
    "series = pd.Series(data, index=index)\n",
    "\n",
    "\n",
    "# 使用字典对象创建 DataFrame 所使用的数据\n",
    "data = {\"fruits\": [\"apple\", \"orange\", \"banana\", \"strawberry\", \"kiwifruit\"],\n",
    "        \"year\": [2001, 2002, 2001, 2008, 2006],\n",
    "        \"time\": [1, 4, 5, 6, 3]}\n",
    "\n",
    "# 创建 DataFrame\n",
    "df = pd.DataFrame(data)\n",
    "\n",
    "print(\"Series 数据\")\n",
    "print(series)\n",
    "print(\"\\n\")\n",
    "print(\"DataFrame 数据\")\n",
    "print(df)"
   ]
  },
  {
   "cell_type": "markdown",
   "metadata": {},
   "source": [
    "**程序清单 8.3：习题**"
   ]
  },
  {
   "cell_type": "markdown",
   "metadata": {},
   "source": [
    "#### □参考答案"
   ]
  },
  {
   "cell_type": "code",
   "execution_count": 5,
   "metadata": {
    "id": "answer",
    "scrolled": true
   },
   "outputs": [
    {
     "name": "stdout",
     "output_type": "stream",
     "text": [
      "Series 数据\n",
      "apple         10\n",
      "orange         5\n",
      "banana         8\n",
      "strawberry    12\n",
      "kiwifruit      3\n",
      "dtype: int64\n",
      "\n",
      "\n",
      "DataFrame 数据\n",
      "       fruits  time  year\n",
      "0       apple     1  2001\n",
      "1      orange     4  2002\n",
      "2      banana     5  2001\n",
      "3  strawberry     6  2008\n",
      "4   kiwifruit     3  2006\n"
     ]
    }
   ],
   "source": [
    "# 将 Pandas 库 import 为 pd\n",
    "import pandas as pd\n",
    "\n",
    "# 创建 Series 数据使用的标签（索引）\n",
    "index = [\"apple\", \"orange\", \"banana\", \"strawberry\", \"kiwifruit\"]\n",
    "\n",
    "# 代入 Series 数据所使用的数值\n",
    "data = [10, 5, 8, 12, 3]\n",
    "\n",
    "# 创建 Series\n",
    "series = pd.Series(data, index=index)\n",
    "\n",
    "\n",
    "# 使用字典对象创建 DataFrame 所使用的数据\n",
    "data = {\"fruits\": [\"apple\", \"orange\", \"banana\", \"strawberry\", \"kiwifruit\"],\n",
    "        \"year\": [2001, 2002, 2001, 2008, 2006],\n",
    "        \"time\": [1, 4, 5, 6, 3]}\n",
    "\n",
    "# 创建 DataFrame\n",
    "df = pd.DataFrame(data)\n",
    "\n",
    "print(\"Series 数据\")\n",
    "print(series)\n",
    "print(\"\\n\")\n",
    "print(\"DataFrame 数据\")\n",
    "print(df)"
   ]
  },
  {
   "cell_type": "markdown",
   "metadata": {},
   "source": [
    "**程序清单 8.4：参考答案**"
   ]
  },
  {
   "cell_type": "markdown",
   "metadata": {
    "id": "section_name",
    "sectionId": "SJEe_RQZg-z"
   },
   "source": [
    "## ●8.2 Series"
   ]
  },
  {
   "cell_type": "markdown",
   "metadata": {
    "courseId": 4010,
    "exerciseId": "SJgEFnIsUxM",
    "id": "code_session_name",
    "important": true,
    "isDL": false,
    "timeoutSecs": 5
   },
   "source": [
    "### 〇8.2.1 创建Series"
   ]
  },
  {
   "cell_type": "code",
   "execution_count": 6,
   "metadata": {},
   "outputs": [
    {
     "name": "stdout",
     "output_type": "stream",
     "text": [
      "banana    3\n",
      "orange    2\n",
      "dtype: int64\n"
     ]
    }
   ],
   "source": [
    "# 将 Pandas 库 import 为 pd\n",
    "import pandas as pd\n",
    "\n",
    "fruits = {\"banana\": 3, \"orange\": 2}\n",
    "print(pd.Series(fruits))"
   ]
  },
  {
   "cell_type": "markdown",
   "metadata": {},
   "source": [
    "**程序清单 8.5：创建 Series 的示例**"
   ]
  },
  {
   "cell_type": "markdown",
   "metadata": {},
   "source": [
    "#### □习题"
   ]
  },
  {
   "cell_type": "code",
   "execution_count": null,
   "metadata": {
    "collapsed": true,
    "id": "index",
    "scrolled": true
   },
   "outputs": [],
   "source": [
    "# 将 Pandas 库 import 为 pd\n",
    "\n",
    "\n",
    "index = [\"apple\", \"orange\", \"banana\", \"strawberry\", \"kiwifruit\"]\n",
    "data = [10, 5, 8, 12, 3]\n",
    "\n",
    "# 请创建包含 index 和 data 的 Series，并代入变量 series 中\n",
    "\n",
    "\n",
    "print(series)"
   ]
  },
  {
   "cell_type": "markdown",
   "metadata": {},
   "source": [
    "**程序清单 8.6：习题**"
   ]
  },
  {
   "cell_type": "markdown",
   "metadata": {},
   "source": [
    "#### □参考答案"
   ]
  },
  {
   "cell_type": "code",
   "execution_count": 7,
   "metadata": {
    "id": "answer",
    "scrolled": true
   },
   "outputs": [
    {
     "name": "stdout",
     "output_type": "stream",
     "text": [
      "apple         10\n",
      "orange         5\n",
      "banana         8\n",
      "strawberry    12\n",
      "kiwifruit      3\n",
      "dtype: int64\n"
     ]
    }
   ],
   "source": [
    "# 将 Pandas 库 import 为 pd\n",
    "import pandas as pd\n",
    "\n",
    "index = [\"apple\", \"orange\", \"banana\", \"strawberry\", \"kiwifruit\"]\n",
    "data = [10, 5, 8, 12, 3]\n",
    "\n",
    "# 请创建包含 index 和 data 的 Series，并代入变量 series 中\n",
    "series = pd.Series(data, index=index)\n",
    "\n",
    "print(series)"
   ]
  },
  {
   "cell_type": "markdown",
   "metadata": {},
   "source": [
    "**程序清单 8.7：参考答案**"
   ]
  },
  {
   "cell_type": "markdown",
   "metadata": {
    "courseId": 4010,
    "exerciseId": "SJZ4thLsUlz",
    "id": "code_session_name",
    "important": true,
    "isDL": false,
    "timeoutSecs": 5
   },
   "source": [
    "### 〇8.2.2 数据的引用"
   ]
  },
  {
   "cell_type": "code",
   "execution_count": 2,
   "metadata": {},
   "outputs": [
    {
     "name": "stdout",
     "output_type": "stream",
     "text": [
      "banana    3\n",
      "grape     1\n",
      "dtype: int64\n"
     ]
    }
   ],
   "source": [
    "import pandas as pd\n",
    "fruits = {\"banana\": 3, \"orange\": 4, \"grape\": 1, \"peach\": 5}\n",
    "series = pd.Series(fruits)\n",
    "print(series[0:2])"
   ]
  },
  {
   "cell_type": "markdown",
   "metadata": {},
   "source": [
    "**程序清单 8.8：数据引用的示例①**"
   ]
  },
  {
   "cell_type": "code",
   "execution_count": 11,
   "metadata": {},
   "outputs": [
    {
     "name": "stdout",
     "output_type": "stream",
     "text": [
      "orange    4\n",
      "peach     5\n",
      "dtype: int64\n"
     ]
    }
   ],
   "source": [
    "print(series[[\"orange\", \"peach\"]])"
   ]
  },
  {
   "cell_type": "markdown",
   "metadata": {},
   "source": [
    "**程序清单 8.9：数据引用的示例②** "
   ]
  },
  {
   "cell_type": "markdown",
   "metadata": {},
   "source": [
    "#### □习题"
   ]
  },
  {
   "cell_type": "code",
   "execution_count": null,
   "metadata": {},
   "outputs": [],
   "source": [
    "import pandas as pd\n",
    "\n",
    "index = [\"apple\", \"orange\", \"banana\", \"strawberry\", \"kiwifruit\"]\n",
    "data = [10, 5, 8, 12, 3]\n",
    "series = pd.Series(data, index=index)\n",
    "\n",
    "# 请使用指定索引编号的方式将 series 中的第 2 个至第 4 个元素（共 3 个）提取出来，并代入变量 items1 中\n",
    "\n",
    "\n",
    "# 请使用指定索引值的方式，将包含索引 “apple”、“banana”、“kiwifruit” 的元素提取出来，并代入变量 items2 中\n",
    "\n",
    "\n",
    "print(items1)\n",
    "print()\n",
    "print(items2)"
   ]
  },
  {
   "cell_type": "markdown",
   "metadata": {},
   "source": [
    "**程序清单 8.10：习题**　索引"
   ]
  },
  {
   "cell_type": "markdown",
   "metadata": {},
   "source": [
    "#### □参考答案"
   ]
  },
  {
   "cell_type": "code",
   "execution_count": 9,
   "metadata": {
    "id": "answer",
    "scrolled": true
   },
   "outputs": [
    {
     "name": "stdout",
     "output_type": "stream",
     "text": [
      "orange         5\n",
      "banana         8\n",
      "strawberry    12\n",
      "dtype: int64\n",
      "\n",
      "apple        10\n",
      "banana        8\n",
      "kiwifruit     3\n",
      "dtype: int64\n"
     ]
    }
   ],
   "source": [
    "import pandas as pd\n",
    "\n",
    "index = [\"apple\", \"orange\", \"banana\", \"strawberry\", \"kiwifruit\"]\n",
    "data = [10, 5, 8, 12, 3]\n",
    "series = pd.Series(data, index=index)\n",
    "\n",
    "# 请使用指定索引编号的方式将 series 中的第 2 个至第 4 个元素（共 3 个）提取出来，并代入变量 items1 中\n",
    "items1 = series[1:4]\n",
    "\n",
    "# 请使用指定索引值的方式，将包含索引 “apple”、“banana”、“kiwifruit” 的元素提取出来，并代入变量 items2 中\n",
    "items2 = series[[\"apple\", \"banana\", \"kiwifruit\"]]\n",
    "\n",
    "print(items1)\n",
    "print()\n",
    "print(items2)"
   ]
  },
  {
   "cell_type": "markdown",
   "metadata": {},
   "source": [
    "**程序清单 8.11：参考答案**　索引"
   ]
  },
  {
   "cell_type": "markdown",
   "metadata": {
    "courseId": 4010,
    "exerciseId": "S1GEt28oUeG",
    "id": "code_session_name",
    "important": true,
    "isDL": false,
    "timeoutSecs": 5
   },
   "source": [
    "### 〇8.2.3 数据与索引的读取"
   ]
  },
  {
   "cell_type": "markdown",
   "metadata": {},
   "source": [
    "#### □习题"
   ]
  },
  {
   "cell_type": "code",
   "execution_count": null,
   "metadata": {},
   "outputs": [],
   "source": [
    "import pandas as pd\n",
    "\n",
    "index = [\"apple\", \"orange\", \"banana\", \"strawberry\", \"kiwifruit\"]\n",
    "data = [10, 5, 8, 12, 3]\n",
    "series = pd.Series(data, index=index)\n",
    "\n",
    "# 请将 series 的数据代入变量 series_values 中\n",
    "\n",
    "\n",
    "# 请将 series 的索引代入变量 series_index 中\n",
    "\n",
    "\n",
    "print(series_values)\n",
    "print(series_index)"
   ]
  },
  {
   "cell_type": "markdown",
   "metadata": {},
   "source": [
    "**程序清单 8.12：习题**"
   ]
  },
  {
   "cell_type": "markdown",
   "metadata": {},
   "source": [
    "#### □参考答案"
   ]
  },
  {
   "cell_type": "code",
   "execution_count": 10,
   "metadata": {
    "id": "answer",
    "scrolled": true
   },
   "outputs": [
    {
     "name": "stdout",
     "output_type": "stream",
     "text": [
      "[10  5  8 12  3]\n",
      "Index(['apple', 'orange', 'banana', 'strawberry', 'kiwifruit'], dtype='object')\n"
     ]
    }
   ],
   "source": [
    "import pandas as pd\n",
    "\n",
    "index = [\"apple\", \"orange\", \"banana\", \"strawberry\", \"kiwifruit\"]\n",
    "data = [10, 5, 8, 12, 3]\n",
    "series = pd.Series(data, index=index)\n",
    "\n",
    "# 请将 series 的数据代入变量 series_values 中\n",
    "series_values = series.values\n",
    "\n",
    "# 请将 series 的索引代入变量 series_index 中\n",
    "series_index = series.index\n",
    "\n",
    "print(series_values)\n",
    "print(series_index)"
   ]
  },
  {
   "cell_type": "markdown",
   "metadata": {},
   "source": [
    "**程序清单 8.13：参考答案**"
   ]
  },
  {
   "cell_type": "markdown",
   "metadata": {
    "courseId": 4010,
    "exerciseId": "Hy7Nt2LjIeG",
    "id": "code_session_name",
    "important": true,
    "isDL": false,
    "timeoutSecs": 5
   },
   "source": [
    "### 〇8.2.4 元素的添加"
   ]
  },
  {
   "cell_type": "code",
   "execution_count": 12,
   "metadata": {},
   "outputs": [],
   "source": [
    "fruits = {\"banana\": 3, \"orange\": 2}\n",
    "series = pd.Series(fruits)\n",
    "series = series.append(pd.Series([3], index=[\"grape\"]))"
   ]
  },
  {
   "cell_type": "markdown",
   "metadata": {},
   "source": [
    "**程序清单 8.14：元素添加的示例**"
   ]
  },
  {
   "cell_type": "markdown",
   "metadata": {},
   "source": [
    "#### □习题"
   ]
  },
  {
   "cell_type": "code",
   "execution_count": null,
   "metadata": {
    "collapsed": true,
    "id": "index",
    "scrolled": true
   },
   "outputs": [],
   "source": [
    "import pandas as pd\n",
    "\n",
    "index = [\"apple\", \"orange\", \"banana\", \"strawberry\", \"kiwifruit\"]\n",
    "data = [10, 5, 8, 12, 3]\n",
    "series = pd.Series(data, index=index)\n",
    "\n",
    "#  请将索引为 “pineapple”，数据为 12 的元素添加到 series 中\n",
    "\n",
    "\n",
    "\n",
    "print(series)"
   ]
  },
  {
   "cell_type": "markdown",
   "metadata": {},
   "source": [
    "**程序清单 8.15：习题**"
   ]
  },
  {
   "cell_type": "markdown",
   "metadata": {},
   "source": [
    "#### □参考答案"
   ]
  },
  {
   "cell_type": "code",
   "execution_count": 14,
   "metadata": {
    "id": "answer",
    "scrolled": true
   },
   "outputs": [
    {
     "name": "stdout",
     "output_type": "stream",
     "text": [
      "apple         10\n",
      "orange         5\n",
      "banana         8\n",
      "strawberry    12\n",
      "kiwifruit      3\n",
      "pineapple     12\n",
      "dtype: int64\n"
     ]
    }
   ],
   "source": [
    "import pandas as pd\n",
    "\n",
    "index = [\"apple\", \"orange\", \"banana\", \"strawberry\", \"kiwifruit\"]\n",
    "data = [10, 5, 8, 12, 3]\n",
    "series = pd.Series(data, index=index)\n",
    "\n",
    "#  请将索引为 “pineapple”，数据为 12 的元素添加到 series 中\n",
    "pineapple = pd.Series([12], index=[\"pineapple\"])\n",
    "series = series.append(pineapple)\n",
    "#series = series.append(pd.Series({\"pineapple\":12}))でもOK\n",
    "\n",
    "print(series)"
   ]
  },
  {
   "cell_type": "markdown",
   "metadata": {},
   "source": [
    "**程序清单 8.15：参考答案**"
   ]
  },
  {
   "cell_type": "markdown",
   "metadata": {
    "courseId": 4010,
    "exerciseId": "Hk4NKn8oLeM",
    "id": "code_session_name",
    "important": true,
    "isDL": false,
    "timeoutSecs": 5
   },
   "source": [
    "### 〇8.2.5 元素的删除"
   ]
  },
  {
   "cell_type": "markdown",
   "metadata": {},
   "source": [
    "#### □习题"
   ]
  },
  {
   "cell_type": "code",
   "execution_count": 17,
   "metadata": {
    "id": "index",
    "scrolled": true
   },
   "outputs": [
    {
     "name": "stdout",
     "output_type": "stream",
     "text": [
      "apple         10\n",
      "orange         5\n",
      "banana         8\n",
      "strawberry    12\n",
      "kiwifruit      3\n",
      "dtype: int64\n"
     ]
    }
   ],
   "source": [
    "import pandas as pd\n",
    "\n",
    "index = [\"apple\", \"orange\", \"banana\", \"strawberry\", \"kiwifruit\"]\n",
    "data = [10, 5, 8, 12, 3]\n",
    "\n",
    "# 创建包含 index 和 data 的 Series，并代入变量 series 中\n",
    "series = pd.Series(data, index=index)\n",
    "\n",
    "# 请删除索引为 strawberry 的元素，并将结果代入变量 series 中\n",
    "\n",
    "\n",
    "print(series)"
   ]
  },
  {
   "cell_type": "markdown",
   "metadata": {},
   "source": [
    "**程序清单 8.17：习题**"
   ]
  },
  {
   "cell_type": "markdown",
   "metadata": {},
   "source": [
    "#### □参考答案"
   ]
  },
  {
   "cell_type": "code",
   "execution_count": 15,
   "metadata": {
    "id": "answer",
    "scrolled": true
   },
   "outputs": [
    {
     "name": "stdout",
     "output_type": "stream",
     "text": [
      "apple        10\n",
      "orange        5\n",
      "banana        8\n",
      "kiwifruit     3\n",
      "dtype: int64\n"
     ]
    }
   ],
   "source": [
    "import pandas as pd\n",
    "\n",
    "index = [\"apple\", \"orange\", \"banana\", \"strawberry\", \"kiwifruit\"]\n",
    "data = [10, 5, 8, 12, 3]\n",
    "\n",
    "# 创建包含 index 和 data 的 Series，并代入变量 series 中\n",
    "series = pd.Series(data, index=index)\n",
    "\n",
    "# 请删除索引为 strawberry 的元素，并将结果代入变量 series 中\n",
    "series = series.drop(\"strawberry\")\n",
    "\n",
    "print(series)"
   ]
  },
  {
   "cell_type": "markdown",
   "metadata": {},
   "source": [
    "**程序清单 8.18：参考答案**"
   ]
  },
  {
   "cell_type": "markdown",
   "metadata": {
    "courseId": 4010,
    "exerciseId": "ByB4thIjIgG",
    "id": "code_session_name",
    "important": false,
    "isDL": false,
    "timeoutSecs": 5
   },
   "source": [
    "### 〇8.2.6 过滤"
   ]
  },
  {
   "cell_type": "code",
   "execution_count": 19,
   "metadata": {},
   "outputs": [
    {
     "name": "stdout",
     "output_type": "stream",
     "text": [
      "apple     10\n",
      "orange     5\n",
      "dtype: int64\n"
     ]
    }
   ],
   "source": [
    "index = [\"apple\", \"orange\", \"banana\", \"strawberry\", \"kiwifruit\"]\n",
    "data = [10, 5, 8, 12, 3]\n",
    "series = pd.Series(data, index=index)\n",
    "\n",
    "conditions = [True, True, False, False, False]\n",
    "print(series[conditions])"
   ]
  },
  {
   "cell_type": "markdown",
   "metadata": {},
   "source": [
    "**程序清单 8.19：过滤的示例①**"
   ]
  },
  {
   "cell_type": "code",
   "execution_count": 81,
   "metadata": {},
   "outputs": [
    {
     "name": "stdout",
     "output_type": "stream",
     "text": [
      "apple         10\n",
      "orange         5\n",
      "banana         8\n",
      "strawberry    12\n",
      "dtype: int64\n"
     ]
    }
   ],
   "source": [
    "print(series[series >= 5])"
   ]
  },
  {
   "cell_type": "markdown",
   "metadata": {},
   "source": [
    "**程序清单 8.20：过滤的示例②**"
   ]
  },
  {
   "cell_type": "markdown",
   "metadata": {},
   "source": [
    "#### □习题"
   ]
  },
  {
   "cell_type": "code",
   "execution_count": null,
   "metadata": {
    "collapsed": true,
    "id": "index",
    "scrolled": true
   },
   "outputs": [],
   "source": [
    "import pandas as pd\n",
    "\n",
    "index = [\"apple\", \"orange\", \"banana\", \"strawberry\", \"kiwifruit\"]\n",
    "data = [10, 5, 8, 12, 3]\n",
    "series = pd.Series(data, index=index)\n",
    "\n",
    "# 请从 series 内的元素中，选择数值大于等于 5 且小于 10 的元素保存到新创建的 Series 中，并再次将其代入变量 series 中\n",
    "\n",
    "\n",
    "\n",
    "print(series)"
   ]
  },
  {
   "cell_type": "markdown",
   "metadata": {},
   "source": [
    "**程序清单 8.21：习题**"
   ]
  },
  {
   "cell_type": "markdown",
   "metadata": {},
   "source": [
    "#### □参考答案"
   ]
  },
  {
   "cell_type": "code",
   "execution_count": 88,
   "metadata": {
    "id": "answer",
    "scrolled": true
   },
   "outputs": [
    {
     "name": "stdout",
     "output_type": "stream",
     "text": [
      "orange    5\n",
      "banana    8\n",
      "dtype: int64\n"
     ]
    }
   ],
   "source": [
    "import pandas as pd\n",
    "\n",
    "index = [\"apple\", \"orange\", \"banana\", \"strawberry\", \"kiwifruit\"]\n",
    "data = [10, 5, 8, 12, 3]\n",
    "series = pd.Series(data, index=index)\n",
    "\n",
    "# 请从 series 内的元素中，选择数值大于等于 5 且小于 10 的元素保存到新创建的 Series 中，并再次将其代入变量 series 中\n",
    "series = series[series >= 5][series < 10]\n",
    "\n",
    "print(series)"
   ]
  },
  {
   "cell_type": "markdown",
   "metadata": {},
   "source": [
    "**程序清单 8.22：参考答案**"
   ]
  },
  {
   "cell_type": "markdown",
   "metadata": {
    "courseId": 4010,
    "exerciseId": "H1IEFnUoLeG",
    "id": "code_session_name",
    "important": true,
    "isDL": false,
    "timeoutSecs": 5
   },
   "source": [
    "### 〇8.2.7 排序"
   ]
  },
  {
   "cell_type": "markdown",
   "metadata": {},
   "source": [
    "#### □习题"
   ]
  },
  {
   "cell_type": "code",
   "execution_count": null,
   "metadata": {
    "collapsed": true,
    "id": "index",
    "scrolled": true
   },
   "outputs": [],
   "source": [
    "import pandas as pd\n",
    "\n",
    "index = [\"apple\", \"orange\", \"banana\", \"strawberry\", \"kiwifruit\"]\n",
    "data = [10, 5, 8, 12, 3]\n",
    "series = pd.Series(data, index=index)\n",
    "\n",
    "# 请将 series 按照索引的字母升序排列后得到的Series 代入 items1 中\n",
    "\n",
    "\n",
    "# 请将 series 按照数据值降序排列后得到的 Series 代入 items2 中\n",
    "\n",
    "\n",
    "print(items1)\n",
    "print()\n",
    "print(items2)"
   ]
  },
  {
   "cell_type": "markdown",
   "metadata": {},
   "source": [
    "**程序清单 8.23：习题**"
   ]
  },
  {
   "cell_type": "markdown",
   "metadata": {},
   "source": [
    "#### □参考答案"
   ]
  },
  {
   "cell_type": "code",
   "execution_count": 20,
   "metadata": {
    "id": "answer",
    "scrolled": true
   },
   "outputs": [
    {
     "name": "stdout",
     "output_type": "stream",
     "text": [
      "apple         10\n",
      "banana         8\n",
      "kiwifruit      3\n",
      "orange         5\n",
      "strawberry    12\n",
      "dtype: int64\n",
      "\n",
      "kiwifruit      3\n",
      "orange         5\n",
      "banana         8\n",
      "apple         10\n",
      "strawberry    12\n",
      "dtype: int64\n"
     ]
    }
   ],
   "source": [
    "import pandas as pd\n",
    "\n",
    "index = [\"apple\", \"orange\", \"banana\", \"strawberry\", \"kiwifruit\"]\n",
    "data = [10, 5, 8, 12, 3]\n",
    "series = pd.Series(data, index=index)\n",
    "\n",
    "# 请将 series 按照索引的字母升序排列后得到的Series 代入 items1 中\n",
    "items1 = series.sort_index()\n",
    "\n",
    "# 请将 series 按照数据值降序排列后得到的 Series 代入 items2 中\n",
    "items2 = series.sort_values()\n",
    "\n",
    "print(items1)\n",
    "print()\n",
    "print(items2)"
   ]
  },
  {
   "cell_type": "markdown",
   "metadata": {},
   "source": [
    "**程序清单 8.24：参考答案**"
   ]
  },
  {
   "cell_type": "markdown",
   "metadata": {
    "id": "section_name",
    "sectionId": "S1SxOAXbe-G"
   },
   "source": [
    "## ●8.3 DataFrame"
   ]
  },
  {
   "cell_type": "markdown",
   "metadata": {
    "courseId": 4010,
    "exerciseId": "SkDVthLiLxM",
    "id": "code_session_name",
    "important": true,
    "isDL": false,
    "timeoutSecs": 5
   },
   "source": [
    "### 〇8.3.1 DataFrame的创建"
   ]
  },
  {
   "cell_type": "code",
   "execution_count": 3,
   "metadata": {},
   "outputs": [
    {
     "name": "stdout",
     "output_type": "stream",
     "text": [
      "       fruits  time  year\n",
      "0       apple     1  2001\n",
      "1      orange     4  2002\n",
      "2      banana     5  2001\n",
      "3  strawberry     6  2008\n",
      "4   kiwifruit     3  2006\n"
     ]
    }
   ],
   "source": [
    "data = {\"fruits\": [\"apple\", \"orange\", \"banana\", \"strawberry\", \"kiwifruit\"],\n",
    "        \"year\": [2001, 2002, 2001, 2008, 2006],\n",
    "        \"time\": [1, 4, 5, 6, 3]}\n",
    "df = pd.DataFrame(data)\n",
    "print(df)"
   ]
  },
  {
   "cell_type": "markdown",
   "metadata": {},
   "source": [
    "**程序清单 8.25：创建DataFrame的示例**"
   ]
  },
  {
   "cell_type": "markdown",
   "metadata": {},
   "source": [
    "#### □习题"
   ]
  },
  {
   "cell_type": "code",
   "execution_count": null,
   "metadata": {
    "collapsed": true,
    "id": "index",
    "scrolled": true
   },
   "outputs": [],
   "source": [
    "import pandas as pd\n",
    "\n",
    "index = [\"apple\", \"orange\", \"banana\", \"strawberry\", \"kiwifruit\"]\n",
    "data1 = [10, 5, 8, 12, 3]\n",
    "data2 = [30, 25, 12, 10, 8]\n",
    "series1 = pd.Series(data1, index=index)\n",
    "series2 = pd.Series(data2, index=index)\n",
    "\n",
    "# 请用 series1、series2 创建 DataFrame 并代入 df 中\n",
    "\n",
    "\n",
    "# 输出结果\n",
    "print(df)"
   ]
  },
  {
   "cell_type": "markdown",
   "metadata": {},
   "source": [
    "**程序清单 8.26：习题**"
   ]
  },
  {
   "cell_type": "markdown",
   "metadata": {},
   "source": [
    "#### □参考答案"
   ]
  },
  {
   "cell_type": "code",
   "execution_count": 22,
   "metadata": {
    "id": "answer",
    "scrolled": true
   },
   "outputs": [
    {
     "name": "stdout",
     "output_type": "stream",
     "text": [
      "   apple  orange  banana  strawberry  kiwifruit\n",
      "0     10       5       8          12          3\n",
      "1     30      25      12          10          8\n"
     ]
    }
   ],
   "source": [
    "import pandas as pd\n",
    "\n",
    "index = [\"apple\", \"orange\", \"banana\", \"strawberry\", \"kiwifruit\"]\n",
    "data1 = [10, 5, 8, 12, 3]\n",
    "data2 = [30, 25, 12, 10, 8]\n",
    "series1 = pd.Series(data1, index=index)\n",
    "series2 = pd.Series(data2, index=index)\n",
    "\n",
    "# 请用 series1、series2 创建 DataFrame 并代入 df 中\n",
    "df = pd.DataFrame([series1, series2])\n",
    "\n",
    "# 输出结果\n",
    "print(df)"
   ]
  },
  {
   "cell_type": "markdown",
   "metadata": {},
   "source": [
    "**程序清单 8.27：参考答案**"
   ]
  },
  {
   "cell_type": "markdown",
   "metadata": {
    "courseId": 4010,
    "exerciseId": "BytNK3IoUgM",
    "id": "code_session_name",
    "important": true,
    "isDL": false,
    "timeoutSecs": 5
   },
   "source": [
    "### 〇8.3.2 设置索引和列"
   ]
  },
  {
   "cell_type": "markdown",
   "metadata": {},
   "source": [
    "#### □习题"
   ]
  },
  {
   "cell_type": "code",
   "execution_count": null,
   "metadata": {
    "collapsed": true,
    "id": "index",
    "scrolled": true
   },
   "outputs": [],
   "source": [
    "import pandas as pd\n",
    "\n",
    "index = [\"apple\", \"orange\", \"banana\", \"strawberry\", \"kiwifruit\"]\n",
    "data1 = [10, 5, 8, 12, 3]\n",
    "data2 = [30, 25, 12, 10, 8]\n",
    "series1 = pd.Series(data1, index=index)\n",
    "series2 = pd.Series(data2, index=index)\n",
    "df = pd.DataFrame([series1, series2])\n",
    "\n",
    "# 请将 DataFrame 型变量 df 的索引指定为从 1 开始\n",
    "\n",
    "# 输出结果\n",
    "print(df)"
   ]
  },
  {
   "cell_type": "markdown",
   "metadata": {},
   "source": [
    "**程序清单 8.28：习题**"
   ]
  },
  {
   "cell_type": "markdown",
   "metadata": {},
   "source": [
    "#### □参考答案"
   ]
  },
  {
   "cell_type": "code",
   "execution_count": 23,
   "metadata": {
    "id": "answer",
    "scrolled": true
   },
   "outputs": [
    {
     "name": "stdout",
     "output_type": "stream",
     "text": [
      "   apple  orange  banana  strawberry  kiwifruit\n",
      "1     10       5       8          12          3\n",
      "2     30      25      12          10          8\n"
     ]
    }
   ],
   "source": [
    "import pandas as pd\n",
    "\n",
    "index = [\"apple\", \"orange\", \"banana\", \"strawberry\", \"kiwifruit\"]\n",
    "data1 = [10, 5, 8, 12, 3]\n",
    "data2 = [30, 25, 12, 10, 8]\n",
    "series1 = pd.Series(data1, index=index)\n",
    "series2 = pd.Series(data2, index=index)\n",
    "df = pd.DataFrame([series1, series2])\n",
    "\n",
    "# 请将 DataFrame 型变量 df 的索引指定为从 1 开始\n",
    "df.index = [1, 2]\n",
    "\n",
    "# 输出结果\n",
    "print(df)"
   ]
  },
  {
   "cell_type": "markdown",
   "metadata": {},
   "source": [
    "**程序清单 8.29：参考答案**"
   ]
  },
  {
   "cell_type": "markdown",
   "metadata": {
    "courseId": 4010,
    "exerciseId": "BJ5VF3LsIez",
    "id": "code_session_name",
    "important": true,
    "isDL": false,
    "timeoutSecs": 5
   },
   "source": [
    "### 〇8.3.3 添加行"
   ]
  },
  {
   "cell_type": "code",
   "execution_count": 24,
   "metadata": {},
   "outputs": [
    {
     "name": "stdout",
     "output_type": "stream",
     "text": [
      "       fruits  time  year\n",
      "0       apple     1  2001\n",
      "1      orange     4  2002\n",
      "2      banana     5  2001\n",
      "3  strawberry     6  2008\n",
      "4   kiwifruit     3  2006\n",
      "5       mango     7  2008\n"
     ]
    }
   ],
   "source": [
    "data = {\"fruits\": [\"apple\", \"orange\", \"banana\", \"strawberry\", \"kiwifruit\"],\n",
    "        \"year\": [2001, 2002, 2001, 2008, 2006],\n",
    "        \"time\": [1, 4, 5, 6, 3]}\n",
    "df = pd.DataFrame(data)\n",
    "series = pd.Series([\"mango\", 2008, 7], index=[\"fruits\", \"year\", \"time\"])\n",
    "\n",
    "df = df.append(series, ignore_index=True)\n",
    "print(df)"
   ]
  },
  {
   "cell_type": "markdown",
   "metadata": {},
   "source": [
    "**程序清单 8.30：添加行的示例**"
   ]
  },
  {
   "cell_type": "markdown",
   "metadata": {},
   "source": [
    "#### □习题"
   ]
  },
  {
   "cell_type": "code",
   "execution_count": null,
   "metadata": {
    "collapsed": true,
    "id": "index",
    "scrolled": true
   },
   "outputs": [],
   "source": [
    "import pandas as pd\n",
    "\n",
    "index = [\"apple\", \"orange\", \"banana\", \"strawberry\", \"kiwifruit\"]\n",
    "data1 = [10, 5, 8, 12, 3]\n",
    "data2 = [30, 25, 12, 10, 8]\n",
    "data3 = [30, 12, 10, 8, 25, 3]\n",
    "series1 = pd.Series(data1, index=index)\n",
    "series2 = pd.Series(data2, index=index)\n",
    "# 请将 series3 添加到 df 中，并再次代入变量 df\n",
    "index.append(\"pineapple\")\n",
    "series3 = pd.Series(data3, index=index)\n",
    "df = pd.DataFrame([series1, series2])\n",
    "#请再次代入变量df 中\n",
    "\n",
    "\n",
    "# 输出结果\n",
    "# 请确认 df 与所添加的 Series 的索引不相同时的执行结果\n",
    "print(df)"
   ]
  },
  {
   "cell_type": "markdown",
   "metadata": {},
   "source": [
    "**程序清单 8.31：习题**"
   ]
  },
  {
   "cell_type": "markdown",
   "metadata": {},
   "source": [
    "#### □参考答案"
   ]
  },
  {
   "cell_type": "code",
   "execution_count": 25,
   "metadata": {
    "id": "answer",
    "scrolled": true
   },
   "outputs": [
    {
     "name": "stdout",
     "output_type": "stream",
     "text": [
      "   apple  orange  banana  strawberry  kiwifruit  pineapple\n",
      "0     10       5       8          12          3        NaN\n",
      "1     30      25      12          10          8        NaN\n",
      "2     30      12      10           8         25        3.0\n"
     ]
    }
   ],
   "source": [
    "import pandas as pd\n",
    "\n",
    "index = [\"apple\", \"orange\", \"banana\", \"strawberry\", \"kiwifruit\"]\n",
    "data1 = [10, 5, 8, 12, 3]\n",
    "data2 = [30, 25, 12, 10, 8]\n",
    "data3 = [30, 12, 10, 8, 25, 3]\n",
    "series1 = pd.Series(data1, index=index)\n",
    "series2 = pd.Series(data2, index=index)\n",
    "# 请将 series3 添加到 df 中，并再次代入变量 df\n",
    "index.append(\"pineapple\")\n",
    "series3 = pd.Series(data3, index=index)\n",
    "df = pd.DataFrame([series1, series2])\n",
    "#请再次代入变量df 中\n",
    "df = df.append(series3, ignore_index=True)\n",
    "\n",
    "# 输出结果\n",
    "# 请确认 df 与所添加的 Series 的索引不相同时的执行结果\n",
    "print(df)"
   ]
  },
  {
   "cell_type": "markdown",
   "metadata": {},
   "source": [
    "**程序清单 8.32：参考答案**"
   ]
  },
  {
   "cell_type": "markdown",
   "metadata": {
    "courseId": 4010,
    "exerciseId": "SJjVF3Uj8lf",
    "id": "code_session_name",
    "important": true,
    "isDL": false,
    "timeoutSecs": 5
   },
   "source": [
    "### 〇8.3.4 添加列"
   ]
  },
  {
   "cell_type": "code",
   "execution_count": 26,
   "metadata": {},
   "outputs": [
    {
     "name": "stdout",
     "output_type": "stream",
     "text": [
      "       fruits  time  year  price\n",
      "0       apple     1  2001    150\n",
      "1      orange     4  2002    120\n",
      "2      banana     5  2001    100\n",
      "3  strawberry     6  2008    300\n",
      "4   kiwifruit     3  2006    150\n"
     ]
    }
   ],
   "source": [
    "data = {\"fruits\": [\"apple\", \"orange\", \"banana\", \"strawberry\", \"kiwifruit\"],\n",
    "        \"year\": [2001, 2002, 2001, 2008, 2006],\n",
    "        \"time\": [1, 4, 5, 6, 3]}\n",
    "df = pd.DataFrame(data)\n",
    "\n",
    "df[\"price\"] = [150, 120, 100, 300, 150]\n",
    "print(df)"
   ]
  },
  {
   "cell_type": "markdown",
   "metadata": {},
   "source": [
    "**程序清单 8.33：添加列的示例**"
   ]
  },
  {
   "cell_type": "markdown",
   "metadata": {},
   "source": [
    "#### □习题"
   ]
  },
  {
   "cell_type": "code",
   "execution_count": null,
   "metadata": {
    "collapsed": true,
    "id": "index",
    "scrolled": true
   },
   "outputs": [],
   "source": [
    "import pandas as pd\n",
    "\n",
    "index = [\"apple\", \"orange\", \"banana\", \"strawberry\", \"kiwifruit\"]\n",
    "data1 = [10, 5, 8, 12, 3]\n",
    "data2 = [30, 25, 12, 10, 8]\n",
    "series1 = pd.Series(data1, index=index)\n",
    "series2 = pd.Series(data2, index=index)\n",
    "\n",
    "new_column = pd.Series([15, 7], index=[0, 1])\n",
    "\n",
    "# 使用 series1, seires2 创建 DataFrame\n",
    "df = pd.DataFrame([series1, series2])\n",
    "\n",
    "# 请将 new_column 的数据添加到 df 中名为 mango 的新列中\n",
    "\n",
    "\n",
    "# 输出结果\n",
    "print(df)"
   ]
  },
  {
   "cell_type": "markdown",
   "metadata": {},
   "source": [
    "**程序清单8.34：习题**"
   ]
  },
  {
   "cell_type": "markdown",
   "metadata": {},
   "source": [
    "#### □参考答案"
   ]
  },
  {
   "cell_type": "code",
   "execution_count": 27,
   "metadata": {
    "id": "answer",
    "scrolled": true
   },
   "outputs": [
    {
     "name": "stdout",
     "output_type": "stream",
     "text": [
      "   apple  orange  banana  strawberry  kiwifruit  mango\n",
      "0     10       5       8          12          3     15\n",
      "1     30      25      12          10          8      7\n"
     ]
    }
   ],
   "source": [
    "import pandas as pd\n",
    "\n",
    "index = [\"apple\", \"orange\", \"banana\", \"strawberry\", \"kiwifruit\"]\n",
    "data1 = [10, 5, 8, 12, 3]\n",
    "data2 = [30, 25, 12, 10, 8]\n",
    "series1 = pd.Series(data1, index=index)\n",
    "series2 = pd.Series(data2, index=index)\n",
    "\n",
    "new_column = pd.Series([15, 7], index=[0, 1])\n",
    "\n",
    "# 使用 series1, seires2 创建 DataFrame\n",
    "df = pd.DataFrame([series1, series2])\n",
    "\n",
    "# 请将 new_column 的数据添加到 df 中名为 mango 的新列中\n",
    "df[\"mango\"] = new_column\n",
    "\n",
    "# 输出结果\n",
    "print(df)"
   ]
  },
  {
   "cell_type": "markdown",
   "metadata": {},
   "source": [
    "**程序清单 8.35：参考答案**"
   ]
  },
  {
   "cell_type": "markdown",
   "metadata": {
    "courseId": 4010,
    "exerciseId": "HJ24K2Us8lM",
    "id": "quiz_session_name",
    "important": true,
    "isDL": false,
    "timeoutSecs": 5
   },
   "source": [
    "### 〇8.3.5 数据的引用"
   ]
  },
  {
   "cell_type": "markdown",
   "metadata": {},
   "source": [
    "本节没有样本文件。"
   ]
  },
  {
   "cell_type": "markdown",
   "metadata": {
    "courseId": 4010,
    "exerciseId": "rJTVK2LsIlz",
    "id": "code_session_name",
    "important": true,
    "isDL": false,
    "timeoutSecs": 5
   },
   "source": [
    "### 〇8.3.6 按名称引用"
   ]
  },
  {
   "cell_type": "code",
   "execution_count": 28,
   "metadata": {},
   "outputs": [
    {
     "name": "stdout",
     "output_type": "stream",
     "text": [
      "       fruits  time  year\n",
      "0       apple     1  2001\n",
      "1      orange     4  2002\n",
      "2      banana     5  2001\n",
      "3  strawberry     6  2008\n",
      "4   kiwifruit     3  2006\n"
     ]
    }
   ],
   "source": [
    "data = {\"fruits\": [\"apple\", \"orange\", \"banana\", \"strawberry\", \"kiwifruit\"],\n",
    "        \"year\": [2001, 2002, 2001, 2008, 2006],\n",
    "        \"time\": [1, 4, 5, 6, 3]}\n",
    "df = pd.DataFrame(data)\n",
    "\n",
    "print(df)"
   ]
  },
  {
   "cell_type": "markdown",
   "metadata": {},
   "source": [
    "**程序清单 8.36：按名称引用の例①**"
   ]
  },
  {
   "cell_type": "code",
   "execution_count": 29,
   "metadata": {},
   "outputs": [
    {
     "name": "stdout",
     "output_type": "stream",
     "text": [
      "   time  year\n",
      "1     4  2002\n",
      "2     5  2001\n"
     ]
    }
   ],
   "source": [
    "df = df.loc[[1,2],[\"time\",\"year\"]]\n",
    "print(df)"
   ]
  },
  {
   "cell_type": "markdown",
   "metadata": {},
   "source": [
    "**程序清单 8.37：按名称引用の例②**"
   ]
  },
  {
   "cell_type": "markdown",
   "metadata": {},
   "source": [
    "#### □习题"
   ]
  },
  {
   "cell_type": "code",
   "execution_count": null,
   "metadata": {
    "collapsed": true,
    "id": "index",
    "scrolled": true
   },
   "outputs": [],
   "source": [
    "import numpy as np\n",
    "import pandas as pd\n",
    "np.random.seed(0)\n",
    "columns = [\"apple\", \"orange\", \"banana\", \"strawberry\", \"kiwifruit\"]\n",
    "\n",
    "# 生成 DataFrame 并添加列\n",
    "df = pd.DataFrame()\n",
    "for column in columns:\n",
    "    df[column] = np.random.choice(range(1, 11), 10)\n",
    "    # range(开始行数 , 结束行数-1)です\n",
    "df.index = range(1, 11)\n",
    "\n",
    "# 请使用 loc[] 将 df 中从第 2 行开始至第 5 行为止的 4 行与包含“banana”、“kiwifruit”这两列的 DataFrame 代入 df 中\n",
    "# 索引是以 1 开头，按升序排列的整数\n",
    "\n",
    "\n",
    "print(df)"
   ]
  },
  {
   "cell_type": "markdown",
   "metadata": {},
   "source": [
    "**程序清单 8.38：习题**"
   ]
  },
  {
   "cell_type": "markdown",
   "metadata": {},
   "source": [
    "#### □参考答案"
   ]
  },
  {
   "cell_type": "code",
   "execution_count": 30,
   "metadata": {
    "id": "answer",
    "scrolled": true
   },
   "outputs": [
    {
     "name": "stdout",
     "output_type": "stream",
     "text": [
      "   banana  kiwifruit\n",
      "2      10         10\n",
      "3       9          1\n",
      "4      10          5\n",
      "5       5          8\n"
     ]
    }
   ],
   "source": [
    "import numpy as np\n",
    "import pandas as pd\n",
    "np.random.seed(0)\n",
    "columns = [\"apple\", \"orange\", \"banana\", \"strawberry\", \"kiwifruit\"]\n",
    "\n",
    "# 生成 DataFrame 并添加列\n",
    "df = pd.DataFrame()\n",
    "for column in columns:\n",
    "    df[column] = np.random.choice(range(1, 11), 10)\n",
    "    # range(开始行数 , 结束行数-1)です\n",
    "df.index = range(1, 11)\n",
    "\n",
    "# 请使用 loc[] 将 df 中从第 2 行开始至第 5 行为止的 4 行与包含“banana”、“kiwifruit”这两列的 DataFrame 代入 df 中\n",
    "# 索引是以 1 开头，按升序排列的整数\n",
    "df = df.loc[range(2,6),[\"banana\",\"kiwifruit\"]]\n",
    "\n",
    "print(df)"
   ]
  },
  {
   "cell_type": "markdown",
   "metadata": {},
   "source": [
    "**程序清单8.39：参考答案**"
   ]
  },
  {
   "cell_type": "markdown",
   "metadata": {
    "courseId": 4010,
    "exerciseId": "Sk04F28oUxM",
    "id": "code_session_name",
    "important": true,
    "isDL": false,
    "timeoutSecs": 5
   },
   "source": [
    "### 〇8.3.7 按编号引用"
   ]
  },
  {
   "cell_type": "code",
   "execution_count": 31,
   "metadata": {},
   "outputs": [
    {
     "name": "stdout",
     "output_type": "stream",
     "text": [
      "       fruits  time  year\n",
      "0       apple     1  2001\n",
      "1      orange     4  2002\n",
      "2      banana     5  2001\n",
      "3  strawberry     6  2008\n",
      "4   kiwifruit     3  2006\n"
     ]
    }
   ],
   "source": [
    "data = {\"fruits\": [\"apple\", \"orange\", \"banana\", \"strawberry\", \"kiwifruit\"],\n",
    "        \"year\": [2001, 2002, 2001, 2008, 2006],\n",
    "        \"time\": [1, 4, 5, 6, 3]}\n",
    "df = pd.DataFrame(data)\n",
    "\n",
    "print(df)"
   ]
  },
  {
   "cell_type": "markdown",
   "metadata": {},
   "source": [
    "**程序清单 8.40：按编号引用の例①**"
   ]
  },
  {
   "cell_type": "code",
   "execution_count": 32,
   "metadata": {},
   "outputs": [
    {
     "name": "stdout",
     "output_type": "stream",
     "text": [
      "       fruits  year\n",
      "1      orange  2002\n",
      "3  strawberry  2008\n"
     ]
    }
   ],
   "source": [
    "df = df.iloc[[1, 3], [0, 2]]\n",
    "print(df)"
   ]
  },
  {
   "cell_type": "markdown",
   "metadata": {},
   "source": [
    "**程序清单 8.41：按编号引用の例②**"
   ]
  },
  {
   "cell_type": "markdown",
   "metadata": {},
   "source": [
    "#### □习题"
   ]
  },
  {
   "cell_type": "code",
   "execution_count": null,
   "metadata": {
    "collapsed": true,
    "id": "index",
    "scrolled": true
   },
   "outputs": [],
   "source": [
    "import numpy as np\n",
    "import pandas as pd\n",
    "np.random.seed(0)\n",
    "columns = [\"apple\", \"orange\", \"banana\", \"strawberry\", \"kiwifruit\"]\n",
    "\n",
    "# 生成 DataFrame 并添加列\n",
    "df = pd.DataFrame()\n",
    "for column in columns:\n",
    "    df[column] = np.random.choice(range(1, 11), 10)\n",
    "df.index = range(1, 11)\n",
    "\n",
    "# 请使用 loc[] 将 df 中从第 2 行开始至第 5 行为止的 4 行与包含“banana”、“kiwifruit”这两列的 DataFrame 代入 df 中\n",
    "\n",
    "\n",
    "print(df)"
   ]
  },
  {
   "cell_type": "markdown",
   "metadata": {},
   "source": [
    "**程序清单 8.42：习题**"
   ]
  },
  {
   "cell_type": "markdown",
   "metadata": {},
   "source": [
    "#### □参考答案"
   ]
  },
  {
   "cell_type": "code",
   "execution_count": 34,
   "metadata": {
    "id": "answer",
    "scrolled": true
   },
   "outputs": [
    {
     "name": "stdout",
     "output_type": "stream",
     "text": [
      "   banana  kiwifruit\n",
      "2      10         10\n",
      "3       9          1\n",
      "4      10          5\n",
      "5       5          8\n"
     ]
    }
   ],
   "source": [
    "import numpy as np\n",
    "import pandas as pd\n",
    "np.random.seed(0)\n",
    "columns = [\"apple\", \"orange\", \"banana\", \"strawberry\", \"kiwifruit\"]\n",
    "\n",
    "# 生成 DataFrame 并添加列\n",
    "df = pd.DataFrame()\n",
    "for column in columns:\n",
    "    df[column] = np.random.choice(range(1, 11), 10)\n",
    "df.index = range(1, 11)\n",
    "\n",
    "# 请使用 loc[] 将 df 中从第 2 行开始至第 5 行为止的 4 行与包含“banana”、“kiwifruit”这两列的 DataFrame 代入 df 中\n",
    "df = df.iloc[range(1,5), [2, 4]] # 使用切片的方式，指定 df = df.iloc[1:5, [2,4]] 也是可以的\n",
    "\n",
    "print(df)"
   ]
  },
  {
   "cell_type": "markdown",
   "metadata": {},
   "source": [
    "**程序清单 8.43：参考答案**"
   ]
  },
  {
   "cell_type": "markdown",
   "metadata": {
    "courseId": 4010,
    "exerciseId": "SJkHt3LiUlz",
    "id": "code_session_name",
    "important": false,
    "isDL": false,
    "timeoutSecs": 5
   },
   "source": [
    "### 〇8.3.8 行和列的删除"
   ]
  },
  {
   "cell_type": "code",
   "execution_count": 38,
   "metadata": {},
   "outputs": [
    {
     "name": "stdout",
     "output_type": "stream",
     "text": [
      "       fruits  time  year\n",
      "2      banana     5  2001\n",
      "3  strawberry     6  2008\n",
      "4   kiwifruit     3  2006\n",
      "\n",
      "       fruits  time\n",
      "0       apple     1\n",
      "1      orange     4\n",
      "2      banana     5\n",
      "3  strawberry     6\n",
      "4   kiwifruit     3\n"
     ]
    }
   ],
   "source": [
    "import pandas as pd\n",
    "data = {\"fruits\": [\"apple\", \"orange\", \"banana\", \"strawberry\", \"kiwifruit\"],\n",
    "        \"year\": [2001, 2002, 2001, 2008, 2006],\n",
    "        \"time\": [1, 4, 5, 6, 3]}\n",
    "df = pd.DataFrame(data)\n",
    "\n",
    "# 使用 drop() 删除 df 的第 0 行和第 1 行\n",
    "df_1 = df.drop(range(0, 2))\n",
    "\n",
    "# 使用 drop() 删除 “year” 列\n",
    "df_2 = df.drop(\"year\", axis=1)\n",
    "\n",
    "print(df_1)\n",
    "print()\n",
    "print(df_2)"
   ]
  },
  {
   "cell_type": "markdown",
   "metadata": {},
   "source": [
    "**程序清单 8.44：行和列的删除の例**\n"
   ]
  },
  {
   "cell_type": "markdown",
   "metadata": {},
   "source": [
    "#### □习题"
   ]
  },
  {
   "cell_type": "code",
   "execution_count": null,
   "metadata": {
    "collapsed": true,
    "id": "index",
    "scrolled": true
   },
   "outputs": [],
   "source": [
    "import numpy as np\n",
    "import pandas as pd\n",
    "np.random.seed(0)\n",
    "columns = [\"apple\", \"orange\", \"banana\", \"strawberry\", \"kiwifruit\"]\n",
    "\n",
    "# 生成 DataFrame 并添加列\n",
    "df = pd.DataFrame()\n",
    "for column in columns:\n",
    "    df[column] = np.random.choice(range(1, 11), 10)\n",
    "df.index = range(1, 11)\n",
    "\n",
    "# 请使用 drop() 只对 df 中名称为奇数的行进行保留，删除其余行，并将结果代入 df 中\n",
    "\n",
    "\n",
    "# 请使用 drop() 将 df 中的列 “strawberry” 进行删除，并将结果代入 df 中\n",
    "\n",
    "\n",
    "print(df)"
   ]
  },
  {
   "cell_type": "markdown",
   "metadata": {},
   "source": [
    "**程序清单 8.45：习题**"
   ]
  },
  {
   "cell_type": "markdown",
   "metadata": {},
   "source": [
    "#### □参考答案"
   ]
  },
  {
   "cell_type": "code",
   "execution_count": 39,
   "metadata": {
    "id": "answer",
    "scrolled": false
   },
   "outputs": [
    {
     "name": "stdout",
     "output_type": "stream",
     "text": [
      "   apple  orange  banana  kiwifruit\n",
      "1      6       8       6         10\n",
      "3      4       9       9          1\n",
      "5      8       2       5          8\n",
      "7      4       8       1          3\n",
      "9      3       9       6          3\n"
     ]
    }
   ],
   "source": [
    "import numpy as np\n",
    "import pandas as pd\n",
    "np.random.seed(0)\n",
    "columns = [\"apple\", \"orange\", \"banana\", \"strawberry\", \"kiwifruit\"]\n",
    "\n",
    "# 生成 DataFrame 并添加列\n",
    "df = pd.DataFrame()\n",
    "for column in columns:\n",
    "    df[column] = np.random.choice(range(1, 11), 10)\n",
    "df.index = range(1, 11)\n",
    "\n",
    "# 请使用 drop() 只对 df 中名称为奇数的行进行保留，删除其余行，并将结果代入 df 中\n",
    "df = df.drop(np.arange(2, 11, 2))\n",
    "# np.arange(2, 11, 2) 产生的是大小在 2 到 10 ，差值为 2 的整数数列\n",
    "# 这里得到的结果是 2、4、6、8、10\n",
    "# 如果是 np.arange(2,11,3) ，则产生大小在 2 到 10 ，差值为 3 的整数数列\n",
    "\n",
    "# 请使用 drop() 将 df 中的列 “strawberry” 进行删除，并将结果代入 df 中\n",
    "df = df.drop(\"strawberry\", axis=1)\n",
    "\n",
    "print(df)"
   ]
  },
  {
   "cell_type": "markdown",
   "metadata": {},
   "source": [
    "**程序清单 8.46：参考答案**"
   ]
  },
  {
   "cell_type": "markdown",
   "metadata": {
    "courseId": 4010,
    "exerciseId": "ryxHK2LsIxM",
    "id": "code_session_name",
    "important": true,
    "isDL": false,
    "timeoutSecs": 5
   },
   "source": [
    "### 〇8.3.9 排序"
   ]
  },
  {
   "cell_type": "code",
   "execution_count": 40,
   "metadata": {},
   "outputs": [
    {
     "name": "stdout",
     "output_type": "stream",
     "text": [
      "       fruits  time  year\n",
      "0       apple     1  2001\n",
      "1      orange     4  2002\n",
      "2      banana     5  2001\n",
      "3  strawberry     6  2008\n",
      "4   kiwifruit     3  2006\n",
      "       fruits  time  year\n",
      "0       apple     1  2001\n",
      "2      banana     5  2001\n",
      "1      orange     4  2002\n",
      "4   kiwifruit     3  2006\n",
      "3  strawberry     6  2008\n",
      "       fruits  time  year\n",
      "0       apple     1  2001\n",
      "4   kiwifruit     3  2006\n",
      "1      orange     4  2002\n",
      "2      banana     5  2001\n",
      "3  strawberry     6  2008\n"
     ]
    }
   ],
   "source": [
    "import pandas as pd\n",
    "data = {\"fruits\": [\"apple\", \"orange\", \"banana\", \"strawberry\", \"kiwifruit\"],\n",
    "        \"time\": [1, 4, 5, 6, 3],\n",
    "        \"year\": [2001, 2002, 2001, 2008, 2006]}\n",
    "df = pd.DataFrame(data)\n",
    "print(df)\n",
    "# 对数据进行升序排序 ( 在参数中指定列 )\n",
    "df = df.sort_values(by=\"year\", ascending = True)\n",
    "print(df)\n",
    "\n",
    "# 对数据进行升序排序 ( 在参数中指定列的列表 )\n",
    "df = df.sort_values(by=[\"time\", \"year\"] , ascending = True)\n",
    "print(df)"
   ]
  },
  {
   "cell_type": "markdown",
   "metadata": {},
   "source": [
    "**程序清单 8.47：排序の例**"
   ]
  },
  {
   "cell_type": "markdown",
   "metadata": {},
   "source": [
    "#### □习题"
   ]
  },
  {
   "cell_type": "code",
   "execution_count": null,
   "metadata": {
    "collapsed": true,
    "id": "index",
    "scrolled": true
   },
   "outputs": [],
   "source": [
    "import numpy as np\n",
    "import pandas as pd\n",
    "np.random.seed(0)\n",
    "columns = [\"apple\", \"orange\", \"banana\", \"strawberry\", \"kiwifruit\"]\n",
    "\n",
    "# 生成 DataFrame 并添加列\n",
    "df = pd.DataFrame()\n",
    "for column in columns:\n",
    "    df[column] = np.random.choice(range(1, 11), 10)\n",
    "df.index = range(1, 11)\n",
    "\n",
    "# 请将 df 按照 “apple”、“orange”、“banana”、“strawberry”、“kiwifruit” 的优先顺序进行升序排序\n",
    "# 请将排序所生成的 DataFrame 代入 df 中。 如果是第一个参数，则 by 可以省略\n",
    "\n",
    "\n",
    "print(df)"
   ]
  },
  {
   "cell_type": "markdown",
   "metadata": {},
   "source": [
    "**程序清单8.48：习题**\n"
   ]
  },
  {
   "cell_type": "markdown",
   "metadata": {},
   "source": [
    "#### □参考答案"
   ]
  },
  {
   "cell_type": "code",
   "execution_count": 41,
   "metadata": {
    "id": "answer",
    "scrolled": false
   },
   "outputs": [
    {
     "name": "stdout",
     "output_type": "stream",
     "text": [
      "    apple  orange  banana  strawberry  kiwifruit\n",
      "2       1       7      10           4         10\n",
      "9       3       9       6           1          3\n",
      "7       4       8       1           4          3\n",
      "3       4       9       9           9          1\n",
      "4       4       9      10           2          5\n",
      "10      5       2       1           2          1\n",
      "8       6       8       4           8          8\n",
      "1       6       8       6           3         10\n",
      "5       8       2       5           4          8\n",
      "6      10       7       4           4          4\n"
     ]
    }
   ],
   "source": [
    "import numpy as np\n",
    "import pandas as pd\n",
    "np.random.seed(0)\n",
    "columns = [\"apple\", \"orange\", \"banana\", \"strawberry\", \"kiwifruit\"]\n",
    "\n",
    "# 生成 DataFrame 并添加列\n",
    "df = pd.DataFrame()\n",
    "for column in columns:\n",
    "    df[column] = np.random.choice(range(1, 11), 10)\n",
    "df.index = range(1, 11)\n",
    "\n",
    "# 请将 df 按照 “apple”、“orange”、“banana”、“strawberry”、“kiwifruit” 的优先顺序进行升序排序\n",
    "# 请将排序所生成的 DataFrame 代入 df 中。 如果是第一个参数，则 by 可以省略\n",
    "df = df.sort_values(by=columns)\n",
    "\n",
    "print(df)"
   ]
  },
  {
   "cell_type": "markdown",
   "metadata": {},
   "source": [
    "**程序清单 8.49：参考答案**"
   ]
  },
  {
   "cell_type": "markdown",
   "metadata": {
    "courseId": 4010,
    "exerciseId": "H1ZBK28i8lz",
    "id": "code_session_name",
    "important": false,
    "isDL": false,
    "timeoutSecs": 5
   },
   "source": [
    "### 〇8.3.10 过滤"
   ]
  },
  {
   "cell_type": "code",
   "execution_count": 43,
   "metadata": {},
   "outputs": [
    {
     "name": "stdout",
     "output_type": "stream",
     "text": [
      "[ True False  True False  True]\n",
      "\n",
      "      fruits  time  year\n",
      "0      apple     1  2001\n",
      "2     banana     5  2001\n",
      "4  kiwifruit     3  2006\n"
     ]
    }
   ],
   "source": [
    "data = {\"fruits\": [\"apple\", \"orange\", \"banana\", \"strawberry\", \"kiwifruit\"],\n",
    "        \"year\": [2001, 2002, 2001, 2008, 2006],\n",
    "        \"time\": [1, 4, 5, 6, 3]}\n",
    "df = pd.DataFrame(data)\n",
    "print(df.index % 2 == 0)\n",
    "print()\n",
    "print(df[df.index % 2 == 0])"
   ]
  },
  {
   "cell_type": "markdown",
   "metadata": {},
   "source": [
    "**程序清单 8.50：过滤の例**"
   ]
  },
  {
   "cell_type": "markdown",
   "metadata": {},
   "source": [
    "#### □习题"
   ]
  },
  {
   "cell_type": "code",
   "execution_count": null,
   "metadata": {
    "collapsed": true,
    "id": "index",
    "scrolled": true
   },
   "outputs": [],
   "source": [
    "import numpy as np\n",
    "import pandas as pd\n",
    "np.random.seed(0)\n",
    "columns = [\"apple\", \"orange\", \"banana\", \"strawberry\", \"kiwifruit\"]\n",
    "\n",
    "# 生成 DataFrame 并添加列\n",
    "df = pd.DataFrame()\n",
    "for column in columns:\n",
    "    df[column] = np.random.choice(range(1, 11), 10)\n",
    "df.index = range(1, 11)\n",
    "\n",
    "# 请使用过滤功能，将 df 中 “apple” 列大于等于 5且 “kiwifruit” 列也大于等于 5 的行挑选出来，并带入 df 中\n",
    "\n",
    "\n",
    "\n",
    "print(df)"
   ]
  },
  {
   "cell_type": "markdown",
   "metadata": {},
   "source": [
    "**程序清单 8.51：习题**"
   ]
  },
  {
   "cell_type": "markdown",
   "metadata": {},
   "source": [
    "#### □参考答案"
   ]
  },
  {
   "cell_type": "code",
   "execution_count": 44,
   "metadata": {
    "id": "answer",
    "scrolled": true
   },
   "outputs": [
    {
     "name": "stdout",
     "output_type": "stream",
     "text": [
      "   apple  orange  banana  strawberry  kiwifruit\n",
      "1      6       8       6           3         10\n",
      "5      8       2       5           4          8\n",
      "8      6       8       4           8          8\n"
     ]
    }
   ],
   "source": [
    "import numpy as np\n",
    "import pandas as pd\n",
    "np.random.seed(0)\n",
    "columns = [\"apple\", \"orange\", \"banana\", \"strawberry\", \"kiwifruit\"]\n",
    "\n",
    "# 生成 DataFrame 并添加列\n",
    "df = pd.DataFrame()\n",
    "for column in columns:\n",
    "    df[column] = np.random.choice(range(1, 11), 10)\n",
    "df.index = range(1, 11)\n",
    "\n",
    "# 请使用过滤功能，将 df 中 “apple” 列大于等于 5且 “kiwifruit” 列也大于等于 5 的行挑选出来，并带入 df 中\n",
    "df = df.loc[df[\"apple\"] >= 5]\n",
    "df = df.loc[df[\"kiwifruit\"] >= 5]\n",
    "#df = df.loc[df[\"apple\"] >= 5][df[\"kiwifruit\"] >= 5]でもOK\n",
    "\n",
    "print(df)"
   ]
  },
  {
   "cell_type": "markdown",
   "metadata": {},
   "source": [
    "**程序清单 8.52：参考答案**"
   ]
  },
  {
   "cell_type": "markdown",
   "metadata": {
    "config": [
     "leap"
    ],
    "id": "chapter_exam"
   },
   "source": [
    "## ●附加习题"
   ]
  },
  {
   "cell_type": "markdown",
   "metadata": {},
   "source": [
    "#### □习题"
   ]
  },
  {
   "cell_type": "code",
   "execution_count": null,
   "metadata": {},
   "outputs": [],
   "source": [
    "import pandas as pd\n",
    "import numpy as np\n",
    "\n",
    "index = [\"growth\", \"mission\", \"ishikawa\", \"pro\"]\n",
    "data = [50, 7, 26, 1]\n",
    "# 请创建 Series\n",
    "series = \n",
    "\n",
    "# 请将按照索引的升序排序后的 series 代入变量 aidemy 中\n",
    "aidemy = \n",
    "\n",
    "\n",
    "# 请将索引为 “tutor”，数据为 30 的元素添加到 series 中\n",
    "aidemy1 = \n",
    "aidemy2 = series.append(aidemy1)\n",
    "\n",
    "print(aidemy)\n",
    "print()\n",
    "print(aidemy2)\n",
    "\n",
    "\n",
    "# 生成 DataFrame 并添加列\n",
    "df = pd.DataFrame()\n",
    "for index in index:\n",
    "    df[index] = np.random.choice(range(1, 11), 10)\n",
    "    # range(开始行数 , 结束行数-1)です\n",
    "df.index = range(1, 11)\n",
    "\n",
    "# 使用 loc[] 将 df 中从第 2 行到第 5 行的共四行数据与包含 “ishikawa” 的DataFrame 代入 aidemy3 中\n",
    "# 索引是以 1 开头，按升序排列的整数\n",
    "aidemy3 = \n",
    "print()\n",
    "print(aidemy3)"
   ]
  },
  {
   "cell_type": "markdown",
   "metadata": {},
   "source": [
    "**程序清单 8.53：习题（输出结果可能和实际显示界面不同）**"
   ]
  },
  {
   "cell_type": "code",
   "execution_count": 5,
   "metadata": {},
   "outputs": [
    {
     "name": "stdout",
     "output_type": "stream",
     "text": [
      "growth      50\n",
      "ishikawa    26\n",
      "mission      7\n",
      "pro          1\n",
      "dtype: int64\n",
      "\n",
      "growth      50\n",
      "mission      7\n",
      "ishikawa    26\n",
      "pro          1\n",
      "tutor       30\n",
      "dtype: int64\n",
      "\n",
      "   ishikawa\n",
      "2         7\n",
      "3        10\n",
      "4         4\n",
      "5         9\n"
     ]
    }
   ],
   "source": [
    "import pandas as pd\n",
    "import numpy as np\n",
    "\n",
    "index = [\"growth\", \"mission\", \"ishikawa\", \"pro\"]\n",
    "data = [50, 7, 26, 1]\n",
    "# 请创建 Series\n",
    "series = pd.Series(data, index=index)\n",
    "\n",
    "# 请将按照索引的升序排序后的 series 代入变量 aidemy 中\n",
    "aidemy = series.sort_index()\n",
    "\n",
    "\n",
    "# 请将索引为 “tutor”，数据为 30 的元素添加到 series 中\n",
    "aidemy1 = pd.Series([30], index=[\"tutor\"])\n",
    "aidemy2 = series.append(aidemy1)\n",
    "\n",
    "print(aidemy)\n",
    "print()\n",
    "print(aidemy2)\n",
    "\n",
    "\n",
    "# 生成 DataFrame 并添加列\n",
    "df = pd.DataFrame()\n",
    "for index in index:\n",
    "    df[index] = np.random.choice(range(1, 11), 10)\n",
    "    # range(开始行数 , 结束行数-1)です\n",
    "df.index = range(1, 11)\n",
    "\n",
    "# 使用 loc[] 将 df 中从第 2 行到第 5 行的共四行数据与包含 “ishikawa” 的DataFrame 代入 aidemy3 中\n",
    "# 索引是以 1 开头，按升序排列的整数\n",
    "aidemy3 = df.loc[range(2,6),[\"ishikawa\"]]\n",
    "print()\n",
    "print(aidemy3)"
   ]
  },
  {
   "cell_type": "markdown",
   "metadata": {},
   "source": [
    "**程序清单 8.54：参考答案**"
   ]
  }
 ],
 "metadata": {
  "celltoolbar": "Edit Metadata",
  "kernelspec": {
   "display_name": "Python 3",
   "language": "python",
   "name": "python3"
  },
  "language_info": {
   "codemirror_mode": {
    "name": "ipython",
    "version": 3
   },
   "file_extension": ".py",
   "mimetype": "text/x-python",
   "name": "python",
   "nbconvert_exporter": "python",
   "pygments_lexer": "ipython3",
   "version": "3.6.6"
  },
  "varInspector": {
   "cols": {
    "lenName": 16,
    "lenType": 16,
    "lenVar": 40
   },
   "kernels_config": {
    "python": {
     "delete_cmd_postfix": "",
     "delete_cmd_prefix": "del ",
     "library": "var_list.py",
     "varRefreshCmd": "print(var_dic_list())"
    },
    "r": {
     "delete_cmd_postfix": ") ",
     "delete_cmd_prefix": "rm(",
     "library": "var_list.r",
     "varRefreshCmd": "cat(var_dic_list()) "
    }
   },
   "types_to_exclude": [
    "module",
    "function",
    "builtin_function_or_method",
    "instance",
    "_Feature"
   ],
   "window_display": false
  }
 },
 "nbformat": 4,
 "nbformat_minor": 2
}
