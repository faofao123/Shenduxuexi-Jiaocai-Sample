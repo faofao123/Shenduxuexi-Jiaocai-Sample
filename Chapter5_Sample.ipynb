{
 "cells": [
  {
   "cell_type": "markdown",
   "metadata": {
    "chapterId": "HyNORQ-gbM",
    "id": "chapter_name"
   },
   "source": [
    "# Chapter5　Python的基本语法"
   ]
  },
  {
   "cell_type": "markdown",
   "metadata": {
    "id": "table"
   },
   "source": [
    "- **5.1 列表类型**\n",
    "    - **5.1.1 列表类型①** \n",
    "    - **5.1.2 列表类型②**\n",
    "    - **5.1.3 嵌套列表**\n",
    "    - **5.1.4 使用列表中的值**\n",
    "    - **5.1.5 从列表中取出列表(切片)**\n",
    "    - **5.1.6 列表元素的更新与追加**\n",
    "    - **5.1.7 列表中元素的删除**\n",
    "    - **5.1.8 使用列表类型的注意事项**\n",
    "<br><br>\n",
    "- **5.2 字典类型**\n",
    "    - **5.2.1 字典类型的定义**\n",
    "    - **5.2.2 使用字典中的元素**\n",
    "    - **5.2.3 字典的更新与追加**\n",
    "    - **5.2.4 字典中元素的删除**\n",
    "<br><br>\n",
    "- **5.3 while语句**\n",
    "    - **5.3.1 while语句①**\n",
    "    - **5.3.2 while语句②**\n",
    "    - **5.3.3 while与if**\n",
    "<br><br>\n",
    "- **5.4 for、break和continue语句**\n",
    "    - **5.4.1 for语句**\n",
    "    - **5.4.2 break语句**\n",
    "    - **5.4.3 continue语句**\n",
    "<br><br>\n",
    "- **5.5 附录**\n",
    "    - **5.5.1 使用for语句表示index**\n",
    "    - **5.5.2 嵌套列表的循环**\n",
    "    - **5.5.3 字典类型的循环**\n",
    "<br><br>\n",
    "- **5.6 附加习题**"
   ]
  },
  {
   "cell_type": "markdown",
   "metadata": {},
   "source": [
    "***"
   ]
  },
  {
   "cell_type": "markdown",
   "metadata": {
    "id": "section_name",
    "sectionId": "HySOCX-gZf"
   },
   "source": [
    "## ●5.1 列表类型"
   ]
  },
  {
   "cell_type": "markdown",
   "metadata": {
    "courseId": 3010,
    "exerciseId": "r1E-tnLjLxM",
    "id": "code_session_name",
    "important": true,
    "isDL": false,
    "timeoutSecs": 5
   },
   "source": [
    "### 〇5.1.1 列表类型①"
   ]
  },
  {
   "cell_type": "markdown",
   "metadata": {},
   "source": [
    "#### □习题"
   ]
  },
  {
   "cell_type": "code",
   "execution_count": null,
   "metadata": {
    "collapsed": true,
    "id": "index"
   },
   "outputs": [],
   "source": [
    "#  请将“red”“blue”“yellow”这三个字符串代入变量 c 中\n",
    "\n",
    "print(c)\n",
    "\n",
    "\n",
    "# 请输出变量 c 的类型\n"
   ]
  },
  {
   "cell_type": "markdown",
   "metadata": {},
   "source": [
    "**程序清单 5.1：习题**\n"
   ]
  },
  {
   "cell_type": "markdown",
   "metadata": {},
   "source": [
    "#### □参考答案"
   ]
  },
  {
   "cell_type": "code",
   "execution_count": 1,
   "metadata": {
    "id": "answer"
   },
   "outputs": [
    {
     "name": "stdout",
     "output_type": "stream",
     "text": [
      "['red', 'blue', 'yellow']\n",
      "<class 'list'>\n"
     ]
    }
   ],
   "source": [
    "# 请将“red”“blue”“yellow”这三个字符串代入变量 c 中\n",
    "c = [\"red\", \"blue\", \"yellow\"]\n",
    "\n",
    "print(c)\n",
    "\n",
    "# 请输出变量 c 的类型\n",
    "print(type(c))"
   ]
  },
  {
   "cell_type": "markdown",
   "metadata": {},
   "source": [
    "**程序清单 5.2：参考答案**"
   ]
  },
  {
   "cell_type": "markdown",
   "metadata": {
    "courseId": 3010,
    "exerciseId": "H1SWYhLoUez",
    "id": "code_session_name",
    "important": false,
    "isDL": false,
    "timeoutSecs": 5
   },
   "source": [
    "### 〇5.1.2 列表类型②"
   ]
  },
  {
   "cell_type": "code",
   "execution_count": 1,
   "metadata": {},
   "outputs": [
    {
     "name": "stdout",
     "output_type": "stream",
     "text": [
      "[' 苹果 ', 3, ' 大猩猩 ']\n"
     ]
    }
   ],
   "source": [
    "# 程序清单5.3\n",
    "n = 3\n",
    "print([\" 苹果 \", n, \" 大猩猩 \"])"
   ]
  },
  {
   "cell_type": "markdown",
   "metadata": {},
   "source": [
    "**程序清单 5.3：列表类型②の例**"
   ]
  },
  {
   "cell_type": "markdown",
   "metadata": {},
   "source": [
    "#### □习题"
   ]
  },
  {
   "cell_type": "code",
   "execution_count": null,
   "metadata": {
    "collapsed": true,
    "id": "index"
   },
   "outputs": [],
   "source": [
    "apple = 4\n",
    "grape = 3\n",
    "banana = 6\n",
    "\n",
    "# 请将 apple、grape、banana 这几个变量作为元素依次保存到变量名为fruits的列表中\n",
    "\n",
    "\n",
    "print(fruits)"
   ]
  },
  {
   "cell_type": "markdown",
   "metadata": {},
   "source": [
    "**程序清单 5.4：习题**"
   ]
  },
  {
   "cell_type": "markdown",
   "metadata": {},
   "source": [
    "#### □参考答案"
   ]
  },
  {
   "cell_type": "code",
   "execution_count": 3,
   "metadata": {
    "id": "answer"
   },
   "outputs": [
    {
     "name": "stdout",
     "output_type": "stream",
     "text": [
      "[4, 3, 6]\n"
     ]
    }
   ],
   "source": [
    "apple = 4\n",
    "grape = 3\n",
    "banana = 6\n",
    "\n",
    "# 请将 apple、grape、banana 这几个变量作为元素依次保存到变量名为fruits的列表中\n",
    "fruits = [apple, grape, banana]\n",
    "\n",
    "\n",
    "print(fruits)"
   ]
  },
  {
   "cell_type": "markdown",
   "metadata": {},
   "source": [
    "**程序清单 5.4：参考答案**"
   ]
  },
  {
   "cell_type": "markdown",
   "metadata": {
    "courseId": 3010,
    "exerciseId": "ryUZt2Li8xz",
    "id": "code_session_name",
    "important": true,
    "isDL": false,
    "timeoutSecs": 5
   },
   "source": [
    "### 〇5.1.3 嵌套列表"
   ]
  },
  {
   "cell_type": "code",
   "execution_count": 4,
   "metadata": {},
   "outputs": [
    {
     "name": "stdout",
     "output_type": "stream",
     "text": [
      "[[1, 2], [3, 4], [5, 6]]\n"
     ]
    }
   ],
   "source": [
    "print([[1, 2], [3, 4], [5, 6]])"
   ]
  },
  {
   "cell_type": "markdown",
   "metadata": {},
   "source": [
    "**程序清单 5.6：嵌套列表的示例**"
   ]
  },
  {
   "cell_type": "markdown",
   "metadata": {},
   "source": [
    "#### □习题"
   ]
  },
  {
   "cell_type": "code",
   "execution_count": null,
   "metadata": {},
   "outputs": [],
   "source": [
    "fruits_name_1 = \"苹果\"\n",
    "fruits_num_1 = 2\n",
    "fruits_name_2 = \"橘子\"\n",
    "fruits_num_2 = 10\n",
    "\n",
    "# 请将变量带入fruits中，使其输出结果为[[\"苹果\", 2], [\"橘子\", 10]]\n",
    "\n",
    "\n",
    "# 进行输出\n",
    "print(fruits)"
   ]
  },
  {
   "cell_type": "markdown",
   "metadata": {},
   "source": [
    "**程序清单 5.7：习题**"
   ]
  },
  {
   "cell_type": "markdown",
   "metadata": {},
   "source": [
    "#### □参考答案"
   ]
  },
  {
   "cell_type": "code",
   "execution_count": 5,
   "metadata": {
    "id": "answer",
    "scrolled": true
   },
   "outputs": [
    {
     "name": "stdout",
     "output_type": "stream",
     "text": [
      "[['苹果', 2], ['橘子', 10]]\n"
     ]
    }
   ],
   "source": [
    "fruits_name_1 = \"苹果\"\n",
    "fruits_num_1 = 2\n",
    "fruits_name_2 = \"橘子\"\n",
    "fruits_num_2 = 10\n",
    "\n",
    "# 请将变量带入fruits中，使其输出结果为[[\"苹果\", 2], [\"橘子\", 10]]\n",
    "fruits = [[fruits_name_1, fruits_num_1], [fruits_name_2, fruits_num_2]]\n",
    "\n",
    "# 进行输出\n",
    "print(fruits)"
   ]
  },
  {
   "cell_type": "markdown",
   "metadata": {},
   "source": [
    "**程序清单 5.8：参考答案**　追加内容\n"
   ]
  },
  {
   "cell_type": "markdown",
   "metadata": {
    "courseId": 3010,
    "exerciseId": "ByDZYn8oLlz",
    "id": "code_session_name",
    "important": true,
    "isDL": false,
    "timeoutSecs": 5
   },
   "source": [
    "### 〇5.1.4 使用列表中的值"
   ]
  },
  {
   "cell_type": "code",
   "execution_count": 7,
   "metadata": {},
   "outputs": [
    {
     "name": "stdout",
     "output_type": "stream",
     "text": [
      "2\n",
      "3\n"
     ]
    }
   ],
   "source": [
    "a = [1, 2, 3, 4]\n",
    "print(a[1])  \n",
    "print(a[-2])  "
   ]
  },
  {
   "cell_type": "markdown",
   "metadata": {},
   "source": [
    "**程序清单 5.9：使用列表中的值的示例**"
   ]
  },
  {
   "cell_type": "markdown",
   "metadata": {},
   "source": [
    "#### □习题"
   ]
  },
  {
   "cell_type": "code",
   "execution_count": null,
   "metadata": {
    "collapsed": true,
    "id": "index"
   },
   "outputs": [],
   "source": [
    "fruits = [\"apple\", 2, \"orange\", 4, \"grape\", 3, \"banana\", 1]\n",
    "\n",
    "# 请对变量 fruits 中的第 2 个元素进行输出\n",
    "\n",
    "\n",
    "# 请对变量 fruits 中的最后一个元素进行输出\n",
    "\n"
   ]
  },
  {
   "cell_type": "markdown",
   "metadata": {},
   "source": [
    "**程序清单 5.10：习题**"
   ]
  },
  {
   "cell_type": "markdown",
   "metadata": {},
   "source": [
    "#### □参考答案"
   ]
  },
  {
   "cell_type": "code",
   "execution_count": 6,
   "metadata": {
    "id": "answer"
   },
   "outputs": [
    {
     "name": "stdout",
     "output_type": "stream",
     "text": [
      "2\n",
      "1\n"
     ]
    }
   ],
   "source": [
    "fruits = [\"apple\", 2, \"orange\", 4, \"grape\", 3, \"banana\", 1]\n",
    "\n",
    "# 请对变量 fruits 中的第 2 个元素进行输出\n",
    "print(fruits[1]) #print(fruits[-7])也是正确的\n",
    "\n",
    "# 请对变量 fruits 中的最后一个元素进行输出\n",
    "print(fruits[7]) #print(fruits[-1])也是正确的"
   ]
  },
  {
   "cell_type": "markdown",
   "metadata": {},
   "source": [
    "**程序清单 5.11：参考答案**"
   ]
  },
  {
   "cell_type": "markdown",
   "metadata": {
    "courseId": 3010,
    "exerciseId": "By_WF3IsLlf",
    "id": "code_session_name",
    "important": true,
    "isDL": false,
    "timeoutSecs": 5
   },
   "source": [
    "### 〇5.1.5 从列表中取出列表(切片)"
   ]
  },
  {
   "cell_type": "code",
   "execution_count": 7,
   "metadata": {},
   "outputs": [
    {
     "name": "stdout",
     "output_type": "stream",
     "text": [
      "['b', 'c', 'd', 'e']\n",
      "['b', 'c', 'd', 'e']\n",
      "['a', 'b', 'c', 'd', 'e']\n",
      "['g', 'h', 'i', 'j']\n",
      "['a', 'b', 'c', 'd', 'e', 'f', 'g', 'h', 'i', 'j']\n"
     ]
    }
   ],
   "source": [
    "alphabet = [\"a\", \"b\", \"c\", \"d\", \"e\", \"f\", \"g\", \"h\", \"i\", \"j\"]\n",
    "print(alphabet[1:5])  \n",
    "print(alphabet[1:-5])  \n",
    "print(alphabet[:5])  \n",
    "print(alphabet[6:])  \n",
    "print(alphabet[0:20])  "
   ]
  },
  {
   "cell_type": "markdown",
   "metadata": {},
   "source": [
    "**程序清单 5.12：切片的示例**"
   ]
  },
  {
   "cell_type": "markdown",
   "metadata": {},
   "source": [
    "#### □习题"
   ]
  },
  {
   "cell_type": "code",
   "execution_count": null,
   "metadata": {
    "collapsed": true,
    "id": "index"
   },
   "outputs": [],
   "source": [
    "chaos = [\"cat\", \"apple\", 2, \"orange\", 4, \"grape\", 3, \"banana\", 1, \"elephant\", \"dog\"]\n",
    "\n",
    "# 请从列表chaos中取出[\"apple\", 2, \"orange\", 4, \"grape\", 3, \"banana\", 1]列表，并将其带入变量fruits中\n",
    "\n",
    "\n",
    "\n",
    "# 对变量fruits进行输出\n",
    "print(fruits)\n"
   ]
  },
  {
   "cell_type": "markdown",
   "metadata": {},
   "source": [
    "**程序清单 5.13：习题**"
   ]
  },
  {
   "cell_type": "markdown",
   "metadata": {},
   "source": [
    "#### □参考答案"
   ]
  },
  {
   "cell_type": "code",
   "execution_count": 9,
   "metadata": {
    "id": "answer"
   },
   "outputs": [
    {
     "name": "stdout",
     "output_type": "stream",
     "text": [
      "['apple', 2, 'orange', 4, 'grape', 3, 'banana', 1]\n"
     ]
    }
   ],
   "source": [
    "chaos = [\"cat\", \"apple\", 2, \"orange\", 4, \"grape\", 3, \"banana\", 1, \"elephant\", \"dog\"]\n",
    "\n",
    "# 请从列表chaos中取出[\"apple\", 2, \"orange\", 4, \"grape\", 3, \"banana\", 1]列表，并将其带入变量fruits中\n",
    "fruits = chaos[1:9]  #chaos[1:-2]也可以\n",
    "\n",
    "# 对变量fruits进行输出\n",
    "print(fruits)\n"
   ]
  },
  {
   "cell_type": "markdown",
   "metadata": {},
   "source": [
    "**程序清单 5.14：参考答案**"
   ]
  },
  {
   "cell_type": "markdown",
   "metadata": {
    "courseId": 3010,
    "exerciseId": "SyYbF3UjLgz",
    "id": "code_session_name",
    "important": true,
    "isDL": false,
    "timeoutSecs": 5
   },
   "source": [
    "### 〇5.1.6 列表中元素的更新与追加"
   ]
  },
  {
   "cell_type": "code",
   "execution_count": 8,
   "metadata": {},
   "outputs": [
    {
     "name": "stdout",
     "output_type": "stream",
     "text": [
      "['A', 'B', 'C', 'd', 'e']\n",
      "['A', 'B', 'C', 'd', 'e', 'f', 'g', 'h', 'i']\n"
     ]
    }
   ],
   "source": [
    "alphabet = [\"a\", \"b\", \"c\", \"d\", \"e\"]\n",
    "alphabet[0] = \"A\"\n",
    "alphabet[1:3] = [\"B\", \"C\"]\n",
    "print(alphabet) \n",
    "\n",
    "alphabet = alphabet + [\"f\"]\n",
    "alphabet += [\"g\",\"h\"]\n",
    "alphabet.append(\"i\")\n",
    "print(alphabet) "
   ]
  },
  {
   "cell_type": "markdown",
   "metadata": {},
   "source": [
    "**程序清单 5.15：列表中元素的更新与追加的示例**"
   ]
  },
  {
   "cell_type": "markdown",
   "metadata": {},
   "source": [
    "#### □习题"
   ]
  },
  {
   "cell_type": "code",
   "execution_count": null,
   "metadata": {
    "collapsed": true,
    "id": "index"
   },
   "outputs": [],
   "source": [
    "c = [\"dog\", \"blue\", \"yellow\"]\n",
    "\n",
    "# 请将列表 c 中最开始的元素更新为“red”\n",
    "\n",
    "\n",
    "print(c)\n",
    "\n",
    "# 请在列表的末尾追加“green”字符串\n",
    "\n",
    "\n",
    "print(c)"
   ]
  },
  {
   "cell_type": "markdown",
   "metadata": {},
   "source": [
    "**程序清单 5.16：习题**"
   ]
  },
  {
   "cell_type": "markdown",
   "metadata": {},
   "source": [
    "#### □参考答案"
   ]
  },
  {
   "cell_type": "code",
   "execution_count": 9,
   "metadata": {
    "id": "answer"
   },
   "outputs": [
    {
     "name": "stdout",
     "output_type": "stream",
     "text": [
      "['red', 'blue', 'yellow']\n",
      "['red', 'blue', 'yellow', 'green']\n"
     ]
    }
   ],
   "source": [
    "c = [\"dog\", \"blue\", \"yellow\"]\n",
    "\n",
    "# 请将列表 c 中最开始的元素更新为“red”\n",
    "c[0] = \"red\"\n",
    "print(c)\n",
    "\n",
    "# 请在列表的末尾追加“green”字符串\n",
    "c = c + [\"green\"]  # c.append(\"green\")也可以\n",
    "print(c)"
   ]
  },
  {
   "cell_type": "markdown",
   "metadata": {},
   "source": [
    "**程序清单 5.17：参考答案**"
   ]
  },
  {
   "cell_type": "markdown",
   "metadata": {
    "courseId": 3010,
    "exerciseId": "Sk9-Kn8sIgM",
    "id": "code_session_name",
    "important": false,
    "isDL": false,
    "timeoutSecs": 5
   },
   "source": [
    "### 〇5.1.7 列表中元素的删除"
   ]
  },
  {
   "cell_type": "code",
   "execution_count": 10,
   "metadata": {},
   "outputs": [
    {
     "name": "stdout",
     "output_type": "stream",
     "text": [
      "['b', 'c']\n"
     ]
    }
   ],
   "source": [
    "alphabet = [\"a\", \"b\", \"c\", \"d\", \"e\"]\n",
    "del alphabet[3:]\n",
    "del alphabet[0]\n",
    "print(alphabet)  "
   ]
  },
  {
   "cell_type": "markdown",
   "metadata": {},
   "source": [
    "**程序清单 5.18：列表中元素的删除的示例**"
   ]
  },
  {
   "cell_type": "markdown",
   "metadata": {},
   "source": [
    "#### □习题"
   ]
  },
  {
   "cell_type": "markdown",
   "metadata": {
    "id": "question"
   },
   "source": [
    "请将变量 c 中第一个元素删除"
   ]
  },
  {
   "cell_type": "code",
   "execution_count": null,
   "metadata": {
    "collapsed": true,
    "id": "index"
   },
   "outputs": [],
   "source": [
    "c = [\"dog\", \"blue\", \"yellow\"]\n",
    "print(c)\n",
    "\n",
    "# 请将变量 c 中第一个元素删除\n",
    "\n",
    "\n",
    "print(c)"
   ]
  },
  {
   "cell_type": "markdown",
   "metadata": {},
   "source": [
    "**程序清单 5.19：习题**"
   ]
  },
  {
   "cell_type": "markdown",
   "metadata": {},
   "source": [
    "#### □参考答案"
   ]
  },
  {
   "cell_type": "code",
   "execution_count": 11,
   "metadata": {
    "id": "answer"
   },
   "outputs": [
    {
     "name": "stdout",
     "output_type": "stream",
     "text": [
      "['dog', 'blue', 'yellow']\n",
      "['blue', 'yellow']\n"
     ]
    }
   ],
   "source": [
    "c = [\"dog\", \"blue\", \"yellow\"]\n",
    "print(c)\n",
    "\n",
    "# 请将变量 c 中第一个元素删除\n",
    "del c[0]\n",
    "print(c)"
   ]
  },
  {
   "cell_type": "markdown",
   "metadata": {},
   "source": [
    "**程序清单 5.20：参考答案**"
   ]
  },
  {
   "cell_type": "markdown",
   "metadata": {
    "courseId": 3010,
    "exerciseId": "BJiZY28jLgz",
    "id": "code_session_name",
    "important": true,
    "isDL": false,
    "timeoutSecs": 5
   },
   "source": [
    "### 〇5.1.8 使用列表类型的注意事项"
   ]
  },
  {
   "cell_type": "code",
   "execution_count": 13,
   "metadata": {},
   "outputs": [
    {
     "name": "stdout",
     "output_type": "stream",
     "text": [
      "['A', 'b', 'c']\n"
     ]
    }
   ],
   "source": [
    "alphabet = [\"a\", \"b\", \"c\"]\n",
    "alphabet_copy = alphabet\n",
    "alphabet_copy[0] = \"A\"\n",
    "print(alphabet) "
   ]
  },
  {
   "cell_type": "markdown",
   "metadata": {},
   "source": [
    "**程序清单 5.21：列表类型的示例①**"
   ]
  },
  {
   "cell_type": "code",
   "execution_count": 12,
   "metadata": {},
   "outputs": [
    {
     "name": "stdout",
     "output_type": "stream",
     "text": [
      "['a', 'b', 'c']\n"
     ]
    }
   ],
   "source": [
    "alphabet = [\"a\", \"b\", \"c\"]\n",
    "alphabet_copy = alphabet[:]\n",
    "alphabet_copy[0] = \"A\"\n",
    "print(alphabet)  "
   ]
  },
  {
   "cell_type": "markdown",
   "metadata": {},
   "source": [
    "**程序清单 5.22：列表类型的示例②**"
   ]
  },
  {
   "cell_type": "markdown",
   "metadata": {},
   "source": [
    "#### □习题"
   ]
  },
  {
   "cell_type": "code",
   "execution_count": null,
   "metadata": {},
   "outputs": [],
   "source": [
    "c = [\"red\", \"blue\", \"yellow\"]\n",
    "\n",
    "# 请进行适当的改正，确保变量 c 中的值不会发生变化\n",
    "c_copy = c\n",
    "\n",
    "c_copy[1] = \"green\"\n",
    "print(c)"
   ]
  },
  {
   "cell_type": "markdown",
   "metadata": {},
   "source": [
    "**程序清单 5.23：习题**"
   ]
  },
  {
   "cell_type": "markdown",
   "metadata": {},
   "source": [
    "#### □参考答案"
   ]
  },
  {
   "cell_type": "code",
   "execution_count": 13,
   "metadata": {},
   "outputs": [
    {
     "name": "stdout",
     "output_type": "stream",
     "text": [
      "['red', 'blue', 'yellow']\n"
     ]
    }
   ],
   "source": [
    "c = [\"red\", \"blue\", \"yellow\"]\n",
    "\n",
    "# 请进行适当的改正，确保变量 c 中的值不会发生变化\n",
    "c_copy = list(c) # 写成c[:] 也是正确的\n",
    "\n",
    "c_copy[1] = \"green\"\n",
    "print(c)"
   ]
  },
  {
   "cell_type": "markdown",
   "metadata": {},
   "source": [
    "**程序清单 5.24：参考答案**"
   ]
  },
  {
   "cell_type": "markdown",
   "metadata": {
    "id": "section_name",
    "sectionId": "B1LdA7blWf"
   },
   "source": [
    "## ●5.2 字典类型"
   ]
  },
  {
   "cell_type": "markdown",
   "metadata": {
    "courseId": 3010,
    "exerciseId": "H13WthIiLlz",
    "id": "code_session_name",
    "important": true,
    "isDL": false,
    "timeoutSecs": 5
   },
   "source": [
    "### 〇5.2.1 字典类型的定义"
   ]
  },
  {
   "cell_type": "code",
   "execution_count": 14,
   "metadata": {},
   "outputs": [
    {
     "name": "stdout",
     "output_type": "stream",
     "text": [
      "{'Japan': 'Tokyo', 'Korea': 'Seoul'}\n"
     ]
    }
   ],
   "source": [
    "dic ={\"Japan\": \"Tokyo\", \"Korea\": \"Seoul\"}\n",
    "print(dic)"
   ]
  },
  {
   "cell_type": "markdown",
   "metadata": {},
   "source": [
    "**程序清单 5.25：字典类型的示例**"
   ]
  },
  {
   "cell_type": "markdown",
   "metadata": {},
   "source": [
    "#### □习题"
   ]
  },
  {
   "cell_type": "code",
   "execution_count": null,
   "metadata": {
    "collapsed": true,
    "id": "index"
   },
   "outputs": [],
   "source": [
    "# 请将字典代入变量 town 中\n",
    "\n",
    "\n",
    "\n",
    "# 对town进行输出\n",
    "print(town)\n",
    "# 对类型进行输出\n",
    "print(type(town))"
   ]
  },
  {
   "cell_type": "markdown",
   "metadata": {},
   "source": [
    "**程序清单 5.26：习题**"
   ]
  },
  {
   "cell_type": "markdown",
   "metadata": {},
   "source": [
    "#### □参考答案"
   ]
  },
  {
   "cell_type": "code",
   "execution_count": 17,
   "metadata": {
    "id": "answer"
   },
   "outputs": [
    {
     "name": "stdout",
     "output_type": "stream",
     "text": [
      "{'Aichi': 'Nagoya', 'Kanagawa': 'Yokohama'}\n",
      "<class 'dict'>\n"
     ]
    }
   ],
   "source": [
    "# 请将字典代入变量 town 中\n",
    "town = {\"Aichi\": \"Nagoya\", \"Kanagawa\": \"Yokohama\"}\n",
    "\n",
    "# 对town进行输出\n",
    "print(town)\n",
    "# 对类型进行输出\n",
    "print(type(town))"
   ]
  },
  {
   "cell_type": "markdown",
   "metadata": {},
   "source": [
    "**程序清单 5.27：参考答案**"
   ]
  },
  {
   "cell_type": "markdown",
   "metadata": {
    "courseId": 3010,
    "exerciseId": "S1a-Y2UoLgG",
    "id": "code_session_name",
    "important": true,
    "isDL": false,
    "timeoutSecs": 5
   },
   "source": [
    "### 〇5.2.2 使用字典中的元素"
   ]
  },
  {
   "cell_type": "code",
   "execution_count": 18,
   "metadata": {},
   "outputs": [
    {
     "name": "stdout",
     "output_type": "stream",
     "text": [
      "Tokyo\n"
     ]
    }
   ],
   "source": [
    "dic ={\"Japan\": \"Tokyo\", \"Korea\": \"Soul\"}\n",
    "print(dic[\"Japan\"])  "
   ]
  },
  {
   "cell_type": "markdown",
   "metadata": {},
   "source": [
    "**程序清单 5.28：从字典中取出元素的示例**"
   ]
  },
  {
   "cell_type": "markdown",
   "metadata": {},
   "source": [
    "#### □习题"
   ]
  },
  {
   "cell_type": "code",
   "execution_count": null,
   "metadata": {
    "collapsed": true,
    "id": "index"
   },
   "outputs": [],
   "source": [
    "town = {\"Aichi\": \"Nagoya\", \"Kanagawa\": \"Yokohama\"}\n",
    "\n",
    "# 请对 “Aichi 的县政府所在地是 Nagoya 市” 进行输出\n",
    "\n",
    "\n",
    "\n",
    "# 请对 “Kanagawa 的县政府所在地是 Yokohama 市” 进行输出\n"
   ]
  },
  {
   "cell_type": "markdown",
   "metadata": {},
   "source": [
    "**程序清单 5.29：习题**"
   ]
  },
  {
   "cell_type": "markdown",
   "metadata": {},
   "source": [
    "#### □参考答案"
   ]
  },
  {
   "cell_type": "code",
   "execution_count": 15,
   "metadata": {
    "id": "answer"
   },
   "outputs": [
    {
     "name": "stdout",
     "output_type": "stream",
     "text": [
      "Aichi 的县政府所在地是 Nagoya 市\n",
      "Kanagawa 的县政府所在地是 Yokohama 市\n"
     ]
    }
   ],
   "source": [
    "town = {\"Aichi\": \"Nagoya\", \"Kanagawa\": \"Yokohama\"}\n",
    "\n",
    "# 请对 “Aichi 的县政府所在地是 Nagoya 市” 进行输出\n",
    "print(\"Aichi 的县政府所在地是\" + town[\"Aichi\"] + \"市\")\n",
    "\n",
    "# 请对 “Kanagawa 的县政府所在地是 Yokohama 市” 进行输出\n",
    "print(\"Kanagawa 的县政府所在地是\" + town[\"Kanagawa\"] + \"市\")"
   ]
  },
  {
   "cell_type": "markdown",
   "metadata": {},
   "source": [
    "**程序清单 5.30：参考答案**"
   ]
  },
  {
   "cell_type": "markdown",
   "metadata": {
    "courseId": 3010,
    "exerciseId": "B1R-F3IoUeG",
    "id": "code_session_name",
    "important": true,
    "isDL": false,
    "timeoutSecs": 5
   },
   "source": [
    "### 〇5.2.3 字典的更新与追加"
   ]
  },
  {
   "cell_type": "code",
   "execution_count": 20,
   "metadata": {},
   "outputs": [
    {
     "name": "stdout",
     "output_type": "stream",
     "text": [
      "{'Japan': 'Osaka', 'Korea': 'Soul', 'China': 'Beijin'}\n"
     ]
    }
   ],
   "source": [
    "dic ={\"Japan\":\"Tokyo\",\"Korea\":\"Soul\"}\n",
    "dic[\"Japan\"] = \"Osaka\"\n",
    "dic[\"China\"] = \"Beijin\"\n",
    "print(dic)  "
   ]
  },
  {
   "cell_type": "markdown",
   "metadata": {},
   "source": [
    "**程序清单 5.31：字典的更新与追加的示例**"
   ]
  },
  {
   "cell_type": "markdown",
   "metadata": {},
   "source": [
    "#### □习题"
   ]
  },
  {
   "cell_type": "code",
   "execution_count": null,
   "metadata": {
    "collapsed": true,
    "id": "index"
   },
   "outputs": [],
   "source": [
    "town = {\"Aichi\": \"aichi\", \"Kanagawa\": \"Yokohama\"}\n",
    "\n",
    "# 请将键名为 “Hokkaido”、值为 “Sapporo” 的元素添加到字典中，并输出结果\n",
    "\n",
    "\n",
    "print(town)\n",
    "\n",
    "# 请将键名为 “Aichi” 的值更新为 “Nagoya”，并输出结果\n",
    "\n",
    "\n",
    "print(town)"
   ]
  },
  {
   "cell_type": "markdown",
   "metadata": {},
   "source": [
    "**程序清单 5.32：习题**"
   ]
  },
  {
   "cell_type": "markdown",
   "metadata": {},
   "source": [
    "#### □参考答案"
   ]
  },
  {
   "cell_type": "code",
   "execution_count": 16,
   "metadata": {
    "id": "answer"
   },
   "outputs": [
    {
     "name": "stdout",
     "output_type": "stream",
     "text": [
      "{'Aichi': 'aichi', 'Kanagawa': 'Yokohama', 'Hokkaido': 'Sapporo'}\n",
      "{'Aichi': 'Nagoya', 'Kanagawa': 'Yokohama', 'Hokkaido': 'Sapporo'}\n"
     ]
    }
   ],
   "source": [
    "town = {\"Aichi\": \"aichi\", \"Kanagawa\": \"Yokohama\"}\n",
    "\n",
    "#  请将键名为 “Hokkaido”、值为 “Sapporo” 的元素添加到字典中，并输出结果\n",
    "town[\"Hokkaido\"] = \"Sapporo\"\n",
    "print(town)\n",
    "\n",
    "# 请将键名为 “Aichi” 的值更新为 “Nagoya”，并输出结果\n",
    "town[\"Aichi\"] = \"Nagoya\"\n",
    "print(town)"
   ]
  },
  {
   "cell_type": "markdown",
   "metadata": {},
   "source": [
    "**程序清单 5.33：参考答案**"
   ]
  },
  {
   "cell_type": "markdown",
   "metadata": {
    "courseId": 3010,
    "exerciseId": "r1JGKhLsUeG",
    "id": "code_session_name",
    "important": false,
    "isDL": false,
    "timeoutSecs": 5
   },
   "source": [
    "### 〇5.2.4 字典中元素的删除"
   ]
  },
  {
   "cell_type": "code",
   "execution_count": 22,
   "metadata": {},
   "outputs": [
    {
     "name": "stdout",
     "output_type": "stream",
     "text": [
      "{'Japan': 'Tokyo', 'Korea': 'Soul'}\n"
     ]
    }
   ],
   "source": [
    "dic ={\"Japan\": \"Tokyo\", \"Korea\": \"Soul\", \"China\": \"Beijin\"}\n",
    "del dic[\"China\"]\n",
    "print(dic)  "
   ]
  },
  {
   "cell_type": "markdown",
   "metadata": {},
   "source": [
    "**程序清单 5.34：删除字典中元素的示例**"
   ]
  },
  {
   "cell_type": "markdown",
   "metadata": {},
   "source": [
    "#### □习题"
   ]
  },
  {
   "cell_type": "code",
   "execution_count": null,
   "metadata": {
    "collapsed": true,
    "id": "index"
   },
   "outputs": [],
   "source": [
    "town = {\"Aichi\": \"aichi\", \"Kanagawa\": \"Yokohama\", \"Hokkaido\": \"Sapporo\"}\n",
    "\n",
    "# 请将键名为 “Aichi” 的元素删除\n",
    "\n",
    "\n",
    "print(town)"
   ]
  },
  {
   "cell_type": "markdown",
   "metadata": {},
   "source": [
    "**程序清单 5.35：解答**"
   ]
  },
  {
   "cell_type": "markdown",
   "metadata": {},
   "source": [
    "#### □参考答案"
   ]
  },
  {
   "cell_type": "code",
   "execution_count": 17,
   "metadata": {
    "id": "answer"
   },
   "outputs": [
    {
     "name": "stdout",
     "output_type": "stream",
     "text": [
      "{'Kanagawa': 'Yokohama', 'Hokkaido': 'Sapporo'}\n"
     ]
    }
   ],
   "source": [
    "town = {\"Aichi\": \"aichi\", \"Kanagawa\": \"Yokohama\", \"Hokkaido\": \"Sapporo\"}\n",
    "\n",
    "# 请将键名为 “Aichi” 的元素删除\n",
    "del town[\"Aichi\"]\n",
    "print(town)"
   ]
  },
  {
   "cell_type": "markdown",
   "metadata": {},
   "source": [
    "**程序清单 5.36：参考答案**"
   ]
  },
  {
   "cell_type": "markdown",
   "metadata": {
    "id": "section_name",
    "sectionId": "Bkv_C7bgWz"
   },
   "source": [
    "## ●5.3 while语句"
   ]
  },
  {
   "cell_type": "markdown",
   "metadata": {
    "courseId": 3010,
    "exerciseId": "rygzF3Ui8lG",
    "id": "quiz_session_name",
    "important": true,
    "isDL": false,
    "timeoutSecs": 5
   },
   "source": [
    "### 〇5.3.1 while语句①"
   ]
  },
  {
   "cell_type": "code",
   "execution_count": 18,
   "metadata": {},
   "outputs": [
    {
     "name": "stdout",
     "output_type": "stream",
     "text": [
      "2\n",
      "1\n"
     ]
    }
   ],
   "source": [
    "n = 2\n",
    "while n >0:\n",
    "    print(n)\n",
    "    n -= 1"
   ]
  },
  {
   "cell_type": "markdown",
   "metadata": {},
   "source": [
    "**程序清单 5.37：while语句①的示例**"
   ]
  },
  {
   "cell_type": "markdown",
   "metadata": {},
   "source": [
    "#### □习题"
   ]
  },
  {
   "cell_type": "code",
   "execution_count": null,
   "metadata": {
    "collapsed": true
   },
   "outputs": [],
   "source": [
    "x = 5\n",
    "while x > 0:\n",
    "    print(\"Aidemy\")\n",
    "    x -= 2"
   ]
  },
  {
   "cell_type": "markdown",
   "metadata": {},
   "source": [
    "**程序清单 5.38：习题**"
   ]
  },
  {
   "cell_type": "markdown",
   "metadata": {
    "id": "choices"
   },
   "source": [
    "- 1.　1 次\n",
    "- 2.　2 次\n",
    "- 3.　3 次\n",
    "- 4.　4 次"
   ]
  },
  {
   "cell_type": "markdown",
   "metadata": {},
   "source": [
    "#### □解答"
   ]
  },
  {
   "cell_type": "code",
   "execution_count": 19,
   "metadata": {},
   "outputs": [
    {
     "name": "stdout",
     "output_type": "stream",
     "text": [
      "Aidemy\n",
      "Aidemy\n",
      "Aidemy\n"
     ]
    }
   ],
   "source": [
    "x = 5\n",
    "while x > 0:\n",
    "    print(\"Aidemy\")\n",
    "    x -= 2"
   ]
  },
  {
   "cell_type": "markdown",
   "metadata": {},
   "source": [
    "**程序清单 5.39：参考答案**\n"
   ]
  },
  {
   "cell_type": "markdown",
   "metadata": {
    "courseId": 3010,
    "exerciseId": "SJbGKnIoUlf",
    "id": "code_session_name",
    "important": false,
    "isDL": false,
    "timeoutSecs": 5
   },
   "source": [
    "### 〇5.3.2 while语句②"
   ]
  },
  {
   "cell_type": "markdown",
   "metadata": {},
   "source": [
    "#### □习题"
   ]
  },
  {
   "cell_type": "code",
   "execution_count": null,
   "metadata": {
    "collapsed": true,
    "id": "index"
   },
   "outputs": [],
   "source": [
    "x = 5\n",
    "\n",
    "# 请使用 while 语句，使程序在变量 x 不为 0 时进行循环\n",
    "\n",
    "    # 在 while 语句中每执行一次，循环变量 x 就减 1，输出变量的值\n",
    "    \n",
    "    "
   ]
  },
  {
   "cell_type": "markdown",
   "metadata": {},
   "source": [
    "**程序清单 5.40：习题**"
   ]
  },
  {
   "cell_type": "markdown",
   "metadata": {},
   "source": [
    "#### □参考答案"
   ]
  },
  {
   "cell_type": "code",
   "execution_count": 20,
   "metadata": {
    "id": "answer",
    "scrolled": true
   },
   "outputs": [
    {
     "name": "stdout",
     "output_type": "stream",
     "text": [
      "4\n",
      "3\n",
      "2\n",
      "1\n",
      "0\n"
     ]
    }
   ],
   "source": [
    "x = 5\n",
    "\n",
    "# 请使用 while 语句，使程序在变量 x 不为 0 时进行循环\n",
    "while x != 0:\n",
    "    # 在 while 语句中每执行一次，循环变量 x 就减 1，输出变量的值\n",
    "    x -= 1\n",
    "    print(x)"
   ]
  },
  {
   "cell_type": "markdown",
   "metadata": {},
   "source": [
    "**程序清单 5.41：参考答案**"
   ]
  },
  {
   "cell_type": "markdown",
   "metadata": {
    "courseId": 3010,
    "exerciseId": "r1GfF3UoUgz",
    "id": "code_session_name",
    "important": false,
    "isDL": false,
    "timeoutSecs": 5
   },
   "source": [
    "### 〇5.3.3 while与if"
   ]
  },
  {
   "cell_type": "markdown",
   "metadata": {},
   "source": [
    "#### □习题"
   ]
  },
  {
   "cell_type": "code",
   "execution_count": null,
   "metadata": {
    "collapsed": true,
    "id": "index"
   },
   "outputs": [],
   "source": [
    "x = 5\n",
    "\n",
    "# 请使用 while 语句，使程序在变量 x 不为 0 时进行循环\n",
    "\n",
    "    # 在 while 语句中每循环一次，变量 x 减 1，并对处理后的值进行输出\n",
    "    \n",
    "    print(x)"
   ]
  },
  {
   "cell_type": "markdown",
   "metadata": {},
   "source": [
    "**程序清单5.42：解答**"
   ]
  },
  {
   "cell_type": "markdown",
   "metadata": {},
   "source": [
    "#### □参考答案"
   ]
  },
  {
   "cell_type": "code",
   "execution_count": 29,
   "metadata": {
    "id": "answer"
   },
   "outputs": [
    {
     "name": "stdout",
     "output_type": "stream",
     "text": [
      "4\n",
      "3\n",
      "2\n",
      "1\n",
      "Bang\n"
     ]
    }
   ],
   "source": [
    "x = 5\n",
    "\n",
    "# 请使用 while 语句，使程序在变量 x 不为 0 时进行循环\n",
    "while x != 0:\n",
    "    # 在 while 语句中每循环一次，变量 x 减 1，并对处理后的值进行输出\n",
    "    x -= 1\n",
    "    if x != 0:\n",
    "        print(x)\n",
    "    else:\n",
    "        print(\"Bang\")"
   ]
  },
  {
   "cell_type": "markdown",
   "metadata": {},
   "source": [
    "**程序清单 5.43：参考答案**"
   ]
  },
  {
   "cell_type": "markdown",
   "metadata": {
    "id": "section_name",
    "sectionId": "B1_uRmZgbf"
   },
   "source": [
    "## ●5.4 for语句"
   ]
  },
  {
   "cell_type": "markdown",
   "metadata": {
    "courseId": 3010,
    "exerciseId": "Bk7GF2IiUxG",
    "id": "code_session_name",
    "important": true,
    "isDL": false,
    "timeoutSecs": 5
   },
   "source": [
    "### 〇5.4.1 for语句"
   ]
  },
  {
   "cell_type": "code",
   "execution_count": 22,
   "metadata": {},
   "outputs": [
    {
     "name": "stdout",
     "output_type": "stream",
     "text": [
      "tiger\n",
      "dog\n",
      "elephant\n"
     ]
    }
   ],
   "source": [
    "animals = [\"tiger\", \"dog\", \"elephant\"]\n",
    "for animal in animals:\n",
    "    print(animal)"
   ]
  },
  {
   "cell_type": "markdown",
   "metadata": {},
   "source": [
    "**程序清单 5.44：for语句的示例**"
   ]
  },
  {
   "cell_type": "markdown",
   "metadata": {},
   "source": [
    "#### □习题"
   ]
  },
  {
   "cell_type": "code",
   "execution_count": null,
   "metadata": {
    "collapsed": true,
    "id": "index"
   },
   "outputs": [],
   "source": [
    "storages = [1, 2, 3, 4]\n",
    "\n",
    "# 请使用 for 语句，对变量 storages 中的每个元素分别进行输出\n"
   ]
  },
  {
   "cell_type": "markdown",
   "metadata": {},
   "source": [
    "**程序清单 5.45：习题**"
   ]
  },
  {
   "cell_type": "markdown",
   "metadata": {},
   "source": [
    "#### □参考答案"
   ]
  },
  {
   "cell_type": "code",
   "execution_count": 24,
   "metadata": {
    "id": "answer"
   },
   "outputs": [
    {
     "name": "stdout",
     "output_type": "stream",
     "text": [
      "1\n",
      "2\n",
      "3\n",
      "4\n"
     ]
    }
   ],
   "source": [
    "storages = [1, 2, 3, 4]\n",
    "\n",
    "# 请使用 for 语句，对变量 storages 中的每个元素分别进行输出\n",
    "for n in storages:\n",
    "    print(n)"
   ]
  },
  {
   "cell_type": "markdown",
   "metadata": {},
   "source": [
    "**程序清单 5.46：参考答案**"
   ]
  },
  {
   "cell_type": "markdown",
   "metadata": {
    "courseId": 3010,
    "exerciseId": "r14GKnUsUez",
    "id": "code_session_name",
    "important": true,
    "isDL": false,
    "timeoutSecs": 5
   },
   "source": [
    "### 〇5.4.2 break"
   ]
  },
  {
   "cell_type": "code",
   "execution_count": 27,
   "metadata": {},
   "outputs": [
    {
     "name": "stdout",
     "output_type": "stream",
     "text": [
      "1\n",
      "2\n",
      "3\n",
      "4\n",
      "5\n",
      "其余数字待续\n"
     ]
    }
   ],
   "source": [
    "storages = [1, 2, 3, 4, 5, 6, 7, 8, 9, 10]\n",
    "for n in storages:\n",
    "    print(n)\n",
    "    if n >= 5:\n",
    "        print(\"其余数字待续\")\n",
    "        break"
   ]
  },
  {
   "cell_type": "markdown",
   "metadata": {},
   "source": [
    "**程序清单 5.47：break的示例**"
   ]
  },
  {
   "cell_type": "markdown",
   "metadata": {},
   "source": [
    "#### □习题"
   ]
  },
  {
   "cell_type": "code",
   "execution_count": null,
   "metadata": {
    "collapsed": true,
    "id": "index"
   },
   "outputs": [],
   "source": [
    "storages = [1, 2, 3, 4, 5, 6]\n",
    "\n",
    "for n in storages:\n",
    "    print(n)\n",
    "    # 请在变量 n 的值为 4 时结束处理\n",
    "    "
   ]
  },
  {
   "cell_type": "markdown",
   "metadata": {},
   "source": [
    "#### □参考答案"
   ]
  },
  {
   "cell_type": "code",
   "execution_count": 34,
   "metadata": {
    "id": "answer"
   },
   "outputs": [
    {
     "name": "stdout",
     "output_type": "stream",
     "text": [
      "1\n",
      "2\n",
      "3\n",
      "4\n"
     ]
    }
   ],
   "source": [
    "storages = [1, 2, 3, 4, 5, 6]\n",
    "\n",
    "for n in storages:\n",
    "    print(n)\n",
    "    # 请在变量 n 的值为 4 时结束处理\n",
    "    if n == 4:\n",
    "        break"
   ]
  },
  {
   "cell_type": "markdown",
   "metadata": {},
   "source": [
    "**程序清单 5.49：参考答案**"
   ]
  },
  {
   "cell_type": "markdown",
   "metadata": {
    "courseId": 3010,
    "exerciseId": "HyrMKnIjLlG",
    "id": "code_session_name",
    "important": true,
    "isDL": false,
    "timeoutSecs": 5
   },
   "source": [
    "### 〇5.4.3 continue"
   ]
  },
  {
   "cell_type": "code",
   "execution_count": 29,
   "metadata": {},
   "outputs": [
    {
     "name": "stdout",
     "output_type": "stream",
     "text": [
      "1\n",
      "3\n"
     ]
    }
   ],
   "source": [
    "storages = [1, 2, 3]\n",
    "for n in storages:\n",
    "    if n == 2:\n",
    "        continue\n",
    "    print(n)"
   ]
  },
  {
   "cell_type": "markdown",
   "metadata": {},
   "source": [
    "**程序清单 5.50：continue的示例**"
   ]
  },
  {
   "cell_type": "markdown",
   "metadata": {},
   "source": [
    "#### □习题"
   ]
  },
  {
   "cell_type": "code",
   "execution_count": null,
   "metadata": {
    "collapsed": true,
    "id": "index"
   },
   "outputs": [],
   "source": [
    "storages = [1, 2, 3, 4, 5, 6]\n",
    "\n",
    "for n in storages:\n",
    "    # 当变量 n 的值为 2 的倍数时跳过循环处理\n",
    "    \n",
    "        \n",
    "    print(n)"
   ]
  },
  {
   "cell_type": "markdown",
   "metadata": {},
   "source": [
    "**程序清单 5.51：习题**"
   ]
  },
  {
   "cell_type": "markdown",
   "metadata": {},
   "source": [
    "#### □参考答案"
   ]
  },
  {
   "cell_type": "code",
   "execution_count": 30,
   "metadata": {
    "id": "answer"
   },
   "outputs": [
    {
     "name": "stdout",
     "output_type": "stream",
     "text": [
      "1\n",
      "3\n",
      "5\n"
     ]
    }
   ],
   "source": [
    "storages = [1, 2, 3, 4, 5, 6]\n",
    "\n",
    "for n in storages:\n",
    "    # 当变量 n 的值为 2 的倍数时跳过循环处理\n",
    "    if n % 2 == 0:\n",
    "        continue\n",
    "    print(n)"
   ]
  },
  {
   "cell_type": "markdown",
   "metadata": {},
   "source": [
    "**程序清单 5.52：参考答案**"
   ]
  },
  {
   "cell_type": "markdown",
   "metadata": {
    "id": "section_name",
    "sectionId": "S1KuRQWx-z"
   },
   "source": [
    "## ●5.5 Appendix"
   ]
  },
  {
   "cell_type": "markdown",
   "metadata": {
    "courseId": 3010,
    "exerciseId": "HkLzYnLoIxM",
    "id": "code_session_name",
    "important": false,
    "isDL": false,
    "timeoutSecs": 5
   },
   "source": [
    "### 〇5.5.1 使用for语句表示index"
   ]
  },
  {
   "cell_type": "code",
   "execution_count": 31,
   "metadata": {},
   "outputs": [
    {
     "name": "stdout",
     "output_type": "stream",
     "text": [
      "0 a\n",
      "1 b\n"
     ]
    }
   ],
   "source": [
    "list = [\"a\", \"b\"]\n",
    "for index, value in enumerate(list):\n",
    "    print(index, value)"
   ]
  },
  {
   "cell_type": "markdown",
   "metadata": {},
   "source": [
    "**程序清单 5.53：for 使用for语句表示index的示例**"
   ]
  },
  {
   "cell_type": "markdown",
   "metadata": {},
   "source": [
    "#### □习题"
   ]
  },
  {
   "cell_type": "code",
   "execution_count": null,
   "metadata": {
    "id": "index"
   },
   "outputs": [],
   "source": [
    "animals = [\"tiger\", \"dog\", \"elephant\"]\n",
    "\n",
    "\n",
    "# 请使用 enumerate() 函数进行输出\n",
    "\n"
   ]
  },
  {
   "cell_type": "markdown",
   "metadata": {},
   "source": [
    "**程序清单 5.54：习题**"
   ]
  },
  {
   "cell_type": "markdown",
   "metadata": {},
   "source": [
    "#### □参考答案"
   ]
  },
  {
   "cell_type": "code",
   "execution_count": 32,
   "metadata": {
    "id": "answer"
   },
   "outputs": [
    {
     "name": "stdout",
     "output_type": "stream",
     "text": [
      "index:0 tiger\n",
      "index:1 dog\n",
      "index:2 elephant\n"
     ]
    }
   ],
   "source": [
    "animals = [\"tiger\", \"dog\", \"elephant\"]\n",
    "\n",
    "\n",
    "# 请使用 enumerate() 函数进行输出\n",
    "for index, animal in enumerate(animals):\n",
    "    print(\"index:\" + str(index), animal)"
   ]
  },
  {
   "cell_type": "markdown",
   "metadata": {},
   "source": [
    "**程序清单 5.55：参考答案**"
   ]
  },
  {
   "cell_type": "markdown",
   "metadata": {
    "courseId": 3010,
    "exerciseId": "HywGt3IjUxf",
    "id": "code_session_name",
    "important": false,
    "isDL": false,
    "timeoutSecs": 5
   },
   "source": [
    "### 〇5.5.2 嵌套列表的循环"
   ]
  },
  {
   "cell_type": "code",
   "execution_count": 43,
   "metadata": {},
   "outputs": [
    {
     "name": "stdout",
     "output_type": "stream",
     "text": [
      "1 2 3\n",
      "4 5 6\n"
     ]
    }
   ],
   "source": [
    "# 程序清单5.53\n",
    "list = [[1, 2, 3],\n",
    "        [4, 5, 6]]\n",
    "for a, b, c in list:\n",
    "    print(a, b, c)"
   ]
  },
  {
   "cell_type": "markdown",
   "metadata": {},
   "source": [
    "**程序清单 5.56：嵌套列表循环的示例**"
   ]
  },
  {
   "cell_type": "markdown",
   "metadata": {},
   "source": [
    "#### □习题"
   ]
  },
  {
   "cell_type": "code",
   "execution_count": null,
   "metadata": {
    "collapsed": true,
    "id": "index"
   },
   "outputs": [],
   "source": [
    "fruits = [[\"strawberry\", \"red\"],\n",
    "          [\"peach\", \"pink\"],\n",
    "          [\"banana\", \"yellow\"]]\n",
    "\n",
    "# 请使用for语句进行输出\n",
    "\n"
   ]
  },
  {
   "cell_type": "markdown",
   "metadata": {},
   "source": [
    "**程序清单5.57：习题**　"
   ]
  },
  {
   "cell_type": "markdown",
   "metadata": {},
   "source": [
    "#### □参考答案"
   ]
  },
  {
   "cell_type": "code",
   "execution_count": 33,
   "metadata": {
    "id": "answer",
    "scrolled": true
   },
   "outputs": [
    {
     "name": "stdout",
     "output_type": "stream",
     "text": [
      "strawberry is red\n",
      "peach is pink\n",
      "banana is yellow\n"
     ]
    }
   ],
   "source": [
    "fruits = [[\"strawberry\", \"red\"],\n",
    "          [\"peach\", \"pink\"],\n",
    "          [\"banana\", \"yellow\"]]\n",
    "\n",
    "# 请使用for语句进行输出\n",
    "for fruit, color in fruits:\n",
    "    print(fruit + \" is \" + color)"
   ]
  },
  {
   "cell_type": "markdown",
   "metadata": {},
   "source": [
    "**程序清单 5.58：参考答案**"
   ]
  },
  {
   "cell_type": "markdown",
   "metadata": {
    "courseId": 3010,
    "exerciseId": "BJ_fK28oIgG",
    "id": "code_session_name",
    "important": false,
    "isDL": false,
    "timeoutSecs": 5
   },
   "source": [
    "### 〇5.5.3 字典类型的循环"
   ]
  },
  {
   "cell_type": "code",
   "execution_count": 34,
   "metadata": {},
   "outputs": [
    {
     "name": "stdout",
     "output_type": "stream",
     "text": [
      "strawberry is red\n",
      "peach is pink\n",
      "banana is yellow\n"
     ]
    }
   ],
   "source": [
    "fruits = {\"strawberry\": \"red\", \"peach\": \"pink\", \"banana\": \"yellow\"}\n",
    "for fruit, color in fruits.items():\n",
    "        print(fruit+\" is \"+color)"
   ]
  },
  {
   "cell_type": "markdown",
   "metadata": {},
   "source": [
    "**程序清单 5.59：字典类型的循环示例**"
   ]
  },
  {
   "cell_type": "markdown",
   "metadata": {},
   "source": [
    "#### □习题"
   ]
  },
  {
   "cell_type": "code",
   "execution_count": null,
   "metadata": {
    "collapsed": true,
    "id": "index"
   },
   "outputs": [],
   "source": [
    "town = {\"Aichi\": \"Nagoya\", \"Kanagawa\": \"Yokohama\", \"Hokkaido\": \"Sapporo\"}\n",
    "\n",
    "# 请使用for语句进行输出\n",
    "\n"
   ]
  },
  {
   "cell_type": "markdown",
   "metadata": {},
   "source": [
    "**程序清单 5.60：习题**"
   ]
  },
  {
   "cell_type": "markdown",
   "metadata": {},
   "source": [
    "#### □参考答案"
   ]
  },
  {
   "cell_type": "code",
   "execution_count": 35,
   "metadata": {
    "id": "answer",
    "scrolled": true
   },
   "outputs": [
    {
     "name": "stdout",
     "output_type": "stream",
     "text": [
      "Aichi Nagoya\n",
      "Kanagawa Yokohama\n",
      "Hokkaido Sapporo\n"
     ]
    }
   ],
   "source": [
    "town = {\"Aichi\": \"Nagoya\", \"Kanagawa\": \"Yokohama\", \"Hokkaido\": \"Sapporo\"}\n",
    "\n",
    "# 请使用for语句进行输出\n",
    "for prefecture, capital in town.items():\n",
    "        print(prefecture, capital)"
   ]
  },
  {
   "cell_type": "markdown",
   "metadata": {},
   "source": [
    "**程序清单 5.61：参考答案**"
   ]
  },
  {
   "cell_type": "markdown",
   "metadata": {
    "id": "chapter_exam"
   },
   "source": [
    "## 附加习题"
   ]
  },
  {
   "cell_type": "markdown",
   "metadata": {},
   "source": [
    "#### □习题"
   ]
  },
  {
   "cell_type": "code",
   "execution_count": null,
   "metadata": {
    "collapsed": true,
    "id": "index"
   },
   "outputs": [],
   "source": [
    "items = {\"eracer\" : [100, 2], \"pen\" : [200, 3], \"notebook\" : [400,5]}\n",
    "total_price = 0\n",
    "\n",
    "# 请使用 for 语句对变量 items 进行循环\n",
    "\n",
    "    \n",
    "    # 请输出 “＊＊是 1 个＊＊日元，购买＊＊个” 的信息\n",
    "    \n",
    "    \n",
    "    # 请将价格与个数相乘并代入到变量 total_price 中\n",
    "\n",
    "    \n",
    "    \n",
    "# 请输出 “支付金额为＊＊日元” 信息\n",
    "\n",
    "\n",
    "# 请将随机值代入变量 money 中\n",
    "\n",
    "\n",
    "\n",
    "# 当 money > total_price 时，请输出 “找零为＊＊日元” 信息\n",
    "\n",
    "\n",
    "\n",
    "# 当 money == total_price 时，请输出 “不需要找零” 信息\n",
    "\n",
    "\n",
    "\n",
    "# 当 money < total_price 时，请输出 “支付金额不足” 信息\n",
    "\n"
   ]
  },
  {
   "cell_type": "markdown",
   "metadata": {},
   "source": [
    "**程序清单 5.62：习题**\n"
   ]
  },
  {
   "cell_type": "markdown",
   "metadata": {},
   "source": [
    "#### □参考答案"
   ]
  },
  {
   "cell_type": "code",
   "execution_count": 36,
   "metadata": {
    "id": "answer",
    "scrolled": true
   },
   "outputs": [
    {
     "name": "stdout",
     "output_type": "stream",
     "text": [
      "eracer 是 1 个 100 日元，购买 2 个\n",
      "pen 是 1 个 200 日元，购买 3 个\n",
      "notebook 是 1 个 400 日元，购买 5 个\n",
      "支付金额为 2800 日元\n",
      "找零为 1200 日元\n"
     ]
    }
   ],
   "source": [
    "items = {\"eracer\" : [100, 2], \"pen\" : [200, 3], \"notebook\" : [400,5]}\n",
    "total_price = 0\n",
    "\n",
    "# 请使用 for 语句对变量 items 进行循环\n",
    "for item in items:\n",
    "    \n",
    "    # 请输出 “＊＊是 1 个＊＊日元，购买＊＊个” 的信息\n",
    "    print(item + \"是1个\" + str(items[item][0]) + \"日元，购买\" \n",
    "          + str(items[item][1]) + \"个\")\n",
    "    # 请将价格与个数相乘并代入到变量 total_price 中\n",
    "    total_price += items[item][0] * items[item][1]\n",
    "\n",
    "# 请输出 “支付金额为＊＊日元” 信息\n",
    "print(\"支付金额为\" + str(total_price) + \"日元\")\n",
    "# 请将随机值代入变量 money 中\n",
    "money = 4000\n",
    "\n",
    "# 当 money > total_price 时，请输出 “找零为＊＊日元” 信息\n",
    "if money > total_price:\n",
    "    print(\"找零为\" + str(money - total_price) + \"日元\")\n",
    "# 当 money == total_price 时，请输出 “不需要找零” 信息\n",
    "elif money == total_price:\n",
    "    print(\"不需要找零\")\n",
    "# 当 money < total_price 时，请输出 “支付金额不足” 信息\n",
    "else:\n",
    "    print(\"支付金额不足\")"
   ]
  },
  {
   "cell_type": "markdown",
   "metadata": {},
   "source": [
    "**程序清单 5.63：参考答案**"
   ]
  },
  {
   "cell_type": "markdown",
   "metadata": {},
   "source": [
    "#### □解说"
   ]
  },
  {
   "cell_type": "code",
   "execution_count": 40,
   "metadata": {},
   "outputs": [
    {
     "name": "stdout",
     "output_type": "stream",
     "text": [
      "3\n"
     ]
    }
   ],
   "source": [
    "items = {\"eracer\" : [100, 2], \"pen\" : [200, 3], \"notebook\" : [400,5]}\n",
    "print(items[\"pen\"][1])"
   ]
  },
  {
   "cell_type": "markdown",
   "metadata": {},
   "source": [
    "**程序清单 5.64：解说的示例**"
   ]
  }
 ],
 "metadata": {
  "celltoolbar": "Edit Metadata",
  "kernelspec": {
   "display_name": "Python 3",
   "language": "python",
   "name": "python3"
  },
  "language_info": {
   "codemirror_mode": {
    "name": "ipython",
    "version": 3
   },
   "file_extension": ".py",
   "mimetype": "text/x-python",
   "name": "python",
   "nbconvert_exporter": "python",
   "pygments_lexer": "ipython3",
   "version": "3.6.6"
  },
  "varInspector": {
   "cols": {
    "lenName": 16,
    "lenType": 16,
    "lenVar": 40
   },
   "kernels_config": {
    "python": {
     "delete_cmd_postfix": "",
     "delete_cmd_prefix": "del ",
     "library": "var_list.py",
     "varRefreshCmd": "print(var_dic_list())"
    },
    "r": {
     "delete_cmd_postfix": ") ",
     "delete_cmd_prefix": "rm(",
     "library": "var_list.r",
     "varRefreshCmd": "cat(var_dic_list()) "
    }
   },
   "types_to_exclude": [
    "module",
    "function",
    "builtin_function_or_method",
    "instance",
    "_Feature"
   ],
   "window_display": false
  }
 },
 "nbformat": 4,
 "nbformat_minor": 2
}
