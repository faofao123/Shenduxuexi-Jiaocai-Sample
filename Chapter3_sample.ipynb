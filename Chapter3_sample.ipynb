{
 "cells": [
  {
   "cell_type": "markdown",
   "metadata": {
    "chapterId": "HJIGOAX-xbM",
    "id": "chapter_name"
   },
   "source": [
    "# Chapter3 性能评价指标与PR曲线"
   ]
  },
  {
   "cell_type": "markdown",
   "metadata": {
    "id": "table"
   },
   "source": [
    "- **3.1 性能评价指标**\n",
    "    - **3.1.1 理解混淆矩阵**\n",
    "    - **3.1.2 编程实现混淆矩阵**\n",
    "    - **3.1.3 准确率**\n",
    "    - **3.1.4 Ｆ值**\n",
    "    - **3.1.5 性能评价指标的编程实现**\n",
    "<br><br>\n",
    "- **3.2 PR 曲线**\n",
    "    - **3.2.1 召回率与精确率的关系**\n",
    "    - **3.2.2 何谓PR曲线**\n",
    "    - **3.2.3 基于PR曲线的模型评估**\n",
    "<br><br>\n",
    "- **附加习题**\n",
    "- **综合附加习题**"
   ]
  },
  {
   "cell_type": "markdown",
   "metadata": {
    "id": "section_name",
    "sectionId": "Hkwfu0mWgWG"
   },
   "source": [
    "## ●3.1 性能评价指标"
   ]
  },
  {
   "cell_type": "markdown",
   "metadata": {},
   "source": [
    "### 〇3.1.1 理解混淆矩阵"
   ]
  },
  {
   "cell_type": "markdown",
   "metadata": {},
   "source": [
    "这里没有样本。"
   ]
  },
  {
   "cell_type": "markdown",
   "metadata": {
    "courseId": 2010,
    "exerciseId": "S1pKhUjUlG",
    "id": "code_session_name",
    "important": true,
    "isDL": false,
    "timeoutSecs": 5
   },
   "source": [
    "### 〇3.1.2 编程实现混淆矩阵"
   ]
  },
  {
   "cell_type": "markdown",
   "metadata": {},
   "source": [
    "#### □习题"
   ]
  },
  {
   "cell_type": "code",
   "execution_count": null,
   "metadata": {
    "collapsed": true,
    "id": "index"
   },
   "outputs": [],
   "source": [
    "# 我们需要import这个模块\n",
    "import numpy\n",
    "from sklearn.metrics import confusion_matrix\n",
    "\n",
    "# 存储数据。这里0是阳性，1是阴性\n",
    "y_true = [0,0,0,1,1,1]\n",
    "y_pred = [1,0,0,1,1,1]\n",
    "\n",
    "# 请在变量confmat中存储y_true和y_pred的混淆矩阵\n",
    "\n",
    "\n",
    "# 然后输出结果\n",
    "print (confmat)"
   ]
  },
  {
   "cell_type": "markdown",
   "metadata": {},
   "source": [
    "**程序清单3.1：习题**"
   ]
  },
  {
   "cell_type": "markdown",
   "metadata": {},
   "source": [
    "#### □参考答案"
   ]
  },
  {
   "cell_type": "code",
   "execution_count": 1,
   "metadata": {
    "id": "answer"
   },
   "outputs": [
    {
     "name": "stdout",
     "output_type": "stream",
     "text": [
      "[[2 1]\n",
      " [0 3]]\n"
     ]
    }
   ],
   "source": [
    "# 我们需要import这个模块\n",
    "import numpy\n",
    "from sklearn.metrics import confusion_matrix\n",
    "\n",
    "# 存储数据。这里0是阳性，1是阴性\n",
    "y_true = [0,0,0,1,1,1]\n",
    "y_pred = [1,0,0,1,1,1]\n",
    "\n",
    "# 请在变量confmat中存储y_true和y_pred的混淆矩阵\n",
    "confmat = confusion_matrix(y_true, y_pred)\n",
    "\n",
    "# 然后输出结果\n",
    "print (confmat)"
   ]
  },
  {
   "cell_type": "markdown",
   "metadata": {},
   "source": [
    "**程序清单3.2：参考答案**"
   ]
  },
  {
   "cell_type": "markdown",
   "metadata": {
    "courseId": 2010,
    "exerciseId": "HJglFn8sUez",
    "id": "code_session_name",
    "important": true,
    "isDL": false,
    "timeoutSecs": 5
   },
   "source": [
    "### 〇3.1.5 性能评价指标的编程实现"
   ]
  },
  {
   "cell_type": "code",
   "execution_count": 2,
   "metadata": {},
   "outputs": [
    {
     "name": "stdout",
     "output_type": "stream",
     "text": [
      "Precision: 0.750\n",
      "Recall: 1.000\n",
      "F1: 0.857\n"
     ]
    }
   ],
   "source": [
    "# 精确率、召回率、F\n",
    "from sklearn.metrics import precision_score\n",
    "from sklearn.metrics import recall_score, f1_score\n",
    "\n",
    "# 存储数据。这里0是阳性，1是阴性\n",
    "y_true = [0,0,0,1,1,1]\n",
    "y_pred = [1,0,0,1,1,1]\n",
    "\n",
    "# 给y_true一个正确的标签，给y_pred一个预测结果的标签\n",
    "print(\"Precision: %.3f\" % precision_score(y_true, y_pred))\n",
    "print(\"Recall: %.3f\" % recall_score(y_true, y_pred))\n",
    "print(\"F1: %.3f\" % f1_score(y_true, y_pred))"
   ]
  },
  {
   "cell_type": "markdown",
   "metadata": {},
   "source": [
    "**程序清单 3.3：性能评价指标的编程实现**"
   ]
  },
  {
   "cell_type": "markdown",
   "metadata": {},
   "source": [
    "#### □习题"
   ]
  },
  {
   "cell_type": "code",
   "execution_count": null,
   "metadata": {},
   "outputs": [],
   "source": [
    "# 精确率、召回率、F1\n",
    "from sklearn.metrics import precision_score\n",
    "from sklearn.metrics import recall_score, f1_score\n",
    "\n",
    "# 存储数据。这里0表示阴性，1表示阳性\n",
    "y_true = [1,1,1,0,0,0]\n",
    "y_pred = [0,1,1,0,0,0]\n",
    "\n",
    "# 预先计算精确率和召回率\n",
    "precision = precision_score(y_true, y_pred)\n",
    "recall = recall_score(y_true, y_pred)\n",
    "\n",
    "# 请在下一行中写出F1分数的定义公式\n",
    "f1_score =\n",
    "\n",
    "print(\"F1: %.3f\" % f1_score)"
   ]
  },
  {
   "cell_type": "markdown",
   "metadata": {},
   "source": [
    "**程序清单3.4：习题**"
   ]
  },
  {
   "cell_type": "markdown",
   "metadata": {},
   "source": [
    "#### □参考答案"
   ]
  },
  {
   "cell_type": "code",
   "execution_count": 5,
   "metadata": {
    "id": "answer"
   },
   "outputs": [
    {
     "name": "stdout",
     "output_type": "stream",
     "text": [
      "F1: 0.800\n"
     ]
    }
   ],
   "source": [
    "# 精确率、召回率、F1\n",
    "from sklearn.metrics import precision_score\n",
    "from sklearn.metrics import recall_score, f1_score\n",
    "\n",
    "# 存储数据。这里0表示阴性，1表示阳性\n",
    "y_true = [1,1,1,0,0,0]\n",
    "y_pred = [0,1,1,0,0,0]\n",
    "\n",
    "# 预先计算精确率和召回率\n",
    "precision = precision_score(y_true, y_pred)\n",
    "recall = recall_score(y_true, y_pred)\n",
    "\n",
    "# 请在下一行中写出F1分数的定义公式\n",
    "f1_score =2 *(precision*recall) / (precision+recall)\n",
    "\n",
    "print(\"F1: %.3f\" % f1_score)"
   ]
  },
  {
   "cell_type": "markdown",
   "metadata": {},
   "source": [
    "**程序清单 3.5：参考答案**"
   ]
  },
  {
   "cell_type": "markdown",
   "metadata": {},
   "source": [
    "## ●3.2 PR 曲线"
   ]
  },
  {
   "cell_type": "markdown",
   "metadata": {},
   "source": [
    "### 〇3.2.1 召回率与精确率的关系"
   ]
  },
  {
   "cell_type": "markdown",
   "metadata": {},
   "source": [
    "这里没有样本。"
   ]
  },
  {
   "cell_type": "markdown",
   "metadata": {},
   "source": [
    "### 〇3.2.2 何谓PR曲线"
   ]
  },
  {
   "cell_type": "markdown",
   "metadata": {},
   "source": [
    "这里没有样本。"
   ]
  },
  {
   "cell_type": "markdown",
   "metadata": {},
   "source": [
    "### 〇3.2.3 基于PR曲线的模型评估"
   ]
  },
  {
   "cell_type": "markdown",
   "metadata": {},
   "source": [
    "这里没有样本。"
   ]
  },
  {
   "cell_type": "markdown",
   "metadata": {},
   "source": [
    "## ●附加习题"
   ]
  },
  {
   "cell_type": "markdown",
   "metadata": {},
   "source": [
    "这里没有样本。"
   ]
  },
  {
   "cell_type": "markdown",
   "metadata": {},
   "source": [
    "## ●综合附加习题"
   ]
  },
  {
   "cell_type": "markdown",
   "metadata": {},
   "source": [
    "#### □习题"
   ]
  },
  {
   "cell_type": "code",
   "execution_count": 4,
   "metadata": {},
   "outputs": [
    {
     "name": "stdout",
     "output_type": "stream",
     "text": [
      "Accuracy: 0.60\n"
     ]
    }
   ],
   "source": [
    "import matplotlib.pyplot as plt\n",
    "import numpy as np\n",
    "import pandas as pd\n",
    "from sklearn import datasets\n",
    "from sklearn import svm\n",
    "from sklearn.model_selection import train_test_split\n",
    "from sklearn.metrics import accuracy_score\n",
    "\n",
    "# (1.)\n",
    "# 加载Iris数据集\n",
    "iris = datasets.load_iris()\n",
    "# 提取第三和第四列的特征量\n",
    "X = iris.data[:, [2,3]]\n",
    "# 获得类别标签\n",
    "y = iris.target\n",
    "\n",
    "# (2.)\n",
    "X_train, X_test, y_train, y_test = train_test_split(\n",
    "    X, y, test_size=0.3, random_state=0)\n",
    "\n",
    "# (3.)\n",
    "svc = svm.SVC(C=1, kernel='rbf', gamma=0.001)\n",
    "svc.fit(X_train, y_train)\n",
    "\n",
    "# (4.)\n",
    "y_pred = svc.predict(X_test)\n",
    "print (\"Accuracy: %.2f\"% accuracy_score(y_test, y_pred))"
   ]
  },
  {
   "cell_type": "markdown",
   "metadata": {},
   "source": [
    "**程序清单 3.6：习题**"
   ]
  },
  {
   "cell_type": "markdown",
   "metadata": {},
   "source": [
    "####  □参考答案"
   ]
  },
  {
   "cell_type": "markdown",
   "metadata": {},
   "source": [
    "1. 准备监督数据。\n",
    "1. 将监督数据划分为训练数据和测试数据。\n",
    "1. 应用机器学习算法，使用训练数据对模型进行训练。\n",
    "1. 使用测试数据对预测结果的正确与否进行确认，并对机器学习算法的性能进行评估。"
   ]
  }
 ],
 "metadata": {
  "celltoolbar": "Edit Metadata",
  "kernelspec": {
   "display_name": "Python 3",
   "language": "python",
   "name": "python3"
  },
  "language_info": {
   "codemirror_mode": {
    "name": "ipython",
    "version": 3
   },
   "file_extension": ".py",
   "mimetype": "text/x-python",
   "name": "python",
   "nbconvert_exporter": "python",
   "pygments_lexer": "ipython3",
   "version": "3.6.6"
  },
  "varInspector": {
   "cols": {
    "lenName": 16,
    "lenType": 16,
    "lenVar": 40
   },
   "kernels_config": {
    "python": {
     "delete_cmd_postfix": "",
     "delete_cmd_prefix": "del ",
     "library": "var_list.py",
     "varRefreshCmd": "print(var_dic_list())"
    },
    "r": {
     "delete_cmd_postfix": ") ",
     "delete_cmd_prefix": "rm(",
     "library": "var_list.r",
     "varRefreshCmd": "cat(var_dic_list()) "
    }
   },
   "types_to_exclude": [
    "module",
    "function",
    "builtin_function_or_method",
    "instance",
    "_Feature"
   ],
   "window_display": false
  }
 },
 "nbformat": 4,
 "nbformat_minor": 2
}
