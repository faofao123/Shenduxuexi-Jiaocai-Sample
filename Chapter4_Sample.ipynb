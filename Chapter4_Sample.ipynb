{
 "cells": [
  {
   "cell_type": "markdown",
   "metadata": {
    "chapterId": "BJ_RXbl-f",
    "id": "chapter_name"
   },
   "source": [
    "# ★Chapter4　Python基础入门"
   ]
  },
  {
   "cell_type": "markdown",
   "metadata": {
    "id": "table"
   },
   "source": [
    "- **4.1 Python基础**\n",
    "    - **4.1.1 Hello world**\n",
    "    - **4.1.2 Python的用途**\n",
    "    - **4.1.3 注释的输入**\n",
    "    - **4.1.4 数值与字符串**\n",
    "    - **4.1.5 运算**\n",
    "<br><br>\n",
    "- **4.2 变量**\n",
    "    - **4.2.1 变量的定义** \n",
    "    - **4.2.2 变量的更新**\n",
    "    - **4.2.3 字符串的连接**\n",
    "<br><br>\n",
    "- **4.3 类型**\n",
    "    - **4.3.1 类型的种类**\n",
    "    - **4.3.2 类型的变换**\n",
    "    - **4.3.3 对类型的理解与确认**\n",
    "<br><br>\n",
    "- **4.4 if文**\n",
    "    - **4.4.1 比较运算符**\n",
    "    - **4.4.2 if文**\n",
    "    - **4.4.3 else**\n",
    "    - **4.4.4 elif**\n",
    "    - **4.4.5 and・not・or**\n",
    "<br><br>\n",
    "- **附加习题**"
   ]
  },
  {
   "cell_type": "markdown",
   "metadata": {
    "id": "section_name",
    "sectionId": "r1edAmZg-f"
   },
   "source": [
    "## ●4.1 Python基础"
   ]
  },
  {
   "cell_type": "markdown",
   "metadata": {
    "courseId": 3010,
    "exerciseId": "ByrlF2UsLeG",
    "id": "code_session_name",
    "important": true,
    "isDL": false,
    "timeoutSecs": 5
   },
   "source": [
    "### ○4.1.1 Hello world"
   ]
  },
  {
   "cell_type": "markdown",
   "metadata": {},
   "source": [
    "#### □习题"
   ]
  },
  {
   "cell_type": "code",
   "execution_count": null,
   "metadata": {
    "collapsed": true,
    "id": "index"
   },
   "outputs": [],
   "source": [
    "# 在 Python 当中，如果一行的开头使用了 # 就会被作为注释处理\n",
    "# 请在屏幕上输出“Hello world”\n",
    "print(\"Hello world\")"
   ]
  },
  {
   "cell_type": "markdown",
   "metadata": {},
   "source": [
    "**程序清单 4.1：习题**"
   ]
  },
  {
   "cell_type": "markdown",
   "metadata": {},
   "source": [
    "#### □参考答案"
   ]
  },
  {
   "cell_type": "code",
   "execution_count": 1,
   "metadata": {
    "id": "answer"
   },
   "outputs": [
    {
     "name": "stdout",
     "output_type": "stream",
     "text": [
      "Hello world\n"
     ]
    }
   ],
   "source": [
    "# 在 Python 当中，如果一行的开头使用了 # 就会被作为注释处理\n",
    "# 请在屏幕上输出“Hello world”\n",
    "print(\"Hello world\")"
   ]
  },
  {
   "cell_type": "markdown",
   "metadata": {},
   "source": [
    "**程序清单 4.2：参考答案**"
   ]
  },
  {
   "cell_type": "markdown",
   "metadata": {},
   "source": [
    "### ○4.1.2  Python的用途"
   ]
  },
  {
   "cell_type": "markdown",
   "metadata": {},
   "source": [
    "这里没有样本。"
   ]
  },
  {
   "cell_type": "markdown",
   "metadata": {
    "courseId": 3010,
    "exerciseId": "rkUlFhLsUxG",
    "id": "code_session_name",
    "important": true,
    "isDL": false,
    "timeoutSecs": 5
   },
   "source": [
    "### ○4.1.3 注释的输入"
   ]
  },
  {
   "cell_type": "markdown",
   "metadata": {},
   "source": [
    "#### □习题"
   ]
  },
  {
   "cell_type": "code",
   "execution_count": null,
   "metadata": {
    "collapsed": true,
    "id": "index",
    "scrolled": true
   },
   "outputs": [],
   "source": [
    "# 请输出5+2的结果\n",
    "print(5 + 2)\n",
    "\n",
    "\n",
    "print(3 + 8)\n"
   ]
  },
  {
   "cell_type": "markdown",
   "metadata": {},
   "source": [
    "**程序清单4.3：习题**"
   ]
  },
  {
   "cell_type": "markdown",
   "metadata": {},
   "source": [
    "#### □参考答案"
   ]
  },
  {
   "cell_type": "code",
   "execution_count": 3,
   "metadata": {
    "id": "answer"
   },
   "outputs": [
    {
     "name": "stdout",
     "output_type": "stream",
     "text": [
      "7\n",
      "11\n"
     ]
    }
   ],
   "source": [
    "# 请输出5+2的结果\n",
    "print(5 + 2)\n",
    "\n",
    "# 请输出3+8的结果\n",
    "print(3 + 8)"
   ]
  },
  {
   "cell_type": "markdown",
   "metadata": {},
   "source": [
    "**程序清单4.4：参考答案**"
   ]
  },
  {
   "cell_type": "markdown",
   "metadata": {
    "courseId": 3010,
    "exerciseId": "BkPetnLs8gz",
    "id": "code_session_name",
    "important": true,
    "isDL": false,
    "timeoutSecs": 5
   },
   "source": [
    "### ○4.1.4 数值与字符串"
   ]
  },
  {
   "cell_type": "code",
   "execution_count": 4,
   "metadata": {},
   "outputs": [
    {
     "name": "stdout",
     "output_type": "stream",
     "text": [
      "9\n"
     ]
    }
   ],
   "source": [
    "print(3 + 6)"
   ]
  },
  {
   "cell_type": "markdown",
   "metadata": {},
   "source": [
    "**程序清单 4.5：计算的例子①**"
   ]
  },
  {
   "cell_type": "code",
   "execution_count": 5,
   "metadata": {},
   "outputs": [
    {
     "name": "stdout",
     "output_type": "stream",
     "text": [
      "8 - 3\n"
     ]
    }
   ],
   "source": [
    "print(\"8 - 3\")"
   ]
  },
  {
   "cell_type": "markdown",
   "metadata": {},
   "source": [
    "**程序清单4.6：计算的例子②**"
   ]
  },
  {
   "cell_type": "markdown",
   "metadata": {},
   "source": [
    "#### □习题"
   ]
  },
  {
   "cell_type": "code",
   "execution_count": null,
   "metadata": {
    "collapsed": true,
    "id": "index"
   },
   "outputs": [],
   "source": [
    "# 请输出数值18\n",
    "\n",
    "\n",
    "# 请输出数值2+6的结果\n",
    "\n",
    "\n",
    "# 请输出“2+6”的字符串\n"
   ]
  },
  {
   "cell_type": "markdown",
   "metadata": {},
   "source": [
    "**程序清单4.7：习题**"
   ]
  },
  {
   "cell_type": "markdown",
   "metadata": {},
   "source": [
    "#### □参考答案"
   ]
  },
  {
   "cell_type": "code",
   "execution_count": 3,
   "metadata": {
    "id": "answer"
   },
   "outputs": [
    {
     "name": "stdout",
     "output_type": "stream",
     "text": [
      "18\n",
      "8\n",
      "2 + 6\n"
     ]
    }
   ],
   "source": [
    "# 请输出数值18\n",
    "print(18)\n",
    "\n",
    "# 请输出数值2+6的结果\n",
    "print(2 + 6)\n",
    "\n",
    "# 请输出“2+6”的字符串\n",
    "print(\"2 + 6\")"
   ]
  },
  {
   "cell_type": "markdown",
   "metadata": {},
   "source": [
    "**程序清单4.8：参考答案**取程序清单"
   ]
  },
  {
   "cell_type": "markdown",
   "metadata": {
    "courseId": 3010,
    "exerciseId": "SydlFhUiUxM",
    "id": "code_session_name",
    "important": true,
    "isDL": false,
    "timeoutSecs": 5
   },
   "source": [
    "### ○4.1.5 运算"
   ]
  },
  {
   "cell_type": "markdown",
   "metadata": {},
   "source": [
    "#### □习题"
   ]
  },
  {
   "cell_type": "code",
   "execution_count": null,
   "metadata": {
    "collapsed": true,
    "id": "index"
   },
   "outputs": [],
   "source": [
    "# 3 + 5\n",
    "\n",
    "\n",
    "# 3 - 5\n",
    "\n",
    "\n",
    "# 3 × 5\n",
    "\n",
    "\n",
    "# 3 ÷ 5\n",
    "\n",
    "\n",
    "# 3除以5得到的余数\n",
    "\n",
    "\n",
    "# 3和5的幂乘\n",
    "\n"
   ]
  },
  {
   "cell_type": "markdown",
   "metadata": {},
   "source": [
    "**程序清单4.9：习题**"
   ]
  },
  {
   "cell_type": "markdown",
   "metadata": {},
   "source": [
    "#### □参考答案"
   ]
  },
  {
   "cell_type": "code",
   "execution_count": 4,
   "metadata": {
    "id": "answer"
   },
   "outputs": [
    {
     "name": "stdout",
     "output_type": "stream",
     "text": [
      "8\n",
      "-2\n",
      "15\n",
      "0.6\n",
      "3\n",
      "243\n"
     ]
    }
   ],
   "source": [
    "# 3 + 5\n",
    "print(3 + 5)\n",
    "\n",
    "# 3 - 5\n",
    "print(3 - 5)\n",
    "\n",
    "# 3 × 5\n",
    "print(3 * 5)\n",
    "\n",
    "#　3 ÷ 5\n",
    "print(3 / 5)\n",
    "\n",
    "# 3除以5得到的余数\n",
    "print(3 % 5)\n",
    "\n",
    "# 3和5的幂乘\n",
    "print(3 ** 5)\n"
   ]
  },
  {
   "cell_type": "markdown",
   "metadata": {},
   "source": [
    "**程序清单4.10：参考答案**"
   ]
  },
  {
   "cell_type": "markdown",
   "metadata": {
    "id": "section_name",
    "sectionId": "S1Z_0QWe-f"
   },
   "source": [
    "## ●4.2 变量\n"
   ]
  },
  {
   "cell_type": "markdown",
   "metadata": {
    "courseId": 3010,
    "exerciseId": "B1teK2LoIxM",
    "id": "code_session_name",
    "important": true,
    "isDL": false,
    "timeoutSecs": 5
   },
   "source": [
    "### ○4.2.1 变量的定义"
   ]
  },
  {
   "cell_type": "code",
   "execution_count": 5,
   "metadata": {},
   "outputs": [
    {
     "name": "stdout",
     "output_type": "stream",
     "text": [
      "汪星人\n"
     ]
    }
   ],
   "source": [
    "n = \"汪星人\"\n",
    "print(n)"
   ]
  },
  {
   "cell_type": "markdown",
   "metadata": {},
   "source": [
    "**程序清单4.11：变量的示例①**"
   ]
  },
  {
   "cell_type": "code",
   "execution_count": null,
   "metadata": {},
   "outputs": [],
   "source": [
    "# 如果使用print作为变量名，在调用print()函数时就会报错。\n",
    "print = \"Hello\"\n",
    "print(print) # TypeError: 'str' object is not callable"
   ]
  },
  {
   "cell_type": "markdown",
   "metadata": {},
   "source": [
    "**程序清单4.12：变量的示例②**"
   ]
  },
  {
   "cell_type": "markdown",
   "metadata": {},
   "source": [
    "#### □习题"
   ]
  },
  {
   "cell_type": "code",
   "execution_count": null,
   "metadata": {
    "collapsed": true,
    "id": "index"
   },
   "outputs": [],
   "source": [
    "# 请把“喵星人”代入变量n\n",
    "\n",
    "\n",
    "# 输出变量n。\n",
    "\n",
    "\n",
    "# 请输出“n”这一字符串。\n",
    "\n",
    "\n",
    "# 请将 3+7 这一算式代入变量 n 中\n",
    "\n",
    "\n",
    "# 请对变量 n 进行输出\n"
   ]
  },
  {
   "cell_type": "markdown",
   "metadata": {},
   "source": [
    "**程序清单4.13：习题**"
   ]
  },
  {
   "cell_type": "markdown",
   "metadata": {},
   "source": [
    "#### 参考答案"
   ]
  },
  {
   "cell_type": "code",
   "execution_count": 6,
   "metadata": {
    "id": "answer"
   },
   "outputs": [
    {
     "name": "stdout",
     "output_type": "stream",
     "text": [
      "喵星人\n",
      "n\n",
      "10\n"
     ]
    }
   ],
   "source": [
    "# 请将“喵星人”代入变量 n 中\n",
    "n = \"喵星人\"\n",
    "\n",
    "# 请对变量 n 进行输出\n",
    "print(n)\n",
    "\n",
    "# 请输出“n”这一字符串。\n",
    "print(\"n\")\n",
    "\n",
    "# 请将 3+7 这一算式代入变量 n 中\n",
    "n = 3 + 7\n",
    "\n",
    "# 请对变量 n 进行输出\n",
    "print(n)"
   ]
  },
  {
   "cell_type": "markdown",
   "metadata": {},
   "source": [
    "**程序清单4.14：参考答案**"
   ]
  },
  {
   "cell_type": "markdown",
   "metadata": {
    "courseId": 3010,
    "exerciseId": "ry5eFnIo8xG",
    "id": "code_session_name",
    "important": true,
    "isDL": false,
    "timeoutSecs": 5
   },
   "source": [
    "### 〇4.2.2 变量的更新"
   ]
  },
  {
   "cell_type": "code",
   "execution_count": 7,
   "metadata": {},
   "outputs": [
    {
     "name": "stdout",
     "output_type": "stream",
     "text": [
      "1\n",
      "2\n"
     ]
    }
   ],
   "source": [
    "x = 1\n",
    "print(x)  \n",
    "x = x + 1\n",
    "print(x)  "
   ]
  },
  {
   "cell_type": "markdown",
   "metadata": {},
   "source": [
    "**程序清单4.15：变量更新的示例①**"
   ]
  },
  {
   "cell_type": "code",
   "execution_count": 8,
   "metadata": {},
   "outputs": [
    {
     "name": "stdout",
     "output_type": "stream",
     "text": [
      "10\n"
     ]
    }
   ],
   "source": [
    "x = 5\n",
    "x *= 2\n",
    "print(x)  "
   ]
  },
  {
   "cell_type": "markdown",
   "metadata": {},
   "source": [
    "**程序清单4.16：变量更新的示例②**"
   ]
  },
  {
   "cell_type": "markdown",
   "metadata": {},
   "source": [
    "#### □习题"
   ]
  },
  {
   "cell_type": "code",
   "execution_count": null,
   "metadata": {
    "collapsed": true,
    "id": "index"
   },
   "outputs": [],
   "source": [
    "m = \"喵星人\"\n",
    "print(m)\n",
    "\n",
    "# 请用“汪星人”覆盖变量 m，并进行输出\n",
    "\n",
    "\n",
    "\n",
    "\n",
    "n = 14\n",
    "print(n)\n",
    "\n",
    "# 请将变量 n 乘以 5，并用结果对其进行覆盖\n",
    "\n",
    "\n",
    "print(n)"
   ]
  },
  {
   "cell_type": "markdown",
   "metadata": {},
   "source": [
    "**程序清单4.17：习题**"
   ]
  },
  {
   "cell_type": "markdown",
   "metadata": {},
   "source": [
    "#### □参考答案"
   ]
  },
  {
   "cell_type": "code",
   "execution_count": 1,
   "metadata": {
    "id": "answer"
   },
   "outputs": [
    {
     "name": "stdout",
     "output_type": "stream",
     "text": [
      "喵星人\n",
      "汪星人\n",
      "14\n",
      "70\n"
     ]
    }
   ],
   "source": [
    "m = \"喵星人\"\n",
    "print(m)\n",
    "\n",
    "# 请用“汪星人”覆盖变量 m，并进行输出\n",
    "m = \"汪星人\"\n",
    "print(m)\n",
    "\n",
    "\n",
    "n = 14\n",
    "print(n)\n",
    "\n",
    "# 请将变量n乘以5，并用结果对齐进行覆盖。n = n * 5、n = 5 * n 都是正确答案\n",
    "n *= 5\n",
    "\n",
    "print(n)"
   ]
  },
  {
   "cell_type": "markdown",
   "metadata": {},
   "source": [
    "**程序清单4.18：参考答案**"
   ]
  },
  {
   "cell_type": "markdown",
   "metadata": {
    "courseId": 3010,
    "exerciseId": "BJjlF2UjUgz",
    "id": "code_session_name",
    "important": true,
    "isDL": false,
    "timeoutSecs": 5
   },
   "source": [
    "### 〇4.2.3 字符串的连接"
   ]
  },
  {
   "cell_type": "code",
   "execution_count": 10,
   "metadata": {},
   "outputs": [
    {
     "name": "stdout",
     "output_type": "stream",
     "text": [
      "我的名字是太郎哟\n"
     ]
    }
   ],
   "source": [
    "m = \"太郎\"\n",
    "print(\"我的名字是\" + m + \"哟\") "
   ]
  },
  {
   "cell_type": "markdown",
   "metadata": {},
   "source": [
    "**程序清单4.19：字符串连接的示例**"
   ]
  },
  {
   "cell_type": "markdown",
   "metadata": {},
   "source": [
    "#### □习题"
   ]
  },
  {
   "cell_type": "code",
   "execution_count": null,
   "metadata": {
    "collapsed": true,
    "id": "index"
   },
   "outputs": [],
   "source": [
    "# 请将“北京”代入变量p中\n",
    "\n",
    "\n",
    "# 使用变量 p 和 print() 函数输出“我是北京人”文字信息\n",
    "\n"
   ]
  },
  {
   "cell_type": "markdown",
   "metadata": {},
   "source": [
    "**程序清单4.20：习题**"
   ]
  },
  {
   "cell_type": "markdown",
   "metadata": {},
   "source": [
    " #### □参考答案"
   ]
  },
  {
   "cell_type": "code",
   "execution_count": 2,
   "metadata": {
    "id": "answer"
   },
   "outputs": [
    {
     "name": "stdout",
     "output_type": "stream",
     "text": [
      "我是北京人\n"
     ]
    }
   ],
   "source": [
    "# 请将“北京”代入变量p中\n",
    "p = \"北京\"\n",
    "\n",
    "# 使用变量 p 和 print() 函数输出“我是北京人”文字信息\n",
    "print(\"我是\" + p + \"人\")"
   ]
  },
  {
   "cell_type": "markdown",
   "metadata": {},
   "source": [
    "**程序清单4.21：参考答案**"
   ]
  },
  {
   "cell_type": "markdown",
   "metadata": {
    "id": "section_name",
    "sectionId": "BJzdCQ-ebM"
   },
   "source": [
    "## ●4.3 型"
   ]
  },
  {
   "cell_type": "markdown",
   "metadata": {
    "courseId": 3010,
    "exerciseId": "rk2gK2IsLlf",
    "id": "code_session_name",
    "important": true,
    "isDL": false,
    "timeoutSecs": 5
   },
   "source": [
    "### ○4.3.1 类型"
   ]
  },
  {
   "cell_type": "code",
   "execution_count": null,
   "metadata": {},
   "outputs": [],
   "source": [
    "height = 177\n",
    "print(\"我的身高是\" + height + \"cm。\")   # 会发生「TypeError: must be str, not int」的错误输出。"
   ]
  },
  {
   "cell_type": "markdown",
   "metadata": {},
   "source": [
    "**程序清单 4.22：类型的示例①**"
   ]
  },
  {
   "cell_type": "code",
   "execution_count": 1,
   "metadata": {},
   "outputs": [
    {
     "data": {
      "text/plain": [
       "int"
      ]
     },
     "execution_count": 1,
     "metadata": {},
     "output_type": "execute_result"
    }
   ],
   "source": [
    "height = 177\n",
    "type(height)  # 可以看到变量是int类型"
   ]
  },
  {
   "cell_type": "markdown",
   "metadata": {},
   "source": [
    "**程序清单 4.23：类型的示例②**"
   ]
  },
  {
   "cell_type": "markdown",
   "metadata": {},
   "source": [
    "#### □习题"
   ]
  },
  {
   "cell_type": "code",
   "execution_count": null,
   "metadata": {
    "collapsed": true,
    "id": "index"
   },
   "outputs": [],
   "source": [
    "h = 1.7\n",
    "w = 60\n",
    "\n",
    "# 请将变量 h 和 w 的类型进行输出\n",
    "\n",
    "\n",
    "\n",
    "# 请将计算结果代入到变量 bmi 中\n",
    "\n",
    "\n",
    "# 请将变量 bmi 进行输出\n",
    "\n",
    "\n",
    "# 请将变量 bmi 的类型进行输出\n"
   ]
  },
  {
   "cell_type": "markdown",
   "metadata": {},
   "source": [
    "**程序清单4.24：习题**"
   ]
  },
  {
   "cell_type": "markdown",
   "metadata": {},
   "source": [
    "#### □参考答案"
   ]
  },
  {
   "cell_type": "code",
   "execution_count": 13,
   "metadata": {
    "id": "answer"
   },
   "outputs": [
    {
     "name": "stdout",
     "output_type": "stream",
     "text": [
      "<class 'float'>\n",
      "<class 'int'>\n",
      "20.761245674740486\n",
      "<class 'float'>\n"
     ]
    }
   ],
   "source": [
    "h = 1.7\n",
    "w = 60\n",
    "\n",
    "# 请将变量 h 和 w 的类型进行输出\n",
    "print(type(h))\n",
    "print(type(w))\n",
    "\n",
    "# 请将计算结果代入到变量 bmi 中\n",
    "bmi = w / h ** 2\n",
    "\n",
    "# 请将变量 bmi 进行输出\n",
    "print(bmi)\n",
    "\n",
    "# 请将变量 bmi 的类型进行输出\n",
    "print(type(bmi))"
   ]
  },
  {
   "cell_type": "markdown",
   "metadata": {},
   "source": [
    "**程序清单4.25：参考答案**"
   ]
  },
  {
   "cell_type": "markdown",
   "metadata": {
    "courseId": 3010,
    "exerciseId": "ByTxK2UiUxf",
    "id": "code_session_name",
    "important": true,
    "isDL": false,
    "timeoutSecs": 5
   },
   "source": [
    " ### ○4.3.2 类型的变换"
   ]
  },
  {
   "cell_type": "code",
   "execution_count": 17,
   "metadata": {},
   "outputs": [
    {
     "name": "stdout",
     "output_type": "stream",
     "text": [
      "我的身高是177cm\n"
     ]
    }
   ],
   "source": [
    "h = 177\n",
    "print(\"我的身高是\" + str(h) + \"cm。\")"
   ]
  },
  {
   "cell_type": "markdown",
   "metadata": {},
   "source": [
    "**程序清单4.26：类型变换的示例①**"
   ]
  },
  {
   "cell_type": "code",
   "execution_count": 18,
   "metadata": {},
   "outputs": [
    {
     "name": "stdout",
     "output_type": "stream",
     "text": [
      "45.4\n"
     ]
    }
   ],
   "source": [
    "a = 35.4\n",
    "b = 10\n",
    "print(a + b)"
   ]
  },
  {
   "cell_type": "markdown",
   "metadata": {},
   "source": [
    "**程序清单4.27：类型变换的示例②**"
   ]
  },
  {
   "cell_type": "markdown",
   "metadata": {},
   "source": [
    "#### □习题"
   ]
  },
  {
   "cell_type": "code",
   "execution_count": null,
   "metadata": {},
   "outputs": [],
   "source": [
    "h = 1.7\n",
    "w = 60\n",
    "bmi = w / h ** 2\n",
    "\n",
    "#  请输出“您的 bmi 值为______哟。”这一信息\n",
    "print(\"您的bmi值为\" + bmi + \"哟。\")"
   ]
  },
  {
   "cell_type": "markdown",
   "metadata": {},
   "source": [
    "**程序清单 4.28：习题**"
   ]
  },
  {
   "cell_type": "markdown",
   "metadata": {},
   "source": [
    "#### □参考答案"
   ]
  },
  {
   "cell_type": "code",
   "execution_count": 14,
   "metadata": {
    "id": "answer"
   },
   "outputs": [
    {
     "name": "stdout",
     "output_type": "stream",
     "text": [
      "您的bmi值为20.761245674740486哟。\n"
     ]
    }
   ],
   "source": [
    "h = 1.7\n",
    "w = 60\n",
    "bmi = w / h ** 2\n",
    "\n",
    "# 请输出“您的 bmi 值为______哟。”这一信息\n",
    "print(\"您的bmi值为\" + str(bmi) + \"哟。\")"
   ]
  },
  {
   "cell_type": "markdown",
   "metadata": {},
   "source": [
    "**程序清单4.29：参考答案**"
   ]
  },
  {
   "cell_type": "markdown",
   "metadata": {
    "courseId": 3010,
    "exerciseId": "SyAxKhUsIgG",
    "id": "quiz_session_name",
    "important": false,
    "isDL": false,
    "timeoutSecs": 5
   },
   "source": [
    "### ○4.3.3 对类型的理解与确认"
   ]
  },
  {
   "cell_type": "code",
   "execution_count": 15,
   "metadata": {},
   "outputs": [
    {
     "name": "stdout",
     "output_type": "stream",
     "text": [
      "嗨!嗨!\n"
     ]
    }
   ],
   "source": [
    "greeting = \"嗨!\"\n",
    "print(greeting*2)  "
   ]
  },
  {
   "cell_type": "markdown",
   "metadata": {},
   "source": [
    "**程序清单4.30：对类型的理解和确认的示例**"
   ]
  },
  {
   "cell_type": "markdown",
   "metadata": {},
   "source": [
    "#### □习题"
   ]
  },
  {
   "cell_type": "code",
   "execution_count": 19,
   "metadata": {},
   "outputs": [
    {
     "name": "stdout",
     "output_type": "stream",
     "text": [
      "101010\n"
     ]
    }
   ],
   "source": [
    "n = \"10\"\n",
    "print(n*3)"
   ]
  },
  {
   "cell_type": "markdown",
   "metadata": {},
   "source": [
    "**程序清单 4.31：习题**"
   ]
  },
  {
   "cell_type": "markdown",
   "metadata": {
    "collapsed": true,
    "id": "choices"
   },
   "source": [
    "- 是int类型，结果为30\n",
    "- 是int类型，结果为101010\n",
    "- 是str类型，结果为30\n",
    "- 是str类型，结果为101010"
   ]
  },
  {
   "cell_type": "markdown",
   "metadata": {},
   "source": [
    "#### □参考答案"
   ]
  },
  {
   "cell_type": "markdown",
   "metadata": {
    "collapsed": true,
    "id": "answer"
   },
   "source": [
    "是str类型，结果为101010"
   ]
  },
  {
   "cell_type": "markdown",
   "metadata": {
    "id": "section_name",
    "sectionId": "rJXdR7Wl-z"
   },
   "source": [
    "## ●4.4 if语句"
   ]
  },
  {
   "cell_type": "markdown",
   "metadata": {
    "courseId": 3010,
    "exerciseId": "HJ1-tnUsIxG",
    "id": "code_session_name",
    "important": true,
    "isDL": false,
    "timeoutSecs": 5
   },
   "source": [
    "### ○4.4.1 比较运算符"
   ]
  },
  {
   "cell_type": "code",
   "execution_count": 19,
   "metadata": {},
   "outputs": [
    {
     "name": "stdout",
     "output_type": "stream",
     "text": [
      "False\n"
     ]
    }
   ],
   "source": [
    "print(1 + 1 == 3)  "
   ]
  },
  {
   "cell_type": "markdown",
   "metadata": {},
   "source": [
    "**程序清单4.32：比较运算符的示例**"
   ]
  },
  {
   "cell_type": "markdown",
   "metadata": {},
   "source": [
    "#### □习题"
   ]
  },
  {
   "cell_type": "code",
   "execution_count": 26,
   "metadata": {
    "collapsed": true,
    "id": "index"
   },
   "outputs": [],
   "source": [
    "# 请使用“!=”编写 4 + 6 与 -10 的关系式，并将 True 作为结果进行输出\n",
    "\n"
   ]
  },
  {
   "cell_type": "markdown",
   "metadata": {},
   "source": [
    "**程序清单4.33：习题**"
   ]
  },
  {
   "cell_type": "markdown",
   "metadata": {},
   "source": [
    "#### □参考答案"
   ]
  },
  {
   "cell_type": "code",
   "execution_count": 20,
   "metadata": {
    "id": "answer"
   },
   "outputs": [
    {
     "name": "stdout",
     "output_type": "stream",
     "text": [
      "True\n"
     ]
    }
   ],
   "source": [
    "# 请使用“!=”编写 4 + 6 与 -10 的关系式，并将 True 作为结果进行输出\n",
    "print(4 + 6 != -10)"
   ]
  },
  {
   "cell_type": "markdown",
   "metadata": {},
   "source": [
    "**程序清单4.34：参考答案**"
   ]
  },
  {
   "cell_type": "markdown",
   "metadata": {
    "courseId": 3010,
    "exerciseId": "HJebY3LiLgM",
    "id": "code_session_name",
    "important": true,
    "isDL": false,
    "timeoutSecs": 5
   },
   "source": [
    "### ○4.4.2 if语句"
   ]
  },
  {
   "cell_type": "code",
   "execution_count": 22,
   "metadata": {},
   "outputs": [
    {
     "name": "stdout",
     "output_type": "stream",
     "text": [
      "好遗憾！您是第 2 个到达的\n"
     ]
    }
   ],
   "source": [
    "n = 2\n",
    "if n == 2:\n",
    "    print(\"好遗憾！您是第\" + str(n) + \"个到达的\")  # 只有当n等于2时才显示出来"
   ]
  },
  {
   "cell_type": "markdown",
   "metadata": {},
   "source": [
    "**程序清单4.35：if语句的示例①**"
   ]
  },
  {
   "cell_type": "code",
   "execution_count": 20,
   "metadata": {},
   "outputs": [
    {
     "name": "stdout",
     "output_type": "stream",
     "text": [
      "猫咪真的是好可爱啊\n"
     ]
    }
   ],
   "source": [
    "animal = \"cat\"\n",
    "if animal == \"cat\":\n",
    "    print(\"猫咪真的是好可爱啊\")  # 只在animal是cat的时候显示"
   ]
  },
  {
   "cell_type": "markdown",
   "metadata": {},
   "source": [
    "**程序清单 4.36：if语句的示例②**"
   ]
  },
  {
   "cell_type": "markdown",
   "metadata": {},
   "source": [
    "#### □习题"
   ]
  },
  {
   "cell_type": "code",
   "execution_count": 30,
   "metadata": {
    "collapsed": true,
    "id": "index"
   },
   "outputs": [],
   "source": [
    "n = 16\n",
    "\n",
    "# 请使用if语句实现当变量n>15时，输出“这是一个非常大的数字”的文本信息\n"
   ]
  },
  {
   "cell_type": "markdown",
   "metadata": {},
   "source": [
    "**程序清单 4.37：习题**"
   ]
  },
  {
   "cell_type": "markdown",
   "metadata": {},
   "source": [
    "#### □参考答案"
   ]
  },
  {
   "cell_type": "code",
   "execution_count": 23,
   "metadata": {
    "id": "answer"
   },
   "outputs": [
    {
     "name": "stdout",
     "output_type": "stream",
     "text": [
      "这是一个非常大的数字\n"
     ]
    }
   ],
   "source": [
    "n = 16\n",
    "\n",
    "# 请使用if语句实现当变量n>15时，输出“这是一个非常大的数字”的文本信息\n",
    "if n > 15:\n",
    "    print(\"这是一个非常大的数字\")"
   ]
  },
  {
   "cell_type": "markdown",
   "metadata": {},
   "source": [
    "**程序清单4.38：参考答案**"
   ]
  },
  {
   "cell_type": "markdown",
   "metadata": {
    "courseId": 3010,
    "exerciseId": "SJb-K2LjLez",
    "id": "code_session_name",
    "important": true,
    "isDL": false,
    "timeoutSecs": 5
   },
   "source": [
    "### ○4.4.3 else"
   ]
  },
  {
   "cell_type": "code",
   "execution_count": 27,
   "metadata": {},
   "outputs": [
    {
     "name": "stdout",
     "output_type": "stream",
     "text": [
      "好遗憾！您是第 2 个到达的\n"
     ]
    }
   ],
   "source": [
    "n = 2\n",
    "if n == 1:\n",
    "    print(\"恭喜您获胜！\")  # 只有当n为1时才会被显示出来\n",
    "else:\n",
    "    print(\"好遗憾！您是第\" + str(n) + \"个到达的\")  # 当n不是1时才会被显示出来"
   ]
  },
  {
   "cell_type": "markdown",
   "metadata": {},
   "source": [
    "**程序清单4.39：else的示例①**"
   ]
  },
  {
   "cell_type": "code",
   "execution_count": 25,
   "metadata": {},
   "outputs": [
    {
     "name": "stdout",
     "output_type": "stream",
     "text": [
      "猫咪真的是好可爱啊\n"
     ]
    }
   ],
   "source": [
    "animal = \"cat\"\n",
    "if animal == \"cat\":\n",
    "    print(\"猫咪真的是好可爱啊\")  # 只有当animal为cat时才会被显示出来",
    "else:\n",
    "    print(\"这不是猫咪呀\")  # 当animal不是cat时才会被显示出来"
   ]
  },
  {
   "cell_type": "markdown",
   "metadata": {},
   "source": [
    "**程序清单4.40：else的示例②**"
   ]
  },
  {
   "cell_type": "markdown",
   "metadata": {},
   "source": [
    "#### □习题"
   ]
  },
  {
   "cell_type": "code",
   "execution_count": null,
   "metadata": {
    "collapsed": true,
    "id": "index"
   },
   "outputs": [],
   "source": [
    "n = 14\n",
    "\n",
    "\n",
    "if n > 15:\n",
    "    print(\"这是一个非常大的数字\")\n",
    "# 请使用 else 输出“这是一个很小的数字”这一信息\n"
   ]
  },
  {
   "cell_type": "markdown",
   "metadata": {},
   "source": [
    "**程序清单4.41：习题**"
   ]
  },
  {
   "cell_type": "markdown",
   "metadata": {},
   "source": [
    "#### □参考答案"
   ]
  },
  {
   "cell_type": "code",
   "execution_count": 8,
   "metadata": {
    "id": "answer"
   },
   "outputs": [
    {
     "name": "stdout",
     "output_type": "stream",
     "text": [
      "这是一个很小的数字\n"
     ]
    }
   ],
   "source": [
    "n = 14\n",
    "\n",
    "\n",
    "if n > 15:\n",
    "    print(\"这是一个非常大的数字\")\n",
    "# 请使用 else 输出“这是一个很小的数字”这一信息\n",
    "else:\n",
    "    print(\"这是一个很小的数字\")"
   ]
  },
  {
   "cell_type": "markdown",
   "metadata": {},
   "source": [
    "**程序清单4.42：参考答案**"
   ]
  },
  {
   "cell_type": "markdown",
   "metadata": {
    "courseId": 3010,
    "exerciseId": "BJGbKnUjLeG",
    "id": "code_session_name",
    "important": true,
    "isDL": false,
    "timeoutSecs": 5
   },
   "source": [
    "### ○4.4.4 elif"
   ]
  },
  {
   "cell_type": "code",
   "execution_count": 9,
   "metadata": {},
   "outputs": [
    {
     "name": "stdout",
     "output_type": "stream",
     "text": [
      "银牌！\n"
     ]
    }
   ],
   "source": [
    "number = 2\n",
    "if number == 1:\n",
    "    print(\"金牌！\")\n",
    "elif number == 2:\n",
    "    print(\"银牌！\")\n",
    "elif number == 3:\n",
    "    print(\"铜牌！\")\n",
    "else:\n",
    "    print(\"很遗憾！您是第\" + str(number) + \"位到达终点的选手\") "
   ]
  },
  {
   "cell_type": "markdown",
   "metadata": {},
   "source": [
    "**程序清单4.43：elif の例①**"
   ]
  },
  {
   "cell_type": "code",
   "execution_count": 10,
   "metadata": {},
   "outputs": [
    {
     "name": "stdout",
     "output_type": "stream",
     "text": [
      "ねこはかわいいですな\n"
     ]
    }
   ],
   "source": [
    "animal = \"cat\"\n",
    "if animal == \"cat\":\n",
    "    print(\"猫咪真的是好可爱啊\")\n",
    "elif animal == \"dog\":\n",
    "    print(\"狗狗很酷呢\")\n",
    "elif animal == \"elephant\":\n",
    "    print(\"大象好大个子哇\")\n",
    "else:\n",
    "    print(\"不是猫咪不是狗狗也不是大象呀\")"
   ]
  },
  {
   "cell_type": "markdown",
   "metadata": {},
   "source": [
    "**程序清单4.44：elif の例②**"
   ]
  },
  {
   "cell_type": "markdown",
   "metadata": {},
   "source": [
    "#### □习题"
   ]
  },
  {
   "cell_type": "code",
   "execution_count": null,
   "metadata": {
    "collapsed": true,
    "id": "index"
   },
   "outputs": [],
   "source": [
    "n = 14\n",
    "\n",
    "if n > 15:\n",
    "    print(\"这是一个非常大的数字\")\n",
    "# 请使用 elif 语句实现当 n 大于 11 且小于 15 时，输出“这是一个不大不小的数字”\n",
    "\n",
    "\n",
    "    \n",
    "else:\n",
    "    print(\"这是一个很小的数字\")"
   ]
  },
  {
   "cell_type": "code",
   "execution_count": null,
   "metadata": {},
   "outputs": [],
   "source": []
  },
  {
   "cell_type": "markdown",
   "metadata": {},
   "source": [
    "**程序清单4.45：习题**"
   ]
  },
  {
   "cell_type": "markdown",
   "metadata": {},
   "source": [
    "#### □参考答案"
   ]
  },
  {
   "cell_type": "code",
   "execution_count": 29,
   "metadata": {
    "id": "answer"
   },
   "outputs": [
    {
     "name": "stdout",
     "output_type": "stream",
     "text": [
      "这是一个不大不小的数字\n"
     ]
    }
   ],
   "source": [
    "n = 14\n",
    "\n",
    "if n > 15:\n",
    "    print(\"这是一个非常大的数字\")\n",
    "# 请使用 elif 语句实现当 n 大于 11 且小于 15 时，输出“这是一个不大不小的数字”\n",
    "elif n >= 11:\n",
    "    print(\"这是一个不大不小的数字\")\n",
    "else:\n",
    "    print(\"这是一个很小的数字\")"
   ]
  },
  {
   "cell_type": "markdown",
   "metadata": {},
   "source": [
    "**程序清单4.46：参考答案**"
   ]
  },
  {
   "cell_type": "markdown",
   "metadata": {
    "courseId": 3010,
    "exerciseId": "rymWth8iIeM",
    "id": "code_session_name",
    "important": true,
    "isDL": false,
    "timeoutSecs": 5
   },
   "source": [
    "### ○4.4.5 and・not・or"
   ]
  },
  {
   "cell_type": "markdown",
   "metadata": {},
   "source": [
    "#### □习题"
   ]
  },
  {
   "cell_type": "code",
   "execution_count": 38,
   "metadata": {
    "id": "index"
   },
   "outputs": [
    {
     "name": "stdout",
     "output_type": "stream",
     "text": [
      "\n",
      "\n"
     ]
    }
   ],
   "source": [
    "n_1 = 14\n",
    "n_2 = 28\n",
    "\n",
    "# 请将 “n_1比8大，且比14小” 编写成条件表达式，并用and进行输出\n",
    "print()\n",
    "\n",
    "# 请将 “n_1的平方比n_2的5倍小” 编写成表达式，并用not进行输出\n",
    "print()\n"
   ]
  },
  {
   "cell_type": "markdown",
   "metadata": {},
   "source": [
    "**程序清单4.47：习题**"
   ]
  },
  {
   "cell_type": "markdown",
   "metadata": {},
   "source": [
    "#### □参考答案"
   ]
  },
  {
   "cell_type": "code",
   "execution_count": 28,
   "metadata": {
    "id": "answer"
   },
   "outputs": [
    {
     "name": "stdout",
     "output_type": "stream",
     "text": [
      "False\n",
      "True\n"
     ]
    }
   ],
   "source": [
    "n_1 = 14\n",
    "n_2 = 28\n",
    "\n",
    "# 请将 “n_1比8大，且比14小” 编写成条件表达式，并用and进行输出\n",
    "print(n_1 > 8 and n_1 < 14)\n",
    "\n",
    "# 请将 “n_1的平方比n_2的5倍小” 编写成表达式，并用not进行输出\n",
    "print(not n_1 ** 2 < n_2 * 5)"
   ]
  },
  {
   "cell_type": "markdown",
   "metadata": {},
   "source": [
    "**程序清单4.48：参考答案**"
   ]
  },
  {
   "cell_type": "markdown",
   "metadata": {
    "id": "chapter_exam"
   },
   "source": [
    "## ●4.5 附加习题"
   ]
  },
  {
   "cell_type": "markdown",
   "metadata": {},
   "source": [
    "#### □习题"
   ]
  },
  {
   "cell_type": "code",
   "execution_count": null,
   "metadata": {
    "collapsed": true,
    "id": "index"
   },
   "outputs": [],
   "source": [
    "# 请将阳历年份输入变量 year 中\n",
    "\n",
    "\n",
    "\n",
    "\n",
    "\n",
    "# 使用 if 语句进行条件分支，判断某个年份是闰年还是平年\n"
   ]
  },
  {
   "cell_type": "markdown",
   "metadata": {},
   "source": [
    "**程序清单4.49：习题**"
   ]
  },
  {
   "cell_type": "markdown",
   "metadata": {},
   "source": [
    "#### □参考答案"
   ]
  },
  {
   "cell_type": "code",
   "execution_count": 32,
   "metadata": {
    "id": "answer"
   },
   "outputs": [
    {
     "name": "stdout",
     "output_type": "stream",
     "text": [
      "2000年是闰年\n"
     ]
    }
   ],
   "source": [
    "# 请将阳历年份输入变量 year 中\n",
    "year = 2000\n",
    "\n",
    "# 使用 if 语句进行条件分支，判断某个年份是闰年还是平年\n",
    "if year % 100 == 0 and year % 400 != 0:\n",
    "    print (str(year) + \"年是平年\")\n",
    "elif year % 4 == 0:\n",
    "    print (str(year) + \"年是闰年\")\n",
    "else:\n",
    "    print (str(year) + \"年是平年\")"
   ]
  },
  {
   "cell_type": "markdown",
   "metadata": {},
   "source": [
    "**程序清单4.50：参考答案**"
   ]
  }
 ],
 "metadata": {
  "celltoolbar": "Edit Metadata",
  "kernelspec": {
   "display_name": "Python 3",
   "language": "python",
   "name": "python3"
  },
  "language_info": {
   "codemirror_mode": {
    "name": "ipython",
    "version": 3
   },
   "file_extension": ".py",
   "mimetype": "text/x-python",
   "name": "python",
   "nbconvert_exporter": "python",
   "pygments_lexer": "ipython3",
   "version": "3.6.6"
  },
  "varInspector": {
   "cols": {
    "lenName": 16,
    "lenType": 16,
    "lenVar": 40
   },
   "kernels_config": {
    "python": {
     "delete_cmd_postfix": "",
     "delete_cmd_prefix": "del ",
     "library": "var_list.py",
     "varRefreshCmd": "print(var_dic_list())"
    },
    "r": {
     "delete_cmd_postfix": ") ",
     "delete_cmd_prefix": "rm(",
     "library": "var_list.r",
     "varRefreshCmd": "cat(var_dic_list()) "
    }
   },
   "types_to_exclude": [
    "module",
    "function",
    "builtin_function_or_method",
    "instance",
    "_Feature"
   ],
   "window_display": false
  }
 },
 "nbformat": 4,
 "nbformat_minor": 2
}
