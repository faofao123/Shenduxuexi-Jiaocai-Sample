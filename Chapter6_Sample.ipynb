{
 "cells": [
  {
   "cell_type": "markdown",
   "metadata": {
    "chapterId": "B19uCmWx-G",
    "id": "chapter_name"
   },
   "source": [
    "# ★Chapter6　函数的基础"
   ]
  },
  {
   "cell_type": "markdown",
   "metadata": {
    "id": "table"
   },
   "source": [
    "- **6.1 内嵌函数与方法**\n",
    "    - **6.1.1 函数的基础与内嵌函数**\n",
    "    - **6.1.2 函数与方法**\n",
    "    - **6.1.3 字符串型的方法（upper/count）**\n",
    "    - **6.1.4 字符串型的方法（format）**\n",
    "    - **6.1.5 列表型的方法（index）**\n",
    "    - **6.1.6 列表型的方法（sort）**\n",
    "<br><br>\n",
    "- **6.2 函数**\n",
    "    - **6.2.1 函数的创建**\n",
    "    - **6.2.2 参数**\n",
    "    - **6.2.3 多个参数**\n",
    "    - **6.2.4 参数的初始值**\n",
    "    - **6.2.5 函数的返回（return）**\n",
    "    - **6.2.6 函数的导入（import）**\n",
    "<br><br>\n",
    "- **6.3 类**\n",
    "    - **6.3.1 对象**\n",
    "    - **6.3.2 类（成员与构造函数）**\n",
    "    - **6.3.3 类（方法）**\n",
    "    - **6.3.4 类（继承、覆盖、父类）**\n",
    "<br><br>\n",
    "- **6.4 附录**\n",
    "    - **6.4.1 字符串格式的指定**\n",
    "<br><br>\n",
    "- **6.5 附加习题**\n",
    "- **综合附加习题**\n"
   ]
  },
  {
   "cell_type": "markdown",
   "metadata": {
    "id": "section_name",
    "sectionId": "ryjuRXWxWf"
   },
   "source": [
    "## ●6.1 内嵌函数与方法"
   ]
  },
  {
   "cell_type": "markdown",
   "metadata": {
    "courseId": 3010,
    "exerciseId": "BkKEYlPxM",
    "id": "code_session_name",
    "important": true,
    "isDL": false,
    "timeoutSecs": 5
   },
   "source": [
    "### 〇6.1.1 函数的基础与内嵌函数"
   ]
  },
  {
   "cell_type": "markdown",
   "metadata": {},
   "source": [
    "#### □习题"
   ]
  },
  {
   "cell_type": "code",
   "execution_count": null,
   "metadata": {
    "collapsed": true,
    "id": "index"
   },
   "outputs": [],
   "source": [
    "vege = \"potato\"\n",
    "n = [4, 5, 2, 7, 6]\n",
    "\n",
    "# 请对变量 vege 的对象长度进行输出\n",
    "\n",
    "\n",
    "# 请对变量 n 的对象长度进行输出\n"
   ]
  },
  {
   "cell_type": "markdown",
   "metadata": {},
   "source": [
    "**程序清单 6.1：习题**\n"
   ]
  },
  {
   "cell_type": "markdown",
   "metadata": {},
   "source": [
    "#### □参考答案"
   ]
  },
  {
   "cell_type": "code",
   "execution_count": 2,
   "metadata": {
    "id": "answer"
   },
   "outputs": [
    {
     "name": "stdout",
     "output_type": "stream",
     "text": [
      "6\n",
      "5\n"
     ]
    }
   ],
   "source": [
    "vege = \"potato\"\n",
    "n = [4, 5, 2, 7, 6]\n",
    "\n",
    "# 请对变量 vege 的对象长度进行输出\n",
    "print(len(vege))\n",
    "\n",
    "# 请对变量 n 的对象长度进行输出\n",
    "print(len(n))"
   ]
  },
  {
   "cell_type": "markdown",
   "metadata": {},
   "source": [
    "**程序清单 6.2：参考答案**"
   ]
  },
  {
   "cell_type": "markdown",
   "metadata": {
    "courseId": 3010,
    "exerciseId": "HyxtEKlwxG",
    "id": "quiz_session_name",
    "important": true,
    "isDL": false,
    "timeoutSecs": 5
   },
   "source": [
    "### 〇6.1.2 函数与方法"
   ]
  },
  {
   "cell_type": "code",
   "execution_count": 3,
   "metadata": {},
   "outputs": [
    {
     "name": "stdout",
     "output_type": "stream",
     "text": [
      "['a', 'b', 'c', 'd', 'e', 'f']\n"
     ]
    }
   ],
   "source": [
    "# 复习 append 的操作\n",
    "alphabet = [\"a\",\"b\",\"c\",\"d\",\"e\"]\n",
    "alphabet.append(\"f\")\n",
    "print(alphabet)  "
   ]
  },
  {
   "cell_type": "markdown",
   "metadata": {},
   "source": [
    "**程序清单 6.3：append() 方法的示例**"
   ]
  },
  {
   "cell_type": "code",
   "execution_count": 4,
   "metadata": {},
   "outputs": [
    {
     "name": "stdout",
     "output_type": "stream",
     "text": [
      "[1, 2, 3, 4, 5]\n",
      "[1, 5, 3, 4, 2]\n"
     ]
    }
   ],
   "source": [
    "# sorted的操作\n",
    "number = [1,5,3,4,2]\n",
    "print(sorted(number))  \n",
    "print(number)  "
   ]
  },
  {
   "cell_type": "markdown",
   "metadata": {},
   "source": [
    "**程序清单 6.4：函数与方法的示例①**"
   ]
  },
  {
   "cell_type": "code",
   "execution_count": 5,
   "metadata": {},
   "outputs": [
    {
     "name": "stdout",
     "output_type": "stream",
     "text": [
      "[1, 2, 3, 4, 5]\n"
     ]
    }
   ],
   "source": [
    "# sorted的操作\n",
    "number = [1,5,3,4,2]\n",
    "number.sort()\n",
    "print(number)  "
   ]
  },
  {
   "cell_type": "markdown",
   "metadata": {},
   "source": [
    "**程序清单 6.5：函数与方法的示例②**"
   ]
  },
  {
   "cell_type": "markdown",
   "metadata": {},
   "source": [
    "#### □习题"
   ]
  },
  {
   "cell_type": "markdown",
   "metadata": {},
   "source": [
    "（习题 1）"
   ]
  },
  {
   "cell_type": "code",
   "execution_count": 6,
   "metadata": {},
   "outputs": [
    {
     "name": "stdout",
     "output_type": "stream",
     "text": [
      "['b', 'a', 'e', 'c', 'd']\n"
     ]
    }
   ],
   "source": [
    "alphabet = [\"b\", \"a\", \"e\", \"c\", \"d\"]\n",
    "sorted(alphabet)\n",
    "print(alphabet)"
   ]
  },
  {
   "cell_type": "markdown",
   "metadata": {},
   "source": [
    "（习题 2）"
   ]
  },
  {
   "cell_type": "code",
   "execution_count": 7,
   "metadata": {},
   "outputs": [
    {
     "name": "stdout",
     "output_type": "stream",
     "text": [
      "['a', 'b', 'c', 'd', 'e']\n"
     ]
    }
   ],
   "source": [
    "alphabet = [\"b\", \"a\", \"e\", \"c\", \"d\"]\n",
    "alphabet.sort()\n",
    "print(alphabet)"
   ]
  },
  {
   "cell_type": "markdown",
   "metadata": {},
   "source": [
    "#### □参考答案"
   ]
  },
  {
   "cell_type": "markdown",
   "metadata": {
    "id": "answer"
   },
   "source": [
    "习题 1：`[\"b\", \"a\", \"e\", \"c\", \"d\"]` 习题 2：`[\"a\", \"b\", \"c\", \"d\", \"e\"]`"
   ]
  },
  {
   "cell_type": "markdown",
   "metadata": {
    "courseId": 3010,
    "exerciseId": "S1-tEYgwxf",
    "id": "code_session_name",
    "important": true,
    "isDL": false,
    "timeoutSecs": 5
   },
   "source": [
    "### 〇6.1.3 字符串型的方法（upper/count）"
   ]
  },
  {
   "cell_type": "code",
   "execution_count": 8,
   "metadata": {},
   "outputs": [
    {
     "name": "stdout",
     "output_type": "stream",
     "text": [
      "TOKYO\n",
      "2\n"
     ]
    }
   ],
   "source": [
    "# 方法的操作示例\n",
    "city = \"Tokyo\"\n",
    "print(city.upper())  \n",
    "print(city.count(\"o\"))  "
   ]
  },
  {
   "cell_type": "markdown",
   "metadata": {},
   "source": [
    "**程序清单 6.6： upper() 方法、 count() 方法的示例**"
   ]
  },
  {
   "cell_type": "markdown",
   "metadata": {},
   "source": [
    "#### □习题"
   ]
  },
  {
   "cell_type": "code",
   "execution_count": null,
   "metadata": {
    "collapsed": true,
    "id": "index"
   },
   "outputs": [],
   "source": [
    "animal = \"elephant\"\n",
    "\n",
    "#  请将保存在变量 animal 中的字符串变成大写并将其代入变量 animal_big 中\n",
    "\n",
    "\n",
    "\n",
    "print(animal)\n",
    "print(animal_big)\n",
    "\n",
    "# 请对变量 animal 中包含多少个 “e” 的数量进行输出\n"
   ]
  },
  {
   "cell_type": "markdown",
   "metadata": {},
   "source": [
    "**程序清单 6.7：习题**"
   ]
  },
  {
   "cell_type": "markdown",
   "metadata": {},
   "source": [
    "#### □参考答案"
   ]
  },
  {
   "cell_type": "code",
   "execution_count": 9,
   "metadata": {
    "id": "answer"
   },
   "outputs": [
    {
     "name": "stdout",
     "output_type": "stream",
     "text": [
      "elephant\n",
      "ELEPHANT\n",
      "2\n"
     ]
    }
   ],
   "source": [
    "animal = \"elephant\"\n",
    "\n",
    "# 请将保存在变量 animal 中的字符串变成大写并将其代入变量 animal_big 中\n",
    "animal_big = animal.upper()\n",
    "\n",
    "print(animal)\n",
    "print(animal_big)\n",
    "\n",
    "# 请对变量 animal 中包含多少个 “e” 的数量进行输出\n",
    "print(animal.count(\"e\"))"
   ]
  },
  {
   "cell_type": "markdown",
   "metadata": {},
   "source": [
    "**程序清单 6.8：参考答案**"
   ]
  },
  {
   "cell_type": "markdown",
   "metadata": {
    "courseId": 3010,
    "exerciseId": "B1zKVFlDxG",
    "id": "code_session_name",
    "important": true,
    "isDL": false,
    "timeoutSecs": 5
   },
   "source": [
    "### 〇6.1.4 字符串型的方法（format）"
   ]
  },
  {
   "cell_type": "code",
   "execution_count": 10,
   "metadata": {},
   "outputs": [
    {
     "name": "stdout",
     "output_type": "stream",
     "text": [
      "我在东京出生，在埼玉长大\n"
     ]
    }
   ],
   "source": [
    "print(\"我在{}出生、在{}长大\".format(\"东京\", \"埼玉\"))"
   ]
  },
  {
   "cell_type": "markdown",
   "metadata": {},
   "source": [
    "**程序清单 6.9：format() 方法的示例**"
   ]
  },
  {
   "cell_type": "markdown",
   "metadata": {},
   "source": [
    "#### □习题"
   ]
  },
  {
   "cell_type": "code",
   "execution_count": null,
   "metadata": {
    "collapsed": true,
    "id": "index"
   },
   "outputs": [],
   "source": [
    "fruit = \"banana\"\n",
    "color = \"yellow\"\n",
    "\n",
    "# 请对 “banana 是 yellow 的” 进行输出\n"
   ]
  },
  {
   "cell_type": "markdown",
   "metadata": {},
   "source": [
    "**程序清单 6.10：习题**"
   ]
  },
  {
   "cell_type": "markdown",
   "metadata": {},
   "source": [
    "#### □参考答案"
   ]
  },
  {
   "cell_type": "code",
   "execution_count": 6,
   "metadata": {
    "id": "answer"
   },
   "outputs": [
    {
     "name": "stdout",
     "output_type": "stream",
     "text": [
      "bananaはyellowです\n"
     ]
    }
   ],
   "source": [
    "fruit = \"banana\"\n",
    "color = \"yellow\"\n",
    "\n",
    "# 请对 “banana 是 yellow 的” 进行输出\n",
    "print(\"{}是{}的\".format(fruit, color))"
   ]
  },
  {
   "cell_type": "markdown",
   "metadata": {},
   "source": [
    "**程序清单 6.11：参考答案**"
   ]
  },
  {
   "cell_type": "markdown",
   "metadata": {
    "courseId": 3010,
    "exerciseId": "HkXF4tlDxG",
    "id": "code_session_name",
    "important": true,
    "isDL": false,
    "timeoutSecs": 5
   },
   "source": [
    "### 〇6.1.5 列表型的方法（index）"
   ]
  },
  {
   "cell_type": "code",
   "execution_count": 11,
   "metadata": {},
   "outputs": [
    {
     "name": "stdout",
     "output_type": "stream",
     "text": [
      "0\n",
      "2\n"
     ]
    }
   ],
   "source": [
    "alphabet = [\"a\", \"b\", \"c\", \"d\", \"d\"]\n",
    "print(alphabet.index(\"a\"))  \n",
    "print(alphabet.count(\"d\"))"
   ]
  },
  {
   "cell_type": "markdown",
   "metadata": {},
   "source": [
    "**程序清单 6.12： index() 方法的示例**"
   ]
  },
  {
   "cell_type": "markdown",
   "metadata": {},
   "source": [
    "#### □习题"
   ]
  },
  {
   "cell_type": "code",
   "execution_count": null,
   "metadata": {
    "collapsed": true,
    "id": "index"
   },
   "outputs": [],
   "source": [
    "n = [3, 6, 8, 6, 3, 2, 4, 6]\n",
    "\n",
    "# 请对 “2” 的索引编号进行输出\n",
    "\n",
    "\n",
    "# 请对变量 n 中包含多少个 “6” 的数量进行输出\n",
    "\n"
   ]
  },
  {
   "cell_type": "markdown",
   "metadata": {},
   "source": [
    "**程序清单 6.13：习题**"
   ]
  },
  {
   "cell_type": "markdown",
   "metadata": {},
   "source": [
    "#### □参考答案"
   ]
  },
  {
   "cell_type": "code",
   "execution_count": 12,
   "metadata": {
    "id": "answer"
   },
   "outputs": [
    {
     "name": "stdout",
     "output_type": "stream",
     "text": [
      "5\n",
      "3\n"
     ]
    }
   ],
   "source": [
    "n = [3, 6, 8, 6, 3, 2, 4, 6]\n",
    "\n",
    "# 请对 “2” 的索引编号进行输出\n",
    "print(n.index(2))\n",
    "\n",
    "# 请对变量 n 中包含多少个 “6” 的数量进行输出\n",
    "print(n.count(6))"
   ]
  },
  {
   "cell_type": "markdown",
   "metadata": {},
   "source": [
    "**程序清单 6.14：参考答案**"
   ]
  },
  {
   "cell_type": "markdown",
   "metadata": {
    "courseId": 3010,
    "exerciseId": "BkVY4KxvgG",
    "id": "code_session_name",
    "important": true,
    "isDL": false,
    "timeoutSecs": 5
   },
   "source": [
    "### 〇6.1.6 列表型的方法（sort）"
   ]
  },
  {
   "cell_type": "code",
   "execution_count": 14,
   "metadata": {},
   "outputs": [
    {
     "name": "stdout",
     "output_type": "stream",
     "text": [
      "[1, 2, 10, 20]\n"
     ]
    }
   ],
   "source": [
    "# sort()的使用示例\n",
    "list = [1, 10, 2, 20]\n",
    "list.sort()\n",
    "print(list)  "
   ]
  },
  {
   "cell_type": "markdown",
   "metadata": {},
   "source": [
    "**程序清单 6.15：sorted() 方法的示例**"
   ]
  },
  {
   "cell_type": "code",
   "execution_count": 13,
   "metadata": {},
   "outputs": [
    {
     "name": "stdout",
     "output_type": "stream",
     "text": [
      "['啊', '哦', '呃', '咿', '呜']\n"
     ]
    }
   ],
   "source": [
    "#  reverse()的使用示例\n",
    "list = [\"呜\", \"咿\", \"呃\", \"哦\", \"啊\"]\n",
    "list.reverse()\n",
    "print(list) "
   ]
  },
  {
   "cell_type": "markdown",
   "metadata": {},
   "source": [
    "**程序清单 6.16： reverse() 方法的示例**"
   ]
  },
  {
   "cell_type": "markdown",
   "metadata": {},
   "source": [
    "#### □习题"
   ]
  },
  {
   "cell_type": "code",
   "execution_count": null,
   "metadata": {
    "collapsed": true,
    "id": "index"
   },
   "outputs": [],
   "source": [
    "n = [53, 26, 37, 69, 24, 2]\n",
    "\n",
    "# 请对变量 n 进行排序，将数字按从小到大的顺序进行输出\n",
    "\n",
    "print(n)\n",
    "\n",
    "# 请将按从小到大排序后的变量 n 中的元素的顺序进行颠倒，即将数字按从大到小的顺序进行输出\n",
    "\n",
    "\n",
    "print(n)"
   ]
  },
  {
   "cell_type": "markdown",
   "metadata": {},
   "source": [
    "**程序清单 6.17： 习题** "
   ]
  },
  {
   "cell_type": "markdown",
   "metadata": {},
   "source": [
    "#### □参考答案"
   ]
  },
  {
   "cell_type": "code",
   "execution_count": 13,
   "metadata": {
    "id": "answer"
   },
   "outputs": [
    {
     "name": "stdout",
     "output_type": "stream",
     "text": [
      "[2, 24, 26, 37, 53, 69]\n",
      "[69, 53, 37, 26, 24, 2]\n"
     ]
    }
   ],
   "source": [
    "n = [53, 26, 37, 69, 24, 2]\n",
    "\n",
    "# 请对变量 n 进行排序，将数字按从小到大的顺序进行输出\n",
    "n.sort()\n",
    "print(n)\n",
    "\n",
    "# 请将按从小到大排序后的变量 n 中的元素的顺序进行颠倒，即将数字按从大到小的顺序进行输出\n",
    "n.reverse()\n",
    "print(n)"
   ]
  },
  {
   "cell_type": "markdown",
   "metadata": {},
   "source": [
    "**程序清单 6.18：参考答案**"
   ]
  },
  {
   "cell_type": "markdown",
   "metadata": {
    "id": "section_name",
    "important": true,
    "sectionId": "Sk3dRXWgbf"
   },
   "source": [
    "## ●6.2 函数"
   ]
  },
  {
   "cell_type": "markdown",
   "metadata": {
    "courseId": 3010,
    "exerciseId": "HySF4KxveG",
    "id": "code_session_name",
    "important": true,
    "isDL": false,
    "timeoutSecs": 5
   },
   "source": [
    "### 〇6.2.1 函数的创建"
   ]
  },
  {
   "cell_type": "code",
   "execution_count": 14,
   "metadata": {},
   "outputs": [
    {
     "name": "stdout",
     "output_type": "stream",
     "text": [
      "唱歌！\n"
     ]
    }
   ],
   "source": [
    "def sing():\n",
    "    print (\"唱歌！\")\n",
    "\n",
    "sing()"
   ]
  },
  {
   "cell_type": "markdown",
   "metadata": {},
   "source": [
    "**程序清单 6.19：函数创建的示例**"
   ]
  },
  {
   "cell_type": "markdown",
   "metadata": {},
   "source": [
    "#### □习题"
   ]
  },
  {
   "cell_type": "code",
   "execution_count": null,
   "metadata": {
    "collapsed": true,
    "id": "index"
   },
   "outputs": [],
   "source": [
    "# 请创建可以对 “我是 Yamada” 进行输出的 introduce 函数\n",
    "\n",
    "\n",
    "\n",
    "# 调用函数\n",
    "introduce()"
   ]
  },
  {
   "cell_type": "markdown",
   "metadata": {},
   "source": [
    "**程序清单 6.20：习题**"
   ]
  },
  {
   "cell_type": "markdown",
   "metadata": {},
   "source": [
    "#### □参考答案"
   ]
  },
  {
   "cell_type": "code",
   "execution_count": 15,
   "metadata": {
    "id": "answer"
   },
   "outputs": [
    {
     "name": "stdout",
     "output_type": "stream",
     "text": [
      "我是Yamada\n"
     ]
    }
   ],
   "source": [
    "# 请创建可以对 “我是 Yamada” 进行输出的 introduce 函数\n",
    "def introduce():\n",
    "    print(\"我是Yamada\")\n",
    "\n",
    "# 调用函数\n",
    "introduce()"
   ]
  },
  {
   "cell_type": "markdown",
   "metadata": {},
   "source": [
    "**程序清单 6.21：参考答案**"
   ]
  },
  {
   "cell_type": "markdown",
   "metadata": {
    "courseId": 3010,
    "exerciseId": "H1LFEFgwez",
    "id": "code_session_name",
    "important": true,
    "isDL": false,
    "timeoutSecs": 5
   },
   "source": [
    "### 〇6.2.2 参数"
   ]
  },
  {
   "cell_type": "code",
   "execution_count": 18,
   "metadata": {},
   "outputs": [
    {
     "name": "stdout",
     "output_type": "stream",
     "text": [
      "我是Yamada\n"
     ]
    }
   ],
   "source": [
    "def introduce(n):\n",
    "    print(\"我是\" + n)\n",
    "\n",
    "introduce(\"Yamada\")"
   ]
  },
  {
   "cell_type": "markdown",
   "metadata": {},
   "source": [
    "**程序清单 6.22：参数的示例**"
   ]
  },
  {
   "cell_type": "markdown",
   "metadata": {},
   "source": [
    "#### □习题"
   ]
  },
  {
   "cell_type": "code",
   "execution_count": null,
   "metadata": {
    "collapsed": true,
    "id": "index"
   },
   "outputs": [],
   "source": [
    "# 请使用参数 n，创建显示参数的三次方的值的函数 cube_cal\n",
    "\n",
    "\n",
    "\n",
    "# 调用函数\n",
    "cube_cal(4)"
   ]
  },
  {
   "cell_type": "markdown",
   "metadata": {},
   "source": [
    "**程序清单 6.23：习题**"
   ]
  },
  {
   "cell_type": "markdown",
   "metadata": {},
   "source": [
    "#### □参考答案"
   ]
  },
  {
   "cell_type": "code",
   "execution_count": 11,
   "metadata": {
    "id": "answer"
   },
   "outputs": [
    {
     "name": "stdout",
     "output_type": "stream",
     "text": [
      "64\n"
     ]
    }
   ],
   "source": [
    "# 请使用参数 n，创建显示参数的三次方的值的函数 cube_cal\n",
    "def cube_cal(n):\n",
    "    print(n ** 3)\n",
    "\n",
    "# 调用函数\n",
    "cube_cal(4)"
   ]
  },
  {
   "cell_type": "markdown",
   "metadata": {},
   "source": [
    "**程序清单 6.24：参考答案**"
   ]
  },
  {
   "cell_type": "markdown",
   "metadata": {
    "courseId": 3010,
    "exerciseId": "SyvtVYlPgf",
    "id": "code_session_name",
    "important": true,
    "isDL": false,
    "timeoutSecs": 5
   },
   "source": [
    "### 〇6.2.3 多个参数"
   ]
  },
  {
   "cell_type": "code",
   "execution_count": 16,
   "metadata": {},
   "outputs": [
    {
     "name": "stdout",
     "output_type": "stream",
     "text": [
      "我姓Yamada、名叫taro。\n"
     ]
    }
   ],
   "source": [
    "def introduce(first,second):\n",
    "    print(\"我姓\"+ first + \"，名叫\"+ second + \"。\")\n",
    "\n",
    "introduce(\"Yamada\",\"taro\")"
   ]
  },
  {
   "cell_type": "markdown",
   "metadata": {},
   "source": [
    "**程序清单 6.25：多个参数的示例**"
   ]
  },
  {
   "cell_type": "markdown",
   "metadata": {},
   "source": [
    "#### □习题"
   ]
  },
  {
   "cell_type": "code",
   "execution_count": null,
   "metadata": {
    "collapsed": true,
    "id": "index"
   },
   "outputs": [],
   "source": [
    "# 请创建 introduce 函数\n",
    "\n",
    "\n",
    "# 请调用函数\n",
    "\n"
   ]
  },
  {
   "cell_type": "markdown",
   "metadata": {},
   "source": [
    "**程序清单 6.26：习题**"
   ]
  },
  {
   "cell_type": "markdown",
   "metadata": {},
   "source": [
    "#### □参考答案"
   ]
  },
  {
   "cell_type": "code",
   "execution_count": 17,
   "metadata": {
    "id": "answer"
   },
   "outputs": [
    {
     "name": "stdout",
     "output_type": "stream",
     "text": [
      "我叫Yamada。今年18岁。\n"
     ]
    }
   ],
   "source": [
    "# 请创建 introduce 函数\n",
    "def introduce(n, age):\n",
    "    print(\"我叫\" + n + \"。\" + \"今年\" + str(age) + \"岁。\")\n",
    "\n",
    "# 请调用函数\n",
    "introduce(\"Yamada\", 18)"
   ]
  },
  {
   "cell_type": "markdown",
   "metadata": {},
   "source": [
    "**程序清单 6.27：参考答案**"
   ]
  },
  {
   "cell_type": "markdown",
   "metadata": {
    "courseId": 3010,
    "exerciseId": "HyOFNtgPgz",
    "id": "code_session_name",
    "important": false,
    "isDL": false,
    "timeoutSecs": 5
   },
   "source": [
    "### 〇6.2.4 参数的初始值"
   ]
  },
  {
   "cell_type": "code",
   "execution_count": 23,
   "metadata": {},
   "outputs": [
    {
     "name": "stdout",
     "output_type": "stream",
     "text": [
      "我姓Suzuki，名叫Taro。\n"
     ]
    }
   ],
   "source": [
    "def introduce(first = \"Yamada\",second = \"Taro\"):\n",
    "    print(\"我姓\"+ first + \"，名叫\"+ second + \"。\")\n",
    "\n",
    "introduce(\"Suzuki\")"
   ]
  },
  {
   "cell_type": "markdown",
   "metadata": {},
   "source": [
    "**程序清单 6.28：参数初始值的示例①**"
   ]
  },
  {
   "cell_type": "code",
   "execution_count": 17,
   "metadata": {},
   "outputs": [
    {
     "name": "stdout",
     "output_type": "stream",
     "text": [
      " 我姓Suzuki，名叫Taro。\n"
     ]
    }
   ],
   "source": [
    "def introduce(first,second = \"Taro\"):\n",
    "    print(\"我姓\"+ first + \" ，名叫 \"+ second + \" 。\")\n",
    "\n",
    "introduce(\"Suzuki\")"
   ]
  },
  {
   "cell_type": "markdown",
   "metadata": {},
   "source": [
    "**程序清单 6.29：参数初始值的示例②**"
   ]
  },
  {
   "cell_type": "code",
   "execution_count": 18,
   "metadata": {},
   "outputs": [
    {
     "ename": "SyntaxError",
     "evalue": "non-default argument follows default argument (<ipython-input-18-52ca432c1162>, line 1)",
     "output_type": "error",
     "traceback": [
      "\u001b[1;36m  File \u001b[1;32m\"<ipython-input-18-52ca432c1162>\"\u001b[1;36m, line \u001b[1;32m1\u001b[0m\n\u001b[1;33m    def introduce(first = \"Suzuki\",second):\u001b[0m\n\u001b[1;37m                 ^\u001b[0m\n\u001b[1;31mSyntaxError\u001b[0m\u001b[1;31m:\u001b[0m non-default argument follows default argument\n"
     ]
    }
   ],
   "source": [
    "def introduce(first = \"Suzuki\",second):\n",
    "    print(\"我姓\"+ first + \"，名叫\"+ second + \"。\")"
   ]
  },
  {
   "cell_type": "markdown",
   "metadata": {},
   "source": [
    "**程序清单 6.30：参数初始值的示例③**"
   ]
  },
  {
   "cell_type": "markdown",
   "metadata": {},
   "source": [
    "#### □习题"
   ]
  },
  {
   "cell_type": "code",
   "execution_count": null,
   "metadata": {
    "collapsed": true,
    "id": "index"
   },
   "outputs": [],
   "source": [
    "# 请设定初始值\n",
    "def introduce(age, n):\n",
    "    print(\"我叫\" + n + \"。\" + \"今年\" + str(age) + \"岁。\")\n",
    "\n",
    "# 调用函数\n"
   ]
  },
  {
   "cell_type": "markdown",
   "metadata": {},
   "source": [
    "**程序清单 6.31：习题**"
   ]
  },
  {
   "cell_type": "markdown",
   "metadata": {},
   "source": [
    "#### □参考答案"
   ]
  },
  {
   "cell_type": "code",
   "execution_count": 18,
   "metadata": {
    "id": "answer"
   },
   "outputs": [
    {
     "name": "stdout",
     "output_type": "stream",
     "text": [
      "我叫Yamada。今年18岁。\n"
     ]
    }
   ],
   "source": [
    "# 请设定初始值\n",
    "def introduce(age, n = \"Yamada\"):\n",
    "    print(\"我叫\" + n + \"。\" + \"今年\" + str(age) + \"岁。\")\n",
    "\n",
    "# 调用函数\n",
    "introduce(18)"
   ]
  },
  {
   "cell_type": "markdown",
   "metadata": {},
   "source": [
    "**程序清单 6.32：参考答案**"
   ]
  },
  {
   "cell_type": "markdown",
   "metadata": {
    "courseId": 3010,
    "exerciseId": "SJtY4FevlG",
    "id": "code_session_name",
    "important": true,
    "isDL": false,
    "timeoutSecs": 5
   },
   "source": [
    "### 〇6.2.5 函数的返回（return）"
   ]
  },
  {
   "cell_type": "code",
   "execution_count": 20,
   "metadata": {},
   "outputs": [
    {
     "name": "stdout",
     "output_type": "stream",
     "text": [
      "我姓Suzuki，名叫Taro。\n"
     ]
    }
   ],
   "source": [
    "def introduce(first = \"Yamada\",second = \"Taro\"):\n",
    "    return \"我姓\"+ first + \"，名叫\"+ second + \"。\"\n",
    "\n",
    "print(introduce(\"Suzuki\"))"
   ]
  },
  {
   "cell_type": "markdown",
   "metadata": {},
   "source": [
    "**程序清单 6.33：return的示例①**"
   ]
  },
  {
   "cell_type": "code",
   "execution_count": 19,
   "metadata": {},
   "outputs": [
    {
     "name": "stdout",
     "output_type": "stream",
     "text": [
      "我姓Suzuki，名叫Taro。\n"
     ]
    }
   ],
   "source": [
    "def introduce(first = \"Yamada\",second = \"Taro\"):\n",
    "    comment = \"我姓\"+ first + \"，名叫\"+ second + \"。\"\n",
    "    return comment\n",
    "\n",
    "print(introduce(\"Suzuki\"))"
   ]
  },
  {
   "cell_type": "markdown",
   "metadata": {},
   "source": [
    "**程序清单 6.34：return 的示例②**"
   ]
  },
  {
   "cell_type": "markdown",
   "metadata": {},
   "source": [
    "#### □习题"
   ]
  },
  {
   "cell_type": "code",
   "execution_count": null,
   "metadata": {
    "collapsed": true,
    "id": "index"
   },
   "outputs": [],
   "source": [
    "# 请创建计算 bmi 的函数，并将 bmi 的值作为返回值\n",
    "\n",
    "\n",
    "\n",
    "print(bmi(1.65, 65))"
   ]
  },
  {
   "cell_type": "markdown",
   "metadata": {},
   "source": [
    "**程序清单 6.35：习题**"
   ]
  },
  {
   "cell_type": "markdown",
   "metadata": {},
   "source": [
    "#### □参考答案"
   ]
  },
  {
   "cell_type": "code",
   "execution_count": 21,
   "metadata": {
    "id": "answer"
   },
   "outputs": [
    {
     "name": "stdout",
     "output_type": "stream",
     "text": [
      "23.875114784205696\n"
     ]
    }
   ],
   "source": [
    "# 请创建计算 bmi 的函数，并将 bmi 的值作为返回值\n",
    "def bmi(height, weight):\n",
    "    return weight / height**2\n",
    "\n",
    "print(bmi(1.65, 65))"
   ]
  },
  {
   "cell_type": "markdown",
   "metadata": {},
   "source": [
    "**程序清单 6.36：参考答案**"
   ]
  },
  {
   "cell_type": "markdown",
   "metadata": {
    "courseId": 3010,
    "exerciseId": "Hkl2bccdM",
    "id": "code_session_name",
    "important": true,
    "isDL": false,
    "timeoutSecs": 5
   },
   "source": [
    "### 〇6.2.6 函数的导入（ import）"
   ]
  },
  {
   "cell_type": "code",
   "execution_count": 31,
   "metadata": {},
   "outputs": [
    {
     "name": "stdout",
     "output_type": "stream",
     "text": [
      "1538245251.0052383\n"
     ]
    }
   ],
   "source": [
    "# 导入time软件包\n",
    "import time\n",
    "\n",
    "# 使用 time() 模块，将当前的时间代入 now_time 中\n",
    "now_time = time.time()\n",
    "\n",
    "# 使用print()进行输出\n",
    "print(now_time)"
   ]
  },
  {
   "cell_type": "markdown",
   "metadata": {},
   "source": [
    "**程序清单 6.37：函数的import（导入）示例①**"
   ]
  },
  {
   "cell_type": "code",
   "execution_count": 33,
   "metadata": {
    "scrolled": true
   },
   "outputs": [
    {
     "name": "stdout",
     "output_type": "stream",
     "text": [
      "1538245799.039225\n"
     ]
    }
   ],
   "source": [
    "# 使用 from 导入 time 模块\n",
    "from time import time\n",
    "\n",
    "# 因为使用了 from 导入模块 ，所以可以将软件包名省略\n",
    "now_time = time()\n",
    "\n",
    "print(now_time)"
   ]
  },
  {
   "cell_type": "markdown",
   "metadata": {},
   "source": [
    "**程序清单 6.38：函数的import（导入）示例②**"
   ]
  },
  {
   "cell_type": "markdown",
   "metadata": {},
   "source": [
    "#### □习题"
   ]
  },
  {
   "cell_type": "code",
   "execution_count": null,
   "metadata": {
    "collapsed": true
   },
   "outputs": [],
   "source": [
    "# 使用 from 导入 time 模块\n",
    "from  import \n",
    "\n",
    "# 请将当前时间代入 now_time 中\n",
    "now_time =\n",
    "\n",
    "print(now_time)"
   ]
  },
  {
   "cell_type": "markdown",
   "metadata": {},
   "source": [
    "**程序清单 6.39：习题**"
   ]
  },
  {
   "cell_type": "markdown",
   "metadata": {},
   "source": [
    "#### □参考答案（输出结果可能和实际界面中显示的不同）"
   ]
  },
  {
   "cell_type": "code",
   "execution_count": 34,
   "metadata": {
    "id": "answer"
   },
   "outputs": [
    {
     "name": "stdout",
     "output_type": "stream",
     "text": [
      "1538245836.858887\n"
     ]
    }
   ],
   "source": [
    "# 使用 from 导入 time 模块\n",
    "from time import time\n",
    "\n",
    "# 请将当前时间代入 now_time 中\n",
    "now_time = time()\n",
    "\n",
    "print(now_time)"
   ]
  },
  {
   "cell_type": "markdown",
   "metadata": {},
   "source": [
    "**程序清单 6.40：参考答案**"
   ]
  },
  {
   "cell_type": "markdown",
   "metadata": {
    "id": "section_name",
    "important": true,
    "sectionId": "ByhE71EOf"
   },
   "source": [
    "## ●6.3 类"
   ]
  },
  {
   "cell_type": "markdown",
   "metadata": {
    "courseId": 3010,
    "exerciseId": "BkVLDge9f",
    "id": "quiz_session_name",
    "important": false,
    "isDL": false,
    "timeoutSecs": 5
   },
   "source": [
    "### 〇6.3.1 对象"
   ]
  },
  {
   "cell_type": "code",
   "execution_count": 35,
   "metadata": {},
   "outputs": [
    {
     "name": "stdout",
     "output_type": "stream",
     "text": [
      "[1, 2, 10, 20]\n"
     ]
    }
   ],
   "source": [
    "# 可以将值直接进行保存\n",
    "mylist = [1, 10, 2, 20]\n",
    "\n",
    "# 可以对保存的值进行排序处理\n",
    "mylist.sort()\n",
    "\n",
    "# 还可以将其交给函数并对处理之后的值的结果进行显示\n",
    "print(mylist)  "
   ]
  },
  {
   "cell_type": "markdown",
   "metadata": {},
   "source": [
    "**程序清单 6.41：类的示例**"
   ]
  },
  {
   "cell_type": "markdown",
   "metadata": {
    "courseId": 3010,
    "exerciseId": "r1ehV7yVdM",
    "id": "code_session_name",
    "important": false,
    "isDL": false,
    "timeoutSecs": 10
   },
   "source": [
    "### 〇6.3.2  类（成员与构造函数）"
   ]
  },
  {
   "cell_type": "code",
   "execution_count": 36,
   "metadata": {},
   "outputs": [],
   "source": [
    "# 对 MyProduct 类进行定义\n",
    "class MyProduct:\n",
    "    # 对构造函数进行定义\n",
    "    def __init__(self, name, price):\n",
    "        # 将参数保存到成员中\n",
    "        self.name = name\n",
    "        self.price = price\n",
    "        self.stock = 0\n",
    "        self.sales = 0"
   ]
  },
  {
   "cell_type": "markdown",
   "metadata": {},
   "source": [
    "**程序清单 6.42：类的示例①**"
   ]
  },
  {
   "cell_type": "code",
   "execution_count": 37,
   "metadata": {},
   "outputs": [],
   "source": [
    "# 调用 MyProduct，并创建对象 product1\n",
    "product1 = MyProduct(\"cake\", 500)"
   ]
  },
  {
   "cell_type": "markdown",
   "metadata": {},
   "source": [
    "**程序清单 6.43：类的示例②**"
   ]
  },
  {
   "cell_type": "markdown",
   "metadata": {},
   "source": [
    "#### □习题"
   ]
  },
  {
   "cell_type": "code",
   "execution_count": null,
   "metadata": {
    "collapsed": true,
    "id": "index"
   },
   "outputs": [],
   "source": [
    "# 对 MyProduct 类进行定义\n",
    "class MyProduct:\n",
    "    # 请修正构造函数\n",
    "    def __init__():\n",
    "        # 请将参数保存到成员中\n",
    "        \n",
    "        \n",
    "        \n",
    "        \n",
    "        \n",
    "        \n",
    "# 调用 MyProduct，并创建对象 product1\n",
    "product_1 = MyProduct(\"cake\", 500, 20)\n",
    "\n",
    "# 请对 product_1 的 stock 进行输出\n",
    "print()"
   ]
  },
  {
   "cell_type": "markdown",
   "metadata": {},
   "source": [
    "**程序清单 6.44：习题**"
   ]
  },
  {
   "cell_type": "markdown",
   "metadata": {},
   "source": [
    "#### □参考答案"
   ]
  },
  {
   "cell_type": "code",
   "execution_count": 27,
   "metadata": {
    "id": "answer"
   },
   "outputs": [
    {
     "name": "stdout",
     "output_type": "stream",
     "text": [
      "20\n"
     ]
    }
   ],
   "source": [
    "# 对 MyProduct 类进行定义\n",
    "class MyProduct:\n",
    "    # 请修正构造函数\n",
    "    def __init__(self, name, price, stock):\n",
    "        # 请将参数保存到成员中\n",
    "        self.name = name\n",
    "        self.price = price\n",
    "        self.stock = stock\n",
    "        self.sales = 0\n",
    "        \n",
    "# 调用 MyProduct，并创建对象 product1\n",
    "product_1 = MyProduct(\"cake\", 500, 20)\n",
    "\n",
    "# 请对 product_1 的 stock 进行输出\n",
    "print(product_1.stock)"
   ]
  },
  {
   "cell_type": "markdown",
   "metadata": {},
   "source": [
    "**程序清单 6.45：参考答案**"
   ]
  },
  {
   "cell_type": "markdown",
   "metadata": {
    "courseId": 3010,
    "exerciseId": "HkW2Emy4_G",
    "id": "code_session_name",
    "important": false,
    "isDL": false,
    "timeoutSecs": 10
   },
   "source": [
    "### 〇6.3.3 类（方法）"
   ]
  },
  {
   "cell_type": "code",
   "execution_count": 40,
   "metadata": {},
   "outputs": [],
   "source": [
    "# 对 MyProduct 类进行定义\n",
    "class MyProduct:\n",
    "    def __init__(self, name, price, stock):\n",
    "        self.name = name\n",
    "        self.price = price\n",
    "        self.stock = stock\n",
    "        self.sales = 0\n",
    "    # 采购方法\n",
    "    def buy_up(self, n):\n",
    "        self.stock += n\n",
    "    # 售出方法\n",
    "    def sell(self, n):\n",
    "        self.stock -= n\n",
    "        self.sales += n*self.price\n",
    "    # 概要方法\n",
    "    def summary(self):\n",
    "        message = \"called summary().\\n name: \" + self.name + \\\n",
    "        \"\\n price: \" + str(self.price) + \\\n",
    "        \"\\n stock: \" + str(self.stock) + \\\n",
    "        \"\\n sales: \" + str(self.sales)\n",
    "        print(message)"
   ]
  },
  {
   "cell_type": "markdown",
   "metadata": {},
   "source": [
    "**程序清单 6.46：类（方法）示例**"
   ]
  },
  {
   "cell_type": "markdown",
   "metadata": {},
   "source": [
    "#### □习题"
   ]
  },
  {
   "cell_type": "code",
   "execution_count": null,
   "metadata": {
    "collapsed": true,
    "id": "index"
   },
   "outputs": [],
   "source": [
    "# 对 MyProduct 类进行定义\n",
    "class MyProduct:\n",
    "    def __init__(self, name, price, stock):\n",
    "        self.name = name\n",
    "        self.price = price\n",
    "        self.stock = stock\n",
    "        self.sales = 0\n",
    "    # 概要メソッド\n",
    "    # 文字列と「自分自身のメソッド」や「自分自身のメンバ」を連結して出力します\n",
    "    def summary(self):\n",
    "        message = \"called summary().\" + \\\n",
    "        \"\\n name: \" + self.get_name() + \\\n",
    "        \"\\n price: \" + str(self.price) + \\\n",
    "        \"\\n stock: \" + str(self.stock) + \\\n",
    "        \"\\n sales: \" + str(self.sales)\n",
    "        print(message)\n",
    "    # nameを返すget_name()を作成してください\n",
    "    def get_name():\n",
    "        \n",
    "        \n",
    "    # 引数の分だけpriceを減らすdiscount()を作成してください\n",
    "    def discount():\n",
    "        \n",
    "        \n",
    "\n",
    "product_2 = MyProduct(\"phone\", 30000, 100)\n",
    "# 5000だけdiscountしてください\n",
    "\n",
    "# product_2のsummaryを出力してください\n"
   ]
  },
  {
   "cell_type": "markdown",
   "metadata": {},
   "source": [
    "#### □参考答案"
   ]
  },
  {
   "cell_type": "code",
   "execution_count": 42,
   "metadata": {
    "id": "answer"
   },
   "outputs": [
    {
     "name": "stdout",
     "output_type": "stream",
     "text": [
      "called summary().\n",
      " name: phone\n",
      " price: 25000\n",
      " stock: 100\n",
      " sales: 0\n"
     ]
    }
   ],
   "source": [
    "# 对 MyProduct 类进行定义\n",
    "class MyProduct:\n",
    "    def __init__(self, name, price, stock):\n",
    "        self.name = name\n",
    "        self.price = price\n",
    "        self.stock = stock\n",
    "        self.sales = 0\n",
    "    # 概要方法\n",
    "    #  将字符串与 “对象自身的方法” 及 “对象自身的成员” 连接起来并对其进行输出\n",
    "    def summary(self):\n",
    "        message = \"called summary().\" + \\\n",
    "        \"\\n name: \" + self.get_name() + \\\n",
    "        \"\\n price: \" + str(self.price) + \\\n",
    "        \"\\n stock: \" + str(self.stock) + \\\n",
    "        \"\\n sales: \" + str(self.sales)\n",
    "        print(message)\n",
    "    # 请创建返回 name 的 get_name()\n",
    "    def get_name(self):\n",
    "        return self.name\n",
    "    # 请创建从 price 中减去参数所指定差价的 discount()\n",
    "    def discount(self, n):\n",
    "        self.price -= n\n",
    "\n",
    "product_2 = MyProduct(\"phone\", 30000, 100)\n",
    "# 请执行 5000 的 discount\n",
    "product_2.discount(5000)\n",
    "# 请对 product_2 中的 summary 进行输出\n",
    "product_2.summary()"
   ]
  },
  {
   "cell_type": "markdown",
   "metadata": {},
   "source": [
    "**程序清单 6.48：参考答案**　"
   ]
  },
  {
   "cell_type": "markdown",
   "metadata": {
    "courseId": 3010,
    "exerciseId": "HkW2Emy4kG",
    "id": "code_session_name",
    "important": false,
    "isDL": false,
    "timeoutSecs": 10
   },
   "source": [
    "### 〇6.3.4 类（继承、覆盖、父类）"
   ]
  },
  {
   "cell_type": "code",
   "execution_count": 43,
   "metadata": {},
   "outputs": [],
   "source": [
    "# 继承 MyProduct 类，并对 MyProductSalesTax 进行定义\n",
    "class MyProductSalesTax(MyProduct):\n",
    "\n",
    "    # 在 MyProductSalesTax 类中，构造函数的第 4 个参数用于接收消费税税率\n",
    "    def __init__(self, name, price, stock, tax_rate):\n",
    "        # 使用 super() 可以对父类的方法进行调用\n",
    "        # 在这里调用了 MyProduct 类的构造函数\n",
    "        super().__init__(name, price, stock)\n",
    "        self.tax_rate = tax_rate\n",
    "\n",
    "    # 在 MyProductSalesTax 中，对 MyProduct 的 get_name 进行覆盖 (重写)\n",
    "    def get_name(self):\n",
    "        return self.name + \"(含税)\"\n",
    " \n",
    "    # 在 MyProductSalesTax 中添加新成员方法 get_price_with_tax\n",
    "    def get_price_with_tax(self):\n",
    "        return int(self.price * (1 + self.tax_rate))"
   ]
  },
  {
   "cell_type": "markdown",
   "metadata": {},
   "source": [
    "**程序清单 6.49：类的继承的示例**"
   ]
  },
  {
   "cell_type": "code",
   "execution_count": 44,
   "metadata": {},
   "outputs": [
    {
     "name": "stdout",
     "output_type": "stream",
     "text": [
      "phone(含税)\n",
      "33000\n",
      "called summary().\n",
      " name: phone(含税)\n",
      " price: 30000\n",
      " stock: 100\n",
      " sales: 0\n"
     ]
    }
   ],
   "source": [
    "product_3 = MyProductSalesTax(\"phone\", 30000, 100, 0.1)\n",
    "print(product_3.get_name())\n",
    "print(product_3.get_price_with_tax())\n",
    "# MyProductSalesTax 类虽然没有对 summary() 方法进行定义，但是因为继\n",
    "# 承了MyProduct，所以可以对 MyProduct 的 summary() 方法进行调用\n",
    "product_3.summary()"
   ]
  },
  {
   "cell_type": "markdown",
   "metadata": {},
   "source": [
    "**程序清单 6.50：类的继承的示例**"
   ]
  },
  {
   "cell_type": "markdown",
   "metadata": {},
   "source": [
    "#### □习题"
   ]
  },
  {
   "cell_type": "code",
   "execution_count": null,
   "metadata": {
    "collapsed": true,
    "id": "index"
   },
   "outputs": [],
   "source": [
    "class MyProduct:\n",
    "    def __init__(self, name, price, stock):\n",
    "        self.name = name\n",
    "        self.price = price\n",
    "        self.stock = stock\n",
    "        self.sales = 0\n",
    "\n",
    "    def summary(self):\n",
    "        message = \"called summary().\\n name: \" + self.get_name() + \\\n",
    "                    \"\\n price: \" + str(self.price) + \\\n",
    "                    \"\\n stock: \" + str(self.stock) + \\\n",
    "                    \"\\n sales: \" + str(self.sales)\n",
    "        print(message)\n",
    "\n",
    "    def get_name(self):\n",
    "        return self.name\n",
    "\n",
    "    def discount(self, n):\n",
    "        self.price -= n\n",
    "\n",
    "\n",
    "class MyProductSalesTax(MyProduct):\n",
    "    # 在 MyProductSalesTax 中的第 4 个参数中接收消费税税率\n",
    "    def __init__(self, name, price, stock, tax_rate):\n",
    "        # 使用 super() 可以对父类的方法进行调用\n",
    "        # 在这里调用了 MyProduct 类的构造函数\n",
    "        super().__init__(name, price, stock)\n",
    "        self.tax_rate = tax_rate\n",
    "\n",
    "    # 在 MyProductSalesTax 中，对 MyProduct 的 get_name 进行覆盖 (重写)\n",
    "    def get_name(self):\n",
    "        return self.name + \"(含税)\"\n",
    " \n",
    "    # 在 MyProductSalesTax 中添加新成员方法 get_price_with_tax\n",
    "    def get_price_with_tax(self):\n",
    "        return int(self.price * (1 + self.tax_rate))\n",
    "    \n",
    "    # 请将 MyProduct 的 summary() 方法进行覆盖，使 summary 可以输出含税价格\n",
    "\n",
    "\n",
    "product_3 = MyProductSalesTax(\"phone\", 30000, 100, 0.1)\n",
    "print(product_3.get_name())\n",
    "print(product_3.get_price_with_tax())\n",
    "product_3.summary()"
   ]
  },
  {
   "cell_type": "markdown",
   "metadata": {},
   "source": [
    "#### □参考答案"
   ]
  },
  {
   "cell_type": "code",
   "execution_count": 46,
   "metadata": {
    "id": "answer"
   },
   "outputs": [
    {
     "name": "stdout",
     "output_type": "stream",
     "text": [
      "phone(含税)\n",
      "33000\n",
      "called summary().\n",
      " name: phone(含税)\n",
      " price: 33000\n",
      " stock: 100\n",
      " sales: 0\n"
     ]
    }
   ],
   "source": [
    "class MyProduct:\n",
    "    def __init__(self, name, price, stock):\n",
    "        self.name = name\n",
    "        self.price = price\n",
    "        self.stock = stock\n",
    "        self.sales = 0\n",
    "\n",
    "    def summary(self):\n",
    "        message = \"called summary().\\n name: \" + self.get_name() + \\\n",
    "                    \"\\n price: \" + str(self.price) + \\\n",
    "                    \"\\n stock: \" + str(self.stock) + \\\n",
    "                    \"\\n sales: \" + str(self.sales)\n",
    "        print(message)\n",
    "\n",
    "    def get_name(self):\n",
    "        return self.name\n",
    "\n",
    "    def discount(self, n):\n",
    "        self.price -= n\n",
    "\n",
    "\n",
    "class MyProductSalesTax(MyProduct):\n",
    "    # 在 MyProductSalesTax 中的第 4 个参数中接收消费税税率\n",
    "    def __init__(self, name, price, stock, tax_rate):\n",
    "        # 使用 super() 可以对父类的方法进行调用\n",
    "        # 在这里调用了 MyProduct 类的构造函数\n",
    "        super().__init__(name, price, stock)\n",
    "        self.tax_rate = tax_rate\n",
    "\n",
    "    # 在 MyProductSalesTax 中，对 MyProduct 的 get_name 进行覆盖 (重写)\n",
    "    def get_name(self):\n",
    "        return self.name + \"(含税)\"\n",
    " \n",
    "    # 在 MyProductSalesTax 中添加新成员方法 get_price_with_tax\n",
    "    def get_price_with_tax(self):\n",
    "        return int(self.price * (1 + self.tax_rate))\n",
    "    \n",
    "    # 请将 MyProduct 的 summary() 方法进行覆盖，使 summary 可以输出含税价格\n",
    "    def summary(self):\n",
    "        message = \"called summary().\\n name: \" + self.get_name() + \\\n",
    "                    \"\\n price: \" + str(self.get_price_with_tax()+0) + \\\n",
    "                    \"\\n stock: \" + str(self.stock) + \\\n",
    "                    \"\\n sales: \" + str(self.sales)\n",
    "        print(message)\n",
    "\n",
    "\n",
    "product_3 = MyProductSalesTax(\"phone\", 30000, 100, 0.1)\n",
    "print(product_3.get_name())\n",
    "print(product_3.get_price_with_tax())\n",
    "product_3.summary()"
   ]
  },
  {
   "cell_type": "markdown",
   "metadata": {},
   "source": [
    "**程序清单 6.52：参考答案**"
   ]
  },
  {
   "cell_type": "markdown",
   "metadata": {
    "id": "section_name",
    "sectionId": "r1pdAQ-xbf"
   },
   "source": [
    "## ●6.4 附录"
   ]
  },
  {
   "cell_type": "markdown",
   "metadata": {
    "courseId": 3010,
    "exerciseId": "BJcY4tlwef",
    "id": "code_session_name",
    "important": true,
    "isDL": false,
    "timeoutSecs": 5
   },
   "source": [
    "### 〇6.4.1 字符串格式的指定"
   ]
  },
  {
   "cell_type": "code",
   "execution_count": 47,
   "metadata": {},
   "outputs": [
    {
     "name": "stdout",
     "output_type": "stream",
     "text": [
      "圆周率为 3.141592\n",
      "圆周率为 3.14\n"
     ]
    }
   ],
   "source": [
    "pai = 3.141592\n",
    "print(\"圆周率为 %f\" % pai)  \n",
    "print(\"圆周率为 %.2f\" % pai)  "
   ]
  },
  {
   "cell_type": "markdown",
   "metadata": {},
   "source": [
    "**程序清单 6.53：指定字符串格式的示例**"
   ]
  },
  {
   "cell_type": "markdown",
   "metadata": {},
   "source": [
    "#### □习题"
   ]
  },
  {
   "cell_type": "code",
   "execution_count": null,
   "metadata": {
    "collapsed": true,
    "id": "index"
   },
   "outputs": [],
   "source": [
    "def bmi(height, weight):\n",
    "    return weight / height**2\n",
    "\n",
    "# 请输出 “bmi 为＊＊” 的信息\n",
    "print(\"bmi 为___\" % ______)"
   ]
  },
  {
   "cell_type": "markdown",
   "metadata": {},
   "source": [
    "#### □参考答案"
   ]
  },
  {
   "cell_type": "code",
   "execution_count": 48,
   "metadata": {
    "id": "answer"
   },
   "outputs": [
    {
     "name": "stdout",
     "output_type": "stream",
     "text": [
      "bmi 为 23.8751\n"
     ]
    }
   ],
   "source": [
    "def bmi(height, weight):\n",
    "    return weight / height**2\n",
    "\n",
    "# 请输出 “bmi 为＊＊” 的信息\n",
    "print(\"bmi 为 %.4f\" % bmi(1.65, 65))"
   ]
  },
  {
   "cell_type": "markdown",
   "metadata": {},
   "source": [
    "**程序清单 6.55：参考答案**"
   ]
  },
  {
   "cell_type": "markdown",
   "metadata": {
    "id": "chapter_exam"
   },
   "source": [
    "## ●附加习题"
   ]
  },
  {
   "cell_type": "markdown",
   "metadata": {},
   "source": [
    "#### □习题"
   ]
  },
  {
   "cell_type": "code",
   "execution_count": null,
   "metadata": {
    "collapsed": true,
    "id": "index"
   },
   "outputs": [],
   "source": [
    "# 请创建函数 check_character\n",
    "\n",
    "\n",
    "# 请对函数 check_character 进行输入\n"
   ]
  },
  {
   "cell_type": "markdown",
   "metadata": {},
   "source": [
    "**程序清单 6.56：习题**"
   ]
  },
  {
   "cell_type": "markdown",
   "metadata": {},
   "source": [
    "#### □参考答案"
   ]
  },
  {
   "cell_type": "code",
   "execution_count": 49,
   "metadata": {
    "id": "answer"
   },
   "outputs": [
    {
     "name": "stdout",
     "output_type": "stream",
     "text": [
      "5\n",
      "1\n"
     ]
    }
   ],
   "source": [
    "# 请创建函数 check_character\n",
    "def check_character(object, character):\n",
    "    return object.count(character)\n",
    "\n",
    "# 请对函数 check_character 进行输入\n",
    "print(check_character([1, 3, 4, 5, 6, 4, 3, 2, 1, 3, 3, 4, 3], 3))\n",
    "print(check_character(\"asdgaoirnoiafvnwoeo\", \"d\"))"
   ]
  },
  {
   "cell_type": "markdown",
   "metadata": {},
   "source": [
    "**程序清单 6.57：参考答案**"
   ]
  },
  {
   "cell_type": "markdown",
   "metadata": {},
   "source": [
    "## ●综合附加习题"
   ]
  },
  {
   "cell_type": "markdown",
   "metadata": {},
   "source": [
    "#### □习题"
   ]
  },
  {
   "cell_type": "code",
   "execution_count": null,
   "metadata": {},
   "outputs": [],
   "source": [
    "# 请将函数 binary_search 的代码补充完整\n",
    "def binary_search(numbers, target_number):\n",
    "    \n",
    "# 被查找的数据\n",
    "numbers = [1, 2, 3, 4, 5, 6, 7, 8, 9, 10, 11, 12, 13]\n",
    "# 需要查找的值\n",
    "target_number = 11\n",
    "# 执行二分查找算法\n",
    "binary_search(numbers, target_number)"
   ]
  },
  {
   "cell_type": "markdown",
   "metadata": {},
   "source": [
    "**程序清单 6.58：习题**\n"
   ]
  },
  {
   "cell_type": "code",
   "execution_count": 50,
   "metadata": {},
   "outputs": [
    {
     "name": "stdout",
     "output_type": "stream",
     "text": [
      "11 在第 10 位上 \n"
     ]
    }
   ],
   "source": [
    "# 请将函数 binary_search 的代码补充完整\n",
    "def binary_search(numbers, target_number):\n",
    "    # 对最小值进行假设\n",
    "    low = 0\n",
    "    # 范围内的最大值\n",
    "    high = len(numbers)\n",
    "    # 循环执行直至找到目的地为止\n",
    "    while low <= high:\n",
    "        # 计算中位数 (index)\n",
    "        middle = (low + high) // 2\n",
    "        #  当中位数的 numbers 的值与 target_number 相等时\n",
    "        if numbers[middle] == target_number:\n",
    "            # 输出结果\n",
    "            print(\"{1} 在第 {0} 位上\".format(middle, target_number))\n",
    "            # 结束操作\n",
    "            break\n",
    "        # 当中位数的 numbers 的值小于 target_number 时\n",
    "        elif numbers[middle] < target_number:\n",
    "            low = middle + 1\n",
    "        # 当中位数的 numbers 的值大于 target_number 时\n",
    "        else:\n",
    "            high = middle - 1\n",
    "            \n",
    "# 被查找的数据       \n",
    "numbers = [1, 2, 3, 4, 5, 6, 7, 8, 9, 10, 11, 12, 13]\n",
    "# 需要查找的值\n",
    "target_number = 11\n",
    "# 执行二分查找算法\n",
    "binary_search(numbers, target_number)"
   ]
  }
 ],
 "metadata": {
  "celltoolbar": "Edit Metadata",
  "kernelspec": {
   "display_name": "Python 3",
   "language": "python",
   "name": "python3"
  },
  "language_info": {
   "codemirror_mode": {
    "name": "ipython",
    "version": 3
   },
   "file_extension": ".py",
   "mimetype": "text/x-python",
   "name": "python",
   "nbconvert_exporter": "python",
   "pygments_lexer": "ipython3",
   "version": "3.6.6"
  },
  "varInspector": {
   "cols": {
    "lenName": 16,
    "lenType": 16,
    "lenVar": 40
   },
   "kernels_config": {
    "python": {
     "delete_cmd_postfix": "",
     "delete_cmd_prefix": "del ",
     "library": "var_list.py",
     "varRefreshCmd": "print(var_dic_list())"
    },
    "r": {
     "delete_cmd_postfix": ") ",
     "delete_cmd_prefix": "rm(",
     "library": "var_list.r",
     "varRefreshCmd": "cat(var_dic_list()) "
    }
   },
   "types_to_exclude": [
    "module",
    "function",
    "builtin_function_or_method",
    "instance",
    "_Feature"
   ],
   "window_display": false
  }
 },
 "nbformat": 4,
 "nbformat_minor": 2
}
