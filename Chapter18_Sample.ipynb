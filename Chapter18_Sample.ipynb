{
 "cells": [
  {
   "cell_type": "markdown",
   "metadata": {
    "chapterId": "Hy-m_AQblbz",
    "id": "chapter_name"
   },
   "source": [
    "# Chapter18　超参数与调校（2）"
   ]
  },
  {
   "cell_type": "markdown",
   "metadata": {
    "id": "table"
   },
   "source": [
    "- **18.1 决策树的超参数**<br>\n",
    "    - 18.1.1 参数 max_depth<br>\n",
    "    - 18.1.2 参数 random_state <br>\n",
    "<br>\n",
    "- **18.2 随机森林的超参数**<br>\n",
    "    - 18.2.1 参数 n_estimators<br>\n",
    "    - 18.2.2 参数 max_depth<br>\n",
    "    - 18.2.3 参数 random_state <br>\n",
    "<br>\n",
    "- **18.3 k -NN 的超参数**<br>\n",
    "    - 18.3.1 参数 n_neighbors <br>\n",
    "<br>\n",
    "- **18.4 参数调校的自动化**<br>\n",
    "    - 18.4.1 网格搜索<br>\n",
    "    - 18.4.2 随机搜索 <br>\n",
    "<br>\n",
    "- **附加习题**<br>\n",
    "- **综合附加习题**<br>"
   ]
  },
  {
   "cell_type": "markdown",
   "metadata": {
    "id": "section_name",
    "sectionId": "S1MQdA7Zgbz"
   },
   "source": [
    "## ●18.1 决策树的超参数"
   ]
  },
  {
   "cell_type": "markdown",
   "metadata": {
    "courseId": 5020,
    "exerciseId": "H1pe9nIsUgf",
    "id": "code_session_name",
    "important": false,
    "isDL": false,
    "timeoutSecs": 5
   },
   "source": [
    "### ○18.1.1 参数 max_depth"
   ]
  },
  {
   "cell_type": "markdown",
   "metadata": {},
   "source": [
    "#### □习题"
   ]
  },
  {
   "cell_type": "code",
   "execution_count": null,
   "metadata": {
    "id": "index"
   },
   "outputs": [],
   "source": [
    "# 导入相关的模块\n",
    "import matplotlib.pyplot as plt\n",
    "from sklearn.datasets import make_classification\n",
    "from sklearn.tree import DecisionTreeClassifier\n",
    "from sklearn.model_selection import train_test_split\n",
    "%matplotlib inline\n",
    "\n",
    "# 生成数据\n",
    "X, y = make_classification(\n",
    "    n_samples=1000, n_features=4, n_informative=3, n_redundant=0, random_state=42)\n",
    "train_X, test_X, train_y, test_y = train_test_split(X, y, random_state=42)\n",
    "\n",
    "# max_depth 的取值范围是 1~10\n",
    "depth_list = [i for i in range(1, 11)]\n",
    "\n",
    "# 创建用于保存准确率的空列表\n",
    "accuracy = []\n",
    "\n",
    "\n",
    "# 请从此处开始输入代码\n",
    "# 不断更改 max_depth 对模型进行训练\n",
    "\n",
    "\n",
    "\n",
    "\n",
    "# 请在此处结束代码的输入\n",
    "# 绘制图表\n",
    "plt.plot(depth_list, accuracy)\n",
    "plt.xlabel(\"max_depth\")\n",
    "plt.ylabel(\"accuracy\")\n",
    "plt.title(\"accuracy by changing max_depth\")\n",
    "plt.show()"
   ]
  },
  {
   "cell_type": "markdown",
   "metadata": {},
   "source": [
    "**程序清单 18.1：习题**"
   ]
  },
  {
   "cell_type": "markdown",
   "metadata": {},
   "source": [
    "#### □参考答案"
   ]
  },
  {
   "cell_type": "code",
   "execution_count": 1,
   "metadata": {
    "id": "answer",
    "scrolled": true
   },
   "outputs": [
    {
     "data": {
      "image/png": "[encoded data removed]",
      "text/plain": [
       "<Figure size 432x288 with 1 Axes>"
      ]
     },
     "metadata": {
      "needs_background": "light"
     },
     "output_type": "display_data"
    }
   ],
   "source": [
    "# 导入相关的模块\n",
    "import matplotlib.pyplot as plt\n",
    "from sklearn.datasets import make_classification\n",
    "from sklearn.tree import DecisionTreeClassifier\n",
    "from sklearn.model_selection import train_test_split\n",
    "%matplotlib inline\n",
    "\n",
    "# 生成数据\n",
    "X, y = make_classification(\n",
    "    n_samples=1000, n_features=5, n_informative=3, n_redundant=0, random_state=42)\n",
    "train_X, test_X, train_y, test_y = train_test_split(X, y, random_state=42)\n",
    "\n",
    "# n_estimators 的取值范围为 1~20\n",
    "depth_list = [i for i in range(1, 11)]\n",
    "\n",
    "# 创建用于保存准确率的空列表\n",
    "accuracy = []\n",
    "\n",
    "\n",
    "# 请从此处开始输入代码\n",
    "# 不断更改 max_depth 对模型进行训练\n",
    "for max_depth in depth_list:\n",
    "    model = DecisionTreeClassifier(max_depth=max_depth, random_state=42)\n",
    "    model.fit(train_X, train_y)\n",
    "    accuracy.append(model.score(test_X, test_y))\n",
    "# 请在此处结束代码的输入\n",
    "# 绘制图表\n",
    "plt.plot(depth_list, accuracy)\n",
    "plt.xlabel(\"max_depth\")\n",
    "plt.ylabel(\"accuracy\")\n",
    "plt.title(\"accuracy by changing max_depth\")\n",
    "plt.show()"
   ]
  },
  {
   "cell_type": "markdown",
   "metadata": {},
   "source": [
    "**程序清单 18.2：参考答案**"
   ]
  },
  {
   "cell_type": "markdown",
   "metadata": {
    "courseId": 5020,
    "exerciseId": "HJCx53Lo8xM",
    "id": "quiz_session_name",
    "important": false,
    "isDL": false,
    "timeoutSecs": 5
   },
   "source": [
    "### ○18.1.2 参数 random_state"
   ]
  },
  {
   "cell_type": "markdown",
   "metadata": {},
   "source": [
    "本节没有示例文件"
   ]
  },
  {
   "cell_type": "markdown",
   "metadata": {
    "id": "section_name",
    "sectionId": "B1mm_AQWe-z"
   },
   "source": [
    "## ●18.2 随机森林的超参数"
   ]
  },
  {
   "cell_type": "markdown",
   "metadata": {
    "courseId": 5020,
    "exerciseId": "H1yZ5n8sLef",
    "id": "code_session_name",
    "important": false,
    "isDL": false,
    "timeoutSecs": 5
   },
   "source": [
    "### ○18.2.1 参数 n_estimators"
   ]
  },
  {
   "cell_type": "markdown",
   "metadata": {},
   "source": [
    "#### □习题"
   ]
  },
  {
   "cell_type": "code",
   "execution_count": null,
   "metadata": {
    "id": "index"
   },
   "outputs": [],
   "source": [
    "# 导入相关的模块\n",
    "import matplotlib.pyplot as plt\n",
    "from sklearn.datasets import make_classification\n",
    "from sklearn.ensemble import RandomForestClassifier\n",
    "from sklearn.model_selection import train_test_split\n",
    "%matplotlib inline\n",
    "\n",
    "# 生成数据\n",
    "X, y = make_classification(\n",
    "    n_samples=1000, n_features=4, n_informative=3, n_redundant=0, random_state=42)\n",
    "train_X, test_X, train_y, test_y = train_test_split(X, y, random_state=42)\n",
    "\n",
    "# n_estimators 的取值范围为 1~20\n",
    "n_estimators_list = [i for i in range(1, 21)]\n",
    "\n",
    "# 创建用于保存准确率的空列表\n",
    "accuracy = []\n",
    "\n",
    "# 请从此处开始输入代码\n",
    "# 不断更改 n_estimators 对模型进行训练\n",
    "for n_estimators in n_estimators_list:\n",
    "\n",
    "\n",
    "\n",
    "\n",
    "# 请在此处结束代码的输入\n",
    "# 绘制图表\n",
    "plt.plot(n_estimators_list, accuracy)\n",
    "plt.title(\"accuracy by n_estimators increasement\")\n",
    "plt.xlabel(\"n_estimators\")\n",
    "plt.ylabel(\"accuracy\")\n",
    "plt.show()"
   ]
  },
  {
   "cell_type": "markdown",
   "metadata": {},
   "source": [
    "**程序清单 18.3：习题**"
   ]
  },
  {
   "cell_type": "markdown",
   "metadata": {},
   "source": [
    "#### □参考答案"
   ]
  },
  {
   "cell_type": "code",
   "execution_count": 2,
   "metadata": {
    "id": "answer"
   },
   "outputs": [
    {
     "name": "stderr",
     "output_type": "stream",
     "text": [
      "C:\\Users\\miyakoshi\\Anaconda3\\envs\\aidemytest\\lib\\site-packages\\sklearn\\ensemble\\weight_boosting.py:29: DeprecationWarning: numpy.core.umath_tests is an internal NumPy module and should not be imported. It will be removed in a future NumPy release.\n",
      "  from numpy.core.umath_tests import inner1d\n"
     ]
    },
    {
     "data": {
      "image/png": "[encoded data removed]",
      "text/plain": [
       "<Figure size 432x288 with 1 Axes>"
      ]
     },
     "metadata": {
      "needs_background": "light"
     },
     "output_type": "display_data"
    }
   ],
   "source": [
    "# 导入相关的模块\n",
    "import matplotlib.pyplot as plt\n",
    "from sklearn.datasets import make_classification\n",
    "from sklearn.ensemble import RandomForestClassifier\n",
    "from sklearn.model_selection import train_test_split\n",
    "%matplotlib inline\n",
    "\n",
    "# 生成数据\n",
    "X, y = make_classification(\n",
    "    n_samples=1000, n_features=4, n_informative=3, n_redundant=0, random_state=42)\n",
    "train_X, test_X, train_y, test_y = train_test_split(X, y, random_state=42)\n",
    "\n",
    "# n_estimators 的取值范围为 1~20\n",
    "n_estimators_list = [i for i in range(1, 21)]\n",
    "\n",
    "# 创建用于保存准确率的空列表\n",
    "accuracy = []\n",
    "\n",
    "# 请从此处开始输入代码\n",
    "# 不断更改 n_estimators 对模型进行训练\n",
    "for n_estimators in n_estimators_list:\n",
    "    model = RandomForestClassifier(n_estimators=n_estimators, random_state=42)\n",
    "    model.fit(train_X, train_y)\n",
    "    accuracy.append(model.score(test_X, test_y))\n",
    "# 请在此处结束代码的输入\n",
    "# 绘制图表\n",
    "plt.plot(n_estimators_list, accuracy)\n",
    "plt.title(\"accuracy by n_estimators increasement\")\n",
    "plt.xlabel(\"n_estimators\")\n",
    "plt.ylabel(\"accuracy\")\n",
    "plt.show()"
   ]
  },
  {
   "cell_type": "markdown",
   "metadata": {},
   "source": [
    "**程序清单 18.4：习题**"
   ]
  },
  {
   "cell_type": "markdown",
   "metadata": {
    "courseId": 5020,
    "exerciseId": "HygZq3Uj8gf",
    "id": "quiz_session_name",
    "important": false,
    "isDL": false,
    "timeoutSecs": 5
   },
   "source": [
    "### ○18.2.2 参数 max_depth"
   ]
  },
  {
   "cell_type": "markdown",
   "metadata": {},
   "source": [
    "本节没有示例文件"
   ]
  },
  {
   "cell_type": "markdown",
   "metadata": {
    "courseId": 5020,
    "exerciseId": "B1ZW5nUi8eM",
    "id": "code_session_name",
    "important": false,
    "isDL": false,
    "timeoutSecs": 5
   },
   "source": [
    "### ○18.2.3 参数 random_state"
   ]
  },
  {
   "cell_type": "markdown",
   "metadata": {},
   "source": [
    "#### □习题"
   ]
  },
  {
   "cell_type": "code",
   "execution_count": null,
   "metadata": {
    "id": "index"
   },
   "outputs": [],
   "source": [
    "# 导入相关的模块\n",
    "import matplotlib.pyplot as plt\n",
    "from sklearn.datasets import make_classification\n",
    "from sklearn.ensemble import RandomForestClassifier\n",
    "from sklearn.model_selection import train_test_split\n",
    "%matplotlib inline\n",
    "\n",
    "# 生成数据\n",
    "X, y = make_classification(\n",
    "    n_samples=1000, n_features=4, n_informative=3, n_redundant=0, random_state=42)\n",
    "train_X, test_X, train_y, test_y = train_test_split(X, y, random_state=42)\n",
    "\n",
    "# r_seeds 的取值范围为 0~99\n",
    "r_seeds = [i for i in range(100)]\n",
    "\n",
    "# 创建用于保存准确率的空列表\n",
    "accuracy = []\n",
    "\n",
    "# 请从此处开始输入代码\n",
    "# 不断更改 random_state 对模型进行训练\n",
    "\n",
    "\n",
    "\n",
    "# 请在此处结束代码的输入\n",
    "# 绘制图表\n",
    "plt.plot(r_seeds, accuracy)\n",
    "plt.xlabel(\"seed\")\n",
    "plt.ylabel(\"accuracy\")\n",
    "plt.title(\"accuracy by changing seed\")\n",
    "plt.show()"
   ]
  },
  {
   "cell_type": "markdown",
   "metadata": {},
   "source": [
    "**程序清单 18.5：习题**"
   ]
  },
  {
   "cell_type": "markdown",
   "metadata": {},
   "source": [
    "#### □参考答案"
   ]
  },
  {
   "cell_type": "code",
   "execution_count": 3,
   "metadata": {
    "id": "answer",
    "scrolled": true
   },
   "outputs": [
    {
     "data": {
      "image/png": "[encoded data removed]",
      "text/plain": [
       "<Figure size 432x288 with 1 Axes>"
      ]
     },
     "metadata": {
      "needs_background": "light"
     },
     "output_type": "display_data"
    }
   ],
   "source": [
    "# 导入相关的模块\n",
    "import matplotlib.pyplot as plt\n",
    "from sklearn.datasets import make_classification\n",
    "from sklearn.ensemble import RandomForestClassifier\n",
    "from sklearn.model_selection import train_test_split\n",
    "%matplotlib inline\n",
    "\n",
    "# 生成数据\n",
    "X, y = make_classification(\n",
    "    n_samples=1000, n_features=4, n_informative=3, n_redundant=0, random_state=42)\n",
    "train_X, test_X, train_y, test_y = train_test_split(X, y, random_state=42)\n",
    "\n",
    "# r_seeds 的取值范围为 0~99\n",
    "r_seeds = [i for i in range(100)]\n",
    "\n",
    "# 创建用于保存准确率的空列表\n",
    "accuracy = []\n",
    "\n",
    "# 请从此处开始输入代码\n",
    "# 不断更改 random_state 对模型进行训练\n",
    "for seed in r_seeds:\n",
    "    model = RandomForestClassifier(random_state=seed)\n",
    "    model.fit(train_X, train_y)\n",
    "    accuracy.append(model.score(test_X, test_y))\n",
    "# 请在此处结束代码的输入\n",
    "# 绘制图表\n",
    "plt.plot(r_seeds, accuracy)\n",
    "plt.xlabel(\"seed\")\n",
    "plt.ylabel(\"accuracy\")\n",
    "plt.title(\"accuracy by changing seed\")\n",
    "plt.show()"
   ]
  },
  {
   "cell_type": "markdown",
   "metadata": {},
   "source": [
    "**程序清单 18.6：参考答案**"
   ]
  },
  {
   "cell_type": "markdown",
   "metadata": {
    "id": "section_name",
    "sectionId": "rk4QORm-xZM"
   },
   "source": [
    "## ●18.3 k-NN"
   ]
  },
  {
   "cell_type": "markdown",
   "metadata": {
    "courseId": 5020,
    "exerciseId": "Skzb5hLjIgG",
    "id": "code_session_name",
    "important": false,
    "isDL": false,
    "timeoutSecs": 5
   },
   "source": [
    "### ○18.3.1 参数 n_neighbors"
   ]
  },
  {
   "cell_type": "markdown",
   "metadata": {},
   "source": [
    "#### □习题"
   ]
  },
  {
   "cell_type": "code",
   "execution_count": null,
   "metadata": {
    "id": "index"
   },
   "outputs": [],
   "source": [
    "# 导入相关的模块\n",
    "import matplotlib.pyplot as plt\n",
    "from sklearn.datasets import make_classification\n",
    "from sklearn.neighbors import KNeighborsClassifier\n",
    "from sklearn.model_selection import train_test_split\n",
    "%matplotlib inline\n",
    "\n",
    "# 生成数据\n",
    "X, y = make_classification(\n",
    "    n_samples=1000, n_features=4, n_informative=3, n_redundant=0, random_state=42)\n",
    "train_X, test_X, train_y, test_y = train_test_split(X, y, random_state=42)\n",
    "\n",
    "# k_list 的取值范围为 1~10\n",
    "k_list = [i for i in range(1, 11)]\n",
    "\n",
    "# 创建用于保存准确率的空列表\n",
    "accuracy = []\n",
    "\n",
    "# 请从此处开始输入代码\n",
    "# 不断更改 n_neighbors 对模型进行训练\n",
    "for k in k_list:\n",
    "\n",
    "# 请在此处结束代码的输入\n",
    "# 绘制图表\n",
    "plt.plot(k_list, accuracy)\n",
    "plt.xlabel(\"n_neighbor\")\n",
    "plt.ylabel(\"accuracy\")\n",
    "plt.title(\"accuracy by changing n_neighbor\")\n",
    "plt.show()"
   ]
  },
  {
   "cell_type": "markdown",
   "metadata": {},
   "source": [
    "**程序清单 18.7：习题**"
   ]
  },
  {
   "cell_type": "markdown",
   "metadata": {},
   "source": [
    "#### □参考答案"
   ]
  },
  {
   "cell_type": "code",
   "execution_count": 4,
   "metadata": {
    "id": "answer"
   },
   "outputs": [
    {
     "data": {
      "image/png": "[encoded data removed]",
      "text/plain": [
       "<Figure size 432x288 with 1 Axes>"
      ]
     },
     "metadata": {
      "needs_background": "light"
     },
     "output_type": "display_data"
    }
   ],
   "source": [
    "# 导入相关的模块\n",
    "import matplotlib.pyplot as plt\n",
    "from sklearn.datasets import make_classification\n",
    "from sklearn.neighbors import KNeighborsClassifier\n",
    "from sklearn.model_selection import train_test_split\n",
    "%matplotlib inline\n",
    "\n",
    "# 生成数据\n",
    "X, y = make_classification(\n",
    "    n_samples=1000, n_features=4, n_informative=3, n_redundant=0, random_state=42)\n",
    "train_X, test_X, train_y, test_y = train_test_split(X, y, random_state=42)\n",
    "\n",
    "# k_list 的取值范围为 1~10\n",
    "k_list = [i for i in range(1, 11)]\n",
    "\n",
    "# 创建用于保存准确率的空列表\n",
    "accuracy = []\n",
    "\n",
    "# 请从此处开始输入代码\n",
    "# 不断更改 n_neighbors 对模型进行训练\n",
    "for k in k_list:\n",
    "    model = KNeighborsClassifier(n_neighbors=k)\n",
    "    model.fit(train_X, train_y)\n",
    "    accuracy.append(model.score(test_X, test_y))\n",
    "# 请在此处结束代码的输入\n",
    "# 绘制图表\n",
    "plt.plot(k_list, accuracy)\n",
    "plt.xlabel(\"n_neighbor\")\n",
    "plt.ylabel(\"accuracy\")\n",
    "plt.title(\"accuracy by changing n_neighbor\")\n",
    "plt.show()"
   ]
  },
  {
   "cell_type": "markdown",
   "metadata": {},
   "source": [
    "**程序清单 18.8：参考答案**"
   ]
  },
  {
   "cell_type": "markdown",
   "metadata": {
    "id": "section_name",
    "sectionId": "HkBmOAQWgZG"
   },
   "source": [
    "## ●18.4 参数调校的自动化 "
   ]
  },
  {
   "cell_type": "markdown",
   "metadata": {
    "courseId": 5020,
    "exerciseId": "r1XWchIoLlf",
    "id": "quiz_session_name",
    "important": true,
    "isDL": false,
    "timeoutSecs": 5
   },
   "source": [
    "### ○18.4.1 网格搜索"
   ]
  },
  {
   "cell_type": "code",
   "execution_count": 5,
   "metadata": {},
   "outputs": [
    {
     "name": "stdout",
     "output_type": "stream",
     "text": [
      "参数:{'C': 0.0001, 'decision_function_shape': 'ovr', 'kernel': 'poly', 'random_state': 42}\n",
      "最高分数: 0.9888888888888889\n",
      "\n",
      "未调整时\n",
      "0.5222222222222223\n"
     ]
    }
   ],
   "source": [
    "import scipy.stats\n",
    "from sklearn.datasets import load_digits\n",
    "from sklearn.svm import SVC\n",
    "from sklearn.model_selection import GridSearchCV\n",
    "from sklearn.model_selection import train_test_split\n",
    "from sklearn.metrics import f1_score\n",
    "\n",
    "data = load_digits()\n",
    "train_X, test_X, train_y, test_y = train_test_split(data.data, data.target, random_state=42)\n",
    "\n",
    "# 为参数设置候选值\n",
    "model_param_set_grid = {SVC(): {\n",
    "    \"kernel\": [\"linear\", \"poly\", \"rbf\", \"sigmoid\"],\n",
    "    \"C\": [10 ** i for i in range(-5, 5)],\n",
    "    \"decision_function_shape\": [\"ovr\", \"ovo\"],\n",
    "    \"random_state\": [42]}}\n",
    "              \n",
    "max_score = 0\n",
    "best_param = None\n",
    "\n",
    "# 采用网格搜索进行参数的搜寻\n",
    "for model, param in model_param_set_grid.items():\n",
    "    clf = GridSearchCV(model, param)\n",
    "    clf.fit(train_X, train_y)\n",
    "    pred_y = clf.predict(test_X)\n",
    "    score = f1_score(test_y, pred_y, average=\"micro\")\n",
    "    if max_score < score:\n",
    "        max_score = score\n",
    "        best_model = model.__class__.__name__\n",
    "        best_param = clf.best_params_\n",
    "                        \n",
    "print(\"参数:{}\".format(best_param))\n",
    "print(\"最高分数:\",max_score)\n",
    "svm = SVC()\n",
    "svm.fit(train_X, train_y)\n",
    "print()\n",
    "print('未调整时')\n",
    "print(svm.score(test_X, test_y))"
   ]
  },
  {
   "cell_type": "markdown",
   "metadata": {},
   "source": [
    "**程序清单 18.9：网格搜索的示例**"
   ]
  },
  {
   "cell_type": "markdown",
   "metadata": {
    "courseId": 5020,
    "exerciseId": "SyNW5n8oUef",
    "id": "quiz_session_name",
    "important": true,
    "isDL": false,
    "timeoutSecs": 5
   },
   "source": [
    "### ○18.4.2 随机搜索"
   ]
  },
  {
   "cell_type": "code",
   "execution_count": 6,
   "metadata": {},
   "outputs": [
    {
     "name": "stdout",
     "output_type": "stream",
     "text": [
      "参数:{'C': 516.3003938828883, 'decision_function_shape': 'ovo', 'kernel': 'poly', 'random_state': 51}\n",
      "最高分数: 0.9888888888888889\n",
      "\n",
      "未调整时\n",
      "0.5222222222222223\n"
     ]
    }
   ],
   "source": [
    "import scipy.stats\n",
    "from sklearn.datasets import load_digits\n",
    "from sklearn.svm import SVC\n",
    "from sklearn.model_selection import RandomizedSearchCV\n",
    "from sklearn.model_selection import train_test_split\n",
    "from sklearn.metrics import f1_score\n",
    "\n",
    "data = load_digits()\n",
    "train_X, test_X, train_y, test_y = train_test_split(data.data, data.target, random_state=42)\n",
    "\n",
    "# 为参数设置候选值\n",
    "model_param_set_random =  {SVC(): {\n",
    "        \"kernel\": [\"linear\", \"poly\", \"rbf\", \"sigmoid\"],\n",
    "        \"C\": scipy.stats.uniform(0.00001, 1000),\n",
    "        \"decision_function_shape\": [\"ovr\", \"ovo\"],\n",
    "        \"random_state\": scipy.stats.randint(0, 100)\n",
    "    }}\n",
    "\n",
    "max_score = 0\n",
    "best_param = None\n",
    "\n",
    "# 采用随机搜索对参数进行搜寻\n",
    "for model, param in model_param_set_random.items():\n",
    "    clf = RandomizedSearchCV(model, param)\n",
    "    clf.fit(train_X, train_y)\n",
    "    pred_y = clf.predict(test_X)\n",
    "    score = f1_score(test_y, pred_y, average=\"micro\")\n",
    "    if max_score < score:\n",
    "        max_score = score\n",
    "        best_param = clf.best_params_\n",
    "        \n",
    "print(\"参数:{}\".format(best_param))\n",
    "print(\"最高分数:\",max_score)\n",
    "svm = SVC()\n",
    "svm.fit(train_X, train_y)\n",
    "print()\n",
    "print('未调整时')\n",
    "print(svm.score(test_X, test_y))"
   ]
  },
  {
   "cell_type": "markdown",
   "metadata": {},
   "source": [
    "**程序清单 18.10：随机搜索的示例**"
   ]
  },
  {
   "cell_type": "markdown",
   "metadata": {
    "id": "chapter_exam"
   },
   "source": [
    "## ●附加习题"
   ]
  },
  {
   "cell_type": "markdown",
   "metadata": {},
   "source": [
    "#### □习题"
   ]
  },
  {
   "cell_type": "code",
   "execution_count": null,
   "metadata": {
    "id": "index"
   },
   "outputs": [],
   "source": [
    "# 导入所需的模块\n",
    "import requests\n",
    "import io\n",
    "import pandas as pd\n",
    "from sklearn.svm import SVC\n",
    "from sklearn.tree import DecisionTreeClassifier\n",
    "from sklearn.ensemble import RandomForestClassifier\n",
    "from sklearn.model_selection import GridSearchCV\n",
    "from sklearn import preprocessing\n",
    "from sklearn.model_selection import train_test_split\n",
    "from sklearn.model_selection import RandomizedSearchCV\n",
    "\n",
    "# 对数据进行必要的预处理操作\n",
    "vote_data_url = \"https://archive.ics.uci.edu/ml/machine-learning-databases/voting-records/house-votes-84.data\"\n",
    "s = requests.get(vote_data_url).content\n",
    "vote_data = pd.read_csv(io.StringIO(s.decode('utf-8')),header=None)\n",
    "vote_data.columns = ['Class Name',\n",
    "                     'handicapped-infants',\n",
    "                     'water-project-cost-sharing',\n",
    "                     'adoption-of-the-budget-resolution',\n",
    "                     'physician-fee-freeze',\n",
    "                     'el-salvador-aid',\n",
    "                     'religious-groups-in-schools',\n",
    "                     'anti-satellite-test-ban',\n",
    "                     'aid-to-nicaraguan-contras',\n",
    "                     'mx-missile',\n",
    "                     'immigration',\n",
    "                     'synfuels-corporation-cutback',\n",
    "                     'education-spending',\n",
    "                     'superfund-right-to-sue',\n",
    "                     'crime',\n",
    "                     'duty-free-exports',\n",
    "                     'export-administration-act-south-africa']\n",
    "label_encode = preprocessing.LabelEncoder()\n",
    "vote_data_encode = vote_data.apply(lambda x: label_encode.fit_transform(x))\n",
    "X = vote_data_encode.drop('Class Name', axis=1)\n",
    "Y = vote_data_encode['Class Name']\n",
    "train_X, test_X, train_y, test_y = train_test_split(X,Y, random_state=50)\n",
    "\n",
    "# 请从此处开始输入代码\n",
    "# 推荐使用 for 循环语句来编写实现代码，因此模型名称、模型的对象及参数列表等全部被保存在列表中\n",
    "\n",
    "\n"
   ]
  },
  {
   "cell_type": "markdown",
   "metadata": {},
   "source": [
    "**程序清单 18.11：习题**"
   ]
  },
  {
   "cell_type": "markdown",
   "metadata": {},
   "source": [
    "#### □参考答案"
   ]
  },
  {
   "cell_type": "code",
   "execution_count": 8,
   "metadata": {
    "id": "answer"
   },
   "outputs": [
    {
     "name": "stdout",
     "output_type": "stream",
     "text": [
      "SVM\n",
      "0.9541284403669725\n",
      "\n",
      "决策树\n",
      "0.944954128440367\n",
      "\n",
      "随机森林\n",
      "0.944954128440367\n",
      "\n"
     ]
    }
   ],
   "source": [
    "# 导入所需的模块\n",
    "import requests\n",
    "import io\n",
    "import pandas as pd\n",
    "from sklearn.svm import SVC\n",
    "from sklearn.tree import DecisionTreeClassifier\n",
    "from sklearn.ensemble import RandomForestClassifier\n",
    "from sklearn.model_selection import GridSearchCV\n",
    "from sklearn import preprocessing\n",
    "from sklearn.model_selection import train_test_split\n",
    "from sklearn.model_selection import RandomizedSearchCV\n",
    "\n",
    "# 对数据进行必要的预处理操作\n",
    "vote_data_url = \"https://archive.ics.uci.edu/ml/machine-learning-databases/voting-records/house-votes-84.data\"\n",
    "s = requests.get(vote_data_url).content\n",
    "vote_data = pd.read_csv(io.StringIO(s.decode('utf-8')), header=None)\n",
    "vote_data.columns = ['Class Name',\n",
    "                     'handicapped-infants',\n",
    "                     'water-project-cost-sharing',\n",
    "                     'adoption-of-the-budget-resolution',\n",
    "                     'physician-fee-freeze',\n",
    "                     'el-salvador-aid',\n",
    "                     'religious-groups-in-schools',\n",
    "                     'anti-satellite-test-ban',\n",
    "                     'aid-to-nicaraguan-contras',\n",
    "                     'mx-missile',\n",
    "                     'immigration',\n",
    "                     'synfuels-corporation-cutback',\n",
    "                     'education-spending',\n",
    "                     'superfund-right-to-sue',\n",
    "                     'crime',\n",
    "                     'duty-free-exports',\n",
    "                     'export-administration-act-south-africa']\n",
    "label_encode = preprocessing.LabelEncoder()\n",
    "vote_data_encode = vote_data.apply(lambda x: label_encode.fit_transform(x))\n",
    "X = vote_data_encode.drop('Class Name', axis=1)\n",
    "Y = vote_data_encode['Class Name']\n",
    "train_X, test_X, train_y, test_y = train_test_split(X, Y, random_state=50)\n",
    "\n",
    "# 请从此处开始输入代码\n",
    "# 推荐使用 for 循环语句来编写实现代码，因此模型名称、模型的对象及参数列表等全部被保存在列表中\n",
    "models_name = [\"SVM\", \"决策树\", \"随机森林\"]\n",
    "models = [SVC(), DecisionTreeClassifier(), RandomForestClassifier()]\n",
    "params = [{\"C\": [0.01, 0.1, 1.0, 10, 100],\n",
    "           \"kernel\": [\"linear\", \"rbf\", \"poly\", \"sigmoid\"],\n",
    "           \"random_state\": [42]},\n",
    "          {\"max_depth\": [i for i in range(1, 10)],\n",
    "           \"random_state\": [i for i in range(100)]},\n",
    "          {\"n_estimators\": [i for i in range(10, 20)],\n",
    "           \"max_depth\": [i for i in range(1, 10)],\n",
    "           \"random_state\": [i for i in range(100)]}]\n",
    "\n",
    "for name, model, param in zip(models_name, models, params):\n",
    "    clf = RandomizedSearchCV(model, param)\n",
    "    clf.fit(train_X, train_y)\n",
    "    print(name)\n",
    "    print(clf.score(test_X, test_y))\n",
    "    print()"
   ]
  },
  {
   "cell_type": "markdown",
   "metadata": {},
   "source": [
    "**程序清单 18.12：参考答案（输出结果可能和实际界面有所不同）**"
   ]
  },
  {
   "cell_type": "markdown",
   "metadata": {},
   "source": [
    "### ●综合附加习题"
   ]
  },
  {
   "cell_type": "code",
   "execution_count": null,
   "metadata": {},
   "outputs": [],
   "source": [
    "# 如果有其他需要使用的库，请在此处导入\n",
    "from sklearn.datasets import load_digits\n",
    "from sklearn.model_selection import train_test_split\n",
    "\n",
    "data = load_digits()\n",
    "train_X, test_X, train_y, test_y = train_test_split(\n",
    "    data.data, data.target, random_state=42)\n",
    "\n",
    "# 请从此处开始输入代码\n",
    "\n",
    "\n",
    "\n",
    "\n",
    "\n",
    "\n",
    "\n",
    "print(\"学习模型:{},\\n参数:{}\".format(best_model, best_param))\n",
    "# 请对成绩最高的评分进行输出\n"
   ]
  },
  {
   "cell_type": "markdown",
   "metadata": {},
   "source": [
    "**程序清单 18.13：习题**"
   ]
  },
  {
   "cell_type": "code",
   "execution_count": 9,
   "metadata": {},
   "outputs": [
    {
     "name": "stdout",
     "output_type": "stream",
     "text": [
      "学习模型:SVC,\n",
      "参数:{'C': 0.0001, 'decision_function_shape': 'ovr', 'kernel': 'poly', 'random_state': 42}\n",
      "最高分数: 0.9888888888888889\n"
     ]
    }
   ],
   "source": [
    "# 如果有其他需要使用的库，请在此处导入\n",
    "import scipy.stats\n",
    "from sklearn.datasets import load_digits\n",
    "from sklearn.linear_model import LogisticRegression\n",
    "from sklearn.svm import LinearSVC\n",
    "from sklearn.svm import SVC\n",
    "from sklearn.tree import DecisionTreeClassifier\n",
    "from sklearn.ensemble import RandomForestClassifier\n",
    "from sklearn.neighbors import KNeighborsClassifier\n",
    "from sklearn.model_selection import GridSearchCV\n",
    "from sklearn.model_selection import RandomizedSearchCV\n",
    "from sklearn.model_selection import train_test_split\n",
    "from sklearn.metrics import f1_score\n",
    "\n",
    "data = load_digits()\n",
    "train_X, test_X, train_y, test_y = train_test_split(\n",
    "    data.data, data.target, random_state=42)\n",
    "\n",
    "# 请从此处开始输入代码\n",
    "# 创建保存模型和与之对应的参数信息的字典对象，稍后用于网格搜索\n",
    "# 可以将对象的实例指定为字典的键\n",
    "model_param_set_grid = {\n",
    "    LogisticRegression(): {\n",
    "        \"C\": [10 ** i for i in range(-5, 5)],\n",
    "        \"random_state\": [42]\n",
    "    },\n",
    "    LinearSVC(): {\n",
    "        \"C\": [10 ** i for i in range(-5, 5)],\n",
    "        \"multi_class\": [\"ovr\", \"crammer_singer\"],\n",
    "        \"random_state\": [42]\n",
    "    },\n",
    "    SVC(): {\n",
    "        \"kernel\": [\"linear\", \"poly\", \"rbf\", \"sigmoid\"],\n",
    "        \"C\": [10 ** i for i in range(-5, 5)],\n",
    "        \"decision_function_shape\": [\"ovr\", \"ovo\"],\n",
    "        \"random_state\": [42]\n",
    "    },\n",
    "    DecisionTreeClassifier(): {\n",
    "        \"max_depth\": [i for i in range(1, 20)],\n",
    "    },\n",
    "    RandomForestClassifier(): {\n",
    "        \"n_estimators\": [i for i in range(10, 20)],\n",
    "        \"max_depth\": [i for i in range(1, 10)],\n",
    "    },\n",
    "    KNeighborsClassifier(): {\n",
    "        \"n_neighbors\": [i for i in range(1, 10)]\n",
    "    }\n",
    "}\n",
    "\n",
    "# 创建保存模型和与之对应的参数信息的字典对象，稍后用于随机搜索\n",
    "model_param_set_random = {\n",
    "    LogisticRegression(): {\n",
    "        \"C\": scipy.stats.uniform(0.00001, 1000),\n",
    "        \"random_state\": scipy.stats.randint(0, 100)\n",
    "    },\n",
    "    LinearSVC(): {\n",
    "        \"C\": scipy.stats.uniform(0.00001, 1000),\n",
    "        \"multi_class\": [\"ovr\", \"crammer_singer\"],\n",
    "        \"random_state\": scipy.stats.randint(0, 100)\n",
    "    },\n",
    "    SVC(): {\n",
    "        \"kernel\": [\"linear\", \"poly\", \"rbf\", \"sigmoid\"],\n",
    "        \"C\": scipy.stats.uniform(0.00001, 1000),\n",
    "        \"decision_function_shape\": [\"ovr\", \"ovo\"],\n",
    "        \"random_state\": scipy.stats.randint(0, 100)\n",
    "    },\n",
    "    DecisionTreeClassifier(): {\n",
    "        \"max_depth\": scipy.stats.randint(1, 20),\n",
    "    },\n",
    "    RandomForestClassifier(): {\n",
    "        \"n_estimators\": scipy.stats.randint(10, 100),\n",
    "        \"max_depth\": scipy.stats.randint(1, 20),\n",
    "    },\n",
    "    KNeighborsClassifier(): {\n",
    "        \"n_neighbors\": scipy.stats.randint(1, 20)\n",
    "    }\n",
    "}\n",
    "\n",
    "# 创建用于比较分数的变量\n",
    "max_score = 0\n",
    "best_model = None\n",
    "best_param = None\n",
    "\n",
    "# 采用网格搜索进行参数的搜寻\n",
    "for model, param in model_param_set_grid.items():\n",
    "    clf = GridSearchCV(model, param)\n",
    "    clf.fit(train_X, train_y)\n",
    "    pred_y = clf.predict(test_X)\n",
    "    score = f1_score(test_y, pred_y, average=\"micro\")\n",
    "    # 在对最高评分进行更新时，也同时更新模型和参数\n",
    "    if max_score < score:\n",
    "        max_score = score\n",
    "        best_model = model.__class__.__name__\n",
    "        best_param = clf.best_params_\n",
    "\n",
    "# 采用随机搜索对参数进行搜寻\n",
    "for model, param in model_param_set_random.items():\n",
    "    clf = RandomizedSearchCV(model, param)\n",
    "    clf.fit(train_X, train_y)\n",
    "    pred_y = clf.predict(test_X)\n",
    "    score = f1_score(test_y, pred_y, average=\"micro\")\n",
    "    # 在对最高评分进行更新时，也同时更新模型和参数\n",
    "    if max_score < score:\n",
    "        max_score = score\n",
    "        best_model = model.__class__.__name__\n",
    "        best_param = clf.best_params_\n",
    "        \n",
    "print(\"学习模型:{},\\n 参数:{}\".format(best_model, best_param))\n",
    "# 请对成绩最高的评分进行输出\n",
    "print(\"最高分数:\",max_score)"
   ]
  },
  {
   "cell_type": "markdown",
   "metadata": {},
   "source": [
    "**程序清单 18.14：参考答案**"
   ]
  }
 ],
 "metadata": {
  "celltoolbar": "Edit Metadata",
  "kernelspec": {
   "display_name": "Python 3",
   "language": "python",
   "name": "python3"
  },
  "language_info": {
   "codemirror_mode": {
    "name": "ipython",
    "version": 3
   },
   "file_extension": ".py",
   "mimetype": "text/x-python",
   "name": "python",
   "nbconvert_exporter": "python",
   "pygments_lexer": "ipython3",
   "version": "3.6.6"
  }
 },
 "nbformat": 4,
 "nbformat_minor": 2
}
