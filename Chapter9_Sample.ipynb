{
 "cells": [
  {
   "cell_type": "markdown",
   "metadata": {
    "chapterId": "Hy8l_RQWlbz",
    "id": "chapter_name"
   },
   "source": [
    "#  ★Chapter9　Pandas的应用"
   ]
  },
  {
   "cell_type": "markdown",
   "metadata": {
    "id": "table"
   },
   "source": [
    "- **9.1 DataFrame 连接、合并操作概要**\n",
    "    - **9.1.1 关于连接与合并操作**\n",
    "<br><br>\n",
    "- **9.2 DataFrame 的连接**\n",
    "    - **9.2.1 索引和列相同的 DataFrame 之间的连接**\n",
    "    - **9.2.2 索引和列不同的 DataFrame 之间的连接**\n",
    "    - **9.2.3 指定连接时的标签**\n",
    "<br><br>\n",
    "- **9.3 DataFrame 的合并**\n",
    "    - **9.3.1 合并的种类**\n",
    "    - **9.3.2 内部合并的基础**\n",
    "    - **9.3.3 外部合并的基础**\n",
    "    - **9.3.4 以异名列为 Key 进行合并**\n",
    "    - **9.3.5 以索引为 Key 进行合并**\n",
    "<br><br>\n",
    "- **9.4 利用 DataFrame 进行数据分析**\n",
    "    - **9.4.1 提取一部分行**\n",
    "    - **9.4.2 调用计算处理**\n",
    "    - **9.4.3 计算概括统计量**\n",
    "    - **9.4.4 计算 DataFrame 的行间差分和列间差分**\n",
    "    - **9.4.5 分组化**\n",
    "<br><br>\n",
    "- **附加习题**\n",
    "- **综合附加习题**"
   ]
  },
  {
   "cell_type": "markdown",
   "metadata": {
    "id": "section_name",
    "sectionId": "B1Peu0XWgZM"
   },
   "source": [
    "## ●9.1 DataFrame 连接、合并操作概要"
   ]
  },
  {
   "cell_type": "markdown",
   "metadata": {
    "courseId": 4010,
    "exerciseId": "ryGBKh8sIgz",
    "id": "quiz_session_name",
    "important": true,
    "isDL": false,
    "timeoutSecs": 5
   },
   "source": [
    "### 〇9.1.1 关于连接与合并操作"
   ]
  },
  {
   "cell_type": "markdown",
   "metadata": {},
   "source": [
    "本节没有样本文件。"
   ]
  },
  {
   "cell_type": "markdown",
   "metadata": {
    "id": "section_name",
    "sectionId": "HJ_eORQblZG"
   },
   "source": [
    "## ●9.2 DataFrame 的连接"
   ]
  },
  {
   "cell_type": "markdown",
   "metadata": {
    "courseId": 4010,
    "exerciseId": "BJQBF3UsIgM",
    "id": "code_session_name",
    "important": true,
    "isDL": false,
    "timeoutSecs": 5
   },
   "source": [
    "### 〇9.2.1 索引和列相同的 DataFrame 之间的连接"
   ]
  },
  {
   "cell_type": "markdown",
   "metadata": {},
   "source": [
    "#### □习题"
   ]
  },
  {
   "cell_type": "code",
   "execution_count": null,
   "metadata": {
    "collapsed": true,
    "id": "index"
   },
   "outputs": [],
   "source": [
    "import numpy as np\n",
    "import pandas as pd\n",
    "\n",
    "# 根据指定的索引和列，使用随机数创建 DataFrame 的函数\n",
    "def make_random_df(index, columns, seed):\n",
    "    np.random.seed(seed)\n",
    "    df = pd.DataFrame()\n",
    "    for column in columns:\n",
    "        df[column] = np.random.choice(range(1, 101), len(index))\n",
    "    df.index = index\n",
    "    return df\n",
    "\n",
    "#创建索引和列保持一致的 DataFrame\n",
    "columns = [\"apple\", \"orange\", \"banana\"]\n",
    "df_data1 = make_random_df(range(1, 5), columns, 0)\n",
    "df_data2 = make_random_df(range(1, 5), columns, 1)\n",
    "\n",
    "# 请将 df_data1 和 df_data2 在纵向上进行连接，并代入 df1 中\n",
    "\n",
    "\n",
    "# 请将 df_data1 和 df_data2 在横向上进行连接，并代入 df2 中\n",
    "\n",
    "\n",
    "print(df1)\n",
    "print(df2)"
   ]
  },
  {
   "cell_type": "markdown",
   "metadata": {},
   "source": [
    "**程序清单 9.1：习题**"
   ]
  },
  {
   "cell_type": "markdown",
   "metadata": {},
   "source": [
    "#### □参考答案"
   ]
  },
  {
   "cell_type": "code",
   "execution_count": 1,
   "metadata": {
    "id": "answer"
   },
   "outputs": [
    {
     "name": "stdout",
     "output_type": "stream",
     "text": [
      "   apple  orange  banana\n",
      "1     45      68      37\n",
      "2     48      10      88\n",
      "3     65      84      71\n",
      "4     68      22      89\n",
      "1     38      76      17\n",
      "2     13       6       2\n",
      "3     73      80      77\n",
      "4     10      65      72\n",
      "   apple  orange  banana  apple  orange  banana\n",
      "1     45      68      37     38      76      17\n",
      "2     48      10      88     13       6       2\n",
      "3     65      84      71     73      80      77\n",
      "4     68      22      89     10      65      72\n"
     ]
    }
   ],
   "source": [
    "import numpy as np\n",
    "import pandas as pd\n",
    "\n",
    "# 根据指定的索引和列，使用随机数创建 DataFrame 的函数\n",
    "def make_random_df(index, columns, seed):\n",
    "    np.random.seed(seed)\n",
    "    df = pd.DataFrame()\n",
    "    for column in columns:\n",
    "        df[column] = np.random.choice(range(1, 101), len(index))\n",
    "    df.index = index\n",
    "    return df\n",
    "\n",
    "#创建索引和列保持一致的 DataFrame\n",
    "columns = [\"apple\", \"orange\", \"banana\"]\n",
    "df_data1 = make_random_df(range(1, 5), columns, 0)\n",
    "df_data2 = make_random_df(range(1, 5), columns, 1)\n",
    "\n",
    "# 请将 df_data1 和 df_data2 在纵向上进行连接，并代入 df1 中\n",
    "df1 = pd.concat([df_data1, df_data2], axis=0)\n",
    "\n",
    "# 请将 df_data1 和 df_data2 在横向上进行连接，并代入 df2 中\n",
    "df2 = pd.concat([df_data1, df_data2], axis=1)\n",
    "\n",
    "print(df1)\n",
    "print(df2)"
   ]
  },
  {
   "cell_type": "markdown",
   "metadata": {},
   "source": [
    "**程序清单 9.2：参考答案**　"
   ]
  },
  {
   "cell_type": "markdown",
   "metadata": {
    "courseId": 4010,
    "exerciseId": "ByVBF2LoLgz",
    "id": "code_session_name",
    "important": true,
    "isDL": false,
    "timeoutSecs": 5
   },
   "source": [
    "### 〇9.2.2 索引和列不同的 DataFrame 之间的连接"
   ]
  },
  {
   "cell_type": "markdown",
   "metadata": {},
   "source": [
    "#### □习题"
   ]
  },
  {
   "cell_type": "code",
   "execution_count": null,
   "metadata": {
    "collapsed": true,
    "id": "index"
   },
   "outputs": [],
   "source": [
    "import numpy as np\n",
    "import pandas as pd\n",
    "\n",
    "# 根据指定的索引和列，使用随机数创建 DataFrame 的函数\n",
    "def make_random_df(index, columns, seed):\n",
    "    np.random.seed(seed)\n",
    "    df = pd.DataFrame()\n",
    "    for column in columns:\n",
    "        df[column] = np.random.choice(range(1, 101), len(index))\n",
    "    df.index = index\n",
    "    return df\n",
    "\n",
    "columns1 = [\"apple\", \"orange\", \"banana\"]\n",
    "columns2 = [\"orange\", \"kiwifruit\", \"banana\"]\n",
    "# 创建索引为 1、2、3、4，列为 columns1 的 DataFrame\n",
    "df_data1 = make_random_df(range(1, 5), columns1, 0)\n",
    "# 创建索引为 1、3、5、7，列为 columns2 的 DataFrame\n",
    "df_data2 = make_random_df(np.arange(1, 8, 2), columns2, 1)\n",
    "\n",
    "# 请将 df_data1 和 df_data2 在纵向上进行连接，并代入 df1 中\n",
    "\n",
    "\n",
    "# 请将 df_data1 和 df_data2 在横向上进行连接，并代入 df2 中\n",
    "\n",
    "\n",
    "print(df1)\n",
    "print(df2)"
   ]
  },
  {
   "cell_type": "markdown",
   "metadata": {},
   "source": [
    "**程序清单 9.3：习题**"
   ]
  },
  {
   "cell_type": "markdown",
   "metadata": {},
   "source": [
    "#### □参考答案"
   ]
  },
  {
   "cell_type": "code",
   "execution_count": 2,
   "metadata": {
    "id": "answer"
   },
   "outputs": [
    {
     "name": "stdout",
     "output_type": "stream",
     "text": [
      "   apple  banana  kiwifruit  orange\n",
      "1   45.0      37        NaN      68\n",
      "2   48.0      88        NaN      10\n",
      "3   65.0      71        NaN      84\n",
      "4   68.0      89        NaN      22\n",
      "1    NaN      17       76.0      38\n",
      "3    NaN       2        6.0      13\n",
      "5    NaN      77       80.0      73\n",
      "7    NaN      72       65.0      10\n",
      "   apple  orange  banana  orange  kiwifruit  banana\n",
      "1   45.0    68.0    37.0    38.0       76.0    17.0\n",
      "2   48.0    10.0    88.0     NaN        NaN     NaN\n",
      "3   65.0    84.0    71.0    13.0        6.0     2.0\n",
      "4   68.0    22.0    89.0     NaN        NaN     NaN\n",
      "5    NaN     NaN     NaN    73.0       80.0    77.0\n",
      "7    NaN     NaN     NaN    10.0       65.0    72.0\n"
     ]
    }
   ],
   "source": [
    "import numpy as np\n",
    "import pandas as pd\n",
    "\n",
    "# 根据指定的索引和列，使用随机数创建 DataFrame 的函数\n",
    "def make_random_df(index, columns, seed):\n",
    "    np.random.seed(seed)\n",
    "    df = pd.DataFrame()\n",
    "    for column in columns:\n",
    "        df[column] = np.random.choice(range(1, 101), len(index))\n",
    "    df.index = index\n",
    "    return df\n",
    "\n",
    "columns1 = [\"apple\", \"orange\", \"banana\"]\n",
    "columns2 = [\"orange\", \"kiwifruit\", \"banana\"]\n",
    "# 创建索引为 1、2、3、4，列为 columns1 的 DataFrame\n",
    "df_data1 = make_random_df(range(1, 5), columns1, 0)\n",
    "# 创建索引为 1、3、5、7，列为 columns2 的 DataFrame\n",
    "df_data2 = make_random_df(np.arange(1, 8, 2), columns2, 1)\n",
    "\n",
    "# 请将 df_data1 和 df_data2 在纵向上进行连接，并代入 df1 中\n",
    "df1 = pd.concat([df_data1, df_data2], axis=0)\n",
    "\n",
    "# 请将 df_data1 和 df_data2 在横向上进行连接，并代入 df2 中\n",
    "df2 = pd.concat([df_data1, df_data2], axis=1)\n",
    "\n",
    "print(df1)\n",
    "print(df2)"
   ]
  },
  {
   "cell_type": "markdown",
   "metadata": {},
   "source": [
    "**程序清单 9.4：参考答案**"
   ]
  },
  {
   "cell_type": "markdown",
   "metadata": {
    "courseId": 4010,
    "exerciseId": "HySHFhIiIlz",
    "id": "code_session_name",
    "important": true,
    "isDL": false,
    "timeoutSecs": 5
   },
   "source": [
    "### 〇9.2.3 指定连接时的标签"
   ]
  },
  {
   "cell_type": "markdown",
   "metadata": {},
   "source": [
    "#### □习题"
   ]
  },
  {
   "cell_type": "code",
   "execution_count": null,
   "metadata": {
    "collapsed": true,
    "id": "index"
   },
   "outputs": [],
   "source": [
    "import numpy as np\n",
    "import pandas as pd\n",
    "\n",
    "# 根据指定的索引和列，使用随机数创建 DataFrame 的函数\n",
    "def make_random_df(index, columns, seed):\n",
    "    np.random.seed(seed)\n",
    "    df = pd.DataFrame()\n",
    "    for column in columns:\n",
    "        df[column] = np.random.choice(range(1, 101), len(index))\n",
    "    df.index = index\n",
    "    return df\n",
    "\n",
    "columns = [\"apple\", \"orange\", \"banana\"]\n",
    "df_data1 = make_random_df(range(1, 5), columns, 0)\n",
    "df_data2 = make_random_df(range(1, 5), columns, 1)\n",
    "\n",
    "# 请将 DataFrame 型变量 df_data1 和 df_data2 进行横向连接，并在参数keys 中指定 “X” 和 “Y” 生成 MultiIndex，并代入 df 中\n",
    "\n",
    "\n",
    "#  请将 df 的 “Y” 标签的 “banana” 代入变量 Y_banana 中\n",
    "\n",
    "\n",
    "print(df)\n",
    "print()\n",
    "print(Y_banana)"
   ]
  },
  {
   "cell_type": "markdown",
   "metadata": {},
   "source": [
    "**程序清单 9.5：习题**"
   ]
  },
  {
   "cell_type": "markdown",
   "metadata": {},
   "source": [
    "#### □参考答案"
   ]
  },
  {
   "cell_type": "code",
   "execution_count": 2,
   "metadata": {
    "id": "answer"
   },
   "outputs": [
    {
     "name": "stdout",
     "output_type": "stream",
     "text": [
      "      X                   Y              \n",
      "  apple orange banana apple orange banana\n",
      "1    45     68     37    38     76     17\n",
      "2    48     10     88    13      6      2\n",
      "3    65     84     71    73     80     77\n",
      "4    68     22     89    10     65     72\n",
      "\n",
      "1    17\n",
      "2     2\n",
      "3    77\n",
      "4    72\n",
      "Name: (Y, banana), dtype: int32\n"
     ]
    }
   ],
   "source": [
    "import numpy as np\n",
    "import pandas as pd\n",
    "\n",
    "# 根据指定的索引和列，使用随机数创建 DataFrame 的函数\n",
    "def make_random_df(index, columns, seed):\n",
    "    np.random.seed(seed)\n",
    "    df = pd.DataFrame()\n",
    "    for column in columns:\n",
    "        df[column] = np.random.choice(range(1, 101), len(index))\n",
    "    df.index = index\n",
    "    return df\n",
    "\n",
    "columns = [\"apple\", \"orange\", \"banana\"]\n",
    "df_data1 = make_random_df(range(1, 5), columns, 0)\n",
    "df_data2 = make_random_df(range(1, 5), columns, 1)\n",
    "\n",
    "# 请将 DataFrame 型变量 df_data1 和 df_data2 进行横向连接，并在参数keys 中指定 “X” 和 “Y” 生成 MultiIndex，并代入 df 中\n",
    "df = pd.concat([df_data1, df_data2], axis=1, keys=[\"X\", \"Y\"])\n",
    "\n",
    "#  请将 df 的 “Y” 标签的 “banana” 代入变量 Y_banana 中\n",
    "Y_banana = df[\"Y\", \"banana\"]\n",
    "\n",
    "print(df)\n",
    "print()\n",
    "print(Y_banana)"
   ]
  },
  {
   "cell_type": "markdown",
   "metadata": {},
   "source": [
    "**程序清单 9.6：参考答案**"
   ]
  },
  {
   "cell_type": "markdown",
   "metadata": {
    "id": "section_name",
    "sectionId": "SytlORmbgbG"
   },
   "source": [
    "## ●9.3 DataFrame 的合并"
   ]
  },
  {
   "cell_type": "markdown",
   "metadata": {
    "courseId": 4010,
    "exerciseId": "SyUrtnIjIxz",
    "id": "quiz_session_name",
    "important": true,
    "isDL": false,
    "timeoutSecs": 5
   },
   "source": [
    "### 〇9.3.1 合并的种类"
   ]
  },
  {
   "cell_type": "markdown",
   "metadata": {},
   "source": [
    "本节没有样本文件。"
   ]
  },
  {
   "cell_type": "markdown",
   "metadata": {
    "courseId": 4010,
    "exerciseId": "B1PHFhLiIgf",
    "id": "code_session_name",
    "important": true,
    "isDL": false,
    "timeoutSecs": 5
   },
   "source": [
    "### 〇9.3.2 内部合并的基础"
   ]
  },
  {
   "cell_type": "markdown",
   "metadata": {},
   "source": [
    "#### □习题"
   ]
  },
  {
   "cell_type": "code",
   "execution_count": null,
   "metadata": {
    "collapsed": true,
    "id": "index"
   },
   "outputs": [],
   "source": [
    "import numpy as np\n",
    "import pandas as pd\n",
    "\n",
    "data1 = {\"fruits\": [\"apple\", \"orange\", \"banana\", \"strawberry\", \"kiwifruit\"],\n",
    "        \"year\": [2001, 2002, 2001, 2008, 2006],\n",
    "        \"amount\": [1, 4, 5, 6, 3]}\n",
    "df1 = pd.DataFrame(data1)\n",
    "\n",
    "data2 = {\"fruits\": [\"apple\", \"orange\", \"banana\", \"strawberry\", \"mango\"],\n",
    "        \"year\": [2001, 2002, 2001, 2008, 2007],\n",
    "        \"price\": [150, 120, 100, 250, 3000]}\n",
    "df2 = pd.DataFrame(data2)\n",
    "\n",
    "# 请确认 df1 和 df2 所包含内容\n",
    "print(df1)\n",
    "print()\n",
    "print(df2)\n",
    "print()\n",
    "\n",
    "# 请将“fruits”列作为 Key 对 DataFrame 型变量 df1 和 df2 进行内部合并，并将合并的结果保存到变量 df3 中\n",
    "\n",
    "\n",
    "# 输出结果\n",
    "# 对内部合并的处理方式进行确认\n",
    "print(df3)"
   ]
  },
  {
   "cell_type": "markdown",
   "metadata": {},
   "source": [
    "**程序清单 9.7：习题**"
   ]
  },
  {
   "cell_type": "markdown",
   "metadata": {},
   "source": [
    "#### □参考答案"
   ]
  },
  {
   "cell_type": "code",
   "execution_count": 3,
   "metadata": {
    "id": "answer"
   },
   "outputs": [
    {
     "name": "stdout",
     "output_type": "stream",
     "text": [
      "   amount      fruits  year\n",
      "0       1       apple  2001\n",
      "1       4      orange  2002\n",
      "2       5      banana  2001\n",
      "3       6  strawberry  2008\n",
      "4       3   kiwifruit  2006\n",
      "\n",
      "       fruits  price  year\n",
      "0       apple    150  2001\n",
      "1      orange    120  2002\n",
      "2      banana    100  2001\n",
      "3  strawberry    250  2008\n",
      "4       mango   3000  2007\n",
      "\n",
      "   amount      fruits  year_x  price  year_y\n",
      "0       1       apple    2001    150    2001\n",
      "1       4      orange    2002    120    2002\n",
      "2       5      banana    2001    100    2001\n",
      "3       6  strawberry    2008    250    2008\n"
     ]
    }
   ],
   "source": [
    "import numpy as np\n",
    "import pandas as pd\n",
    "\n",
    "data1 = {\"fruits\": [\"apple\", \"orange\", \"banana\", \"strawberry\", \"kiwifruit\"],\n",
    "        \"year\": [2001, 2002, 2001, 2008, 2006],\n",
    "        \"amount\": [1, 4, 5, 6, 3]}\n",
    "df1 = pd.DataFrame(data1)\n",
    "\n",
    "data2 = {\"fruits\": [\"apple\", \"orange\", \"banana\", \"strawberry\", \"mango\"],\n",
    "        \"year\": [2001, 2002, 2001, 2008, 2007],\n",
    "        \"price\": [150, 120, 100, 250, 3000]}\n",
    "df2 = pd.DataFrame(data2)\n",
    "\n",
    "# 请确认 df1 和 df2 所包含内容\n",
    "print(df1)\n",
    "print()\n",
    "print(df2)\n",
    "print()\n",
    "\n",
    "# 请将 “fruits” 列作为 Key 对 DataFrame 型变量 df1 和 df2 进行内部合并，并将合并的结果保存到变量 df3 中\n",
    "df3 = pd.merge(df1, df2, on=\"fruits\", how=\"inner\")\n",
    "\n",
    "# 输出结果\n",
    "# 对内部合并的处理方式进行确认\n",
    "print(df3)"
   ]
  },
  {
   "cell_type": "markdown",
   "metadata": {},
   "source": [
    "**程序清单 9.8：参考答案**"
   ]
  },
  {
   "cell_type": "markdown",
   "metadata": {
    "courseId": 4010,
    "exerciseId": "H1dHtnLiLeG",
    "id": "code_session_name",
    "important": true,
    "isDL": false,
    "timeoutSecs": 5
   },
   "source": [
    "### 〇9.3.3 外部合并的基础"
   ]
  },
  {
   "cell_type": "markdown",
   "metadata": {},
   "source": [
    "#### □习题"
   ]
  },
  {
   "cell_type": "code",
   "execution_count": null,
   "metadata": {
    "collapsed": true,
    "id": "index"
   },
   "outputs": [],
   "source": [
    "import numpy as np\n",
    "import pandas as pd\n",
    "\n",
    "data1 = {\"fruits\": [\"apple\", \"orange\", \"banana\", \"strawberry\", \"kiwifruit\"],\n",
    "        \"year\": [2001, 2002, 2001, 2008, 2006],\n",
    "        \"amount\": [1, 4, 5, 6, 3]}\n",
    "df1 = pd.DataFrame(data1)\n",
    "\n",
    "data2 = {\"fruits\": [\"apple\", \"orange\", \"banana\", \"strawberry\", \"mango\"],\n",
    "        \"year\": [2001, 2002, 2001, 2008, 2007],\n",
    "        \"price\": [150, 120, 100, 250, 3000]}\n",
    "df2 = pd.DataFrame(data2)\n",
    "\n",
    "# 请确认 df1 和 df2 所包含内容\n",
    "print(df1)\n",
    "print()\n",
    "print(df2)\n",
    "print()\n",
    "\n",
    "# 请将“fruits”列作为 Key 对 DataFrame 型变量 df1 和 df2 进行外部合并，并将合并的结果保存到变量 df3 中\n",
    "\n",
    "# 输出结果\n",
    "# 对外部合并的处理方式进行确认\n",
    "print(df3)"
   ]
  },
  {
   "cell_type": "markdown",
   "metadata": {},
   "source": [
    "**程序清单 9.9：习题**"
   ]
  },
  {
   "cell_type": "markdown",
   "metadata": {},
   "source": [
    "#### □参考答案"
   ]
  },
  {
   "cell_type": "code",
   "execution_count": 4,
   "metadata": {
    "id": "answer"
   },
   "outputs": [
    {
     "name": "stdout",
     "output_type": "stream",
     "text": [
      "   amount      fruits  year\n",
      "0       1       apple  2001\n",
      "1       4      orange  2002\n",
      "2       5      banana  2001\n",
      "3       6  strawberry  2008\n",
      "4       3   kiwifruit  2006\n",
      "\n",
      "       fruits  price  year\n",
      "0       apple    150  2001\n",
      "1      orange    120  2002\n",
      "2      banana    100  2001\n",
      "3  strawberry    250  2008\n",
      "4       mango   3000  2007\n",
      "\n",
      "   amount      fruits  year_x   price  year_y\n",
      "0     1.0       apple  2001.0   150.0  2001.0\n",
      "1     4.0      orange  2002.0   120.0  2002.0\n",
      "2     5.0      banana  2001.0   100.0  2001.0\n",
      "3     6.0  strawberry  2008.0   250.0  2008.0\n",
      "4     3.0   kiwifruit  2006.0     NaN     NaN\n",
      "5     NaN       mango     NaN  3000.0  2007.0\n"
     ]
    }
   ],
   "source": [
    "import numpy as np\n",
    "import pandas as pd\n",
    "\n",
    "data1 = {\"fruits\": [\"apple\", \"orange\", \"banana\", \"strawberry\", \"kiwifruit\"],\n",
    "        \"year\": [2001, 2002, 2001, 2008, 2006],\n",
    "        \"amount\": [1, 4, 5, 6, 3]}\n",
    "df1 = pd.DataFrame(data1)\n",
    "\n",
    "data2 = {\"fruits\": [\"apple\", \"orange\", \"banana\", \"strawberry\", \"mango\"],\n",
    "        \"year\": [2001, 2002, 2001, 2008, 2007],\n",
    "        \"price\": [150, 120, 100, 250, 3000]}\n",
    "df2 = pd.DataFrame(data2)\n",
    "\n",
    "# 请确认 df1 和 df2 所包含内容\n",
    "print(df1)\n",
    "print()\n",
    "print(df2)\n",
    "print()\n",
    "\n",
    "# 请将“fruits”列作为 Key 对 DataFrame 型变量 df1 和 df2 进行外部合并，并将合并的结果保存到变量 df3 中\n",
    "df3 = pd.merge(df1, df2, on=\"fruits\", how=\"outer\")\n",
    "\n",
    "# 输出结果\n",
    "# 对外部合并的处理方式进行确认\n",
    "print(df3)"
   ]
  },
  {
   "cell_type": "markdown",
   "metadata": {},
   "source": [
    "**程序清单 9.10：参考答案**"
   ]
  },
  {
   "cell_type": "markdown",
   "metadata": {
    "courseId": 4010,
    "exerciseId": "SyYBF2UiIlM",
    "id": "code_session_name",
    "important": false,
    "isDL": false,
    "timeoutSecs": 5
   },
   "source": [
    "### 〇9.3.4  以异名列为 Key 进行合并"
   ]
  },
  {
   "cell_type": "markdown",
   "metadata": {},
   "source": [
    "#### □习题"
   ]
  },
  {
   "cell_type": "code",
   "execution_count": null,
   "metadata": {
    "collapsed": true
   },
   "outputs": [],
   "source": [
    "import pandas as pd\n",
    "\n",
    "# 订单信息\n",
    "order_df = pd.DataFrame([[1000, 2546, 103],\n",
    "                         [1001, 4352, 101],\n",
    "                         [1002, 342, 101]],\n",
    "                         columns=[\"id\", \"item_id\", \"customer_id\"])\n",
    "# 顾客信息\n",
    "customer_df = pd.DataFrame([[101, \"Tanaka\"],\n",
    "                           [102, \"Suzuki\"],\n",
    "                           [103, \"Kato\"]],\n",
    "                           columns=[\"id\", \"name\"])\n",
    "\n",
    "# 请将 order_df 中的 customer_id 与 customer_df 中的 “id” 进行对应合并，并将结果代入 order_df 中\n",
    "\n",
    "\n",
    "print(order_df)"
   ]
  },
  {
   "cell_type": "markdown",
   "metadata": {},
   "source": [
    "**程序清单 9.11：习题**"
   ]
  },
  {
   "cell_type": "markdown",
   "metadata": {},
   "source": [
    "#### □参考答案"
   ]
  },
  {
   "cell_type": "code",
   "execution_count": 5,
   "metadata": {
    "id": "answer"
   },
   "outputs": [
    {
     "name": "stdout",
     "output_type": "stream",
     "text": [
      "   id_x  item_id  customer_id  id_y    name\n",
      "0  1000     2546          103   103    Kato\n",
      "1  1001     4352          101   101  Tanaka\n",
      "2  1002      342          101   101  Tanaka\n"
     ]
    }
   ],
   "source": [
    "import pandas as pd\n",
    "\n",
    "# 订单信息\n",
    "order_df = pd.DataFrame([[1000, 2546, 103],\n",
    "                         [1001, 4352, 101],\n",
    "                         [1002, 342, 101]],\n",
    "                         columns=[\"id\", \"item_id\", \"customer_id\"])\n",
    "# 顾客信息\n",
    "customer_df = pd.DataFrame([[101, \"Tanaka\"],\n",
    "                           [102, \"Suzuki\"],\n",
    "                           [103, \"Kato\"]],\n",
    "                           columns=[\"id\", \"name\"])\n",
    "\n",
    "# 请将 order_df 中的 customer_id 与 customer_df 中的 “id” 进行对应合并，并将结果代入 order_df 中\n",
    "order_df = pd.merge(order_df, customer_df, left_on=\"customer_id\", right_on=\"id\", how=\"inner\")\n",
    "\n",
    "print(order_df)"
   ]
  },
  {
   "cell_type": "markdown",
   "metadata": {},
   "source": [
    "**程序清单 9.12：参考答案**"
   ]
  },
  {
   "cell_type": "markdown",
   "metadata": {
    "courseId": 4010,
    "exerciseId": "Hy5rYh8j8ez",
    "id": "code_session_name",
    "important": false,
    "isDL": false,
    "timeoutSecs": 5
   },
   "source": [
    "### 〇9.3.5 以索引为 Key 进行合并"
   ]
  },
  {
   "cell_type": "markdown",
   "metadata": {},
   "source": [
    "#### □习题"
   ]
  },
  {
   "cell_type": "code",
   "execution_count": null,
   "metadata": {
    "collapsed": true,
    "id": "index"
   },
   "outputs": [],
   "source": [
    "import pandas as pd\n",
    "\n",
    "# 订单信息\n",
    "order_df = pd.DataFrame([[1000, 2546, 103],\n",
    "                         [1001, 4352, 101],\n",
    "                         [1002, 342, 101]],\n",
    "                         columns=[\"id\", \"item_id\", \"customer_id\"])\n",
    "# 顾客信息\n",
    "customer_df = pd.DataFrame([[\"Tanaka\"],\n",
    "                           [\"Suzuki\"],\n",
    "                           [\"Kato\"]],\n",
    "                           columns=[\"name\"])\n",
    "customer_df.index = [101, 102, 103]\n",
    "\n",
    "# 请将 customer_df 中的 “name” 合并到 order_df，并将合并结果代入order_df 中\n",
    "\n",
    "\n",
    "print(order_df)"
   ]
  },
  {
   "cell_type": "markdown",
   "metadata": {},
   "source": [
    "**程序清单 9.13：习题**"
   ]
  },
  {
   "cell_type": "markdown",
   "metadata": {},
   "source": [
    "#### □参考答案"
   ]
  },
  {
   "cell_type": "code",
   "execution_count": 6,
   "metadata": {
    "id": "answer"
   },
   "outputs": [
    {
     "name": "stdout",
     "output_type": "stream",
     "text": [
      "     id  item_id  customer_id    name\n",
      "0  1000     2546          103    Kato\n",
      "1  1001     4352          101  Tanaka\n",
      "2  1002      342          101  Tanaka\n"
     ]
    }
   ],
   "source": [
    "import pandas as pd\n",
    "\n",
    "# 订单信息\n",
    "order_df = pd.DataFrame([[1000, 2546, 103],\n",
    "                         [1001, 4352, 101],\n",
    "                         [1002, 342, 101]],\n",
    "                         columns=[\"id\", \"item_id\", \"customer_id\"])\n",
    "# 顾客信息\n",
    "customer_df = pd.DataFrame([[\"Tanaka\"],\n",
    "                           [\"Suzuki\"],\n",
    "                           [\"Kato\"]],\n",
    "                           columns=[\"name\"])\n",
    "customer_df.index = [101, 102, 103]\n",
    "\n",
    "# 请将 customer_df 中的 “name” 合并到 order_df，并将合并结果代入order_df 中\n",
    "order_df = pd.merge(order_df, customer_df, left_on=\"customer_id\", right_index=True, how=\"inner\")\n",
    "\n",
    "print(order_df)"
   ]
  },
  {
   "cell_type": "markdown",
   "metadata": {},
   "source": [
    "**程序清单 9.14：参考答案**"
   ]
  },
  {
   "cell_type": "markdown",
   "metadata": {
    "id": "section_name",
    "sectionId": "HycedRXbl-f"
   },
   "source": [
    "## ●9.4 利用 DataFrame 进行数据分析"
   ]
  },
  {
   "cell_type": "markdown",
   "metadata": {
    "courseId": 4010,
    "exerciseId": "SkiSt3UsUlM",
    "id": "code_session_name",
    "important": true,
    "isDL": false,
    "timeoutSecs": 5
   },
   "source": [
    "### 〇9.4.1 提取一部分行"
   ]
  },
  {
   "cell_type": "markdown",
   "metadata": {},
   "source": [
    "#### □习题"
   ]
  },
  {
   "cell_type": "code",
   "execution_count": null,
   "metadata": {
    "collapsed": true,
    "id": "index"
   },
   "outputs": [],
   "source": [
    "import numpy as np\n",
    "import pandas as pd\n",
    "np.random.seed(0)\n",
    "columns = [\"apple\", \"orange\", \"banana\", \"strawberry\", \"kiwifruit\"]\n",
    "\n",
    "# DataFrameを生成し、列を追加します\n",
    "df = pd.DataFrame()\n",
    "for column in columns:\n",
    "    df[column] = np.random.choice(range(1, 11), 10)\n",
    "df.index = range(1, 11)\n",
    "\n",
    "# 请将 DataFrame 型变量 df 开头的 3 行数据提取出来，并代入 df_head 中\n",
    "\n",
    "\n",
    "# 请将 DataFrame 型变量 df 末尾的 3 行数据提取出来，并代入 df_tail 中\n",
    "\n",
    "\n",
    "# 输出结果\n",
    "print(df_head)\n",
    "print(df_tail)"
   ]
  },
  {
   "cell_type": "markdown",
   "metadata": {},
   "source": [
    "**程序清单9.15：习题**"
   ]
  },
  {
   "cell_type": "markdown",
   "metadata": {},
   "source": [
    "#### □参考答案"
   ]
  },
  {
   "cell_type": "code",
   "execution_count": 7,
   "metadata": {
    "id": "answer"
   },
   "outputs": [
    {
     "name": "stdout",
     "output_type": "stream",
     "text": [
      "   apple  orange  banana  strawberry  kiwifruit\n",
      "1      6       8       6           3         10\n",
      "2      1       7      10           4         10\n",
      "3      4       9       9           9          1\n",
      "    apple  orange  banana  strawberry  kiwifruit\n",
      "8       6       8       4           8          8\n",
      "9       3       9       6           1          3\n",
      "10      5       2       1           2          1\n"
     ]
    }
   ],
   "source": [
    "import numpy as np\n",
    "import pandas as pd\n",
    "np.random.seed(0)\n",
    "columns = [\"apple\", \"orange\", \"banana\", \"strawberry\", \"kiwifruit\"]\n",
    "\n",
    "# 生成 DataFrame 并添加列数据\n",
    "df = pd.DataFrame()\n",
    "for column in columns:\n",
    "    df[column] = np.random.choice(range(1, 11), 10)\n",
    "df.index = range(1, 11)\n",
    "\n",
    "# 请将 DataFrame 型变量 df 开头的 3 行数据提取出来，并代入 df_head 中\n",
    "df_head = df.head(3)\n",
    "\n",
    "# 请将 DataFrame 型变量 df 末尾的 3 行数据提取出来，并代入 df_tail 中\n",
    "df_tail = df.tail(3)\n",
    "\n",
    "# 输出结果\n",
    "print(df_head)\n",
    "print(df_tail)"
   ]
  },
  {
   "cell_type": "markdown",
   "metadata": {},
   "source": [
    "**程序清单 9.16：参考答案**"
   ]
  },
  {
   "cell_type": "markdown",
   "metadata": {
    "courseId": 4010,
    "exerciseId": "rJnSFnIsLxz",
    "id": "code_session_name",
    "important": true,
    "isDL": false,
    "timeoutSecs": 5
   },
   "source": [
    "### 〇9.4.2 调用计算处理"
   ]
  },
  {
   "cell_type": "markdown",
   "metadata": {},
   "source": [
    "#### □习题"
   ]
  },
  {
   "cell_type": "code",
   "execution_count": null,
   "metadata": {
    "collapsed": true,
    "id": "index"
   },
   "outputs": [],
   "source": [
    "import numpy as np\n",
    "import pandas as pd\n",
    "import math\n",
    "np.random.seed(0)\n",
    "columns = [\"apple\", \"orange\", \"banana\", \"strawberry\", \"kiwifruit\"]\n",
    "\n",
    "# 生成 DataFrame 并添加列数据\n",
    "df = pd.DataFrame()\n",
    "for column in columns:\n",
    "    df[column] = np.random.choice(range(1, 11), 10)\n",
    "df.index = range(1, 11)\n",
    "\n",
    "# 请将 df 中的每个元素乘以 2，并将结果代入 double_df 中\n",
    "\n",
    "\n",
    "# 请计算 df 中的每个元素的平方，并将结果代入 square_df 中\n",
    "\n",
    "\n",
    "# 请计算 df 中的每个元素的平方根，并将结果代入 sqrt_df 中\n",
    "\n",
    "\n",
    "\n",
    "# 输出结果\n",
    "print(double_df)\n",
    "print(square_df)\n",
    "print(sqrt_df)"
   ]
  },
  {
   "cell_type": "markdown",
   "metadata": {},
   "source": [
    "**程序清单 9.17：习题**"
   ]
  },
  {
   "cell_type": "markdown",
   "metadata": {},
   "source": [
    "#### □参考答案"
   ]
  },
  {
   "cell_type": "code",
   "execution_count": 8,
   "metadata": {
    "id": "answer",
    "scrolled": false
   },
   "outputs": [
    {
     "name": "stdout",
     "output_type": "stream",
     "text": [
      "    apple  orange  banana  strawberry  kiwifruit\n",
      "1      12      16      12           6         20\n",
      "2       2      14      20           8         20\n",
      "3       8      18      18          18          2\n",
      "4       8      18      20           4         10\n",
      "5      16       4      10           8         16\n",
      "6      20      14       8           8          8\n",
      "7       8      16       2           8          6\n",
      "8      12      16       8          16         16\n",
      "9       6      18      12           2          6\n",
      "10     10       4       2           4          2\n",
      "    apple  orange  banana  strawberry  kiwifruit\n",
      "1      36      64      36           9        100\n",
      "2       1      49     100          16        100\n",
      "3      16      81      81          81          1\n",
      "4      16      81     100           4         25\n",
      "5      64       4      25          16         64\n",
      "6     100      49      16          16         16\n",
      "7      16      64       1          16          9\n",
      "8      36      64      16          64         64\n",
      "9       9      81      36           1          9\n",
      "10     25       4       1           4          1\n",
      "       apple    orange    banana  strawberry  kiwifruit\n",
      "1   2.449490  2.828427  2.449490    1.732051   3.162278\n",
      "2   1.000000  2.645751  3.162278    2.000000   3.162278\n",
      "3   2.000000  3.000000  3.000000    3.000000   1.000000\n",
      "4   2.000000  3.000000  3.162278    1.414214   2.236068\n",
      "5   2.828427  1.414214  2.236068    2.000000   2.828427\n",
      "6   3.162278  2.645751  2.000000    2.000000   2.000000\n",
      "7   2.000000  2.828427  1.000000    2.000000   1.732051\n",
      "8   2.449490  2.828427  2.000000    2.828427   2.828427\n",
      "9   1.732051  3.000000  2.449490    1.000000   1.732051\n",
      "10  2.236068  1.414214  1.000000    1.414214   1.000000\n"
     ]
    }
   ],
   "source": [
    "import numpy as np\n",
    "import pandas as pd\n",
    "import math\n",
    "np.random.seed(0)\n",
    "columns = [\"apple\", \"orange\", \"banana\", \"strawberry\", \"kiwifruit\"]\n",
    "\n",
    "# 生成 DataFrame 并添加列数据\n",
    "df = pd.DataFrame()\n",
    "for column in columns:\n",
    "    df[column] = np.random.choice(range(1, 11), 10)\n",
    "df.index = range(1, 11)\n",
    "\n",
    "# 请将 df 中的每个元素乘以 2，并将结果代入 double_df 中\n",
    "double_df = df * 2 # double_df = df + dfもOK\n",
    "\n",
    "# 请计算 df 中的每个元素的平方，并将结果代入 square_df 中\n",
    "square_df = df * df #square_df = df**2 でもOK\n",
    "\n",
    "# 请计算 df 中的每个元素的平方根，并将结果代入 sqrt_df 中\n",
    "sqrt_df = np.sqrt(df)\n",
    "\n",
    "\n",
    "# 输出结果\n",
    "print(double_df)\n",
    "print(square_df)\n",
    "print(sqrt_df)"
   ]
  },
  {
   "cell_type": "markdown",
   "metadata": {},
   "source": [
    "**程序清单 9.18：参考答案**"
   ]
  },
  {
   "cell_type": "markdown",
   "metadata": {
    "courseId": 4010,
    "exerciseId": "HypSY3UsLgf",
    "id": "code_session_name",
    "important": true,
    "isDL": false,
    "timeoutSecs": 5
   },
   "source": [
    "### 〇9.4.3 计算概括统计量"
   ]
  },
  {
   "cell_type": "markdown",
   "metadata": {},
   "source": [
    "#### □习题"
   ]
  },
  {
   "cell_type": "code",
   "execution_count": null,
   "metadata": {
    "collapsed": true,
    "id": "index"
   },
   "outputs": [],
   "source": [
    "import numpy as np\n",
    "import pandas as pd\n",
    "np.random.seed(0)\n",
    "columns = [\"apple\", \"orange\", \"banana\", \"strawberry\", \"kiwifruit\"]\n",
    "\n",
    "# 生成 DataFrame 并添加列数据\n",
    "df = pd.DataFrame()\n",
    "for column in columns:\n",
    "    df[column] = np.random.choice(range(1, 11), 10)\n",
    "df.index = range(1, 11)\n",
    "\n",
    "# 请对 DataFrame 型变量 df 的概括统计量中的 “mean”、“max”、“min” 进行计算，并将结果代入 df_des 中\n",
    "\n",
    "\n",
    "print(df_des)"
   ]
  },
  {
   "cell_type": "markdown",
   "metadata": {},
   "source": [
    "**程序清单 9.19：习题**"
   ]
  },
  {
   "cell_type": "markdown",
   "metadata": {},
   "source": [
    "#### □参考答案"
   ]
  },
  {
   "cell_type": "code",
   "execution_count": 9,
   "metadata": {
    "id": "answer"
   },
   "outputs": [
    {
     "name": "stdout",
     "output_type": "stream",
     "text": [
      "      apple  orange  banana  strawberry  kiwifruit\n",
      "mean    5.1     6.9     5.6         4.1        5.3\n",
      "max    10.0     9.0    10.0         9.0       10.0\n",
      "min     1.0     2.0     1.0         1.0        1.0\n"
     ]
    }
   ],
   "source": [
    "import numpy as np\n",
    "import pandas as pd\n",
    "np.random.seed(0)\n",
    "columns = [\"apple\", \"orange\", \"banana\", \"strawberry\", \"kiwifruit\"]\n",
    "\n",
    "# 生成 DataFrame 并添加列数据\n",
    "df = pd.DataFrame()\n",
    "for column in columns:\n",
    "    df[column] = np.random.choice(range(1, 11), 10)\n",
    "df.index = range(1, 11)\n",
    "\n",
    "# 请对 DataFrame 型变量 df 的概括统计量中的 “mean”、“max”、“min” 进行计算，并将结果代入 df_des 中\n",
    "df_des = df.describe().loc[[\"mean\", \"max\", \"min\"]]\n",
    "\n",
    "print(df_des)"
   ]
  },
  {
   "cell_type": "markdown",
   "metadata": {},
   "source": [
    "**程序清单 9.20：参考答案**"
   ]
  },
  {
   "cell_type": "markdown",
   "metadata": {
    "courseId": 4010,
    "exerciseId": "BkCSFnUsUxf",
    "id": "code_session_name",
    "important": false,
    "isDL": false,
    "timeoutSecs": 5
   },
   "source": [
    "### 〇9.4.4 计算 DataFrame 的行间差分和列间差分"
   ]
  },
  {
   "cell_type": "markdown",
   "metadata": {},
   "source": [
    "#### □习题"
   ]
  },
  {
   "cell_type": "code",
   "execution_count": null,
   "metadata": {
    "collapsed": true,
    "id": "index"
   },
   "outputs": [],
   "source": [
    "import numpy as np\n",
    "import pandas as pd\n",
    "np.random.seed(0)\n",
    "columns = [\"apple\", \"orange\", \"banana\", \"strawberry\", \"kiwifruit\"]\n",
    "\n",
    "# 生成 DataFrame 并添加列数据\n",
    "df = pd.DataFrame()\n",
    "for column in columns:\n",
    "    df[column] = np.random.choice(range(1, 11), 10)\n",
    "df.index = range(1, 11)\n",
    "\n",
    "# 请对 df 中的每行数据计算其与两行之后的行之间的的差分，将计算得到的DataFrame 代入 df_diff 中\n",
    "\n",
    "\n",
    "# 请对 df 和 df_diff 的内容进行比较，并对处理内容进行确认\n",
    "print(df)\n",
    "print(df_diff)"
   ]
  },
  {
   "cell_type": "markdown",
   "metadata": {},
   "source": [
    "**程序清单 9.21：习题**"
   ]
  },
  {
   "cell_type": "markdown",
   "metadata": {},
   "source": [
    "#### □参考答案"
   ]
  },
  {
   "cell_type": "code",
   "execution_count": 10,
   "metadata": {
    "id": "answer"
   },
   "outputs": [
    {
     "name": "stdout",
     "output_type": "stream",
     "text": [
      "    apple  orange  banana  strawberry  kiwifruit\n",
      "1       6       8       6           3         10\n",
      "2       1       7      10           4         10\n",
      "3       4       9       9           9          1\n",
      "4       4       9      10           2          5\n",
      "5       8       2       5           4          8\n",
      "6      10       7       4           4          4\n",
      "7       4       8       1           4          3\n",
      "8       6       8       4           8          8\n",
      "9       3       9       6           1          3\n",
      "10      5       2       1           2          1\n",
      "    apple  orange  banana  strawberry  kiwifruit\n",
      "1     2.0    -1.0    -3.0        -6.0        9.0\n",
      "2    -3.0    -2.0     0.0         2.0        5.0\n",
      "3    -4.0     7.0     4.0         5.0       -7.0\n",
      "4    -6.0     2.0     6.0        -2.0        1.0\n",
      "5     4.0    -6.0     4.0         0.0        5.0\n",
      "6     4.0    -1.0     0.0        -4.0       -4.0\n",
      "7     1.0    -1.0    -5.0         3.0        0.0\n",
      "8     1.0     6.0     3.0         6.0        7.0\n",
      "9     NaN     NaN     NaN         NaN        NaN\n",
      "10    NaN     NaN     NaN         NaN        NaN\n"
     ]
    }
   ],
   "source": [
    "import numpy as np\n",
    "import pandas as pd\n",
    "np.random.seed(0)\n",
    "columns = [\"apple\", \"orange\", \"banana\", \"strawberry\", \"kiwifruit\"]\n",
    "\n",
    "# 生成 DataFrame 并添加列数据\n",
    "df = pd.DataFrame()\n",
    "for column in columns:\n",
    "    df[column] = np.random.choice(range(1, 11), 10)\n",
    "df.index = range(1, 11)\n",
    "\n",
    "# 请对 df 中的每行数据计算其与两行之后的行之间的的差分，将计算得到的DataFrame 代入 df_diff 中\n",
    "df_diff = df.diff(-2, axis=0)\n",
    "\n",
    "# 请对 df 和 df_diff 的内容进行比较，并对处理内容进行确认\n",
    "print(df)\n",
    "print(df_diff)"
   ]
  },
  {
   "cell_type": "markdown",
   "metadata": {},
   "source": [
    "**程序清单 9.22：参考答案**"
   ]
  },
  {
   "cell_type": "markdown",
   "metadata": {
    "courseId": 4010,
    "exerciseId": "S1JIF3Uj8xz",
    "id": "code_session_name",
    "important": false,
    "isDL": false,
    "timeoutSecs": 5
   },
   "source": [
    "### 〇9.4.5 分组化"
   ]
  },
  {
   "cell_type": "markdown",
   "metadata": {},
   "source": [
    "#### □习题"
   ]
  },
  {
   "cell_type": "code",
   "execution_count": null,
   "metadata": {
    "collapsed": true,
    "id": "index"
   },
   "outputs": [],
   "source": [
    "import pandas as pd\n",
    "\n",
    "# 创建包含一部分行政区域信息的 DataFrame\n",
    "prefecture_df = pd.DataFrame([[\"Tokyo\", 2190, 13636, \"Kanto\"],\n",
    "                              [\"Kanagawa\", 2415, 9145, \"Kanto\"],\n",
    "                              [\"Osaka\", 1904, 8837, \"Kinki\"],\n",
    "                              [\"Kyoto\", 4610, 2605, \"Kinki\"],\n",
    "                              [\"Aichi\", 5172, 7505, \"Chubu\"]], \n",
    "                             columns=[\"Prefecture\", \"Area\", \n",
    "                                      \"Population\", \"Region\"])\n",
    "# 输出结果\n",
    "print(prefecture_df)\n",
    "\n",
    "# 将 prefecture_df 按照地域（Region）进行分组化处理，并将结果代入 grouped_region 中\n",
    "\n",
    "\n",
    "# 计算 prefecture_df 中每个地域的面积（Area）和人口（Population）的平均值，并代入 mean_df 中\n",
    "\n",
    "\n",
    "# 输出结果\n",
    "print(mean_df)"
   ]
  },
  {
   "cell_type": "markdown",
   "metadata": {},
   "source": [
    "**程序清单 9.23：习题**"
   ]
  },
  {
   "cell_type": "markdown",
   "metadata": {},
   "source": [
    "#### □参考答案"
   ]
  },
  {
   "cell_type": "code",
   "execution_count": 11,
   "metadata": {
    "id": "answer",
    "scrolled": false
   },
   "outputs": [
    {
     "name": "stdout",
     "output_type": "stream",
     "text": [
      "  Prefecture  Area  Population Region\n",
      "0      Tokyo  2190       13636  Kanto\n",
      "1   Kanagawa  2415        9145  Kanto\n",
      "2      Osaka  1904        8837  Kinki\n",
      "3      Kyoto  4610        2605  Kinki\n",
      "4      Aichi  5172        7505  Chubu\n",
      "          Area  Population\n",
      "Region                    \n",
      "Chubu   5172.0      7505.0\n",
      "Kanto   2302.5     11390.5\n",
      "Kinki   3257.0      5721.0\n"
     ]
    }
   ],
   "source": [
    "import pandas as pd\n",
    "\n",
    "# 创建包含一部分行政区域信息的 DataFrame\n",
    "prefecture_df = pd.DataFrame([[\"Tokyo\", 2190, 13636, \"Kanto\"], \n",
    "                              [\"Kanagawa\", 2415, 9145, \"Kanto\"],\n",
    "                              [\"Osaka\", 1904, 8837, \"Kinki\"], \n",
    "                              [\"Kyoto\", 4610, 2605, \"Kinki\"],\n",
    "                              [\"Aichi\", 5172, 7505, \"Chubu\"]], \n",
    "                             columns=[\"Prefecture\", \"Area\", \n",
    "                                      \"Population\", \"Region\"])\n",
    "# 输出结果\n",
    "print(prefecture_df)\n",
    "\n",
    "# 将 prefecture_df 按照地域（Region）进行分组化处理，并将结果代入grouped_region 中\n",
    "grouped_region = prefecture_df.groupby(\"Region\")\n",
    "\n",
    "# 计算 prefecture_df 中每个地域的面积（Area）和人口（Population）的平均值，并代入 mean_df 中\n",
    "mean_df = grouped_region.mean()\n",
    "\n",
    "# 输出结果\n",
    "print(mean_df)"
   ]
  },
  {
   "cell_type": "markdown",
   "metadata": {},
   "source": [
    "**程序清单 9.24：参考答案**"
   ]
  },
  {
   "cell_type": "markdown",
   "metadata": {
    "id": "chapter_exam"
   },
   "source": [
    "## ●附加习题"
   ]
  },
  {
   "cell_type": "markdown",
   "metadata": {},
   "source": [
    "#### □习题"
   ]
  },
  {
   "cell_type": "code",
   "execution_count": null,
   "metadata": {
    "collapsed": true,
    "id": "index",
    "scrolled": true
   },
   "outputs": [],
   "source": [
    "import pandas as pd\n",
    "\n",
    "# 对两个 DataFrame 分别进行定义\n",
    "df1 = pd.DataFrame([[\"apple\", \"Fruit\", 120],\n",
    "                    [\"orange\", \"Fruit\", 60],\n",
    "                    [\"banana\", \"Fruit\", 100],\n",
    "                    [\"pumpkin\", \"Vegetable\", 150],\n",
    "                    [\"potato\", \"Vegetable\", 80]],\n",
    "                    columns=[\"Name\", \"Type\", \"Price\"])\n",
    "\n",
    "df2 = pd.DataFrame([[\"onion\", \"Vegetable\", 60],\n",
    "                    [\"carrot\", \"Vegetable\", 50],\n",
    "                    [\"beans\", \"Vegetable\", 100],\n",
    "                    [\"grape\", \"Fruit\", 160],\n",
    "                    [\"kiwifruit\", \"Fruit\", 80]],\n",
    "                    columns=[\"Name\", \"Type\", \"Price\"])\n",
    "\n",
    "# 请在此处输入答案い\n"
   ]
  },
  {
   "cell_type": "markdown",
   "metadata": {},
   "source": [
    "**程序清单 9.25：习题**"
   ]
  },
  {
   "cell_type": "markdown",
   "metadata": {},
   "source": [
    "#### □参考答案"
   ]
  },
  {
   "cell_type": "code",
   "execution_count": 12,
   "metadata": {
    "id": "answer",
    "scrolled": true
   },
   "outputs": [
    {
     "name": "stdout",
     "output_type": "stream",
     "text": [
      "430\n"
     ]
    }
   ],
   "source": [
    "import pandas as pd\n",
    "\n",
    "# 对两个 DataFrame 分别进行定义\n",
    "df1 = pd.DataFrame([[\"apple\", \"Fruit\", 120],\n",
    "                    [\"orange\", \"Fruit\", 60],\n",
    "                    [\"banana\", \"Fruit\", 100],\n",
    "                    [\"pumpkin\", \"Vegetable\", 150],\n",
    "                    [\"potato\", \"Vegetable\", 80]],\n",
    "                    columns=[\"Name\", \"Type\", \"Price\"])\n",
    "\n",
    "df2 = pd.DataFrame([[\"onion\", \"Vegetable\", 60],\n",
    "                    [\"carrot\", \"Vegetable\", 50],\n",
    "                    [\"beans\", \"Vegetable\", 100],\n",
    "                    [\"grape\", \"Fruit\", 160],\n",
    "                    [\"kiwifruit\", \"Fruit\", 80]],\n",
    "                    columns=[\"Name\", \"Type\", \"Price\"])\n",
    "\n",
    "# 请在此处输入答案\n",
    "# 进行连接\n",
    "df3 = pd.concat([df1, df2], axis=0)\n",
    "\n",
    "# 将水果信息单独提取出来，并按照 Price 排序\n",
    "df_fruit = df3.loc[df3[\"Type\"] == \"Fruit\"]\n",
    "df_fruit = df_fruit.sort_values(by=\"Price\")\n",
    "\n",
    "# 将蔬菜信息单独提取出来，并按照 Price 排序\n",
    "df_veg = df3.loc[df3[\"Type\"] == \"Vegetable\"]\n",
    "df_veg = df_veg.sort_values(by=\"Price\")\n",
    "\n",
    "# 分别对其中的三项元素的 Price 计算合计金额\n",
    "print(sum(df_fruit[:3][\"Price\"]) + sum(df_veg[:3][\"Price\"]))"
   ]
  },
  {
   "cell_type": "markdown",
   "metadata": {},
   "source": [
    "**程序清单 9.26：参考答案**"
   ]
  },
  {
   "cell_type": "markdown",
   "metadata": {},
   "source": [
    "# 综合附加习题"
   ]
  },
  {
   "cell_type": "markdown",
   "metadata": {},
   "source": [
    "#### □习题"
   ]
  },
  {
   "cell_type": "code",
   "execution_count": null,
   "metadata": {},
   "outputs": [],
   "source": [
    "import pandas as pd\n",
    "\n",
    "index = [\"taro\", \"mike\", \"kana\", \"jun\", \"sachi\"]\n",
    "columns = [\"语文\", \"数学\", \"社会\", \"理科\", \"英语\"]\n",
    "data = [[30, 45, 12, 45, 87], [65, 47, 83, 17, 58], [64, 63, 86, 57, 46, ], [38, 47, 62, 91, 63], [65, 36, 85, 94, 36]]\n",
    "df = pd.DataFrame(data, index=index, columns=columns)\n",
    "\n",
    "# 请向 df 中新的列 “体育” 中添加 pe_column 的数据\n",
    "pe_column = pd.Series([56, 43, 73, 82, 62],  index=[\"taro\", \"mike\", \"kana\", \"jun\", \"sachi\"])\n",
    "df\n",
    "print(df)\n",
    "print()\n",
    "\n",
    "# 请将数学按升序进行排列\n",
    "df1 = \n",
    "print(df1)\n",
    "print()\n",
    "\n",
    "# 请对 df1 中的每个元素加 5 分\n",
    "df2 = \n",
    "print(df2)\n",
    "print()\n",
    "\n",
    "# 请对 df 的概括统计量中的 “mean”、“max”、“min” 进行输出\n",
    "print()\n"
   ]
  },
  {
   "cell_type": "markdown",
   "metadata": {},
   "source": [
    "**程序清单9.27：习题**"
   ]
  },
  {
   "cell_type": "code",
   "execution_count": 13,
   "metadata": {},
   "outputs": [
    {
     "name": "stdout",
     "output_type": "stream",
     "text": [
      "       语文  数学  社会  理科  英语  体育\n",
      "taro   30  45  12  45  87  56\n",
      "mike   65  47  83  17  58  43\n",
      "kana   64  63  86  57  46  73\n",
      "jun    38  47  62  91  63  82\n",
      "sachi  65  36  85  94  36  62\n",
      "\n",
      "       语文  数学  社会  理科  英语  体育\n",
      "sachi  65  36  85  94  36  62\n",
      "taro   30  45  12  45  87  56\n",
      "mike   65  47  83  17  58  43\n",
      "jun    38  47  62  91  63  82\n",
      "kana   64  63  86  57  46  73\n",
      "\n",
      "       语文  数学  社会  理科  英语  体育\n",
      "sachi  70  41  90  99  41  67\n",
      "taro   35  50  17  50  92  61\n",
      "mike   70  52  88  22  63  48\n",
      "jun    43  52  67  96  68  87\n",
      "kana   69  68  91  62  51  78\n",
      "\n",
      "        语文    数学    社会    理科    英语    体育\n",
      "mean  57.4  52.6  70.6  65.8  63.0  68.2\n",
      "max   70.0  68.0  91.0  99.0  92.0  87.0\n",
      "min   35.0  41.0  17.0  22.0  41.0  48.0\n"
     ]
    }
   ],
   "source": [
    "import pandas as pd\n",
    "\n",
    "index = [\"taro\", \"mike\", \"kana\", \"jun\", \"sachi\"]\n",
    "columns = [\"语文\", \"数学\", \"社会\", \"理科\", \"英语\"]\n",
    "data = [[30, 45, 12, 45, 87], [65, 47, 83, 17, 58], [64, 63, 86, 57, 46, ], [38, 47, 62, 91, 63], [65, 36, 85, 94, 36]]\n",
    "df = pd.DataFrame(data, index=index, columns=columns)\n",
    "\n",
    "# 请向 df 中新的列 “体育” 中添加 pe_column 的数据\n",
    "pe_column = pd.Series([56, 43, 73, 82, 62],  index=[\"taro\", \"mike\", \"kana\", \"jun\", \"sachi\"])\n",
    "df[\"体育\"] = pe_column\n",
    "print(df)\n",
    "print()\n",
    "\n",
    "# 请将数学按升序进行排列\n",
    "df1 = df.sort_values(by=\"数学\",  ascending=True)\n",
    "print(df1)\n",
    "print()\n",
    "\n",
    "# 请对 df1 中的每个元素加 5 分\n",
    "df2 = df1 + 5\n",
    "print(df2)\n",
    "print()\n",
    "\n",
    "# 请对 df 的概括统计量中的 “mean”、“max”、“min” 进行输出\n",
    "print(df2.describe().loc[[\"mean\",  \"max\",  \"min\"]])"
   ]
  },
  {
   "cell_type": "markdown",
   "metadata": {},
   "source": [
    "**程序清单9.28：参考答案**"
   ]
  }
 ],
 "metadata": {
  "anaconda-cloud": {},
  "celltoolbar": "Edit Metadata",
  "kernelspec": {
   "display_name": "Python 3",
   "language": "python",
   "name": "python3"
  },
  "language_info": {
   "codemirror_mode": {
    "name": "ipython",
    "version": 3
   },
   "file_extension": ".py",
   "mimetype": "text/x-python",
   "name": "python",
   "nbconvert_exporter": "python",
   "pygments_lexer": "ipython3",
   "version": "3.6.6"
  },
  "varInspector": {
   "cols": {
    "lenName": 16,
    "lenType": 16,
    "lenVar": 40
   },
   "kernels_config": {
    "python": {
     "delete_cmd_postfix": "",
     "delete_cmd_prefix": "del ",
     "library": "var_list.py",
     "varRefreshCmd": "print(var_dic_list())"
    },
    "r": {
     "delete_cmd_postfix": ") ",
     "delete_cmd_prefix": "rm(",
     "library": "var_list.r",
     "varRefreshCmd": "cat(var_dic_list()) "
    }
   },
   "types_to_exclude": [
    "module",
    "function",
    "builtin_function_or_method",
    "instance",
    "_Feature"
   ],
   "window_display": false
  }
 },
 "nbformat": 4,
 "nbformat_minor": 2
}
