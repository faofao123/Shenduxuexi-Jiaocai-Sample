{
 "cells": [
  {
   "cell_type": "markdown",
   "metadata": {
    "chapterId": "ByNLu0mZx-z",
    "id": "chapter_name"
   },
   "source": [
    "#  Chapter20 深度学习的参数调校"
   ]
  },
  {
   "cell_type": "markdown",
   "metadata": {
    "id": "table"
   },
   "source": [
    "- **20.1 超参数**\n",
    "    - **20.1.1 超参数**\n",
    "<br><br>\n",
    "- **20.2 网络结构**\n",
    "    - **20.2.1 网络结构**\n",
    "<br><br>\n",
    "- **20.3 Dropout**\n",
    "    - **20.3.1 Dropout**\n",
    "<br><br>\n",
    "- **20.4 激励函数**\n",
    "    - **20.4.1 激励函数的作用**\n",
    "    - **20.4.2 sigmoid 函数**\n",
    "    - **20.4.3 ReLU 函数**\n",
    "<br><br>\n",
    "- **20.5 损失函数**\n",
    "    - **20.5.1 损失函数的种类**\n",
    "    - **20.5.2 平方误差**\n",
    "    - **20.5.3 交叉熵误差**\n",
    "<br><br>\n",
    "- **20.6 最优化函数**\n",
    "    - **20.6.1 最优化函数**\n",
    "<br><br>\n",
    "- **20.7 学习率**\n",
    "    - **20.7.1 学习率**\n",
    "<br><br>\n",
    "- **20.8 小批次学习**\n",
    "    - **20.8.1 小批次学习**\n",
    "<br><br>\n",
    "- **20.9 反复学习**\n",
    "    - **20.9.1 反复学习**\n",
    "<br><br>\n",
    "- **20.10 附加习题**"
   ]
  },
  {
   "cell_type": "markdown",
   "metadata": {
    "id": "section_name",
    "sectionId": "SyH8uRXZebf"
   },
   "source": [
    "## ●20.1 超参数"
   ]
  },
  {
   "cell_type": "markdown",
   "metadata": {
    "courseId": 5090,
    "exerciseId": "Syd8938sUlf",
    "id": "quiz_session_name",
    "important": true,
    "isDL": false,
    "timeoutSecs": 10
   },
   "source": [
    "### 〇20.1.1 超参数"
   ]
  },
  {
   "cell_type": "code",
   "execution_count": null,
   "metadata": {
    "id": "description"
   },
   "outputs": [],
   "source": [
    "import numpy as np\n",
    "import matplotlib.pyplot as plt\n",
    "from keras.datasets import mnist\n",
    "from keras.layers import Activation, Dense, Dropout\n",
    "from keras.models import Sequential, load_model\n",
    "from keras import optimizers\n",
    "from keras.utils.np_utils import to_categorical\n",
    "\n",
    "(X_train, y_train), (X_test, y_test) = mnist.load_data()\n",
    "\n",
    "X_train = X_train.reshape(X_train.shape[0], 784)[:6000]\n",
    "X_test = X_test.reshape(X_test.shape[0], 784)[:1000]\n",
    "y_train = to_categorical(y_train)[:6000]\n",
    "y_test = to_categorical(y_test)[:1000]\n",
    "\n",
    "model = Sequential()\n",
    "model.add(Dense(256, input_dim=784))\n",
    "# 超参数 ：激励函数\n",
    "model.add(Activation(\"sigmoid\"))\n",
    "# 超参数 ：隐藏层的数量，隐藏层的通道数\n",
    "model.add(Dense(128))\n",
    "model.add(Activation(\"sigmoid\"))\n",
    "# 超参数 ：Dropout 的比例\n",
    "model.add(Dropout(rate=0.5))\n",
    "model.add(Dense(10))\n",
    "model.add(Activation(\"softmax\"))\n",
    "\n",
    "# 超参数 ：学习率（lr)\n",
    "sgd = optimizers.SGD(lr=0.01)\n",
    "\n",
    "# 超参数 ：最优化函数（optimizer）\n",
    "# 超参数 ：损失函数（loss）\n",
    "model.compile(optimizer=sgd, loss=\"categorical_crossentropy\", metrics=[\"accuracy\"])\n",
    "\n",
    "# 超参数 ：批次尺寸（batch_size）\n",
    "# 超参数 ：epochs 数（epochs）\n",
    "model.fit(X_train, y_train, batch_size=32, epochs=10, verbose=1)\n",
    "\n",
    "score = model.evaluate(X_test, y_test, verbose=0)\n",
    "print(\"evaluate loss: {0[0]}\\nevaluate acc: {0[1]}\".format(score))"
   ]
  },
  {
   "cell_type": "markdown",
   "metadata": {},
   "source": [
    "**程序清单20.1：超参数的示例**"
   ]
  },
  {
   "cell_type": "markdown",
   "metadata": {
    "id": "section_name",
    "sectionId": "rkIIOA7bgWz"
   },
   "source": [
    "## ●20.2 网络结构"
   ]
  },
  {
   "cell_type": "markdown",
   "metadata": {
    "courseId": 5090,
    "exerciseId": "BkKUqhIoUgz",
    "id": "code_session_name",
    "important": true,
    "isDL": false,
    "timeoutSecs": 30
   },
   "source": [
    "### 〇20.2.1 网络结构 "
   ]
  },
  {
   "cell_type": "markdown",
   "metadata": {},
   "source": [
    "#### □习题"
   ]
  },
  {
   "cell_type": "code",
   "execution_count": null,
   "metadata": {
    "collapsed": true,
    "id": "index",
    "scrolled": false
   },
   "outputs": [],
   "source": [
    "import numpy as np\n",
    "import matplotlib.pyplot as plt\n",
    "from keras.datasets import mnist\n",
    "from keras.layers import Activation, Dense, Dropout\n",
    "from keras.models import Sequential, load_model\n",
    "from keras import optimizers\n",
    "from keras.utils.np_utils import to_categorical\n",
    "\n",
    "(X_train, y_train), (X_test, y_test) = mnist.load_data()\n",
    "\n",
    "X_train = X_train.reshape(X_train.shape[0], 784)[:6000]\n",
    "X_test = X_test.reshape(X_test.shape[0], 784)[:1000]\n",
    "y_train = to_categorical(y_train)[:6000]\n",
    "y_test = to_categorical(y_test)[:1000]\n",
    "\n",
    "model = Sequential()\n",
    "model.add(Dense(256, input_dim=784))\n",
    "model.add(Activation(\"sigmoid\"))\n",
    "\n",
    "def funcA():\n",
    "    model.add(Dense(128))\n",
    "    model.add(Activation(\"sigmoid\"))\n",
    "\n",
    "def funcB():\n",
    "    model.add(Dense(128))\n",
    "    model.add(Activation(\"sigmoid\"))\n",
    "    model.add(Dense(128))\n",
    "    model.add(Activation(\"sigmoid\"))\n",
    "    model.add(Dense(128))\n",
    "    model.add(Activation(\"sigmoid\"))\n",
    "\n",
    "def funcC():\n",
    "    model.add(Dense(1568))\n",
    "    model.add(Activation(\"sigmoid\"))\n",
    "\n",
    "# 请注释掉其中的两行\n",
    "# ---------------------------\n",
    "funcA()\n",
    "funcB()\n",
    "funcC()\n",
    "# ---------------------------\n",
    "\n",
    "model.add(Dropout(rate=0.5))\n",
    "model.add(Dense(10))\n",
    "model.add(Activation(\"softmax\"))\n",
    "\n",
    "sgd = optimizers.SGD(lr=0.1)\n",
    "\n",
    "model.compile(optimizer=sgd, loss=\"categorical_crossentropy\", metrics=[\"accuracy\"])\n",
    "\n",
    "model.fit(X_train, y_train, batch_size=32, epochs=3, verbose=1)\n",
    "\n",
    "score = model.evaluate(X_test, y_test, verbose=0)\n",
    "print(\"evaluate loss: {0[0]}\\nevaluate acc: {0[1]}\".format(score))"
   ]
  },
  {
   "cell_type": "markdown",
   "metadata": {},
   "source": [
    "**程序清单20.2：习题**"
   ]
  },
  {
   "cell_type": "markdown",
   "metadata": {},
   "source": [
    "#### □参考答案"
   ]
  },
  {
   "cell_type": "code",
   "execution_count": 1,
   "metadata": {
    "id": "answer",
    "scrolled": false
   },
   "outputs": [
    {
     "name": "stderr",
     "output_type": "stream",
     "text": [
      "Using TensorFlow backend.\n"
     ]
    },
    {
     "name": "stdout",
     "output_type": "stream",
     "text": [
      "Epoch 1/3\n",
      "6000/6000 [==============================] - 1s 143us/step - loss: 1.7670 - acc: 0.4120\n",
      "Epoch 2/3\n",
      "6000/6000 [==============================] - 1s 125us/step - loss: 1.0583 - acc: 0.6577\n",
      "Epoch 3/3\n",
      "6000/6000 [==============================] - 1s 136us/step - loss: 0.8907 - acc: 0.7157\n",
      "evaluate loss: 0.7422365880012513\n",
      "evaluate acc: 0.782\n"
     ]
    }
   ],
   "source": [
    "import numpy as np\n",
    "import matplotlib.pyplot as plt\n",
    "from keras.datasets import mnist\n",
    "from keras.layers import Activation, Dense, Dropout\n",
    "from keras.models import Sequential, load_model\n",
    "from keras import optimizers\n",
    "from keras.utils.np_utils import to_categorical\n",
    "\n",
    "(X_train, y_train), (X_test, y_test) = mnist.load_data()\n",
    "\n",
    "X_train = X_train.reshape(X_train.shape[0], 784)[:6000]\n",
    "X_test = X_test.reshape(X_test.shape[0], 784)[:1000]\n",
    "y_train = to_categorical(y_train)[:6000]\n",
    "y_test = to_categorical(y_test)[:1000]\n",
    "\n",
    "model = Sequential()\n",
    "model.add(Dense(256, input_dim=784))\n",
    "model.add(Activation(\"sigmoid\"))\n",
    "\n",
    "def funcA():\n",
    "    model.add(Dense(128))\n",
    "    model.add(Activation(\"sigmoid\"))\n",
    "\n",
    "def funcB():\n",
    "    model.add(Dense(128))\n",
    "    model.add(Activation(\"sigmoid\"))\n",
    "    model.add(Dense(128))\n",
    "    model.add(Activation(\"sigmoid\"))\n",
    "    model.add(Dense(128))\n",
    "    model.add(Activation(\"sigmoid\"))\n",
    "\n",
    "def funcC():\n",
    "    model.add(Dense(1568))\n",
    "    model.add(Activation(\"sigmoid\"))\n",
    "\n",
    "# 请注释掉其中的两行\n",
    "#---------------------------\n",
    "funcA()\n",
    "#funcB()\n",
    "#funcC()\n",
    "#---------------------------\n",
    "\n",
    "model.add(Dropout(rate=0.5))\n",
    "model.add(Dense(10))\n",
    "model.add(Activation(\"softmax\"))\n",
    "\n",
    "sgd = optimizers.SGD(lr=0.1)\n",
    "\n",
    "model.compile(optimizer=sgd, loss=\"categorical_crossentropy\", metrics=[\"accuracy\"])\n",
    "\n",
    "model.fit(X_train, y_train, batch_size=32, epochs=3, verbose=1)\n",
    "\n",
    "score = model.evaluate(X_test, y_test, verbose=0)\n",
    "print(\"evaluate loss: {0[0]}\\nevaluate acc: {0[1]}\".format(score))"
   ]
  },
  {
   "cell_type": "markdown",
   "metadata": {},
   "source": [
    "**程序清单20.3：参考答案**"
   ]
  },
  {
   "cell_type": "markdown",
   "metadata": {
    "id": "section_name",
    "sectionId": "BkPIOAXZebG"
   },
   "source": [
    "## ●20.3 Dropout"
   ]
  },
  {
   "cell_type": "markdown",
   "metadata": {
    "courseId": 5090,
    "exerciseId": "HJqI92UsIgG",
    "id": "code_session_name",
    "important": true,
    "isDL": false,
    "timeoutSecs": 30
   },
   "source": [
    "### 〇20.3.1 Dropout"
   ]
  },
  {
   "cell_type": "markdown",
   "metadata": {},
   "source": [
    "#### □习题"
   ]
  },
  {
   "cell_type": "code",
   "execution_count": null,
   "metadata": {
    "collapsed": true,
    "id": "index"
   },
   "outputs": [],
   "source": [
    "import numpy as np\n",
    "import matplotlib.pyplot as plt\n",
    "from keras.datasets import mnist\n",
    "from keras.layers import Activation, Dense, Dropout\n",
    "from keras.models import Sequential, load_model\n",
    "from keras import optimizers\n",
    "from keras.utils.np_utils import to_categorical\n",
    "\n",
    "(X_train, y_train), (X_test, y_test) = mnist.load_data()\n",
    "\n",
    "X_train = X_train.reshape(X_train.shape[0], 784)[:6000]\n",
    "X_test = X_test.reshape(X_test.shape[0], 784)[:1000]\n",
    "y_train = to_categorical(y_train)[:6000]\n",
    "y_test = to_categorical(y_test)[:1000]\n",
    "\n",
    "model = Sequential()\n",
    "model.add(Dense(256, input_dim=784))\n",
    "model.add(Activation(\"sigmoid\"))\n",
    "model.add(Dense(128))\n",
    "model.add(Activation(\"sigmoid\"))\n",
    "\n",
    "# ---------------------------\n",
    "# 请在此处输入代码\n",
    "# ---------------------------\n",
    "\n",
    "model.add(Dense(10))\n",
    "model.add(Activation(\"softmax\"))\n",
    "\n",
    "sgd = optimizers.SGD(lr=0.1)\n",
    "\n",
    "model.compile(optimizer=sgd, loss=\"categorical_crossentropy\", metrics=[\"accuracy\"])\n",
    "\n",
    "history = model.fit(X_train, y_train, batch_size=32, epochs=5, verbose=1, validation_data=(X_test, y_test))\n",
    "\n",
    "#acc、val_accのプロット\n",
    "plt.plot(history.history[\"acc\"], label=\"acc\", ls=\"-\", marker=\"o\")\n",
    "plt.plot(history.history[\"val_acc\"], label=\"val_acc\", ls=\"-\", marker=\"x\")\n",
    "plt.ylabel(\"accuracy\")\n",
    "plt.xlabel(\"epoch\")\n",
    "plt.legend(loc=\"best\")\n",
    "plt.show()"
   ]
  },
  {
   "cell_type": "markdown",
   "metadata": {},
   "source": [
    "**程序清单20.4：习题**"
   ]
  },
  {
   "cell_type": "markdown",
   "metadata": {},
   "source": [
    "#### □参考答案"
   ]
  },
  {
   "cell_type": "code",
   "execution_count": 3,
   "metadata": {
    "id": "answer"
   },
   "outputs": [
    {
     "name": "stdout",
     "output_type": "stream",
     "text": [
      "Train on 6000 samples, validate on 1000 samples\n",
      "Epoch 1/5\n",
      "6000/6000 [==============================] - 1s 186us/step - loss: 1.7093 - acc: 0.4225 - val_loss: 1.0756 - val_acc: 0.7270\n",
      "Epoch 2/5\n",
      "6000/6000 [==============================] - 1s 108us/step - loss: 1.0370 - acc: 0.6692 - val_loss: 0.8398 - val_acc: 0.7610\n",
      "Epoch 3/5\n",
      "6000/6000 [==============================] - 1s 108us/step - loss: 0.8752 - acc: 0.7247 - val_loss: 0.7204 - val_acc: 0.8060\n",
      "Epoch 4/5\n",
      "6000/6000 [==============================] - 1s 109us/step - loss: 0.8071 - acc: 0.7425 - val_loss: 0.7205 - val_acc: 0.7860\n",
      "Epoch 5/5\n",
      "6000/6000 [==============================] - 1s 111us/step - loss: 0.7462 - acc: 0.7618 - val_loss: 0.6435 - val_acc: 0.8310\n"
     ]
    },
    {
     "data": {
      "image/png": "[encoded data removed]",
      "text/plain": [
       "<Figure size 432x288 with 1 Axes>"
      ]
     },
     "metadata": {
      "needs_background": "light"
     },
     "output_type": "display_data"
    }
   ],
   "source": [
    "import numpy as np\n",
    "import matplotlib.pyplot as plt\n",
    "from keras.datasets import mnist\n",
    "from keras.layers import Activation, Dense, Dropout\n",
    "from keras.models import Sequential, load_model\n",
    "from keras import optimizers\n",
    "from keras.utils.np_utils import to_categorical\n",
    "\n",
    "(X_train, y_train), (X_test, y_test) = mnist.load_data()\n",
    "\n",
    "X_train = X_train.reshape(X_train.shape[0], 784)[:6000]\n",
    "X_test = X_test.reshape(X_test.shape[0], 784)[:1000]\n",
    "y_train = to_categorical(y_train)[:6000]\n",
    "y_test = to_categorical(y_test)[:1000]\n",
    "\n",
    "model = Sequential()\n",
    "model.add(Dense(256, input_dim=784))\n",
    "model.add(Activation(\"sigmoid\"))\n",
    "model.add(Dense(128))\n",
    "model.add(Activation(\"sigmoid\"))\n",
    "# ---------------------------\n",
    "# 请在此处输入代码\n",
    "model.add(Dropout(rate=0.5))\n",
    "# ---------------------------\n",
    "model.add(Dense(10))\n",
    "model.add(Activation(\"softmax\"))\n",
    "\n",
    "sgd = optimizers.SGD(lr=0.1)\n",
    "\n",
    "model.compile(optimizer=sgd, loss=\"categorical_crossentropy\", metrics=[\"accuracy\"])\n",
    "\n",
    "history = model.fit(X_train, y_train, batch_size=32, epochs=5, verbose=1, validation_data=(X_test, y_test))\n",
    "\n",
    "# acc、 val_acc 的绘制\n",
    "plt.plot(history.history[\"acc\"], label=\"acc\", ls=\"-\", marker=\"o\")\n",
    "plt.plot(history.history[\"val_acc\"], label=\"val_acc\", ls=\"-\", marker=\"x\")\n",
    "plt.ylabel(\"accuracy\")\n",
    "plt.xlabel(\"epoch\")\n",
    "plt.legend(loc=\"best\")\n",
    "plt.show()"
   ]
  },
  {
   "cell_type": "markdown",
   "metadata": {},
   "source": [
    "**程序清单20.5：参考答案（输出结果可能和实际界面有所不同）**"
   ]
  },
  {
   "cell_type": "markdown",
   "metadata": {
    "id": "section_name",
    "sectionId": "BJuLO0QbgZG"
   },
   "source": [
    "## ●20.4 激励函数"
   ]
  },
  {
   "cell_type": "markdown",
   "metadata": {
    "courseId": 5090,
    "exerciseId": "SJo89hLjLgf",
    "id": "quiz_session_name",
    "important": true,
    "isDL": false,
    "timeoutSecs": 10
   },
   "source": [
    "### 〇20.4.1 激励函数的作用"
   ]
  },
  {
   "cell_type": "markdown",
   "metadata": {},
   "source": [
    "本节没有示例文件"
   ]
  },
  {
   "cell_type": "markdown",
   "metadata": {
    "courseId": 5090,
    "exerciseId": "By2Ucn8jIlf",
    "id": "quiz_session_name",
    "important": true,
    "isDL": false,
    "timeoutSecs": 10
   },
   "source": [
    "### 〇20.4.2 sigmoid 函数"
   ]
  },
  {
   "cell_type": "markdown",
   "metadata": {},
   "source": [
    "本节没有示例文件"
   ]
  },
  {
   "cell_type": "markdown",
   "metadata": {
    "courseId": 5090,
    "exerciseId": "BkpIqhLjUgf",
    "id": "quiz_session_name",
    "important": true,
    "isDL": false,
    "timeoutSecs": 10
   },
   "source": [
    "### 〇20.4.3 ReLU 函数"
   ]
  },
  {
   "cell_type": "markdown",
   "metadata": {},
   "source": [
    "本节没有示例文件"
   ]
  },
  {
   "cell_type": "markdown",
   "metadata": {
    "id": "section_name",
    "sectionId": "rktIOCX-gZz"
   },
   "source": [
    "## ●20.5 损失函数"
   ]
  },
  {
   "cell_type": "markdown",
   "metadata": {
    "courseId": 5090,
    "exerciseId": "S1A85hIsIxz",
    "id": "quiz_session_name",
    "important": true,
    "isDL": false,
    "timeoutSecs": 10
   },
   "source": [
    "### 〇20.5.1 损失函数的种类"
   ]
  },
  {
   "cell_type": "markdown",
   "metadata": {},
   "source": [
    "本节没有示例文件"
   ]
  },
  {
   "cell_type": "markdown",
   "metadata": {
    "courseId": 5090,
    "exerciseId": "BJJvch8iIlG",
    "id": "quiz_session_name",
    "important": true,
    "isDL": false,
    "timeoutSecs": 10
   },
   "source": [
    "### 〇20.5.2 平方误差"
   ]
  },
  {
   "cell_type": "markdown",
   "metadata": {},
   "source": [
    "本节没有示例文件"
   ]
  },
  {
   "cell_type": "markdown",
   "metadata": {
    "courseId": 5090,
    "exerciseId": "rygv9n8i8xf",
    "id": "quiz_session_name",
    "important": true,
    "isDL": false,
    "timeoutSecs": 30
   },
   "source": [
    "### 〇20.5.3 交叉熵误差"
   ]
  },
  {
   "cell_type": "markdown",
   "metadata": {},
   "source": [
    "本节没有示例文件"
   ]
  },
  {
   "cell_type": "markdown",
   "metadata": {
    "id": "section_name",
    "sectionId": "rJ5LOAXWgbf"
   },
   "source": [
    "## ●20.6 最优化函数"
   ]
  },
  {
   "cell_type": "markdown",
   "metadata": {
    "courseId": 5090,
    "exerciseId": "rJWv53IsUlG",
    "id": "quiz_session_name",
    "important": true,
    "isDL": false,
    "timeoutSecs": 30
   },
   "source": [
    "### 〇20.6.1 最优化函数"
   ]
  },
  {
   "cell_type": "markdown",
   "metadata": {},
   "source": [
    "本节没有示例文件"
   ]
  },
  {
   "cell_type": "markdown",
   "metadata": {
    "id": "section_name",
    "sectionId": "S1sUOCX-l-M"
   },
   "source": [
    "## ●20.7 学习率"
   ]
  },
  {
   "cell_type": "markdown",
   "metadata": {
    "courseId": 5090,
    "exerciseId": "HkMP93IoLlM",
    "id": "code_session_name",
    "important": true,
    "isDL": false,
    "timeoutSecs": 30
   },
   "source": [
    "### ○20.7.1 学习率"
   ]
  },
  {
   "cell_type": "markdown",
   "metadata": {},
   "source": [
    "**习题**"
   ]
  },
  {
   "cell_type": "code",
   "execution_count": null,
   "metadata": {
    "collapsed": true,
    "id": "index"
   },
   "outputs": [],
   "source": [
    "import numpy as np\n",
    "import matplotlib.pyplot as plt\n",
    "from keras.datasets import mnist\n",
    "from keras.layers import Activation, Dense, Dropout\n",
    "from keras.models import Sequential, load_model\n",
    "from keras import optimizers\n",
    "from keras.utils.np_utils import to_categorical\n",
    "\n",
    "(X_train, y_train), (X_test, y_test) = mnist.load_data()\n",
    "\n",
    "X_train = X_train.reshape(X_train.shape[0], 784)[:6000]\n",
    "X_test = X_test.reshape(X_test.shape[0], 784)[:1000]\n",
    "y_train = to_categorical(y_train)[:6000]\n",
    "y_test = to_categorical(y_test)[:1000]\n",
    "\n",
    "model = Sequential()\n",
    "model.add(Dense(256, input_dim=784))\n",
    "model.add(Activation(\"sigmoid\"))\n",
    "model.add(Dense(128))\n",
    "model.add(Activation(\"sigmoid\"))\n",
    "model.add(Dropout(rate=0.5))\n",
    "model.add(Dense(10))\n",
    "model.add(Activation(\"softmax\"))\n",
    "\n",
    "\n",
    "def funcA():\n",
    "    global lr\n",
    "    lr = 0.01\n",
    "\n",
    "def funcB():\n",
    "    global lr\n",
    "    lr = 0.1\n",
    "\n",
    "def funcC():\n",
    "    global lr\n",
    "    lr = 1.0\n",
    "\n",
    "# 请注释掉其中的两行，确定学习率的大小\n",
    "# ---------------------------\n",
    "funcA()\n",
    "funcB()\n",
    "funcC()\n",
    "# ---------------------------\n",
    "\n",
    "sgd = optimizers.SGD(lr=lr)\n",
    "\n",
    "model.compile(optimizer=sgd, loss=\"categorical_crossentropy\", metrics=[\"accuracy\"])\n",
    "\n",
    "model.fit(X_train, y_train, batch_size=32, epochs=3, verbose=1)\n",
    "\n",
    "score = model.evaluate(X_test, y_test, verbose=0)\n",
    "print(\"evaluate loss: {0[0]}\\nevaluate acc: {0[1]}\".format(score))"
   ]
  },
  {
   "cell_type": "markdown",
   "metadata": {},
   "source": [
    "**程序清单20.6：习题**"
   ]
  },
  {
   "cell_type": "markdown",
   "metadata": {},
   "source": [
    "#### □参考答案"
   ]
  },
  {
   "cell_type": "code",
   "execution_count": 4,
   "metadata": {
    "id": "answer"
   },
   "outputs": [
    {
     "name": "stdout",
     "output_type": "stream",
     "text": [
      "Epoch 1/3\n",
      "6000/6000 [==============================] - 1s 188us/step - loss: 1.7546 - acc: 0.4112\n",
      "Epoch 2/3\n",
      "6000/6000 [==============================] - 1s 126us/step - loss: 1.0164 - acc: 0.6782\n",
      "Epoch 3/3\n",
      "6000/6000 [==============================] - 1s 128us/step - loss: 0.8506 - acc: 0.7350\n",
      "evaluate loss: 0.7203813996315003\n",
      "evaluate acc: 0.807\n"
     ]
    }
   ],
   "source": [
    "import numpy as np\n",
    "import matplotlib.pyplot as plt\n",
    "from keras.datasets import mnist\n",
    "from keras.layers import Activation, Dense, Dropout\n",
    "from keras.models import Sequential, load_model\n",
    "from keras import optimizers\n",
    "from keras.utils.np_utils import to_categorical\n",
    "\n",
    "(X_train, y_train), (X_test, y_test) = mnist.load_data()\n",
    "\n",
    "X_train = X_train.reshape(X_train.shape[0], 784)[:6000]\n",
    "X_test = X_test.reshape(X_test.shape[0], 784)[:1000]\n",
    "y_train = to_categorical(y_train)[:6000]\n",
    "y_test = to_categorical(y_test)[:1000]\n",
    "\n",
    "model = Sequential()\n",
    "model.add(Dense(256, input_dim=784))\n",
    "model.add(Activation(\"sigmoid\"))\n",
    "model.add(Dense(128))\n",
    "model.add(Activation(\"sigmoid\"))\n",
    "model.add(Dropout(rate=0.5))\n",
    "model.add(Dense(10))\n",
    "model.add(Activation(\"softmax\"))\n",
    "\n",
    "\n",
    "def funcA():\n",
    "    global lr\n",
    "    lr = 0.01\n",
    "\n",
    "def funcB():\n",
    "    global lr\n",
    "    lr = 0.1\n",
    "\n",
    "def funcC():\n",
    "    global lr\n",
    "    lr = 1.0\n",
    "\n",
    "# 请注释掉其中的两行，确定学习率的大小\n",
    "# ---------------------------\n",
    "# funcA()\n",
    "funcB()\n",
    "# funcC()\n",
    "# ---------------------------\n",
    "\n",
    "sgd = optimizers.SGD(lr=lr)\n",
    "\n",
    "model.compile(optimizer=sgd, loss=\"categorical_crossentropy\", metrics=[\"accuracy\"])\n",
    "\n",
    "model.fit(X_train, y_train, batch_size=32, epochs=3, verbose=1)\n",
    "\n",
    "score = model.evaluate(X_test, y_test, verbose=0)\n",
    "print(\"evaluate loss: {0[0]}\\nevaluate acc: {0[1]}\".format(score))"
   ]
  },
  {
   "cell_type": "markdown",
   "metadata": {},
   "source": [
    "**程序清单20.7：参考答案（输出结果可能和实际界面有所不同）**"
   ]
  },
  {
   "cell_type": "markdown",
   "metadata": {
    "id": "section_name",
    "sectionId": "B13IdRmWgZM"
   },
   "source": [
    "## ●20.8 小批次学习"
   ]
  },
  {
   "cell_type": "markdown",
   "metadata": {
    "courseId": 5090,
    "exerciseId": "BkXPcnIoLxz",
    "id": "code_session_name",
    "important": true,
    "isDL": false,
    "timeoutSecs": 30
   },
   "source": [
    "### ○20.8.1 小批次学习"
   ]
  },
  {
   "cell_type": "markdown",
   "metadata": {},
   "source": [
    "#### □习题"
   ]
  },
  {
   "cell_type": "code",
   "execution_count": null,
   "metadata": {
    "collapsed": true,
    "id": "index"
   },
   "outputs": [],
   "source": [
    "import numpy as np\n",
    "import matplotlib.pyplot as plt\n",
    "from keras.datasets import mnist\n",
    "from keras.layers import Activation, Dense, Dropout\n",
    "from keras.models import Sequential, load_model\n",
    "from keras import optimizers\n",
    "from keras.utils.np_utils import to_categorical\n",
    "\n",
    "(X_train, y_train), (X_test, y_test) = mnist.load_data()\n",
    "\n",
    "X_train = X_train.reshape(X_train.shape[0], 784)[:6000]\n",
    "X_test = X_test.reshape(X_test.shape[0], 784)[:1000]\n",
    "y_train = to_categorical(y_train)[:6000]\n",
    "y_test = to_categorical(y_test)[:1000]\n",
    "\n",
    "model = Sequential()\n",
    "model.add(Dense(256, input_dim=784))\n",
    "model.add(Activation(\"sigmoid\"))\n",
    "model.add(Dense(128))\n",
    "model.add(Activation(\"sigmoid\"))\n",
    "model.add(Dropout(rate=0.5))\n",
    "model.add(Dense(10))\n",
    "model.add(Activation(\"softmax\"))\n",
    "\n",
    "sgd = optimizers.SGD(lr=0.1)\n",
    "\n",
    "model.compile(optimizer=sgd, loss=\"categorical_crossentropy\", metrics=[\"accuracy\"])\n",
    "\n",
    "def funcA():\n",
    "    global batch_size\n",
    "    batch_size = 16\n",
    "\n",
    "def funcB():\n",
    "    global batch_size\n",
    "    batch_size = 32\n",
    "\n",
    "def funcC():\n",
    "    global batch_size\n",
    "    batch_size = 64\n",
    "\n",
    "# 请注释掉其中的两行，确定 batch_size 的大小\n",
    "# ---------------------------\n",
    "# batch_size: 16\n",
    "funcA()\n",
    "# batch_size: 32\n",
    "funcB()\n",
    "# batch_size: 64\n",
    "funcC()\n",
    "# ---------------------------\n",
    "\n",
    "model.fit(X_train, y_train, batch_size=batch_size, epochs=3, verbose=1)\n",
    "\n",
    "score = model.evaluate(X_test, y_test, verbose=0)\n",
    "print(\"evaluate loss: {0[0]}\\nevaluate acc: {0[1]}\".format(score))"
   ]
  },
  {
   "cell_type": "markdown",
   "metadata": {},
   "source": [
    "**程序清单20.8：习题**"
   ]
  },
  {
   "cell_type": "markdown",
   "metadata": {},
   "source": [
    "#### □参考答案"
   ]
  },
  {
   "cell_type": "code",
   "execution_count": 6,
   "metadata": {
    "id": "answer"
   },
   "outputs": [
    {
     "name": "stdout",
     "output_type": "stream",
     "text": [
      "Epoch 1/3\n",
      "6000/6000 [==============================] - 1s 147us/step - loss: 1.8868 - acc: 0.3663\n",
      "Epoch 2/3\n",
      "6000/6000 [==============================] - 1s 96us/step - loss: 1.1446 - acc: 0.6557\n",
      "Epoch 3/3\n",
      "6000/6000 [==============================] - 1s 83us/step - loss: 0.8448 - acc: 0.7617\n",
      "evaluate loss: 0.6808103404045105\n",
      "evaluate acc: 0.829\n"
     ]
    }
   ],
   "source": [
    "import numpy as np\n",
    "import matplotlib.pyplot as plt\n",
    "from keras.datasets import mnist\n",
    "from keras.layers import Activation, Dense, Dropout\n",
    "from keras.models import Sequential, load_model\n",
    "from keras import optimizers\n",
    "from keras.utils.np_utils import to_categorical\n",
    "\n",
    "(X_train, y_train), (X_test, y_test) = mnist.load_data()\n",
    "\n",
    "X_train = X_train.reshape(X_train.shape[0], 784)[:6000]\n",
    "X_test = X_test.reshape(X_test.shape[0], 784)[:1000]\n",
    "y_train = to_categorical(y_train)[:6000]\n",
    "y_test = to_categorical(y_test)[:1000]\n",
    "\n",
    "model = Sequential()\n",
    "model.add(Dense(256, input_dim=784))\n",
    "model.add(Activation(\"sigmoid\"))\n",
    "model.add(Dense(128))\n",
    "model.add(Activation(\"sigmoid\"))\n",
    "model.add(Dropout(rate=0.5))\n",
    "model.add(Dense(10))\n",
    "model.add(Activation(\"softmax\"))\n",
    "\n",
    "sgd = optimizers.SGD(lr=0.1)\n",
    "\n",
    "model.compile(optimizer=sgd, loss=\"categorical_crossentropy\", metrics=[\"accuracy\"])\n",
    "\n",
    "def funcA():\n",
    "    global batch_size\n",
    "    batch_size = 16\n",
    "\n",
    "def funcB():\n",
    "    global batch_size\n",
    "    batch_size = 32\n",
    "\n",
    "def funcC():\n",
    "    global batch_size\n",
    "    batch_size = 64\n",
    "\n",
    "# 请注释掉其中的两行，确定 batch_size 的大小\n",
    "# ---------------------------\n",
    "# batch_size: 16\n",
    "# funcA()import numpy as np\n",
    "import matplotlib.pyplot as plt\n",
    "from keras.datasets import mnist\n",
    "from keras.layers import Activation, Dense, Dropout\n",
    "from keras.models import Sequential, load_model\n",
    "from keras import optimizers\n",
    "from keras.utils.np_utils import to_categorical\n",
    "\n",
    "(X_train, y_train), (X_test, y_test) = mnist.load_data()\n",
    "\n",
    "X_train = X_train.reshape(X_train.shape[0], 784)[:6000]\n",
    "X_test = X_test.reshape(X_test.shape[0], 784)[:1000]\n",
    "y_train = to_categorical(y_train)[:6000]\n",
    "y_test = to_categorical(y_test)[:1000]\n",
    "\n",
    "model = Sequential()\n",
    "model.add(Dense(256, input_dim=784))\n",
    "model.add(Activation(\"sigmoid\"))\n",
    "model.add(Dense(128))\n",
    "model.add(Activation(\"sigmoid\"))\n",
    "model.add(Dropout(rate=0.5))\n",
    "model.add(Dense(10))\n",
    "model.add(Activation(\"softmax\"))\n",
    "\n",
    "sgd = optimizers.SGD(lr=0.1)\n",
    "\n",
    "model.compile(optimizer=sgd, loss=\"categorical_crossentropy\", metrics=[\"accuracy\"])\n",
    "\n",
    "def funcA():\n",
    "    global batch_size\n",
    "    batch_size = 16\n",
    "\n",
    "def funcB():\n",
    "    global batch_size\n",
    "    batch_size = 32\n",
    "\n",
    "def funcC():\n",
    "    global batch_size\n",
    "    batch_size = 64\n",
    "\n",
    "# 请注释掉其中的两行，确定 batch_size 的大小\n",
    "# ---------------------------\n",
    "# batch_size: 16\n",
    "# funcA()\n",
    "# batch_size: 32\n",
    "# funcB()\n",
    "# batch_size: 64\n",
    "funcC()\n",
    "# ---------------------------\n",
    "\n",
    "model.fit(X_train, y_train, batch_size=batch_size, epochs=3, verbose=1)\n",
    "\n",
    "score = model.evaluate(X_test, y_test, verbose=0)\n",
    "print(\"evaluate loss: {0[0]}\\nevaluate acc: {0[1]}\".format(score))"
   ]
  },
  {
   "cell_type": "markdown",
   "metadata": {},
   "source": [
    "**程序清单20.9：参考答案（输出结果可能和实际界面有所不同）** "
   ]
  },
  {
   "cell_type": "markdown",
   "metadata": {
    "id": "section_name",
    "sectionId": "BJpL_RXWlWG"
   },
   "source": [
    "## ●20.9 反复学习"
   ]
  },
  {
   "cell_type": "markdown",
   "metadata": {
    "courseId": 5090,
    "exerciseId": "Sy4v9n8oUxz",
    "id": "code_session_name",
    "important": true,
    "isDL": false,
    "timeoutSecs": 40
   },
   "source": [
    "### ○20.9.1 反复学习"
   ]
  },
  {
   "cell_type": "markdown",
   "metadata": {},
   "source": [
    "#### □习题"
   ]
  },
  {
   "cell_type": "code",
   "execution_count": null,
   "metadata": {
    "collapsed": true,
    "id": "index",
    "scrolled": false
   },
   "outputs": [],
   "source": [
    "import numpy as np\n",
    "import matplotlib.pyplot as plt\n",
    "from keras.datasets import mnist\n",
    "from keras.layers import Activation, Dense, Dropout\n",
    "from keras.models import Sequential, load_model\n",
    "from keras import optimizers\n",
    "from keras.utils.np_utils import to_categorical\n",
    "\n",
    "(X_train, y_train), (X_test, y_test) = mnist.load_data()\n",
    "\n",
    "X_train = X_train.reshape(X_train.shape[0], 784)[:1500]\n",
    "X_test = X_test.reshape(X_test.shape[0], 784)[:6000]\n",
    "y_train = to_categorical(y_train)[:1500]\n",
    "y_test = to_categorical(y_test)[:6000]\n",
    "\n",
    "model = Sequential()\n",
    "model.add(Dense(256, input_dim=784))\n",
    "model.add(Activation(\"sigmoid\"))\n",
    "model.add(Dense(128))\n",
    "model.add(Activation(\"sigmoid\"))\n",
    "# 在此处不使用 Dropout\n",
    "#model.add(Dropout(rate=0.5))\n",
    "model.add(Dense(10))\n",
    "model.add(Activation(\"softmax\"))\n",
    "\n",
    "sgd = optimizers.SGD(lr=0.1)\n",
    "\n",
    "model.compile(optimizer=sgd, loss=\"categorical_crossentropy\", metrics=[\"accuracy\"])\n",
    "\n",
    "def funcA():\n",
    "    global epochs\n",
    "    epochs = 5\n",
    "\n",
    "def funcB():\n",
    "    global epochs\n",
    "    epochs = 10\n",
    "\n",
    "def funcC():\n",
    "    global epochs\n",
    "    epochs = 60\n",
    "\n",
    "# 请注释掉其中的两行，确定 epochs 数的大小\n",
    "# ---------------------------\n",
    "# epochs: 5\n",
    "funcA()\n",
    "# epochs: 10\n",
    "funcB()\n",
    "# epochs: 60\n",
    "funcC()\n",
    "# ---------------------------\n",
    "\n",
    "history = model.fit(X_train, y_train, batch_size=32, epochs=epochs, verbose=1, validation_data=(X_test, y_test))\n",
    "\n",
    "#acc 和 val_acc 的绘制\n",
    "plt.plot(history.history[\"acc\"], label=\"acc\", ls=\"-\", marker=\"o\")\n",
    "plt.plot(history.history[\"val_acc\"], label=\"val_acc\", ls=\"-\", marker=\"x\")\n",
    "plt.ylabel(\"accuracy\")\n",
    "plt.xlabel(\"epoch\")\n",
    "plt.legend(loc=\"best\")\n",
    "plt.show()\n",
    "\n",
    "score = model.evaluate(X_test, y_test, verbose=0)\n",
    "print(\"evaluate loss: {0[0]}\\nevaluate acc: {0[1]}\".format(score))"
   ]
  },
  {
   "cell_type": "markdown",
   "metadata": {},
   "source": [
    "**程序清单20.10：习题**"
   ]
  },
  {
   "cell_type": "markdown",
   "metadata": {},
   "source": [
    "#### □参考答案"
   ]
  },
  {
   "cell_type": "code",
   "execution_count": 7,
   "metadata": {
    "id": "answer",
    "scrolled": true
   },
   "outputs": [
    {
     "name": "stdout",
     "output_type": "stream",
     "text": [
      "Train on 1500 samples, validate on 6000 samples\n",
      "Epoch 1/10\n",
      "1500/1500 [==============================] - 1s 497us/step - loss: 2.0076 - acc: 0.3667 - val_loss: 1.7191 - val_acc: 0.5618\n",
      "Epoch 2/10\n",
      "1500/1500 [==============================] - 0s 310us/step - loss: 1.4583 - acc: 0.6667 - val_loss: 1.3321 - val_acc: 0.6878\n",
      "Epoch 3/10\n",
      "1500/1500 [==============================] - 0s 252us/step - loss: 1.0898 - acc: 0.7707 - val_loss: 1.0424 - val_acc: 0.7233\n",
      "Epoch 4/10\n",
      "1500/1500 [==============================] - 0s 254us/step - loss: 0.8779 - acc: 0.7993 - val_loss: 0.9073 - val_acc: 0.7435\n",
      "Epoch 5/10\n",
      "1500/1500 [==============================] - 0s 247us/step - loss: 0.7484 - acc: 0.8300 - val_loss: 0.8399 - val_acc: 0.7772\n",
      "Epoch 6/10\n",
      "1500/1500 [==============================] - 0s 248us/step - loss: 0.6766 - acc: 0.8520 - val_loss: 0.7846 - val_acc: 0.7737\n",
      "Epoch 7/10\n",
      "1500/1500 [==============================] - 0s 237us/step - loss: 0.6222 - acc: 0.8573 - val_loss: 0.7558 - val_acc: 0.7782\n",
      "Epoch 8/10\n",
      "1500/1500 [==============================] - 0s 246us/step - loss: 0.6009 - acc: 0.8613 - val_loss: 0.7296 - val_acc: 0.7887\n",
      "Epoch 9/10\n",
      "1500/1500 [==============================] - 0s 253us/step - loss: 0.5826 - acc: 0.8547 - val_loss: 0.7152 - val_acc: 0.7855\n",
      "Epoch 10/10\n",
      "1500/1500 [==============================] - 0s 251us/step - loss: 0.5659 - acc: 0.8613 - val_loss: 0.7297 - val_acc: 0.7812\n"
     ]
    },
    {
     "data": {
      "image/png": "[encoded data removed]",
      "text/plain": [
       "<Figure size 432x288 with 1 Axes>"
      ]
     },
     "metadata": {
      "needs_background": "light"
     },
     "output_type": "display_data"
    },
    {
     "name": "stdout",
     "output_type": "stream",
     "text": [
      "evaluate loss: 0.729700302918752\n",
      "evaluate acc: 0.7811666666666667\n"
     ]
    }
   ],
   "source": [
    "import numpy as np\n",
    "import matplotlib.pyplot as plt\n",
    "from keras.datasets import mnist\n",
    "from keras.layers import Activation, Dense, Dropout\n",
    "from keras.models import Sequential, load_model\n",
    "from keras import optimizers\n",
    "from keras.utils.np_utils import to_categorical\n",
    "\n",
    "(X_train, y_train), (X_test, y_test) = mnist.load_data()\n",
    "\n",
    "X_train = X_train.reshape(X_train.shape[0], 784)[:1500]\n",
    "X_test = X_test.reshape(X_test.shape[0], 784)[:6000]\n",
    "y_train = to_categorical(y_train)[:1500]\n",
    "y_test = to_categorical(y_test)[:6000]\n",
    "\n",
    "model = Sequential()\n",
    "model.add(Dense(256, input_dim=784))\n",
    "model.add(Activation(\"sigmoid\"))\n",
    "model.add(Dense(128))\n",
    "model.add(Activation(\"sigmoid\"))\n",
    "# 在此处不使用 Dropout\n",
    "#model.add(Dropout(rate=0.5))\n",
    "model.add(Dense(10))\n",
    "model.add(Activation(\"softmax\"))\n",
    "\n",
    "sgd = optimizers.SGD(lr=0.1)\n",
    "\n",
    "model.compile(optimizer=sgd, loss=\"categorical_crossentropy\", metrics=[\"accuracy\"])\n",
    "\n",
    "def funcA():\n",
    "    global epochs\n",
    "    epochs = 5\n",
    "\n",
    "def funcB():\n",
    "    global epochs\n",
    "    epochs = 10\n",
    "\n",
    "def funcC():\n",
    "    global epochs\n",
    "    epochs = 60\n",
    "\n",
    "# 请注释掉其中的两行，确定 epochs 数的大小\n",
    "# ---------------------------\n",
    "# epochs: 5\n",
    "# funcA()\n",
    "# epochs: 10\n",
    "funcB()\n",
    "# epochs: 60\n",
    "# funcC()\n",
    "# ---------------------------\n",
    "\n",
    "history = model.fit(X_train, y_train, batch_size=32, epochs=epochs, verbose=1, validation_data=(X_test, y_test))\n",
    "\n",
    "#acc 和 val_acc 的绘制\n",
    "plt.plot(history.history[\"acc\"], label=\"acc\", ls=\"-\", marker=\"o\")\n",
    "plt.plot(history.history[\"val_acc\"], label=\"val_acc\", ls=\"-\", marker=\"x\")\n",
    "plt.ylabel(\"accuracy\")\n",
    "plt.xlabel(\"epoch\")\n",
    "plt.legend(loc=\"best\")\n",
    "plt.show()\n",
    "\n",
    "score = model.evaluate(X_test, y_test, verbose=0)\n",
    "print(\"evaluate loss: {0[0]}\\nevaluate acc: {0[1]}\".format(score))"
   ]
  },
  {
   "cell_type": "markdown",
   "metadata": {},
   "source": [
    "**程序清单20.11：参考答案（输出结果可能和实际界面有所不同）**　　"
   ]
  },
  {
   "cell_type": "markdown",
   "metadata": {
    "id": "chapter_exam"
   },
   "source": [
    "## ●附加习题"
   ]
  },
  {
   "cell_type": "markdown",
   "metadata": {},
   "source": [
    "#### □习题"
   ]
  },
  {
   "cell_type": "code",
   "execution_count": null,
   "metadata": {
    "collapsed": true,
    "id": "index",
    "scrolled": false
   },
   "outputs": [],
   "source": [
    "import numpy as np\n",
    "import matplotlib.pyplot as plt\n",
    "from keras.datasets import mnist\n",
    "from keras.layers import Activation, Dense, Dropout\n",
    "from keras.models import Sequential, load_model\n",
    "from keras import optimizers\n",
    "from keras.utils.np_utils import to_categorical\n",
    "\n",
    "(X_train, y_train), (X_test, y_test) = mnist.load_data()\n",
    "\n",
    "X_train = X_train.reshape(X_train.shape[0], 784)[:6000]\n",
    "X_test = X_test.reshape(X_test.shape[0], 784)[:1000]\n",
    "y_train = to_categorical(y_train)[:6000]\n",
    "y_test = to_categorical(y_test)[:1000]\n",
    "\n",
    "#---------------------------\n",
    "model = Sequential()\n",
    "model.add(Dense(256, input_dim=784))\n",
    "model.add(Activation(\"sigmoid\"))\n",
    "model.add(Dense(128))\n",
    "model.add(Activation(\"sigmoid\"))\n",
    "model.add(Dropout(rate=0.5))\n",
    "model.add(Dense(10))\n",
    "model.add(Activation(\"softmax\"))\n",
    "\n",
    "sgd = optimizers.SGD(lr=0.1)\n",
    "model.compile(optimizer=sgd, loss=\"categorical_crossentropy\", metrics=[\"accuracy\"])\n",
    "\n",
    "model.fit(X_train, y_train, batch_size=10, epochs=5, verbose=1)\n",
    "score = model.evaluate(X_test, y_test, verbose=0)\n",
    "print(\"evaluate loss: {0[0]}\\nevaluate acc: {0[1]}\".format(score))\n",
    "#---------------------------\n",
    "\n"
   ]
  },
  {
   "cell_type": "markdown",
   "metadata": {},
   "source": [
    "**程序清单20.12：习题**"
   ]
  },
  {
   "cell_type": "markdown",
   "metadata": {},
   "source": [
    "#### □参考答案"
   ]
  },
  {
   "cell_type": "code",
   "execution_count": 8,
   "metadata": {
    "id": "answer"
   },
   "outputs": [
    {
     "name": "stdout",
     "output_type": "stream",
     "text": [
      "Epoch 1/5\n",
      "6000/6000 [==============================] - 1s 110us/step - loss: 2.0149 - acc: 0.2995\n",
      "Epoch 2/5\n",
      "6000/6000 [==============================] - 0s 81us/step - loss: 1.3310 - acc: 0.5955\n",
      "Epoch 3/5\n",
      "6000/6000 [==============================] - 0s 74us/step - loss: 0.9829 - acc: 0.7138\n",
      "Epoch 4/5\n",
      "6000/6000 [==============================] - 0s 73us/step - loss: 0.7943 - acc: 0.7763: 0s - loss: 0.8733 - acc\n",
      "Epoch 5/5\n",
      "6000/6000 [==============================] - 0s 65us/step - loss: 0.6871 - acc: 0.8143\n",
      "evaluate loss: 0.595065972328186\n",
      "evaluate acc: 0.857\n"
     ]
    }
   ],
   "source": [
    "import numpy as np\n",
    "import matplotlib.pyplot as plt\n",
    "from keras.datasets import mnist\n",
    "from keras.layers import Activation, Dense, Dropout\n",
    "from keras.models import Sequential, load_model\n",
    "from keras import optimizers\n",
    "from keras.utils.np_utils import to_categorical\n",
    "\n",
    "(X_train, y_train), (X_test, y_test) = mnist.load_data()\n",
    "\n",
    "X_train = X_train.reshape(X_train.shape[0], 784)[:6000]\n",
    "X_test = X_test.reshape(X_test.shape[0], 784)[:1000]\n",
    "y_train = to_categorical(y_train)[:6000]\n",
    "y_test = to_categorical(y_test)[:1000]\n",
    "\n",
    "#---------------------------\n",
    "model = Sequential()\n",
    "model.add(Dense(256, input_dim=784))\n",
    "model.add(Activation(\"sigmoid\"))\n",
    "model.add(Dense(128))\n",
    "model.add(Activation(\"sigmoid\"))\n",
    "model.add(Dropout(rate=0.5))\n",
    "model.add(Dense(10))\n",
    "model.add(Activation(\"softmax\"))\n",
    "\n",
    "sgd = optimizers.SGD(lr=0.1)\n",
    "model.compile(optimizer=sgd, loss=\"categorical_crossentropy\", metrics=[\"accuracy\"])\n",
    "\n",
    "model.fit(X_train, y_train, batch_size=96, epochs=5, verbose=1)\n",
    "score = model.evaluate(X_test, y_test, verbose=0)\n",
    "print(\"evaluate loss: {0[0]}\\nevaluate acc: {0[1]}\".format(score))\n",
    "#---------------------------"
   ]
  },
  {
   "cell_type": "markdown",
   "metadata": {},
   "source": [
    "**程序清单20.13：参考答案（输出结果可能和实际界面有所不同）**"
   ]
  }
 ],
 "metadata": {
  "celltoolbar": "Edit Metadata",
  "kernelspec": {
   "display_name": "Python 3",
   "language": "python",
   "name": "python3"
  },
  "language_info": {
   "codemirror_mode": {
    "name": "ipython",
    "version": 3
   },
   "file_extension": ".py",
   "mimetype": "text/x-python",
   "name": "python",
   "nbconvert_exporter": "python",
   "pygments_lexer": "ipython3",
   "version": "3.6.6"
  }
 },
 "nbformat": 4,
 "nbformat_minor": 2
}
