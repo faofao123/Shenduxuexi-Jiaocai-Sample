{
 "cells": [
  {
   "cell_type": "markdown",
   "metadata": {
    "chapterId": "r1UduiarG",
    "id": "chapter_name"
   },
   "source": [
    "# Chapter21 运用CNN进行图像识别的基础"
   ]
  },
  {
   "cell_type": "markdown",
   "metadata": {
    "id": "table"
   },
   "source": [
    "- **21.1 深度学习与图像识别**\n",
    "    - **21.1.1 图像识别**\n",
    "<br><br>\n",
    "- **21.2 CNN**\n",
    "    - **21.2.1 CNN概要**\n",
    "    - **21.2.2 卷积层**\n",
    "    - **21.2.3 池化层**\n",
    "    - **21.2.4 CNN 的实现**\n",
    "    - **21.2.5 基于 CNN 的分类（MNIST）**\n",
    "    - **21.2.6 基于 CNN 的分类（cifar10）**\n",
    "<br><br>\n",
    "- **21.3 超参数**\n",
    "    - **21.3.1 filters （Conv层）**\n",
    "    - **21.3.2 kernel_size （Conv层）**\n",
    "    - **21.3.3 strides （Conv层）**\n",
    "    - **21.3.4 padding （Conv层）**\n",
    "    - **21.3.5 pool_size （Pool层）**\n",
    "    - **21.3.6 strides （Pool层）**\n",
    "    - **21.3.7 padding （Pool层）**\n",
    "<br><br>\n",
    "- **附加习题**"
   ]
  },
  {
   "cell_type": "markdown",
   "metadata": {
    "id": "section_name",
    "sectionId": "rkxU_djpHz"
   },
   "source": [
    "## ●21.1 深度学习与图像识别"
   ]
  },
  {
   "cell_type": "markdown",
   "metadata": {
    "courseId": 5100,
    "exerciseId": "Sy-I_ds6Hf",
    "id": "quiz_session_name",
    "important": false,
    "isDL": false,
    "timeoutSecs": 10
   },
   "source": [
    "### ○21.1.1 图像识别"
   ]
  },
  {
   "cell_type": "markdown",
   "metadata": {},
   "source": [
    "本节没有示例文件"
   ]
  },
  {
   "cell_type": "markdown",
   "metadata": {
    "id": "section_name",
    "sectionId": "r1MI_Os6BM"
   },
   "source": [
    "## ●21.2 CNN"
   ]
  },
  {
   "cell_type": "markdown",
   "metadata": {
    "courseId": 5100,
    "exerciseId": "r178_uj6SG",
    "id": "quiz_session_name",
    "important": false,
    "isDL": false,
    "timeoutSecs": 10
   },
   "source": [
    "### ○21.2.1 CNN概要"
   ]
  },
  {
   "cell_type": "markdown",
   "metadata": {},
   "source": [
    "本节没有示例文件"
   ]
  },
  {
   "cell_type": "markdown",
   "metadata": {
    "courseId": 5100,
    "exerciseId": "ByNU__iTSM",
    "id": "code_session_name",
    "important": false,
    "isDL": false,
    "timeoutSecs": 10
   },
   "source": [
    "### ○21.2.2 卷积层"
   ]
  },
  {
   "cell_type": "markdown",
   "metadata": {},
   "source": [
    "#### □习题"
   ]
  },
  {
   "cell_type": "code",
   "execution_count": null,
   "metadata": {
    "collapsed": true,
    "id": "index",
    "scrolled": false
   },
   "outputs": [],
   "source": [
    "import numpy as np\n",
    "import matplotlib.pyplot as plt\n",
    "import urllib.request\n",
    "%matplotlib inline \n",
    "\n",
    "# 定义一个非常简单的卷积层\n",
    "class Conv:\n",
    "    # 作为简单示例，将W固定为3×3大小，不考虑后续小节中介绍的strides或padding等设置\n",
    "    def __init__(self, W):\n",
    "        self.W = W\n",
    "    def f_prop(self, X):\n",
    "        out = np.zeros((X.shape[0]-2, X.shape[1]-2))\n",
    "        for i in range(out.shape[0]):\n",
    "            for j in range(out.shape[1]):\n",
    "                x = X[i:i+3, j:j+3]\n",
    "                # 对每个元素的乘积的总和进行计算\n",
    "                out[i,j] = np.dot(self.W.flatten(), x.flatten())\n",
    "        return out\n",
    "\n",
    "local_filename, headers = urllib.request.urlretrieve('https://aidemyexcontentsdata.blob.core.windows.net/data/5100_cnn/circle.npy') \n",
    "X = np.load(local_filename)\n",
    "\n",
    "plt.imshow(X)\n",
    "plt.title(\"The original image\", fontsize=12)\n",
    "plt.show()\n",
    "\n",
    "# 请对内核进行适当设置\n",
    "W1 = \n",
    "\n",
    "\n",
    "W2 = np.array([[0,0,0],\n",
    "               [1,1,1],\n",
    "               [0,0,0]])\n",
    "W3 = np.array([[1,0,0],\n",
    "               [0,1,0],\n",
    "               [0,0,1]])\n",
    "W4 = np.array([[0,0,1],\n",
    "               [0,1,0],\n",
    "               [1,0,0]])\n",
    "\n",
    "plt.subplot(1,4,1); plt.imshow(W1)\n",
    "plt.subplot(1,4,2); plt.imshow(W2)\n",
    "plt.subplot(1,4,3); plt.imshow(W3)\n",
    "plt.subplot(1,4,4); plt.imshow(W4)\n",
    "plt.suptitle(\"kernel\", fontsize=12)\n",
    "plt.show()\n",
    "\n",
    "# 进行卷积处理\n",
    "conv1 = Conv(W1); C1 = conv1.f_prop(X)\n",
    "conv2 = Conv(W2); C2 = conv2.f_prop(X)\n",
    "conv3 = Conv(W3); C3 = conv3.f_prop(X)\n",
    "conv4 = Conv(W4); C4 = conv4.f_prop(X)\n",
    "\n",
    "plt.subplot(1,4,1); plt.imshow(C1)\n",
    "plt.subplot(1,4,2); plt.imshow(C2)\n",
    "plt.subplot(1,4,3); plt.imshow(C3)\n",
    "plt.subplot(1,4,4); plt.imshow(C4)\n",
    "plt.suptitle(\"Convolution result\", fontsize=12)\n",
    "plt.show()"
   ]
  },
  {
   "cell_type": "markdown",
   "metadata": {},
   "source": [
    "**程序清单 21.1：习题**　"
   ]
  },
  {
   "cell_type": "markdown",
   "metadata": {},
   "source": [
    "#### □参考答案"
   ]
  },
  {
   "cell_type": "code",
   "execution_count": 1,
   "metadata": {
    "id": "answer",
    "scrolled": false
   },
   "outputs": [
    {
     "data": {
      "image/png": "[encoded data removed]",
      "text/plain": [
       "<Figure size 432x288 with 1 Axes>"
      ]
     },
     "metadata": {
      "needs_background": "light"
     },
     "output_type": "display_data"
    },
    {
     "data": {
      "image/png": "[encoded data removed]",
      "text/plain": [
       "<Figure size 432x288 with 4 Axes>"
      ]
     },
     "metadata": {
      "needs_background": "light"
     },
     "output_type": "display_data"
    },
    {
     "data": {
      "image/png": "[encoded data removed]",
      "text/plain": [
       "<Figure size 432x288 with 4 Axes>"
      ]
     },
     "metadata": {
      "needs_background": "light"
     },
     "output_type": "display_data"
    }
   ],
   "source": [
    "import numpy as np\n",
    "import matplotlib.pyplot as plt\n",
    "import urllib.request\n",
    "%matplotlib inline\n",
    "\n",
    "# 定义一个非常简单的卷积层\n",
    "class Conv:\n",
    "    # 作为简单示例，将W固定为3×3大小，不考虑后续小节中介绍的strides或padding等设置\n",
    "    def __init__(self, W):\n",
    "        self.W = W\n",
    "    def f_prop(self, X):\n",
    "        out = np.zeros((X.shape[0]-2, X.shape[1]-2))\n",
    "        for i in range(out.shape[0]):\n",
    "            for j in range(out.shape[1]):\n",
    "                x = X[i:i+3, j:j+3]\n",
    "                # 对每个元素的乘积的总和进行计算\n",
    "                out[i,j] = np.dot(self.W.flatten(), x.flatten())\n",
    "        return out\n",
    "\n",
    "local_filename, headers = urllib.request.urlretrieve('https://aidemyexcontentsdata.blob.core.windows.net/data/5100_cnn/circle.npy') \n",
    "X = np.load(local_filename)\n",
    "\n",
    "plt.imshow(X)\n",
    "plt.title(\"The original image\", fontsize=12)\n",
    "plt.show()\n",
    "\n",
    "# 请对内核进行适当设置\n",
    "W1 = np.array([[0,1,0],\n",
    "               [0,1,0],\n",
    "               [0,1,0]])\n",
    "W2 = np.array([[0,0,0],\n",
    "               [1,1,1],\n",
    "               [0,0,0]])\n",
    "W3 = np.array([[1,0,0],\n",
    "               [0,1,0],\n",
    "               [0,0,1]])\n",
    "W4 = np.array([[0,0,1],\n",
    "               [0,1,0],\n",
    "               [1,0,0]])\n",
    "\n",
    "plt.subplot(1,4,1); plt.imshow(W1)\n",
    "plt.subplot(1,4,2); plt.imshow(W2)\n",
    "plt.subplot(1,4,3); plt.imshow(W3)\n",
    "plt.subplot(1,4,4); plt.imshow(W4)\n",
    "plt.suptitle(\"kernel\", fontsize=12)\n",
    "plt.show()\n",
    "\n",
    "# 进行卷积处理\n",
    "conv1 = Conv(W1); C1 = conv1.f_prop(X)\n",
    "conv2 = Conv(W2); C2 = conv2.f_prop(X)\n",
    "conv3 = Conv(W3); C3 = conv3.f_prop(X)\n",
    "conv4 = Conv(W4); C4 = conv4.f_prop(X)\n",
    "\n",
    "plt.subplot(1,4,1); plt.imshow(C1)\n",
    "plt.subplot(1,4,2); plt.imshow(C2)\n",
    "plt.subplot(1,4,3); plt.imshow(C3)\n",
    "plt.subplot(1,4,4); plt.imshow(C4)\n",
    "plt.suptitle(\"Convolution result\", fontsize=12)\n",
    "plt.show()"
   ]
  },
  {
   "cell_type": "markdown",
   "metadata": {},
   "source": [
    "**程序清单 21.2：解答例**"
   ]
  },
  {
   "cell_type": "markdown",
   "metadata": {
    "courseId": 5100,
    "exerciseId": "ByHUuOsTSf",
    "id": "code_session_name",
    "important": false,
    "isDL": false,
    "timeoutSecs": 10
   },
   "source": [
    "### ○21.2.3 池化层"
   ]
  },
  {
   "cell_type": "markdown",
   "metadata": {},
   "source": [
    "#### □习题"
   ]
  },
  {
   "cell_type": "code",
   "execution_count": null,
   "metadata": {},
   "outputs": [],
   "source": [
    "import numpy as np\n",
    "import matplotlib.pyplot as plt\n",
    "import urllib.request\n",
    "%matplotlib inline\n",
    "\n",
    "# 定义一个非常简单的卷积层\n",
    "class Conv:\n",
    "    # 作为简单的示例，将 W 固定为 3×3 大小，不考虑后续小节中介绍的strides 或 padding 等设置\n",
    "    def __init__(self, W):\n",
    "        self.W = W\n",
    "    def f_prop(self, X):\n",
    "        out = np.zeros((X.shape[0]-2, X.shape[1]-2))\n",
    "        for i in range(out.shape[0]):\n",
    "            for j in range(out.shape[1]):\n",
    "                x = X[i:i+3, j:j+3]\n",
    "                out[i,j] = np.dot(self.W.flatten(), x.flatten())\n",
    "        return out\n",
    "\n",
    "# 定义一个非常简单的池化层\n",
    "class Pool:\n",
    "    # 作为简单的示例，不考虑后续小节中讲解的 strides 或 padding 等设置\n",
    "    def __init__(self, l):\n",
    "        self.l = l\n",
    "    def f_prop(self, X):\n",
    "        l = self.l\n",
    "        out = np.zeros((X.shape[0]//self.l, X.shape[1]//self.l))\n",
    "        for i in range(out.shape[0]):\n",
    "            for j in range(out.shape[1]):\n",
    "                # 请填写下列空栏，然后去掉注释\n",
    "                out[i,j] = #_____(X[i*l:(i+1)*l, j*l:(j+1)*l])\n",
    "        return out\n",
    "\n",
    "local_filename, headers = urllib.request.urlretrieve('https://aidemyexcontentsdata.blob.core.windows.net/data/5100_cnn/circle.npy') \n",
    "X = np.load(local_filename)\n",
    "\n",
    "plt.imshow(X)\n",
    "plt.title(\"The original image\", fontsize=12)\n",
    "plt.show()\n",
    "\n",
    "# 核\n",
    "W1 = np.array([[0,1,0],\n",
    "               [0,1,0],\n",
    "               [0,1,0]])\n",
    "W2 = np.array([[0,0,0],\n",
    "               [1,1,1],\n",
    "               [0,0,0]])\n",
    "W3 = np.array([[1,0,0],\n",
    "               [0,1,0],\n",
    "               [0,0,1]])\n",
    "W4 = np.array([[0,0,1],\n",
    "               [0,1,0],\n",
    "               [1,0,0]])\n",
    "\n",
    "# 进行卷积处理\n",
    "conv1 = Conv(W1); C1 = conv1.f_prop(X)\n",
    "conv2 = Conv(W2); C2 = conv2.f_prop(X)\n",
    "conv3 = Conv(W3); C3 = conv3.f_prop(X)\n",
    "conv4 = Conv(W4); C4 = conv4.f_prop(X)\n",
    "\n",
    "plt.subplot(1,4,1); plt.imshow(C1)\n",
    "plt.subplot(1,4,2); plt.imshow(C2)\n",
    "plt.subplot(1,4,3); plt.imshow(C3)\n",
    "plt.subplot(1,4,4); plt.imshow(C4)\n",
    "plt.suptitle(\"Convolution result\", fontsize=12)\n",
    "plt.show()\n",
    "\n",
    "# 池化处理\n",
    "pool = Pool(2)\n",
    "P1 = pool.f_prop(C1)\n",
    "P2 = pool.f_prop(C2)\n",
    "P3 = pool.f_prop(C3)\n",
    "P4 = pool.f_prop(C4)\n",
    "\n",
    "plt.subplot(1,4,1); plt.imshow(P1)\n",
    "plt.subplot(1,4,2); plt.imshow(P2)\n",
    "plt.subplot(1,4,3); plt.imshow(P3)\n",
    "plt.subplot(1,4,4); plt.imshow(P4)\n",
    "plt.suptitle(\"Pooling result\", fontsize=12)\n",
    "plt.show()"
   ]
  },
  {
   "cell_type": "markdown",
   "metadata": {},
   "source": [
    "**程序清单 21.3：习题**"
   ]
  },
  {
   "cell_type": "markdown",
   "metadata": {},
   "source": [
    "#### □参考答案"
   ]
  },
  {
   "cell_type": "code",
   "execution_count": 2,
   "metadata": {
    "id": "answer",
    "scrolled": true
   },
   "outputs": [
    {
     "data": {
      "image/png": "[encoded data removed]",
      "text/plain": [
       "<Figure size 432x288 with 1 Axes>"
      ]
     },
     "metadata": {
      "needs_background": "light"
     },
     "output_type": "display_data"
    },
    {
     "data": {
      "image/png": "[encoded data removed]",
      "text/plain": [
       "<Figure size 432x288 with 4 Axes>"
      ]
     },
     "metadata": {
      "needs_background": "light"
     },
     "output_type": "display_data"
    },
    {
     "data": {
      "image/png": "[encoded data removed]",
      "text/plain": [
       "<Figure size 432x288 with 4 Axes>"
      ]
     },
     "metadata": {
      "needs_background": "light"
     },
     "output_type": "display_data"
    }
   ],
   "source": [
    "import numpy as np\n",
    "import matplotlib.pyplot as plt\n",
    "import urllib.request\n",
    "%matplotlib inline\n",
    "\n",
    "# 定义一个非常简单的卷积层\n",
    "class Conv:\n",
    "    # 作为简单的示例，将 W 固定为 3×3 大小，不考虑后续小节中介绍的strides 或 padding 等设置\n",
    "    def __init__(self, W):\n",
    "        self.W = W\n",
    "    def f_prop(self, X):\n",
    "        out = np.zeros((X.shape[0]-2, X.shape[1]-2))\n",
    "        for i in range(out.shape[0]):\n",
    "            for j in range(out.shape[1]):\n",
    "                x = X[i:i+3, j:j+3]\n",
    "                out[i,j] = np.dot(self.W.flatten(), x.flatten())\n",
    "        return out\n",
    "\n",
    "# 定义一个非常简单的池化层\n",
    "class Pool:\n",
    "    # 作为简单的示例，不考虑后续小节中讲解的 strides 或 padding 等设置\n",
    "    def __init__(self, l):\n",
    "        self.l = l\n",
    "    def f_prop(self, X):\n",
    "        l = self.l\n",
    "        out = np.zeros((X.shape[0]//self.l, X.shape[1]//self.l))\n",
    "        for i in range(out.shape[0]):\n",
    "            for j in range(out.shape[1]):\n",
    "                # 请填写下列空栏，然后去掉注释\n",
    "                out[i,j] = np.max(X[i*l:(i+1)*l, j*l:(j+1)*l])\n",
    "        return out\n",
    "\n",
    "local_filename, headers = urllib.request.urlretrieve('https://aidemyexcontentsdata.blob.core.windows.net/data/5100_cnn/circle.npy') \n",
    "X = np.load(local_filename)\n",
    "\n",
    "plt.imshow(X)\n",
    "plt.title(\"The original image\", fontsize=12)\n",
    "plt.show()\n",
    "\n",
    "# 核\n",
    "W1 = np.array([[0,1,0],\n",
    "              [0,1,0],\n",
    "              [0,1,0]])\n",
    "W2 = np.array([[0,0,0],\n",
    "              [1,1,1],\n",
    "              [0,0,0]])\n",
    "W3 = np.array([[1,0,0],\n",
    "              [0,1,0],\n",
    "              [0,0,1]])\n",
    "W4 = np.array([[0,0,1],\n",
    "              [0,1,0],\n",
    "              [1,0,0]])\n",
    "\n",
    "# 进行卷积处理\n",
    "conv1 = Conv(W1); C1 = conv1.f_prop(X)\n",
    "conv2 = Conv(W2); C2 = conv2.f_prop(X)\n",
    "conv3 = Conv(W3); C3 = conv3.f_prop(X)\n",
    "conv4 = Conv(W4); C4 = conv4.f_prop(X)\n",
    "\n",
    "plt.subplot(1,4,1); plt.imshow(C1)\n",
    "plt.subplot(1,4,2); plt.imshow(C2)\n",
    "plt.subplot(1,4,3); plt.imshow(C3)\n",
    "plt.subplot(1,4,4); plt.imshow(C4)\n",
    "plt.suptitle(\"Convolution result\", fontsize=12)\n",
    "plt.show()\n",
    "\n",
    "# 池化处理\n",
    "pool = Pool(2)\n",
    "P1 = pool.f_prop(C1)\n",
    "P2 = pool.f_prop(C2)\n",
    "P3 = pool.f_prop(C3)\n",
    "P4 = pool.f_prop(C4)\n",
    "\n",
    "plt.subplot(1,4,1); plt.imshow(P1)\n",
    "plt.subplot(1,4,2); plt.imshow(P2)\n",
    "plt.subplot(1,4,3); plt.imshow(P3)\n",
    "plt.subplot(1,4,4); plt.imshow(P4)\n",
    "plt.suptitle(\"Pooling result\", fontsize=12)\n",
    "plt.show()"
   ]
  },
  {
   "cell_type": "markdown",
   "metadata": {},
   "source": [
    "**程序清单 21.4：参考答案**"
   ]
  },
  {
   "cell_type": "markdown",
   "metadata": {
    "courseId": 5100,
    "exerciseId": "rk8Ludj6Hz",
    "id": "code_session_name",
    "important": false,
    "isDL": false,
    "timeoutSecs": 30
   },
   "source": [
    "### ○21.2.4 CNN 的实现"
   ]
  },
  {
   "cell_type": "markdown",
   "metadata": {},
   "source": [
    "#### □习题"
   ]
  },
  {
   "cell_type": "code",
   "execution_count": null,
   "metadata": {
    "collapsed": true,
    "id": "index"
   },
   "outputs": [],
   "source": [
    "from keras.layers import Activation, Conv2D, Dense, Flatten, MaxPooling2D\n",
    "from keras.models import Sequential, load_model\n",
    "from keras.utils.np_utils import to_categorical\n",
    "\n",
    "# 定义模型\n",
    "model = Sequential()\n",
    "\n",
    "# --------------------------------------------------------------\n",
    "# 请在此处输入代码\n",
    "\n",
    "\n",
    "\n",
    "\n",
    "\n",
    "# --------------------------------------------------------------\n",
    "\n",
    "\n",
    "model.add(Flatten())\n",
    "model.add(Dense(256))\n",
    "model.add(Activation('sigmoid'))\n",
    "model.add(Dense(128))\n",
    "model.add(Activation('sigmoid'))\n",
    "model.add(Dense(10))\n",
    "model.add(Activation('softmax'))\n",
    "\n",
    "model.summary()"
   ]
  },
  {
   "cell_type": "markdown",
   "metadata": {},
   "source": [
    "**程序清单 21.5：习题**"
   ]
  },
  {
   "cell_type": "markdown",
   "metadata": {},
   "source": [
    "#### □参考答案"
   ]
  },
  {
   "cell_type": "code",
   "execution_count": 3,
   "metadata": {
    "id": "answer",
    "scrolled": false
   },
   "outputs": [
    {
     "name": "stderr",
     "output_type": "stream",
     "text": [
      "Using TensorFlow backend.\n"
     ]
    },
    {
     "name": "stdout",
     "output_type": "stream",
     "text": [
      "_________________________________________________________________\n",
      "Layer (type)                 Output Shape              Param #   \n",
      "=================================================================\n",
      "conv2d_1 (Conv2D)            (None, 28, 28, 32)        160       \n",
      "_________________________________________________________________\n",
      "max_pooling2d_1 (MaxPooling2 (None, 27, 27, 32)        0         \n",
      "_________________________________________________________________\n",
      "conv2d_2 (Conv2D)            (None, 27, 27, 32)        4128      \n",
      "_________________________________________________________________\n",
      "max_pooling2d_2 (MaxPooling2 (None, 26, 26, 32)        0         \n",
      "_________________________________________________________________\n",
      "flatten_1 (Flatten)          (None, 21632)             0         \n",
      "_________________________________________________________________\n",
      "dense_1 (Dense)              (None, 256)               5538048   \n",
      "_________________________________________________________________\n",
      "activation_1 (Activation)    (None, 256)               0         \n",
      "_________________________________________________________________\n",
      "dense_2 (Dense)              (None, 128)               32896     \n",
      "_________________________________________________________________\n",
      "activation_2 (Activation)    (None, 128)               0         \n",
      "_________________________________________________________________\n",
      "dense_3 (Dense)              (None, 10)                1290      \n",
      "_________________________________________________________________\n",
      "activation_3 (Activation)    (None, 10)                0         \n",
      "=================================================================\n",
      "Total params: 5,576,522\n",
      "Trainable params: 5,576,522\n",
      "Non-trainable params: 0\n",
      "_________________________________________________________________\n"
     ]
    }
   ],
   "source": [
    "from keras.layers import Activation, Conv2D, Dense, Flatten, MaxPooling2D\n",
    "from keras.models import Sequential, load_model\n",
    "from keras.utils.np_utils import to_categorical\n",
    "\n",
    "# 定义模型\n",
    "model = Sequential()\n",
    "# --------------------------------------------------------------\n",
    "# 请在此处输入代码\n",
    "model.add(Conv2D(input_shape=(28, 28, 1), \n",
    "                 filters=32,\n",
    "                 kernel_size=(2, 2), \n",
    "                 strides=(1, 1), \n",
    "                 padding=\"same\"))\n",
    "model.add(MaxPooling2D(pool_size=(2, 2), \n",
    "                       strides=(1,1)))\n",
    "model.add(Conv2D(filters=32, \n",
    "                 kernel_size=(2, 2), \n",
    "                 strides=(1, 1), \n",
    "                 padding=\"same\"))\n",
    "model.add(MaxPooling2D(pool_size=(2, 2), \n",
    "                       strides=(1,1)))\n",
    "# --------------------------------------------------------------\n",
    "\n",
    "model.add(Flatten())\n",
    "model.add(Dense(256))\n",
    "model.add(Activation('sigmoid'))\n",
    "model.add(Dense(128))\n",
    "model.add(Activation('sigmoid'))\n",
    "model.add(Dense(10))\n",
    "model.add(Activation('softmax'))\n",
    "\n",
    "model.summary() "
   ]
  },
  {
   "cell_type": "markdown",
   "metadata": {},
   "source": [
    "**程序清单 21.6：参考答案**"
   ]
  },
  {
   "cell_type": "markdown",
   "metadata": {
    "courseId": 5100,
    "exerciseId": "r1PU_ujaSz",
    "id": "code_session_name",
    "important": false,
    "isDL": false,
    "timeoutSecs": 30
   },
   "source": [
    "### ○21.2.5 基于 CNN 的分类（MNIST）"
   ]
  },
  {
   "cell_type": "markdown",
   "metadata": {},
   "source": [
    "#### □习题"
   ]
  },
  {
   "cell_type": "code",
   "execution_count": null,
   "metadata": {
    "collapsed": true,
    "id": "index"
   },
   "outputs": [],
   "source": [
    "from keras.datasets import mnist\n",
    "from keras.layers import Dense, Dropout, Flatten, Activation\n",
    "from keras.layers import Conv2D, MaxPooling2D\n",
    "from keras.models import Sequential, load_model\n",
    "from keras.utils.np_utils import to_categorical\n",
    "from keras.utils.vis_utils import plot_model\n",
    "import numpy as np\n",
    "import matplotlib.pyplot as plt\n",
    "%matplotlib inline\n",
    "\n",
    "# 载入数据 \n",
    "(X_train, y_train), (X_test, y_test) = mnist.load_data()\n",
    "\n",
    "# 这里将全部数据中的 300 幅图像作为学习数据，100 幅图像作为测试数据使用\n",
    "# Conv 层接受四维数组（批次尺寸×高×宽×通道数）\n",
    "# MNIST 的数据不是 RGB 格式的图像，而是三维数组，因此首先将其转化为四维数组\n",
    "X_train = X_train[:300].reshape(-1, 28, 28, 1)\n",
    "X_test = X_test[:100].reshape(-1, 28, 28, 1)\n",
    "y_train = to_categorical(y_train)[:300]\n",
    "y_test = to_categorical(y_test)[:100]\n",
    "\n",
    "# 定义模型\n",
    "model = Sequential()\n",
    "\n",
    "# --------------------------------------------------------------\n",
    "# 请在此处输入代码\n",
    "\n",
    "\n",
    "\n",
    "\n",
    "\n",
    "# --------------------------------------------------------------\n",
    "\n",
    "model.compile(loss='categorical_crossentropy',\n",
    "              optimizer='adadelta',\n",
    "              metrics=['accuracy'])\n",
    "\n",
    "model.fit(X_train, y_train,\n",
    "          batch_size=128,\n",
    "          epochs=1,\n",
    "          verbose=1,\n",
    "          validation_data=(X_test, y_test))\n",
    "\n",
    "# 对精度进行评估\n",
    "scores = model.evaluate(X_test, y_test, verbose=1)\n",
    "print('Test loss:', scores[0])\n",
    "print('Test accuracy:', scores[1])\n",
    "\n",
    "# 对数据进行可视化（测试数据中的开头 10 个）\n",
    "for i in range(10):\n",
    "    plt.subplot(2, 5, i+1)\n",
    "    plt.imshow(X_test[i].reshape((28,28)), 'gray')\n",
    "plt.suptitle(\"The first ten of the test data\",fontsize=20)\n",
    "plt.show()\n",
    "\n",
    "# 对数据进行预测（测试数据中的开头 10 个）\n",
    "pred = np.argmax(model.predict(X_test[0:10]), axis=1)\n",
    "print(pred)\n",
    "\n",
    "model.summary()"
   ]
  },
  {
   "cell_type": "markdown",
   "metadata": {},
   "source": [
    "**程序清单21.7：习题**"
   ]
  },
  {
   "cell_type": "markdown",
   "metadata": {},
   "source": [
    "#### □参考答案"
   ]
  },
  {
   "cell_type": "code",
   "execution_count": 4,
   "metadata": {
    "id": "answer"
   },
   "outputs": [
    {
     "name": "stdout",
     "output_type": "stream",
     "text": [
      "Train on 300 samples, validate on 100 samples\n",
      "Epoch 1/1\n",
      "300/300 [==============================] - 2s 6ms/step - loss: 14.1545 - acc: 0.1067 - val_loss: 14.3451 - val_acc: 0.1100\n",
      "100/100 [==============================] - 0s 1ms/step\n",
      "Test loss: 14.34510498046875\n",
      "Test accuracy: 0.11\n"
     ]
    },
    {
     "data": {
      "image/png": "[encoded data removed]",
      "text/plain": [
       "<Figure size 432x288 with 10 Axes>"
      ]
     },
     "metadata": {
      "needs_background": "light"
     },
     "output_type": "display_data"
    },
    {
     "name": "stdout",
     "output_type": "stream",
     "text": [
      "[3 3 3 3 3 3 3 3 3 3]\n",
      "_________________________________________________________________\n",
      "Layer (type)                 Output Shape              Param #   \n",
      "=================================================================\n",
      "conv2d_3 (Conv2D)            (None, 26, 26, 32)        320       \n",
      "_________________________________________________________________\n",
      "activation_4 (Activation)    (None, 26, 26, 32)        0         \n",
      "_________________________________________________________________\n",
      "conv2d_4 (Conv2D)            (None, 24, 24, 64)        18496     \n",
      "_________________________________________________________________\n",
      "activation_5 (Activation)    (None, 24, 24, 64)        0         \n",
      "_________________________________________________________________\n",
      "max_pooling2d_3 (MaxPooling2 (None, 12, 12, 64)        0         \n",
      "_________________________________________________________________\n",
      "dropout_1 (Dropout)          (None, 12, 12, 64)        0         \n",
      "_________________________________________________________________\n",
      "flatten_2 (Flatten)          (None, 9216)              0         \n",
      "_________________________________________________________________\n",
      "dense_4 (Dense)              (None, 128)               1179776   \n",
      "_________________________________________________________________\n",
      "activation_6 (Activation)    (None, 128)               0         \n",
      "_________________________________________________________________\n",
      "dropout_2 (Dropout)          (None, 128)               0         \n",
      "_________________________________________________________________\n",
      "dense_5 (Dense)              (None, 10)                1290      \n",
      "_________________________________________________________________\n",
      "activation_7 (Activation)    (None, 10)                0         \n",
      "=================================================================\n",
      "Total params: 1,199,882\n",
      "Trainable params: 1,199,882\n",
      "Non-trainable params: 0\n",
      "_________________________________________________________________\n"
     ]
    }
   ],
   "source": [
    "from keras.datasets import mnist\n",
    "from keras.layers import Dense, Dropout, Flatten, Activation\n",
    "from keras.layers import Conv2D, MaxPooling2D\n",
    "from keras.models import Sequential, load_model\n",
    "from keras.utils.np_utils import to_categorical\n",
    "from keras.utils.vis_utils import plot_model\n",
    "import numpy as np\n",
    "import matplotlib.pyplot as plt\n",
    "%matplotlib inline\n",
    "\n",
    "# 载入数据\n",
    "(X_train, y_train), (X_test, y_test) = mnist.load_data()\n",
    "\n",
    "# 这里将全部数据中的 300 幅图像作为学习数据，100 幅图像作为测试数据使用\n",
    "# Conv 层接受四维数组（批次尺寸×高×宽×通道数）\n",
    "# MNIST 的数据不是 RGB 格式的图像，而是三维数组，因此首先将其转化为四维数组\n",
    "X_train = X_train[:300].reshape(-1, 28, 28, 1)\n",
    "X_test = X_test[:100].reshape(-1, 28, 28, 1)\n",
    "y_train = to_categorical(y_train)[:300]\n",
    "y_test = to_categorical(y_test)[:100]\n",
    "\n",
    "# 定义模型\n",
    "model = Sequential()\n",
    "\n",
    "# --------------------------------------------------------------\n",
    "# 请在此处输入代码\n",
    "model.add(Conv2D(32, kernel_size=(3, 3),input_shape=(28,28,1)))\n",
    "model.add(Activation('relu'))\n",
    "model.add(Conv2D(filters=64, kernel_size=(3, 3)))\n",
    "model.add(Activation('relu'))\n",
    "model.add(MaxPooling2D(pool_size=(2, 2)))\n",
    "model.add(Dropout(0.25))\n",
    "model.add(Flatten())\n",
    "model.add(Dense(128))\n",
    "model.add(Activation('relu'))\n",
    "model.add(Dropout(0.5))\n",
    "model.add(Dense(10))\n",
    "model.add(Activation('softmax'))\n",
    "# --------------------------------------------------------------\n",
    "\n",
    "model.compile(loss='categorical_crossentropy',\n",
    "              optimizer='adadelta',\n",
    "              metrics=['accuracy'])\n",
    "\n",
    "model.fit(X_train, y_train,\n",
    "          batch_size=128,\n",
    "          epochs=1,\n",
    "          verbose=1,\n",
    "          validation_data=(X_test, y_test))\n",
    "\n",
    "# 对精度进行评估\n",
    "scores = model.evaluate(X_test, y_test, verbose=1)\n",
    "print('Test loss:', scores[0])\n",
    "print('Test accuracy:', scores[1])\n",
    "\n",
    "# 对数据进行可视化（测试数据中的开头 10 个）\n",
    "for i in range(10):\n",
    "    plt.subplot(2, 5, i+1)\n",
    "    plt.imshow(X_test[i].reshape((28,28)), 'gray')\n",
    "plt.suptitle(\"The first ten of the test data\",fontsize=20)\n",
    "plt.show()\n",
    "\n",
    "# 对数据进行预测（测试数据中的开头 10 个）\n",
    "pred = np.argmax(model.predict(X_test[0:10]), axis=1)\n",
    "print(pred)\n",
    "\n",
    "model.summary()"
   ]
  },
  {
   "cell_type": "markdown",
   "metadata": {},
   "source": [
    "**程序清单 21.8：参考答案**　　"
   ]
  },
  {
   "cell_type": "markdown",
   "metadata": {
    "courseId": 5100,
    "exerciseId": "BJdU__iTHf",
    "id": "code_session_name",
    "important": false,
    "isDL": false,
    "timeoutSecs": 30
   },
   "source": [
    "### ○19.2.6 基于 CNN 的分类（cifar10） "
   ]
  },
  {
   "cell_type": "markdown",
   "metadata": {},
   "source": [
    "#### □习题"
   ]
  },
  {
   "cell_type": "code",
   "execution_count": null,
   "metadata": {},
   "outputs": [],
   "source": [
    "import keras\n",
    "from keras.datasets import cifar10\n",
    "from keras.layers import Activation, Conv2D, Dense, Dropout, Flatten, MaxPooling2D\n",
    "from keras.models import Sequential, load_model\n",
    "from keras.utils.np_utils import to_categorical\n",
    "import numpy as np\n",
    "import matplotlib.pyplot as plt\n",
    "%matplotlib inline\n",
    "\n",
    "# 载入数据\n",
    "(X_train, y_train), (X_test, y_test) = cifar10.load_data()\n",
    "\n",
    "# 这里将全部数据中的 300 幅图像作为学习数据，100 幅图像作为测试数据使用\n",
    "X_train = X_train[:300]\n",
    "X_test = X_test[:100]\n",
    "y_train = to_categorical(y_train)[:300]\n",
    "y_test = to_categorical(y_test)[:100]\n",
    "\n",
    "\n",
    "# 定义模型\n",
    "model = Sequential()\n",
    "model.add(Conv2D(32, (3, 3), padding='same',\n",
    "                 input_shape=X_train.shape[1:]))\n",
    "model.add(Activation('relu'))\n",
    "model.add(Conv2D(32, (3, 3)))\n",
    "model.add(Activation('relu'))\n",
    "model.add(MaxPooling2D(pool_size=(2, 2)))\n",
    "model.add(Dropout(0.25))\n",
    "\n",
    "# --------------------------------------------------------------\n",
    "# 请在此处输入代码\n",
    "\n",
    "\n",
    "\n",
    "\n",
    "\n",
    "# --------------------------------------------------------------\n",
    "\n",
    "model.add(Flatten())\n",
    "model.add(Dense(512))\n",
    "model.add(Activation('relu'))\n",
    "model.add(Dropout(0.5))\n",
    "model.add(Dense(10))\n",
    "model.add(Activation('softmax'))\n",
    "\n",
    "# 编译模型\n",
    "opt = keras.optimizers.rmsprop(lr=0.0001, decay=1e-6)\n",
    "model.compile(loss='categorical_crossentropy',\n",
    "              optimizer=opt,\n",
    "              metrics=['accuracy'])\n",
    "\n",
    "# 开始学习\n",
    "model.fit(X_train, y_train, batch_size=32, epochs=1)\n",
    "\n",
    "# 如果要对权重进行保存的话，可使用如下处理\n",
    "model.save_weights('param_cifar10.hdf5')\n",
    "\n",
    "# 对精度进行评估\n",
    "scores = model.evaluate(X_test, y_test, verbose=1)\n",
    "print('Test loss:', scores[0])\n",
    "print('Test accuracy:', scores[1])\n",
    "\n",
    "# 对数据进行可视化（测试数据中的开头 10 个）\n",
    "for i in range(10):\n",
    "    plt.subplot(2, 5, i+1)\n",
    "    plt.imshow(X_test[i])\n",
    "plt.suptitle(\"The first ten of the test data\",fontsize=20)\n",
    "plt.show()\n",
    "\n",
    "# 对数据进行预测（测试数据中的开头 10 个）\n",
    "pred = np.argmax(model.predict(X_test[0:10]), axis=1)\n",
    "print(pred)\n",
    "\n",
    "model.summary()"
   ]
  },
  {
   "cell_type": "markdown",
   "metadata": {},
   "source": [
    "**程序清单 21.9：习题**"
   ]
  },
  {
   "cell_type": "markdown",
   "metadata": {},
   "source": [
    "#### □参考答案"
   ]
  },
  {
   "cell_type": "code",
   "execution_count": 5,
   "metadata": {},
   "outputs": [
    {
     "name": "stdout",
     "output_type": "stream",
     "text": [
      "Downloading data from https://www.cs.toronto.edu/~kriz/cifar-10-python.tar.gz\n",
      "170500096/170498071 [==============================] - 94s 1us/step\n",
      "Epoch 1/1\n",
      "300/300 [==============================] - 2s 6ms/step - loss: 12.6862 - acc: 0.1033\n",
      "100/100 [==============================] - 0s 2ms/step\n",
      "Test loss: 6.4445123291015625\n",
      "Test accuracy: 0.09\n"
     ]
    },
    {
     "data": {
      "image/png": "[encoded data removed]",
      "text/plain": [
       "<Figure size 432x288 with 10 Axes>"
      ]
     },
     "metadata": {
      "needs_background": "light"
     },
     "output_type": "display_data"
    },
    {
     "name": "stdout",
     "output_type": "stream",
     "text": [
      "[4 9 9 9 9 9 4 8 9 9]\n",
      "_________________________________________________________________\n",
      "Layer (type)                 Output Shape              Param #   \n",
      "=================================================================\n",
      "conv2d_5 (Conv2D)            (None, 32, 32, 32)        896       \n",
      "_________________________________________________________________\n",
      "activation_8 (Activation)    (None, 32, 32, 32)        0         \n",
      "_________________________________________________________________\n",
      "conv2d_6 (Conv2D)            (None, 30, 30, 32)        9248      \n",
      "_________________________________________________________________\n",
      "activation_9 (Activation)    (None, 30, 30, 32)        0         \n",
      "_________________________________________________________________\n",
      "max_pooling2d_4 (MaxPooling2 (None, 15, 15, 32)        0         \n",
      "_________________________________________________________________\n",
      "dropout_3 (Dropout)          (None, 15, 15, 32)        0         \n",
      "_________________________________________________________________\n",
      "conv2d_7 (Conv2D)            (None, 15, 15, 64)        18496     \n",
      "_________________________________________________________________\n",
      "activation_10 (Activation)   (None, 15, 15, 64)        0         \n",
      "_________________________________________________________________\n",
      "conv2d_8 (Conv2D)            (None, 13, 13, 64)        36928     \n",
      "_________________________________________________________________\n",
      "activation_11 (Activation)   (None, 13, 13, 64)        0         \n",
      "_________________________________________________________________\n",
      "max_pooling2d_5 (MaxPooling2 (None, 6, 6, 64)          0         \n",
      "_________________________________________________________________\n",
      "dropout_4 (Dropout)          (None, 6, 6, 64)          0         \n",
      "_________________________________________________________________\n",
      "flatten_3 (Flatten)          (None, 2304)              0         \n",
      "_________________________________________________________________\n",
      "dense_6 (Dense)              (None, 512)               1180160   \n",
      "_________________________________________________________________\n",
      "activation_12 (Activation)   (None, 512)               0         \n",
      "_________________________________________________________________\n",
      "dropout_5 (Dropout)          (None, 512)               0         \n",
      "_________________________________________________________________\n",
      "dense_7 (Dense)              (None, 10)                5130      \n",
      "_________________________________________________________________\n",
      "activation_13 (Activation)   (None, 10)                0         \n",
      "=================================================================\n",
      "Total params: 1,250,858\n",
      "Trainable params: 1,250,858\n",
      "Non-trainable params: 0\n",
      "_________________________________________________________________\n"
     ]
    }
   ],
   "source": [
    "import keras\n",
    "from keras.datasets import cifar10\n",
    "from keras.layers import Activation, Conv2D, Dense, Dropout, Flatten, MaxPooling2D\n",
    "from keras.models import Sequential, load_model\n",
    "from keras.utils.np_utils import to_categorical\n",
    "import numpy as np\n",
    "import matplotlib.pyplot as plt\n",
    "%matplotlib inline\n",
    "\n",
    "# 载入数据\n",
    "(X_train, y_train), (X_test, y_test) = cifar10.load_data()\n",
    "\n",
    "# 这里将全部数据中的 300 幅图像作为学习数据，100 幅图像作为测试数据使用\n",
    "X_train = X_train[:300]\n",
    "X_test = X_test[:100]\n",
    "y_train = to_categorical(y_train)[:300]\n",
    "y_test = to_categorical(y_test)[:100]\n",
    "\n",
    "\n",
    "# 定义模型\n",
    "model = Sequential()\n",
    "model.add(Conv2D(32, (3, 3), padding='same',\n",
    "                 input_shape=X_train.shape[1:]))\n",
    "model.add(Activation('relu'))\n",
    "model.add(Conv2D(32, (3, 3)))\n",
    "model.add(Activation('relu'))\n",
    "model.add(MaxPooling2D(pool_size=(2, 2)))\n",
    "model.add(Dropout(0.25))\n",
    "\n",
    "# --------------------------------------------------------------\n",
    "# 请在此处输入代码\n",
    "model.add(Conv2D(64, (3, 3), padding='same'))\n",
    "model.add(Activation('relu'))\n",
    "model.add(Conv2D(64, (3, 3)))\n",
    "model.add(Activation('relu'))\n",
    "model.add(MaxPooling2D(pool_size=(2, 2)))\n",
    "model.add(Dropout(0.25))\n",
    "# --------------------------------------------------------------\n",
    "model.add(Flatten())\n",
    "model.add(Dense(512))\n",
    "model.add(Activation('relu'))\n",
    "model.add(Dropout(0.5))\n",
    "model.add(Dense(10))\n",
    "model.add(Activation('softmax'))\n",
    "\n",
    "# 编译模型\n",
    "opt = keras.optimizers.rmsprop(lr=0.0001, decay=1e-6)\n",
    "model.compile(loss='categorical_crossentropy',\n",
    "              optimizer=opt,\n",
    "              metrics=['accuracy'])\n",
    "\n",
    "# 开始学习\n",
    "model.fit(X_train, y_train, batch_size=32, epochs=1)\n",
    "\n",
    "# 如果要对权重进行保存的话，可使用如下处理\n",
    "model.save_weights('param_cifar10.hdf5')\n",
    "\n",
    "# 对精度进行评估\n",
    "scores = model.evaluate(X_test, y_test, verbose=1)\n",
    "print('Test loss:', scores[0])\n",
    "print('Test accuracy:', scores[1])\n",
    "\n",
    "# 对数据进行可视化（测试数据中的开头 10 个）\n",
    "for i in range(10):\n",
    "    plt.subplot(2, 5, i+1)\n",
    "    plt.imshow(X_test[i])\n",
    "plt.suptitle(\"The first ten of the test data\",fontsize=20)\n",
    "plt.show()\n",
    "\n",
    "# 对数据进行预测（测试数据中的开头 10 个）\n",
    "pred = np.argmax(model.predict(X_test[0:10]), axis=1)\n",
    "print(pred)\n",
    "\n",
    "model.summary()"
   ]
  },
  {
   "cell_type": "markdown",
   "metadata": {},
   "source": [
    "**程序清单21.10：参考答案**"
   ]
  },
  {
   "cell_type": "markdown",
   "metadata": {
    "id": "section_name",
    "sectionId": "SJtU__saBf"
   },
   "source": [
    "## ●21.3 超参数"
   ]
  },
  {
   "cell_type": "markdown",
   "metadata": {
    "courseId": 5100,
    "exerciseId": "Sk5LO_s6Bz",
    "id": "code_session_name",
    "important": false,
    "isDL": false,
    "timeoutSecs": 10
   },
   "source": [
    "### ○21.3.1 filters （Conv层）"
   ]
  },
  {
   "cell_type": "markdown",
   "metadata": {},
   "source": [
    "#### □习题"
   ]
  },
  {
   "cell_type": "code",
   "execution_count": null,
   "metadata": {
    "collapsed": true,
    "id": "index",
    "scrolled": true
   },
   "outputs": [],
   "source": [
    "import numpy as np\n",
    "import matplotlib.pyplot as plt\n",
    "import urllib.request\n",
    "\n",
    "# 定义一个非常简单的卷积层\n",
    "# 只提供对单通道图像进行卷积处理的支持\n",
    "# 作为一个简单的示例，将核固定为 3×3 大小，不考虑 strides 或 padding等设置\n",
    "class Conv:\n",
    "    def __init__(self, filters):\n",
    "        self.filters = filters\n",
    "        self.W = np.random.rand(filters,3,3)\n",
    "    def f_prop(self, X):\n",
    "        out = np.zeros((filters, X.shape[0]-2, X.shape[1]-2))\n",
    "        for k in range(self.filters):\n",
    "            for i in range(out[0].shape[0]):\n",
    "                for j in range(out[0].shape[1]):\n",
    "                    x = X[i:i+3, j:j+3]\n",
    "                    out[k,i,j] = np.dot(self.W[k].flatten(), \n",
    "                                        x.flatten())\n",
    "        return out\n",
    "\n",
    "local_filename, headers = urllib.request.urlretrieve('https://aidemyexcontentsdata.blob.core.windows.net/data/5100_cnn/circle.npy') \n",
    "X = np.load(local_filename)\n",
    "\n",
    "filters=10\n",
    "\n",
    "# 创建卷积层\n",
    "conv = Conv(filters=filters)\n",
    "\n",
    "# 请执行卷积处理\n",
    "C = \n",
    "# --------------------------------------------------------------\n",
    "# 以下部分全是用于实现可视化处理的代码\n",
    "# --------------------------------------------------------------\n",
    "plt.imshow(X)\n",
    "plt.title('The original image', fontsize=12)\n",
    "plt.show()\n",
    "\n",
    "plt.figure(figsize=(5,2))\n",
    "for i in range(filters):\n",
    "    plt.subplot(2,filters/2,i+1)\n",
    "    ax = plt.gca() # get current axis\n",
    "    ax.tick_params(labelbottom=\"off\", labelleft=\"off\", bottom=\"off\", \n",
    "                   left=\"off\") # 删除坐标轴\n",
    "    plt.imshow(conv.W[i])\n",
    "plt.suptitle('kernel', fontsize=12)\n",
    "plt.show()\n",
    "\n",
    "plt.figure(figsize=(5,2))\n",
    "for i in range(filters):\n",
    "    plt.subplot(2,filters/2,i+1)\n",
    "    ax = plt.gca() # get current axis\n",
    "    ax.tick_params(labelbottom=\"off\", labelleft=\"off\", bottom=\"off\", \n",
    "                   left=\"off\") # 删除坐标轴\n",
    "    plt.imshow(C[i])\n",
    "plt.suptitle('Convolution result', fontsize=12)\n",
    "plt.show()"
   ]
  },
  {
   "cell_type": "markdown",
   "metadata": {},
   "source": [
    "**程序清单21.11：习题**"
   ]
  },
  {
   "cell_type": "markdown",
   "metadata": {},
   "source": [
    "#### □参考答案"
   ]
  },
  {
   "cell_type": "code",
   "execution_count": 6,
   "metadata": {
    "id": "answer"
   },
   "outputs": [
    {
     "data": {
      "image/png": "[encoded data removed]",
      "text/plain": [
       "<Figure size 432x288 with 1 Axes>"
      ]
     },
     "metadata": {
      "needs_background": "light"
     },
     "output_type": "display_data"
    },
    {
     "name": "stderr",
     "output_type": "stream",
     "text": [
      "C:\\Users\\miyakoshi\\Anaconda3\\envs\\aidemytest\\lib\\site-packages\\matplotlib\\cbook\\deprecation.py:107: MatplotlibDeprecationWarning: Passing one of 'on', 'true', 'off', 'false' as a boolean is deprecated; use an actual boolean (True/False) instead.\n",
      "  warnings.warn(message, mplDeprecation, stacklevel=1)\n"
     ]
    },
    {
     "data": {
      "image/png": "[encoded data removed]",
      "text/plain": [
       "<Figure size 360x144 with 10 Axes>"
      ]
     },
     "metadata": {},
     "output_type": "display_data"
    },
    {
     "data": {
      "image/png": "[encoded data removed]",
      "text/plain": [
       "<Figure size 360x144 with 10 Axes>"
      ]
     },
     "metadata": {},
     "output_type": "display_data"
    }
   ],
   "source": [
    "import numpy as np\n",
    "import matplotlib.pyplot as plt\n",
    "import urllib.request\n",
    "\n",
    "# 定义一个非常简单的卷积层\n",
    "# 只提供对单通道图像进行卷积处理的支持\n",
    "# 作为一个简单的示例，将核固定为 3×3 大小，不考虑 strides 或 padding等设置\n",
    "class Conv:\n",
    "    def __init__(self, filters):\n",
    "        self.filters = filters\n",
    "        self.W = np.random.rand(filters,3,3)\n",
    "    def f_prop(self, X):\n",
    "        out = np.zeros((filters, X.shape[0]-2, X.shape[1]-2))\n",
    "        for k in range(self.filters):\n",
    "            for i in range(out[0].shape[0]):\n",
    "                for j in range(out[0].shape[1]):\n",
    "                    x = X[i:i+3, j:j+3]\n",
    "                    out[k, i, j] = np.dot(self.W[k].flatten(), \n",
    "                                          x.flatten())\n",
    "        return out\n",
    "\n",
    "local_filename, headers = urllib.request.urlretrieve('https://aidemyexcontentsdata.blob.core.windows.net/data/5100_cnn/circle.npy') \n",
    "X = np.load(local_filename)\n",
    "\n",
    "filters=10\n",
    "\n",
    "# 创建卷积层\n",
    "conv = Conv(filters=filters)\n",
    "\n",
    "# 请执行卷积处理\n",
    "C = conv.f_prop(X)\n",
    "# --------------------------------------------------------------\n",
    "# 以下部分全是用于实现可视化处理的代码\n",
    "# --------------------------------------------------------------\n",
    "plt.imshow(X)\n",
    "plt.title('The original image', fontsize=12)\n",
    "plt.show()\n",
    "\n",
    "plt.figure(figsize=(5,2))\n",
    "for i in range(filters):\n",
    "    plt.subplot(2,filters/2,i+1)\n",
    "    ax = plt.gca() # get current axis\n",
    "    ax.tick_params(labelbottom=\"off\", labelleft=\"off\", bottom=\"off\", \n",
    "                   left=\"off\") # 删除坐标轴\n",
    "    plt.imshow(conv.W[i])\n",
    "plt.suptitle('kernel', fontsize=12)\n",
    "plt.show()\n",
    "\n",
    "plt.figure(figsize=(5,2))\n",
    "for i in range(filters):\n",
    "    plt.subplot(2,filters/2,i+1)\n",
    "    ax = plt.gca() # get current axis\n",
    "    ax.tick_params(labelbottom=\"off\", labelleft=\"off\", bottom=\"off\", \n",
    "                   left=\"off\") # 删除坐标轴\n",
    "    plt.imshow(C[i])\n",
    "plt.suptitle('Convolution result', fontsize=12)\n",
    "plt.show()"
   ]
  },
  {
   "cell_type": "markdown",
   "metadata": {},
   "source": [
    "**程序清单 21.12：参考答案**"
   ]
  },
  {
   "cell_type": "markdown",
   "metadata": {
    "courseId": 5100,
    "exerciseId": "BJiIu_sTSG",
    "id": "code_session_name",
    "important": false,
    "isDL": false,
    "timeoutSecs": 10
   },
   "source": [
    "### ○21.3.2 kernel_size （Conv层）"
   ]
  },
  {
   "cell_type": "markdown",
   "metadata": {},
   "source": [
    "#### □习题"
   ]
  },
  {
   "cell_type": "code",
   "execution_count": null,
   "metadata": {
    "collapsed": true,
    "id": "index",
    "scrolled": false
   },
   "outputs": [],
   "source": [
    "import numpy as np\n",
    "import matplotlib.pyplot as plt\n",
    "import urllib.request\n",
    "\n",
    "# 定义一个非常简单的卷积层\n",
    "# 只提供对单通道图像进行卷积处理的支持\n",
    "# 作为一个简单的示例，不考虑 strides 或 padding 等设置\n",
    "class Conv:\n",
    "    def __init__(self, filters, kernel_size):\n",
    "        self.filters = filters\n",
    "        self.kernel_size = kernel_size\n",
    "        self.W = np.random.rand(filters, kernel_size[0], kernel_size[1])\n",
    "    def f_prop(self, X):\n",
    "        k_h, k_w = self.kernel_size\n",
    "        out = np.zeros((filters, X.shape[0]-k_h+1, X.shape[1]-k_w+1))\n",
    "        for k in range(self.filters):\n",
    "            for i in range(out[0].shape[0]):\n",
    "                for j in range(out[0].shape[1]):\n",
    "                    x = X[i:i+k_h, j:j+k_w]\n",
    "                    out[k,i,j] = np.dot(self.W[k].flatten(), x.flatten())\n",
    "        return out\n",
    "\n",
    "local_filename, headers = urllib.request.urlretrieve('https://aidemyexcontentsdata.blob.core.windows.net/data/5100_cnn/circle.npy') \n",
    "X = np.load(local_filename)\n",
    "\n",
    "# 进行卷积处理1\n",
    "filters = 4\n",
    "kernel_size = (3,3)\n",
    "\n",
    "# 创建卷积层\n",
    "conv1 = Conv(filters=filters, kernel_size=kernel_size)\n",
    "\n",
    "# 执行卷积处理\n",
    "C1 = conv1.f_prop(X)\n",
    "\n",
    "# 进行卷积处理2\n",
    "filters = 4\n",
    "kernel_size = (6,6)\n",
    "\n",
    "# 请创建卷积层\n",
    "conv2 = \n",
    "\n",
    "# 请执行卷积处理\n",
    "C2 = \n",
    "# --------------------------------------------------------------\n",
    "# 以下部分全是用于实现可视化处理的代码\n",
    "# --------------------------------------------------------------\n",
    "plt.imshow(X)\n",
    "plt.title('The original image', fontsize=12)\n",
    "plt.show()\n",
    "\n",
    "plt.figure(figsize=(10,1))\n",
    "for i in range(filters):\n",
    "    plt.subplot(1,filters,i+1)\n",
    "    ax = plt.gca() # get current axis\n",
    "    ax.tick_params(labelbottom=\"off\", labelleft=\"off\", bottom=\"off\", \n",
    "                   left=\"off\") # 删除坐标轴\n",
    "    plt.imshow(conv1.W[i])\n",
    "plt.suptitle('Kernel Visualization', fontsize=12)\n",
    "plt.show()\n",
    "\n",
    "plt.figure(figsize=(10,1))\n",
    "for i in range(filters):\n",
    "    plt.subplot(1,filters,i+1)\n",
    "    ax = plt.gca() # get current axis\n",
    "    ax.tick_params(labelbottom=\"off\", labelleft=\"off\", bottom=\"off\", \n",
    "                   left=\"off\") # 删除坐标轴\n",
    "    plt.imshow(C1[i])\n",
    "plt.suptitle('Convolution result 1', fontsize=12)\n",
    "plt.show()\n",
    "\n",
    "plt.figure(figsize=(10,1))\n",
    "for i in range(filters):\n",
    "    plt.subplot(1,filters,i+1)\n",
    "    ax = plt.gca() # get current axis\n",
    "    ax.tick_params(labelbottom=\"off\", labelleft=\"off\", bottom=\"off\", \n",
    "                   left=\"off\") # 删除坐标轴\n",
    "    plt.imshow(conv2.W[i])\n",
    "plt.suptitle('Kernel Visualization', fontsize=12)\n",
    "plt.show()\n",
    "\n",
    "plt.figure(figsize=(10,1))\n",
    "for i in range(filters):\n",
    "    plt.subplot(1,filters,i+1)\n",
    "    ax = plt.gca() # get current axis\n",
    "    ax.tick_params(labelbottom=\"off\", labelleft=\"off\", bottom=\"off\", \n",
    "                   left=\"off\") # 删除坐标轴\n",
    "    plt.imshow(C2[i])\n",
    "plt.suptitle('Convolution result 2', fontsize=12)\n",
    "plt.show()"
   ]
  },
  {
   "cell_type": "markdown",
   "metadata": {},
   "source": [
    "**程序清单 21.13：习题**"
   ]
  },
  {
   "cell_type": "markdown",
   "metadata": {},
   "source": [
    "#### □解答"
   ]
  },
  {
   "cell_type": "code",
   "execution_count": 7,
   "metadata": {
    "id": "answer"
   },
   "outputs": [
    {
     "data": {
      "image/png": "[encoded data removed]",
      "text/plain": [
       "<Figure size 432x288 with 1 Axes>"
      ]
     },
     "metadata": {
      "needs_background": "light"
     },
     "output_type": "display_data"
    },
    {
     "name": "stderr",
     "output_type": "stream",
     "text": [
      "C:\\Users\\miyakoshi\\Anaconda3\\envs\\aidemytest\\lib\\site-packages\\matplotlib\\cbook\\deprecation.py:107: MatplotlibDeprecationWarning: Passing one of 'on', 'true', 'off', 'false' as a boolean is deprecated; use an actual boolean (True/False) instead.\n",
      "  warnings.warn(message, mplDeprecation, stacklevel=1)\n"
     ]
    },
    {
     "data": {
      "image/png": "[encoded data removed]",
      "text/plain": [
       "<Figure size 720x72 with 4 Axes>"
      ]
     },
     "metadata": {},
     "output_type": "display_data"
    },
    {
     "data": {
      "image/png": "[encoded data removed]",
      "text/plain": [
       "<Figure size 720x72 with 4 Axes>"
      ]
     },
     "metadata": {},
     "output_type": "display_data"
    },
    {
     "data": {
      "image/png": "[encoded data removed]",
      "text/plain": [
       "<Figure size 720x72 with 4 Axes>"
      ]
     },
     "metadata": {},
     "output_type": "display_data"
    },
    {
     "data": {
      "image/png": "[encoded data removed]",
      "text/plain": [
       "<Figure size 720x72 with 4 Axes>"
      ]
     },
     "metadata": {},
     "output_type": "display_data"
    }
   ],
   "source": [
    "import numpy as np\n",
    "import matplotlib.pyplot as plt\n",
    "import urllib.request\n",
    "\n",
    "# 定义一个非常简单的卷积层\n",
    "# 只提供对单通道图像进行卷积处理的支持\n",
    "# 作为一个简单的示例，不考虑 strides 或 padding 等设置\n",
    "class Conv:\n",
    "    def __init__(self, filters, kernel_size):\n",
    "        self.filters = filters\n",
    "        self.kernel_size = kernel_size\n",
    "        self.W = np.random.rand(filters, kernel_size[0], kernel_size[1])\n",
    "    def f_prop(self, X):\n",
    "        k_h, k_w = self.kernel_size\n",
    "        out = np.zeros((filters, X.shape[0]-k_h+1, X.shape[1]-k_w+1))\n",
    "        for k in range(self.filters):\n",
    "            for i in range(out[0].shape[0]):\n",
    "                for j in range(out[0].shape[1]):\n",
    "                    x = X[i:i+k_h, j:j+k_w]\n",
    "                    out[k,i,j] = np.dot(self.W[k].flatten(), \n",
    "                                        x.flatten())\n",
    "        return out\n",
    "\n",
    "local_filename, headers = urllib.request.urlretrieve('https://aidemyexcontentsdata.blob.core.windows.net/data/5100_cnn/circle.npy') \n",
    "X = np.load(local_filename)\n",
    "\n",
    "# 进行卷积处理1\n",
    "filters = 4\n",
    "kernel_size = (3,3)\n",
    "\n",
    "# 创建卷积层\n",
    "conv1 = Conv(filters=filters, kernel_size=kernel_size)\n",
    "\n",
    "# 执行卷积处理\n",
    "C1 = conv1.f_prop(X)\n",
    "\n",
    "# 进行卷积处理2\n",
    "filters = 4\n",
    "kernel_size = (6,6)\n",
    "\n",
    "# 请创建卷积层\n",
    "conv2 = Conv(filters=filters, kernel_size=kernel_size)\n",
    "\n",
    "# 请执行卷积处理\n",
    "C2 = conv2.f_prop(X)\n",
    "# --------------------------------------------------------------\n",
    "# 以下部分全是用于实现可视化处理的代码\n",
    "# --------------------------------------------------------------\n",
    "plt.imshow(X)\n",
    "plt.title('The original image', fontsize=12)\n",
    "plt.show()\n",
    "\n",
    "plt.figure(figsize=(10,1))\n",
    "for i in range(filters):\n",
    "    plt.subplot(1,filters,i+1)\n",
    "    ax = plt.gca() # get current axis\n",
    "    ax.tick_params(labelbottom=\"off\", labelleft=\"off\", bottom=\"off\", \n",
    "                   left=\"off\") # 删除坐标轴\n",
    "    plt.imshow(conv1.W[i])\n",
    "plt.suptitle('Kernel Visualization', fontsize=12)\n",
    "plt.show()\n",
    "\n",
    "plt.figure(figsize=(10,1))\n",
    "for i in range(filters):\n",
    "    plt.subplot(1,filters,i+1)\n",
    "    ax = plt.gca() # get current axis\n",
    "    ax.tick_params(labelbottom=\"off\", labelleft=\"off\", bottom=\"off\", \n",
    "                   left=\"off\") # 删除坐标轴\n",
    "    plt.imshow(C1[i])\n",
    "plt.suptitle('Convolution result1', fontsize=12)\n",
    "plt.show()\n",
    "\n",
    "plt.figure(figsize=(10,1))\n",
    "for i in range(filters):\n",
    "    plt.subplot(1,filters,i+1)\n",
    "    ax = plt.gca() # get current axis\n",
    "    ax.tick_params(labelbottom=\"off\", labelleft=\"off\", bottom=\"off\", \n",
    "                   left=\"off\") # 删除坐标轴\n",
    "    plt.imshow(conv2.W[i])\n",
    "plt.suptitle('Kernel Visualization', fontsize=12)\n",
    "plt.show()\n",
    "\n",
    "plt.figure(figsize=(10,1))\n",
    "for i in range(filters):\n",
    "    plt.subplot(1,filters,i+1)\n",
    "    ax = plt.gca() # get current axis\n",
    "    ax.tick_params(labelbottom=\"off\", labelleft=\"off\", bottom=\"off\", \n",
    "                   left=\"off\") # 删除坐标轴\n",
    "    plt.imshow(C2[i])\n",
    "plt.suptitle('Convolution result2', fontsize=12)\n",
    "plt.show()"
   ]
  },
  {
   "cell_type": "markdown",
   "metadata": {},
   "source": [
    "**程序清单 21.14：参考答案**"
   ]
  },
  {
   "cell_type": "markdown",
   "metadata": {
    "courseId": 5100,
    "exerciseId": "SknIudsTHG",
    "id": "code_session_name",
    "important": false,
    "isDL": false,
    "timeoutSecs": 10
   },
   "source": [
    "### ○21.3.3 strides （Conv层） "
   ]
  },
  {
   "cell_type": "markdown",
   "metadata": {},
   "source": [
    "#### □习题"
   ]
  },
  {
   "cell_type": "code",
   "execution_count": null,
   "metadata": {
    "id": "index"
   },
   "outputs": [],
   "source": [
    "import numpy as np\n",
    "import matplotlib.pyplot as plt\n",
    "import urllib.request\n",
    "\n",
    "# 定义一个非常简单的卷积层\n",
    "# 只提供对单通道图像进行卷积处理的支持\n",
    "# 作为一个简单的示例，不考虑 padding 的设置 \n",
    "class Conv:\n",
    "    def __init__(self, filters, kernel_size, strides):\n",
    "        self.filters = filters\n",
    "        self.kernel_size = kernel_size\n",
    "        self.strides = strides\n",
    "        self.W = np.random.rand(filters, kernel_size[0], kernel_size[1])\n",
    "    def f_prop(self, X):\n",
    "        k_h = self.kernel_size[0]\n",
    "        k_w = self.kernel_size[1]\n",
    "        s_h = self.strides[0]\n",
    "        s_w = self.strides[1]\n",
    "        out = np.zeros((filters, (X.shape[0]-k_h)//s_h+1, \n",
    "                        (X.shape[1]-k_w)//s_w+1))\n",
    "        for k in range(self.filters):\n",
    "            for i in range(out[0].shape[0]):\n",
    "                for j in range(out[0].shape[1]):\n",
    "                    x = X[i*s_h:i*s_h+k_h, j*s_w:j*s_w+k_w]\n",
    "                    out[k,i,j] = np.dot(self.W[k].flatten(), x.flatten())\n",
    "        return out\n",
    "\n",
    "local_filename, headers = urllib.request.urlretrieve('https://aidemyexcontentsdata.blob.core.windows.net/data/5100_cnn/circle.npy') \n",
    "X = np.load(local_filename)\n",
    "\n",
    "# 进行卷积处理1\n",
    "filters = 4\n",
    "kernel_size = (3,3)\n",
    "strides = (1,1)\n",
    "\n",
    "# 创建卷积层\n",
    "conv1 = Conv(filters=filters, kernel_size=kernel_size, strides=strides)\n",
    "\n",
    "# 执行卷积处理\n",
    "C1 = conv1.f_prop(X)\n",
    "\n",
    "# 进行卷积处理2\n",
    "filters = 4\n",
    "kernel_size = (3,3)\n",
    "strides = (2,2)\n",
    "\n",
    "# 请创建卷积层\n",
    "conv2 = \n",
    "conv2.W = conv1.W # 对所使用的核进行统一\n",
    "\n",
    "# 请执行卷积处理\n",
    "C2 = \n",
    "# --------------------------------------------------------------\n",
    "# 以下部分全是用于实现可视化处理的代码\n",
    "# --------------------------------------------------------------\n",
    "plt.imshow(X)\n",
    "plt.title('The original image', fontsize=12)\n",
    "plt.show()\n",
    "\n",
    "plt.figure(figsize=(10,1))\n",
    "for i in range(filters):\n",
    "    plt.subplot(1,filters,i+1)\n",
    "    ax = plt.gca() # get current axis\n",
    "    ax.tick_params(labelbottom=\"off\", labelleft=\"off\", bottom=\"off\", \n",
    "                   left=\"off\") # 删除坐标轴\n",
    "    plt.imshow(conv1.W[i])\n",
    "plt.suptitle('Kernel Visualization', fontsize=12)\n",
    "plt.show()\n",
    "\n",
    "plt.figure(figsize=(10,1))\n",
    "for i in range(filters):\n",
    "    plt.subplot(1,filters,i+1)\n",
    "    ax = plt.gca() # get current axis\n",
    "    ax.tick_params(labelbottom=\"off\", labelleft=\"off\", bottom=\"off\", \n",
    "                   left=\"off\") # 删除坐标轴\n",
    "    plt.imshow(C1[i])\n",
    "plt.suptitle('Convolution result 1', fontsize=12)\n",
    "plt.show()\n",
    "\n",
    "plt.figure(figsize=(10,1))\n",
    "for i in range(filters):\n",
    "    plt.subplot(1,filters,i+1)\n",
    "    ax = plt.gca() # get current axis\n",
    "    ax.tick_params(labelbottom=\"off\", labelleft=\"off\", bottom=\"off\", \n",
    "                   left=\"off\") # 删除坐标轴\n",
    "    plt.imshow(conv2.W[i])\n",
    "plt.suptitle('Kernel Visualization', fontsize=12)\n",
    "plt.show()\n",
    "\n",
    "plt.figure(figsize=(10,1))\n",
    "for i in range(filters):\n",
    "    plt.subplot(1,filters,i+1)\n",
    "    ax = plt.gca() # get current axis\n",
    "    ax.tick_params(labelbottom=\"off\", labelleft=\"off\", bottom=\"off\", \n",
    "                   left=\"off\") # 删除坐标轴\n",
    "    plt.imshow(C2[i])\n",
    "plt.suptitle('Convolution result 2', fontsize=12)\n",
    "plt.show()"
   ]
  },
  {
   "cell_type": "markdown",
   "metadata": {},
   "source": [
    "**程序清单 21.15：习题** 作为一个简单的示例，不考虑 padding 的设置 "
   ]
  },
  {
   "cell_type": "markdown",
   "metadata": {},
   "source": [
    "#### □参考答案"
   ]
  },
  {
   "cell_type": "code",
   "execution_count": 8,
   "metadata": {
    "id": "answer"
   },
   "outputs": [
    {
     "data": {
      "image/png": "[encoded data removed]",
      "text/plain": [
       "<Figure size 432x288 with 1 Axes>"
      ]
     },
     "metadata": {
      "needs_background": "light"
     },
     "output_type": "display_data"
    },
    {
     "name": "stderr",
     "output_type": "stream",
     "text": [
      "C:\\Users\\miyakoshi\\Anaconda3\\envs\\aidemytest\\lib\\site-packages\\matplotlib\\cbook\\deprecation.py:107: MatplotlibDeprecationWarning: Passing one of 'on', 'true', 'off', 'false' as a boolean is deprecated; use an actual boolean (True/False) instead.\n",
      "  warnings.warn(message, mplDeprecation, stacklevel=1)\n"
     ]
    },
    {
     "data": {
      "image/png": "[encoded data removed]",
      "text/plain": [
       "<Figure size 720x72 with 4 Axes>"
      ]
     },
     "metadata": {},
     "output_type": "display_data"
    },
    {
     "data": {
      "image/png": "[encoded data removed]",
      "text/plain": [
       "<Figure size 720x72 with 4 Axes>"
      ]
     },
     "metadata": {},
     "output_type": "display_data"
    },
    {
     "data": {
      "image/png": "[encoded data removed]",
      "text/plain": [
       "<Figure size 720x72 with 4 Axes>"
      ]
     },
     "metadata": {},
     "output_type": "display_data"
    },
    {
     "data": {
      "image/png": "[encoded data removed]",
      "text/plain": [
       "<Figure size 720x72 with 4 Axes>"
      ]
     },
     "metadata": {},
     "output_type": "display_data"
    }
   ],
   "source": [
    "import numpy as np\n",
    "import matplotlib.pyplot as plt\n",
    "import urllib.request\n",
    "\n",
    "# 定义一个非常简单的卷积层\n",
    "# 只提供对单通道图像进行卷积处理的支持\n",
    "# 作为一个简单的示例，不考虑 padding 的设置 \n",
    "class Conv:\n",
    "    def __init__(self, filters, kernel_size, strides):\n",
    "        self.filters = filters\n",
    "        self.kernel_size = kernel_size\n",
    "        self.strides = strides\n",
    "        self.W = np.random.rand(filters, kernel_size[0], kernel_size[1])\n",
    "    def f_prop(self, X):\n",
    "        k_h = self.kernel_size[0]\n",
    "        k_w = self.kernel_size[1]\n",
    "        s_h = self.strides[0]\n",
    "        s_w = self.strides[1]\n",
    "        out = np.zeros((filters, (X.shape[0]-k_h)//s_h+1, \n",
    "                        (X.shape[1]-k_w)//s_w+1))\n",
    "        for k in range(self.filters):\n",
    "            for i in range(out[0].shape[0]):\n",
    "                for j in range(out[0].shape[1]):\n",
    "                    x = X[i*s_h:i*s_h+k_h, j*s_w:j*s_w+k_w]\n",
    "                    out[k,i,j] = np.dot(self.W[k].flatten(), x.flatten())\n",
    "        return out\n",
    "\n",
    "local_filename, headers = urllib.request.urlretrieve('https://aidemyexcontentsdata.blob.core.windows.net/data/5100_cnn/circle.npy') \n",
    "X = np.load(local_filename)\n",
    "\n",
    "# 进行卷积处理1\n",
    "filters = 4\n",
    "kernel_size = (3,3)\n",
    "strides = (1,1)\n",
    "\n",
    "# 创建卷积层\n",
    "conv1 = Conv(filters=filters, kernel_size=kernel_size, strides=strides)\n",
    "\n",
    "# 执行卷积处理\n",
    "C1 = conv1.f_prop(X)\n",
    "\n",
    "# 进行卷积处理2\n",
    "filters = 4\n",
    "kernel_size = (3,3)\n",
    "strides = (2,2)\n",
    "\n",
    "# 请创建卷积层\n",
    "conv2 = Conv(filters=filters, kernel_size=kernel_size, strides=strides)\n",
    "conv2.W = conv1.W # 对所使用的核进行统一\n",
    "\n",
    "# 请执行卷积处理\n",
    "C2 = conv2.f_prop(X)\n",
    "# --------------------------------------------------------------\n",
    "# 以下部分全是用于实现可视化处理的代码\n",
    "# --------------------------------------------------------------\n",
    "plt.imshow(X)\n",
    "plt.title('The original image', fontsize=12)\n",
    "plt.show()\n",
    "\n",
    "plt.figure(figsize=(10,1))\n",
    "for i in range(filters):\n",
    "    plt.subplot(1,filters,i+1)\n",
    "    ax = plt.gca() # get current axis\n",
    "    ax.tick_params(labelbottom=\"off\", labelleft=\"off\", bottom=\"off\", \n",
    "                   left=\"off\") # 删除坐标轴\n",
    "    plt.imshow(conv1.W[i])\n",
    "plt.suptitle('Kernel Visualization', fontsize=12)\n",
    "plt.show()\n",
    "\n",
    "plt.figure(figsize=(10,1))\n",
    "for i in range(filters):\n",
    "    plt.subplot(1,filters,i+1)\n",
    "    ax = plt.gca() # get current axis\n",
    "    ax.tick_params(labelbottom=\"off\", labelleft=\"off\", bottom=\"off\", \n",
    "                   left=\"off\") # 删除坐标轴\n",
    "    plt.imshow(C1[i])\n",
    "plt.suptitle('Convolution result 1', fontsize=12)\n",
    "plt.show()\n",
    "\n",
    "plt.figure(figsize=(10,1))\n",
    "for i in range(filters):\n",
    "    plt.subplot(1,filters,i+1)\n",
    "    ax = plt.gca() # get current axis\n",
    "    ax.tick_params(labelbottom=\"off\", labelleft=\"off\", bottom=\"off\", \n",
    "                   left=\"off\") # 删除坐标轴\n",
    "    plt.imshow(conv2.W[i])\n",
    "plt.suptitle('Kernel Visualization', fontsize=12)\n",
    "plt.show()\n",
    "\n",
    "plt.figure(figsize=(10,1))\n",
    "for i in range(filters):\n",
    "    plt.subplot(1,filters,i+1)\n",
    "    ax = plt.gca() # get current axis\n",
    "    ax.tick_params(labelbottom=\"off\", labelleft=\"off\", bottom=\"off\", \n",
    "                   left=\"off\") # 删除坐标轴\n",
    "    plt.imshow(C2[i])\n",
    "plt.suptitle('Convolution result 2', fontsize=12)\n",
    "plt.show()"
   ]
  },
  {
   "cell_type": "markdown",
   "metadata": {},
   "source": [
    "**程序清单 21.16：参考答案** "
   ]
  },
  {
   "cell_type": "markdown",
   "metadata": {
    "courseId": 5100,
    "exerciseId": "SJ68uOoaBM",
    "id": "code_session_name",
    "important": false,
    "isDL": false,
    "timeoutSecs": 10
   },
   "source": [
    "### ○21.3.4 padding （Conv层）"
   ]
  },
  {
   "cell_type": "markdown",
   "metadata": {},
   "source": [
    "#### □习题"
   ]
  },
  {
   "cell_type": "code",
   "execution_count": null,
   "metadata": {},
   "outputs": [],
   "source": [
    "import numpy as np\n",
    "import matplotlib.pyplot as plt\n",
    "import urllib.request\n",
    "\n",
    "\n",
    "# 定义一个非常简单的卷积层\n",
    "# 只提供对单通道图像进行卷积处理的支持\n",
    "class Conv:\n",
    "    def __init__(self, filters, kernel_size, strides, padding):\n",
    "        self.filters = filters\n",
    "        self.kernel_size = kernel_size\n",
    "        self.strides = strides\n",
    "        self.padding = padding\n",
    "        self.W = np.random.rand(filters, kernel_size[0], kernel_size[1])\n",
    "    def f_prop(self, X):\n",
    "        k_h, k_w = self.kernel_size\n",
    "        s_h, s_w = self.strides\n",
    "        p_h, p_w = self.padding\n",
    "        out = np.zeros((filters, (X.shape[0]+p_h*2-k_h)//s_h+1, \n",
    "                        (X.shape[1]+p_w*2-k_w)//s_w+1))\n",
    "        # 填充\n",
    "        X = np.pad(X, ((p_h, p_h), (p_w, p_w)), 'constant', \n",
    "                   constant_values=((0,0),(0,0)))\n",
    "        self.X = X # 对变量进行保存，为稍后的可视化处理做准备\n",
    "        for k in range(self.filters):\n",
    "            for i in range(out[0].shape[0]):\n",
    "                for j in range(out[0].shape[1]):\n",
    "                    x = X[i*s_h:i*s_h+k_h, j*s_w:j*s_w+k_w]\n",
    "                    out[k,i,j] = np.dot(self.W[k].flatten(), \n",
    "                                        x.flatten())\n",
    "        return out\n",
    "\n",
    "local_filename, headers = urllib.request.urlretrieve('https://aidemyexcontentsdata.blob.core.windows.net/data/5100_cnn/circle.npy') \n",
    "X = np.load(local_filename)\n",
    "\n",
    "# 进行卷积处理1\n",
    "filters = 4\n",
    "kernel_size = (3,3)\n",
    "strides = (1,1)\n",
    "padding = (0,0)\n",
    "\n",
    "# 创建卷积层\n",
    "conv1 = Conv(filters=filters, kernel_size=kernel_size, strides=strides, \n",
    "             padding=padding)\n",
    "\n",
    "# 执行卷积处理\n",
    "C1 = conv1.f_prop(X)\n",
    "\n",
    "# 进行卷积处理2\n",
    "filters = 4\n",
    "kernel_size = (3,3)\n",
    "strides = (1,1)\n",
    "padding = (2,2)\n",
    "\n",
    "# 请创建卷积层\n",
    "conv2 = \n",
    "conv2.W = conv1.W # 对所使用的权重进行统一\n",
    "\n",
    "# 请执行卷积处理\n",
    "C2 = \n",
    "# --------------------------------------------------------------\n",
    "# 以下部分全是用于实现可视化处理的代码\n",
    "# --------------------------------------------------------------\n",
    "plt.imshow(conv1.X)\n",
    "plt.title('Padding result of convolution 1', fontsize=12)\n",
    "plt.show()\n",
    "\n",
    "plt.figure(figsize=(10,1))\n",
    "for i in range(filters):\n",
    "    plt.subplot(1, filters, i+1)\n",
    "    ax = plt.gca() # get current axis\n",
    "    ax.tick_params(labelbottom=\"off\", labelleft=\"off\", bottom=\"off\", \n",
    "                   left=\"off\") # 删除坐标轴\n",
    "    plt.imshow(conv1.W[i])\n",
    "plt.suptitle('Visualization of the convolution 1 kernel', fontsize=12)\n",
    "plt.show()\n",
    "\n",
    "plt.figure(figsize=(10,1))\n",
    "for i in range(filters):\n",
    "    plt.subplot(1, filters, i+1)\n",
    "    ax = plt.gca() # get current axis\n",
    "    ax.tick_params(labelbottom=\"off\", labelleft=\"off\", bottom=\"off\", \n",
    "                   left=\"off\") # 删除坐标轴\n",
    "    plt.imshow(C1[i])\n",
    "plt.suptitle('Result of convolution 1', fontsize=12)\n",
    "plt.show()\n",
    "\n",
    "plt.imshow(conv2.X)\n",
    "plt.title('Padding result of convolution 2', fontsize=12)\n",
    "plt.show()\n",
    "\n",
    "plt.figure(figsize=(10,1))\n",
    "for i in range(filters):\n",
    "    plt.subplot(1, filters, i+1)\n",
    "    ax = plt.gca() # get current axis\n",
    "    ax.tick_params(labelbottom=\"off\", labelleft=\"off\", bottom=\"off\", \n",
    "                   left=\"off\") # 删除坐标轴\n",
    "    plt.imshow(conv2.W[i])\n",
    "plt.suptitle('Visualization of the convolution 2 kernel', fontsize=12)\n",
    "plt.show()\n",
    "\n",
    "plt.figure(figsize=(10,1))\n",
    "for i in range(filters):\n",
    "    plt.subplot(1, filters, i+1)\n",
    "    ax = plt.gca() # get current axis\n",
    "    ax.tick_params(labelbottom=\"off\", labelleft=\"off\", bottom=\"off\", \n",
    "                   left=\"off\") # 删除坐标轴\n",
    "    plt.imshow(C2[i])\n",
    "plt.suptitle('Result of convolution 2', fontsize=12)\n",
    "plt.show()"
   ]
  },
  {
   "cell_type": "markdown",
   "metadata": {},
   "source": [
    "**程序清单 21.17：习题**"
   ]
  },
  {
   "cell_type": "markdown",
   "metadata": {},
   "source": [
    "#### □参考答案"
   ]
  },
  {
   "cell_type": "code",
   "execution_count": 9,
   "metadata": {
    "id": "answer"
   },
   "outputs": [
    {
     "data": {
      "image/png": "[encoded data removed]",
      "text/plain": [
       "<Figure size 432x288 with 1 Axes>"
      ]
     },
     "metadata": {
      "needs_background": "light"
     },
     "output_type": "display_data"
    },
    {
     "name": "stderr",
     "output_type": "stream",
     "text": [
      "C:\\Users\\miyakoshi\\Anaconda3\\envs\\aidemytest\\lib\\site-packages\\matplotlib\\cbook\\deprecation.py:107: MatplotlibDeprecationWarning: Passing one of 'on', 'true', 'off', 'false' as a boolean is deprecated; use an actual boolean (True/False) instead.\n",
      "  warnings.warn(message, mplDeprecation, stacklevel=1)\n"
     ]
    },
    {
     "data": {
      "image/png": "[encoded data removed]",
      "text/plain": [
       "<Figure size 720x72 with 4 Axes>"
      ]
     },
     "metadata": {},
     "output_type": "display_data"
    },
    {
     "data": {
      "image/png": "[encoded data removed]",
      "text/plain": [
       "<Figure size 720x72 with 4 Axes>"
      ]
     },
     "metadata": {},
     "output_type": "display_data"
    },
    {
     "data": {
      "image/png": "[encoded data removed]",
      "text/plain": [
       "<Figure size 432x288 with 1 Axes>"
      ]
     },
     "metadata": {
      "needs_background": "light"
     },
     "output_type": "display_data"
    },
    {
     "data": {
      "image/png": "[encoded data removed]",
      "text/plain": [
       "<Figure size 720x72 with 4 Axes>"
      ]
     },
     "metadata": {},
     "output_type": "display_data"
    },
    {
     "data": {
      "image/png": "[encoded data removed]",
      "text/plain": [
       "<Figure size 720x72 with 4 Axes>"
      ]
     },
     "metadata": {},
     "output_type": "display_data"
    }
   ],
   "source": [
    "import numpy as np\n",
    "import matplotlib.pyplot as plt\n",
    "import urllib.request\n",
    "\n",
    "# 定义一个非常简单的卷积层\n",
    "# 只提供对单通道图像进行卷积处理的支持\n",
    "class Conv:\n",
    "    def __init__(self, filters, kernel_size, strides, padding):\n",
    "        self.filters = filters\n",
    "        self.kernel_size = kernel_size\n",
    "        self.strides = strides\n",
    "        self.padding = padding\n",
    "        self.W = np.random.rand(filters, kernel_size[0], kernel_size[1])\n",
    "    def f_prop(self, X):\n",
    "        k_h, k_w = self.kernel_size\n",
    "        s_h, s_w = self.strides\n",
    "        p_h, p_w = self.padding\n",
    "        out = np.zeros((filters, (X.shape[0]+p_h*2-k_h)//s_h+1, \n",
    "                        (X.shape[1]+p_w*2-k_w)//s_w+1))\n",
    "        # 填充\n",
    "        X = np.pad(X, ((p_h, p_h), (p_w, p_w)), 'constant', \n",
    "                   constant_values=((0,0),(0,0)))\n",
    "        self.X = X # 对变量进行保存，为稍后的可视化处理做准备\n",
    "        for k in range(self.filters):\n",
    "            for i in range(out[0].shape[0]):\n",
    "                for j in range(out[0].shape[1]):\n",
    "                    x = X[i*s_h:i*s_h+k_h, j*s_w:j*s_w+k_w]\n",
    "                    out[k,i,j] = np.dot(self.W[k].flatten(), x.flatten())\n",
    "        return out\n",
    "\n",
    "local_filename, headers = urllib.request.urlretrieve('https://aidemyexcontentsdata.blob.core.windows.net/data/5100_cnn/circle.npy') \n",
    "X = np.load(local_filename)\n",
    "\n",
    "# 进行卷积处理1\n",
    "filters = 4\n",
    "kernel_size = (3,3)\n",
    "strides = (1,1)\n",
    "padding = (0,0)\n",
    "\n",
    "# 创建卷积层\n",
    "conv1 = Conv(filters=filters, kernel_size=kernel_size, strides=strides, \n",
    "             padding=padding)\n",
    "\n",
    "# 执行卷积处理\n",
    "C1 = conv1.f_prop(X)\n",
    "\n",
    "# 进行卷积处理2\n",
    "filters = 4\n",
    "kernel_size = (3,3)\n",
    "strides = (1,1)\n",
    "padding = (2,2)\n",
    "\n",
    "# 请创建卷积层\n",
    "conv2 = Conv(filters=filters, kernel_size=kernel_size, strides=strides, \n",
    "             padding=padding)\n",
    "conv2.W = conv1.W # 对所使用的权重进行统一\n",
    "\n",
    "# 请执行卷积处理\n",
    "C2 = conv2.f_prop(X)\n",
    "# --------------------------------------------------------------\n",
    "# 以下部分全是用于实现可视化处理的代码\n",
    "# --------------------------------------------------------------\n",
    "plt.imshow(conv1.X)\n",
    "plt.title('Padding result of convolution 1', fontsize=12)\n",
    "plt.show()\n",
    "\n",
    "plt.figure(figsize=(10,1))\n",
    "for i in range(filters):\n",
    "    plt.subplot(1,filters,i+1)\n",
    "    ax = plt.gca() # get current axis\n",
    "    ax.tick_params(labelbottom=\"off\", labelleft=\"off\", bottom=\"off\", \n",
    "                   left=\"off\") # 删除坐标轴\n",
    "    plt.imshow(conv1.W[i])\n",
    "plt.suptitle('Visualization of the convolution 1 kernel', fontsize=12)\n",
    "plt.show()\n",
    "\n",
    "plt.figure(figsize=(10,1))\n",
    "for i in range(filters):\n",
    "    plt.subplot(1,filters,i+1)\n",
    "    ax = plt.gca() # get current axis\n",
    "    ax.tick_params(labelbottom=\"off\", labelleft=\"off\", bottom=\"off\", \n",
    "                   left=\"off\") # 删除坐标轴\n",
    "    plt.imshow(C1[i])\n",
    "plt.suptitle('Result of convolution 1', fontsize=12)\n",
    "plt.show()\n",
    "\n",
    "plt.imshow(conv2.X)\n",
    "plt.title('Padding result of convolution 2', fontsize=12)\n",
    "plt.show()\n",
    "\n",
    "plt.figure(figsize=(10,1))\n",
    "for i in range(filters):\n",
    "    plt.subplot(1,filters,i+1)\n",
    "    ax = plt.gca() # get current axis\n",
    "    ax.tick_params(labelbottom=\"off\", labelleft=\"off\", bottom=\"off\", \n",
    "                   left=\"off\") # 删除坐标轴\n",
    "    plt.imshow(conv2.W[i])\n",
    "plt.suptitle('Visualization of the convolution 2 kernel', fontsize=12)\n",
    "plt.show()\n",
    "\n",
    "plt.figure(figsize=(10,1))\n",
    "for i in range(filters):\n",
    "    plt.subplot(1,filters,i+1)\n",
    "    ax = plt.gca() # get current axis\n",
    "    ax.tick_params(labelbottom=\"off\", labelleft=\"off\", bottom=\"off\", \n",
    "                   left=\"off\") # 删除坐标轴\n",
    "    plt.imshow(C2[i])\n",
    "plt.suptitle('Result of convolution 2', fontsize=12)\n",
    "plt.show()"
   ]
  },
  {
   "cell_type": "markdown",
   "metadata": {},
   "source": [
    "**程序清单 21.18：参考答案**"
   ]
  },
  {
   "cell_type": "markdown",
   "metadata": {
    "courseId": 5100,
    "exerciseId": "r1RIddjprM",
    "id": "code_session_name",
    "important": false,
    "isDL": false,
    "timeoutSecs": 10
   },
   "source": [
    "### ○21.3.5 pool_size （Pool层）"
   ]
  },
  {
   "cell_type": "markdown",
   "metadata": {},
   "source": [
    "#### □习题"
   ]
  },
  {
   "cell_type": "code",
   "execution_count": null,
   "metadata": {
    "collapsed": true,
    "id": "index"
   },
   "outputs": [],
   "source": [
    "import numpy as np\n",
    "import matplotlib.pyplot as plt\n",
    "import urllib.request\n",
    "\n",
    "# 定义一个非常简单的卷积层\n",
    "class Conv:\n",
    "    def __init__(self, W, filters, kernel_size):\n",
    "        self.filters = filters\n",
    "        self.kernel_size = kernel_size\n",
    "        self.W = W # np.random.rand(filters, kernel_size[0], \n",
    "                   # kernel_size[1])\n",
    "    def f_prop(self, X):\n",
    "        k_h, k_w = self.kernel_size\n",
    "        out = np.zeros((filters, X.shape[0]-k_h+1, X.shape[1]-k_w+1))\n",
    "        for k in range(self.filters):\n",
    "            for i in range(out[0].shape[0]):\n",
    "                for j in range(out[0].shape[1]):\n",
    "                    x = X[i:i+k_h, j:j+k_w]\n",
    "                    out[k,i,j] = np.dot(self.W[k].flatten(), \n",
    "                                        x.flatten())\n",
    "        return out\n",
    "\n",
    "# 定义一个非常简单的池化层\n",
    "# 池化层只提供单通道的特征图的支持\n",
    "class Pool:\n",
    "    def __init__(self, pool_size):\n",
    "        self.pool_size = pool_size\n",
    "    def f_prop(self, X):\n",
    "        k_h, k_w = self.pool_size\n",
    "        out = np.zeros((X.shape[0]-k_h+1, X.shape[1]-k_w+1))\n",
    "        for i in range(out.shape[0]):\n",
    "            for j in range(out.shape[1]):\n",
    "                out[i,j] = np.max(X[i:i+k_h, j:j+k_w])\n",
    "        return out\n",
    "\n",
    "local_filename, headers = urllib.request.urlretrieve('https://aidemyexcontentsdata.blob.core.windows.net/data/5100_cnn/circle.npy') \n",
    "X = np.load(local_filename)\n",
    "\n",
    "local_filename_w, headers = urllib.request.urlretrieve('https://aidemyexcontentsdata.blob.core.windows.net/data/5100_cnn/weight.npy') \n",
    "W = np.load(local_filename_w)\n",
    "\n",
    "# 进行卷积处理\n",
    "filters = 4\n",
    "kernel_size = (3,3)\n",
    "conv = Conv(W=W, filters=filters, kernel_size=kernel_size)\n",
    "C = conv.f_prop(X)\n",
    "\n",
    "# 池化处理1\n",
    "pool_size = (2,2)\n",
    "pool1 = Pool(pool_size)\n",
    "P1 = [pool1.f_prop(C[i]) for i in range(len(C))]\n",
    "\n",
    "# 池化处理 2（请进行定义）\n",
    "pool_size = (4,4)\n",
    "pool2 = \n",
    "P2 = \n",
    "# --------------------------------------------------------------\n",
    "# 以下部分全是用于实现可视化处理的代码\n",
    "# --------------------------------------------------------------\n",
    "plt.imshow(X)\n",
    "plt.title('The original image', fontsize=12)\n",
    "plt.show()\n",
    "\n",
    "plt.figure(figsize=(10,1))\n",
    "for i in range(filters):\n",
    "    plt.subplot(1, filters, i+1)\n",
    "    ax = plt.gca() # get current axis\n",
    "    ax.tick_params(labelbottom=\"off\", labelleft=\"off\", bottom=\"off\", \n",
    "                   left=\"off\") # 删除坐标轴\n",
    "    plt.imshow(C[i])\n",
    "plt.suptitle('Convolution result', fontsize=12)\n",
    "plt.show()\n",
    "\n",
    "plt.figure(figsize=(10,1))\n",
    "for i in range(filters):\n",
    "    plt.subplot(1, filters, i+1)\n",
    "    ax = plt.gca() # get current axis\n",
    "    ax.tick_params(labelbottom=\"off\", labelleft=\"off\", bottom=\"off\", \n",
    "                   left=\"off\") # 删除坐标轴\n",
    "    plt.imshow(P1[i])\n",
    "plt.suptitle('Pooling result', fontsize=12)\n",
    "plt.show()\n",
    "\n",
    "plt.figure(figsize=(10,1))\n",
    "for i in range(filters):\n",
    "    plt.subplot(1, filters, i+1)\n",
    "    ax = plt.gca() # get current axis\n",
    "    ax.tick_params(labelbottom=\"off\", labelleft=\"off\", bottom=\"off\", \n",
    "                   left=\"off\") # 删除坐标轴\n",
    "    plt.imshow(P2[i])\n",
    "plt.suptitle('Pooling result', fontsize=12)\n",
    "plt.show()"
   ]
  },
  {
   "cell_type": "markdown",
   "metadata": {},
   "source": [
    "**程序清单 21.19：习题**"
   ]
  },
  {
   "cell_type": "markdown",
   "metadata": {},
   "source": [
    "#### □参考答案"
   ]
  },
  {
   "cell_type": "code",
   "execution_count": 10,
   "metadata": {
    "id": "answer"
   },
   "outputs": [
    {
     "data": {
      "image/png": "[encoded data removed]",
      "text/plain": [
       "<Figure size 432x288 with 1 Axes>"
      ]
     },
     "metadata": {
      "needs_background": "light"
     },
     "output_type": "display_data"
    },
    {
     "name": "stderr",
     "output_type": "stream",
     "text": [
      "C:\\Users\\miyakoshi\\Anaconda3\\envs\\aidemytest\\lib\\site-packages\\matplotlib\\cbook\\deprecation.py:107: MatplotlibDeprecationWarning: Passing one of 'on', 'true', 'off', 'false' as a boolean is deprecated; use an actual boolean (True/False) instead.\n",
      "  warnings.warn(message, mplDeprecation, stacklevel=1)\n"
     ]
    },
    {
     "data": {
      "image/png": "[encoded data removed]",
      "text/plain": [
       "<Figure size 720x72 with 4 Axes>"
      ]
     },
     "metadata": {},
     "output_type": "display_data"
    },
    {
     "data": {
      "image/png": "[encoded data removed]",
      "text/plain": [
       "<Figure size 720x72 with 4 Axes>"
      ]
     },
     "metadata": {},
     "output_type": "display_data"
    },
    {
     "data": {
      "image/png": "[encoded data removed]",
      "text/plain": [
       "<Figure size 720x72 with 4 Axes>"
      ]
     },
     "metadata": {},
     "output_type": "display_data"
    }
   ],
   "source": [
    "import numpy as np\n",
    "import matplotlib.pyplot as plt\n",
    "import urllib.request\n",
    "\n",
    "# 定义一个非常简单的卷积层\n",
    "class Conv:\n",
    "    def __init__(self, W, filters, kernel_size):\n",
    "        self.filters = filters\n",
    "        self.kernel_size = kernel_size\n",
    "        self.W = W # np.random.rand(filters, kernel_size[0], \n",
    "                   # kernel_size[1])\n",
    "    def f_prop(self, X):\n",
    "        k_h, k_w = self.kernel_size\n",
    "        out = np.zeros((filters, X.shape[0]-k_h+1, X.shape[1]-k_w+1))\n",
    "        for k in range(self.filters):\n",
    "            for i in range(out[0].shape[0]):\n",
    "                for j in range(out[0].shape[1]):\n",
    "                    x = X[i:i+k_h, j:j+k_w]\n",
    "                    out[k,i,j] = np.dot(self.W[k].flatten(), \n",
    "                                        x.flatten())\n",
    "        return out\n",
    "\n",
    "# 定义一个非常简单的池化层\n",
    "# 池化层只提供单通道的特征图的支持\n",
    "class Pool:\n",
    "    def __init__(self, pool_size):\n",
    "        self.pool_size = pool_size\n",
    "    def f_prop(self, X):\n",
    "        k_h, k_w = self.pool_size\n",
    "        out = np.zeros((X.shape[0]-k_h+1, X.shape[1]-k_w+1))\n",
    "        for i in range(out.shape[0]):\n",
    "            for j in range(out.shape[1]):\n",
    "                out[i,j] = np.max(X[i:i+k_h, j:j+k_w])\n",
    "        return out\n",
    "\n",
    "local_filename, headers = urllib.request.urlretrieve('https://aidemyexcontentsdata.blob.core.windows.net/data/5100_cnn/circle.npy') \n",
    "X = np.load(local_filename)\n",
    "\n",
    "local_filename_w, headers = urllib.request.urlretrieve('https://aidemyexcontentsdata.blob.core.windows.net/data/5100_cnn/weight.npy') \n",
    "W = np.load(local_filename_w)\n",
    "\n",
    "# 进行卷积处理\n",
    "filters = 4\n",
    "kernel_size = (3,3)\n",
    "conv = Conv(W=W, filters=filters, kernel_size=kernel_size)\n",
    "C = conv.f_prop(X)\n",
    "\n",
    "# 池化处理1\n",
    "pool_size = (2,2)\n",
    "pool1 = Pool(pool_size)\n",
    "P1 = [pool1.f_prop(C[i]) for i in range(len(C))]\n",
    "\n",
    "# 池化处理 2（请进行定义）\n",
    "pool_size = (4,4)\n",
    "pool2 = Pool(pool_size)\n",
    "P2 = [pool2.f_prop(C[i]) for i in range(len(C))]\n",
    "# --------------------------------------------------------------\n",
    "# 以下部分全是用于实现可视化处理的代码\n",
    "# --------------------------------------------------------------\n",
    "plt.imshow(X)\n",
    "plt.title('The original image', fontsize=12)\n",
    "plt.show()\n",
    "\n",
    "plt.figure(figsize=(10,1))\n",
    "for i in range(filters):\n",
    "    plt.subplot(1, filters, i+1)\n",
    "    ax = plt.gca() # get current axis\n",
    "    ax.tick_params(labelbottom=\"off\", labelleft=\"off\", bottom=\"off\", \n",
    "                   left=\"off\") # 删除坐标轴\n",
    "    plt.imshow(C[i])\n",
    "plt.suptitle('Convolution result', fontsize=12)\n",
    "plt.show()\n",
    "\n",
    "plt.figure(figsize=(10,1))\n",
    "for i in range(filters):\n",
    "    plt.subplot(1, filters, i+1)\n",
    "    ax = plt.gca() # get current axis\n",
    "    ax.tick_params(labelbottom=\"off\", labelleft=\"off\", bottom=\"off\", \n",
    "                   left=\"off\") # 删除坐标轴\n",
    "    plt.imshow(P1[i])\n",
    "plt.suptitle('Pooling result', fontsize=12)\n",
    "plt.show()\n",
    "\n",
    "plt.figure(figsize=(10,1))\n",
    "for i in range(filters):\n",
    "    plt.subplot(1, filters, i+1)\n",
    "    ax = plt.gca() # get current axis\n",
    "    ax.tick_params(labelbottom=\"off\", labelleft=\"off\", bottom=\"off\", \n",
    "                   left=\"off\") # 删除坐标轴\n",
    "    plt.imshow(P2[i])\n",
    "plt.suptitle('Pooling result', fontsize=12)\n",
    "plt.show()"
   ]
  },
  {
   "cell_type": "markdown",
   "metadata": {},
   "source": [
    "**程序清单 21.20：参考答案**"
   ]
  },
  {
   "cell_type": "markdown",
   "metadata": {
    "courseId": 5100,
    "exerciseId": "rJ1gI_OspBM",
    "id": "code_session_name",
    "important": false,
    "isDL": false,
    "timeoutSecs": 10
   },
   "source": [
    "### ○21.3.6 strides （Pool层）"
   ]
  },
  {
   "cell_type": "markdown",
   "metadata": {},
   "source": [
    "#### □习题"
   ]
  },
  {
   "cell_type": "code",
   "execution_count": null,
   "metadata": {
    "collapsed": true,
    "id": "index"
   },
   "outputs": [],
   "source": [
    "import numpy as np\n",
    "import matplotlib.pyplot as plt\n",
    "import urllib.request\n",
    "\n",
    "# 定义一个非常简单的卷积层\n",
    "class Conv:\n",
    "    def __init__(self, W, filters, kernel_size):\n",
    "        self.filters = filters\n",
    "        self.kernel_size = kernel_size\n",
    "        self.W = W # np.random.rand(filters, kernel_size[0], \n",
    "                   #                kernel_size[1])\n",
    "    def f_prop(self, X):\n",
    "        k_h, k_w = self.kernel_size\n",
    "        out = np.zeros((filters, X.shape[0]-k_h+1, X.shape[1]-k_w+1))\n",
    "        for k in range(self.filters):\n",
    "            for i in range(out[0].shape[0]):\n",
    "                for j in range(out[0].shape[1]):\n",
    "                    x = X[i:i+k_h, j:j+k_w]\n",
    "                    out[k,i,j] = np.dot(self.W[k].flatten(), \n",
    "                                        x.flatten())\n",
    "        return out\n",
    "\n",
    "# 定义一个非常简单的池化层\n",
    "# 池化层只提供单通道的特征图的支持\n",
    "class Pool:\n",
    "    def __init__(self, pool_size, strides):\n",
    "        self.pool_size = pool_size\n",
    "        self.strides = strides\n",
    "    def f_prop(self, X):\n",
    "        k_h, k_w = self.pool_size\n",
    "        s_h, s_w = self.strides\n",
    "        out = np.zeros(((X.shape[0]-k_h)//s_h+1, (X.shape[1]-k_w)//s_w+1))\n",
    "        for i in range(out.shape[0]):\n",
    "            for j in range(out.shape[1]):\n",
    "                out[i,j] = np.max(X[i*s_h:i*s_h+k_h, j*s_w:j*s_w+k_w])\n",
    "        return out\n",
    "\n",
    "local_filename, headers = urllib.request.urlretrieve('https://aidemyexcontentsdata.blob.core.windows.net/data/5100_cnn/circle.npy') \n",
    "X = np.load(local_filename)\n",
    "\n",
    "local_filename_w, headers = urllib.request.urlretrieve('https://aidemyexcontentsdata.blob.core.windows.net/data/5100_cnn/weight.npy') \n",
    "W = np.load(local_filename_w)\n",
    "\n",
    "# 进行卷积处理\n",
    "filters = 4\n",
    "kernel_size = (3,3)\n",
    "conv = Conv(W=W, filters=filters, kernel_size=kernel_size)\n",
    "C = conv.f_prop(X)\n",
    "\n",
    "# 池化处理1\n",
    "pool_size = (2,2)\n",
    "strides = (1,1)\n",
    "pool1 = Pool(pool_size, strides)\n",
    "P1 = [pool1.f_prop(C[i]) for i in range(len(C))]\n",
    "\n",
    "# 池化处理 2（请进行定义）\n",
    "pool_size = (3,3)\n",
    "strides = (2,2)\n",
    "pool2 = \n",
    "P2 = \n",
    "# --------------------------------------------------------------\n",
    "# 以下部分全是用于实现可视化处理的代码\n",
    "# --------------------------------------------------------------\n",
    "plt.imshow(X)\n",
    "plt.title('The original image', fontsize=12)\n",
    "plt.show()\n",
    "\n",
    "plt.figure(figsize=(10,1))\n",
    "for i in range(filters):\n",
    "    plt.subplot(1, filters, i+1)\n",
    "    ax = plt.gca() # get current axis\n",
    "    ax.tick_params(labelbottom=\"off\", labelleft=\"off\", bottom=\"off\", \n",
    "                   left=\"off\") # 删除坐标轴\n",
    "    plt.imshow(C[i])\n",
    "plt.suptitle('Convolution result', fontsize=12)\n",
    "plt.show()\n",
    "\n",
    "plt.figure(figsize=(10,1))\n",
    "for i in range(filters):\n",
    "    plt.subplot(1, filters, i+1)\n",
    "    ax = plt.gca() # get current axis\n",
    "    ax.tick_params(labelbottom=\"off\", labelleft=\"off\", bottom=\"off\", \n",
    "                   left=\"off\") # 删除坐标轴\n",
    "    plt.imshow(P1[i])\n",
    "plt.suptitle('Pooling result', fontsize=12)\n",
    "plt.show()\n",
    "\n",
    "plt.figure(figsize=(10,1))\n",
    "for i in range(filters):\n",
    "    plt.subplot(1, filters, i+1)\n",
    "    ax = plt.gca() # get current axis\n",
    "    ax.tick_params(labelbottom=\"off\", labelleft=\"off\", bottom=\"off\", \n",
    "                   left=\"off\") # 删除坐标轴\n",
    "    plt.imshow(P2[i])\n",
    "plt.suptitle('Pooling result', fontsize=12)\n",
    "plt.show()"
   ]
  },
  {
   "cell_type": "markdown",
   "metadata": {},
   "source": [
    "**程序清单 21.21：习题**"
   ]
  },
  {
   "cell_type": "markdown",
   "metadata": {},
   "source": [
    "#### □参考答案"
   ]
  },
  {
   "cell_type": "code",
   "execution_count": 11,
   "metadata": {
    "id": "answer"
   },
   "outputs": [
    {
     "data": {
      "image/png": "[encoded data removed]",
      "text/plain": [
       "<Figure size 432x288 with 1 Axes>"
      ]
     },
     "metadata": {
      "needs_background": "light"
     },
     "output_type": "display_data"
    },
    {
     "name": "stderr",
     "output_type": "stream",
     "text": [
      "C:\\Users\\miyakoshi\\Anaconda3\\envs\\aidemytest\\lib\\site-packages\\matplotlib\\cbook\\deprecation.py:107: MatplotlibDeprecationWarning: Passing one of 'on', 'true', 'off', 'false' as a boolean is deprecated; use an actual boolean (True/False) instead.\n",
      "  warnings.warn(message, mplDeprecation, stacklevel=1)\n"
     ]
    },
    {
     "data": {
      "image/png": "[encoded data removed]",
      "text/plain": [
       "<Figure size 720x72 with 4 Axes>"
      ]
     },
     "metadata": {},
     "output_type": "display_data"
    },
    {
     "data": {
      "image/png": "[encoded data removed]",
      "text/plain": [
       "<Figure size 720x72 with 4 Axes>"
      ]
     },
     "metadata": {},
     "output_type": "display_data"
    },
    {
     "data": {
      "image/png": "[encoded data removed]",
      "text/plain": [
       "<Figure size 720x72 with 4 Axes>"
      ]
     },
     "metadata": {},
     "output_type": "display_data"
    }
   ],
   "source": [
    "import numpy as np\n",
    "import matplotlib.pyplot as plt\n",
    "import urllib.request\n",
    "\n",
    "# 定义一个非常简单的卷积层\n",
    "class Conv:\n",
    "    def __init__(self, W, filters, kernel_size):\n",
    "        self.filters = filters\n",
    "        self.kernel_size = kernel_size\n",
    "        self.W = W # np.random.rand(filters, kernel_size[0], \n",
    "                   #                         kernel_size[1])\n",
    "    def f_prop(self, X):\n",
    "        k_h, k_w = self.kernel_size\n",
    "        out = np.zeros((filters, X.shape[0]-k_h+1, X.shape[1]-k_w+1))\n",
    "        for k in range(self.filters):\n",
    "            for i in range(out[0].shape[0]):\n",
    "                for j in range(out[0].shape[1]):\n",
    "                    x = X[i:i+k_h, j:j+k_w]\n",
    "                    out[k,i,j] = np.dot(self.W[k].flatten(), \n",
    "                                        x.flatten())\n",
    "        return out\n",
    "\n",
    "# 定义一个非常简单的池化层\n",
    "# 池化层只提供单通道的特征图的支持\n",
    "class Pool:\n",
    "    def __init__(self, pool_size, strides):\n",
    "        self.pool_size = pool_size\n",
    "        self.strides = strides\n",
    "    def f_prop(self, X):\n",
    "        k_h, k_w = self.pool_size\n",
    "        s_h, s_w = self.strides\n",
    "        out = np.zeros(((X.shape[0]-k_h)//s_h+1, (X.shape[1]-k_w)//s_w+1))\n",
    "        for i in range(out.shape[0]):\n",
    "            for j in range(out.shape[1]):\n",
    "                out[i,j] = np.max(X[i*s_h:i*s_h+k_h, j*s_w:j*s_w+k_w])\n",
    "        return out\n",
    "\n",
    "local_filename, headers = urllib.request.urlretrieve('https://aidemyexcontentsdata.blob.core.windows.net/data/5100_cnn/circle.npy') \n",
    "X = np.load(local_filename)\n",
    "\n",
    "local_filename_w, headers = urllib.request.urlretrieve('https://aidemyexcontentsdata.blob.core.windows.net/data/5100_cnn/weight.npy') \n",
    "W = np.load(local_filename_w)\n",
    "\n",
    "# 进行卷积处理\n",
    "filters = 4\n",
    "kernel_size = (3,3)\n",
    "conv = Conv(W=W, filters=filters, kernel_size=kernel_size)\n",
    "C = conv.f_prop(X)\n",
    "\n",
    "# 池化处理1\n",
    "pool_size = (2,2)\n",
    "strides = (1,1)\n",
    "pool1 = Pool(pool_size, strides)\n",
    "P1 = [pool1.f_prop(C[i]) for i in range(len(C))]\n",
    "\n",
    "# 池化处理 2（请进行定义）\n",
    "pool_size = (3,3)\n",
    "strides = (2,2)\n",
    "pool2 = Pool((3,3), (2,2))\n",
    "P2 = [pool2.f_prop(C[i]) for i in range(len(C))]\n",
    "# --------------------------------------------------------------\n",
    "# 以下部分全是用于实现可视化处理的代码\n",
    "# --------------------------------------------------------------\n",
    "plt.imshow(X)\n",
    "plt.title('The original image', fontsize=12)\n",
    "plt.show()\n",
    "\n",
    "plt.figure(figsize=(10,1))\n",
    "for i in range(filters):\n",
    "    plt.subplot(1,filters,i+1)\n",
    "    ax = plt.gca() # get current axis\n",
    "    ax.tick_params(labelbottom=\"off\", labelleft=\"off\", bottom=\"off\", \n",
    "                   left=\"off\") # 删除坐标轴\n",
    "    plt.imshow(C[i])\n",
    "plt.suptitle('Convolution result', fontsize=12)\n",
    "plt.show()\n",
    "\n",
    "plt.figure(figsize=(10,1))\n",
    "for i in range(filters):\n",
    "    plt.subplot(1,filters,i+1)\n",
    "    ax = plt.gca() # get current axis\n",
    "    ax.tick_params(labelbottom=\"off\", labelleft=\"off\", bottom=\"off\", \n",
    "                   left=\"off\") # 删除坐标轴\n",
    "    plt.imshow(P1[i])\n",
    "plt.suptitle('Pooling result', fontsize=12)\n",
    "plt.show()\n",
    "\n",
    "plt.figure(figsize=(10,1))\n",
    "for i in range(filters):\n",
    "    plt.subplot(1,filters,i+1)\n",
    "    ax = plt.gca() # get current axis\n",
    "    ax.tick_params(labelbottom=\"off\", labelleft=\"off\", bottom=\"off\", \n",
    "                   left=\"off\") # 删除坐标轴\n",
    "    plt.imshow(P2[i])\n",
    "plt.suptitle('Pooling result', fontsize=12)\n",
    "plt.show()"
   ]
  },
  {
   "cell_type": "markdown",
   "metadata": {},
   "source": [
    "**程序清单 21.22：参考答案**"
   ]
  },
  {
   "cell_type": "markdown",
   "metadata": {
    "courseId": 5100,
    "exerciseId": "Byll8__o6Hf",
    "id": "code_session_name",
    "important": false,
    "isDL": false,
    "timeoutSecs": 10
   },
   "source": [
    "### 〇21.3.7 padding （Pool层）"
   ]
  },
  {
   "cell_type": "markdown",
   "metadata": {},
   "source": [
    "#### □习题"
   ]
  },
  {
   "cell_type": "code",
   "execution_count": null,
   "metadata": {
    "collapsed": true,
    "id": "index"
   },
   "outputs": [],
   "source": [
    "import numpy as np\n",
    "import matplotlib.pyplot as plt\n",
    "import urllib.request\n",
    "\n",
    "# 定义一个非常简单的卷积层\n",
    "class Conv:\n",
    "    def __init__(self, W, filters, kernel_size):\n",
    "        self.filters = filters\n",
    "        self.kernel_size = kernel_size\n",
    "        self.W = W # np.random.rand(filters, kernel_size[0], \n",
    "                   #                         kernel_size[1])\n",
    "    def f_prop(self, X):\n",
    "        k_h, k_w = self.kernel_size\n",
    "        out = np.zeros((filters, X.shape[0]-k_h+1, X.shape[1]-k_w+1))\n",
    "        for k in range(self.filters):\n",
    "            for i in range(out[0].shape[0]):\n",
    "                for j in range(out[0].shape[1]):\n",
    "                    x = X[i:i+k_h, j:j+k_w]\n",
    "                    out[k,i,j] = np.dot(self.W[k].flatten(), \n",
    "                                        x.flatten())\n",
    "        return out\n",
    "\n",
    "# 定义一个非常简单的池化层\n",
    "# 池化层只提供单通道的特征图的支持\n",
    "class Pool:\n",
    "    def __init__(self, pool_size, strides, padding):\n",
    "        self.pool_size = pool_size\n",
    "        self.strides = strides\n",
    "        self.padding = padding\n",
    "    def f_prop(self, X):\n",
    "        k_h, k_w = self.pool_size\n",
    "        s_h, s_w = self.strides\n",
    "        p_h, p_w = self.padding\n",
    "        out = np.zeros(((X.shape[0]+p_h*2-k_h)//s_h+1, \n",
    "                        (X.shape[1]+p_w*2-k_w)//s_w+1))\n",
    "        X = np.pad(X, ((p_h,p_h),(p_w,p_w)), 'constant', \n",
    "                   constant_values=((0,0),(0,0)))\n",
    "        for i in range(out.shape[0]):\n",
    "            for j in range(out.shape[1]):\n",
    "                out[i,j] = np.max(X[i*s_h:i*s_h+k_h, j*s_w:j*s_w+k_w])\n",
    "        return out\n",
    "\n",
    "local_filename, headers = urllib.request.urlretrieve('https://aidemyexcontentsdata.blob.core.windows.net/data/5100_cnn/circle.npy') \n",
    "X = np.load(local_filename)\n",
    "\n",
    "local_filename_w, headers = urllib.request.urlretrieve('https://aidemyexcontentsdata.blob.core.windows.net/data/5100_cnn/weight.npy') \n",
    "W = np.load(local_filename_w)\n",
    "\n",
    "# 进行卷积处理\n",
    "filters = 4\n",
    "kernel_size = (3,3)\n",
    "conv = Conv(W=W, filters=filters, kernel_size=kernel_size)\n",
    "C = conv.f_prop(X)\n",
    "\n",
    "# 池化处理1\n",
    "pool_size = (2,2)\n",
    "strides = (2,2)\n",
    "padding = (0,0)\n",
    "pool1 = Pool(pool_size=pool_size, strides=strides, padding=padding)\n",
    "P1 = [pool1.f_prop(C[i]) for i in range(len(C))]\n",
    "\n",
    "# 池化处理 2（请进行定义）\n",
    "pool_size = (2,2)\n",
    "strides = (2,2)\n",
    "padding = (1,1)\n",
    "pool2 =\n",
    "P2 = \n",
    "# --------------------------------------------------------------\n",
    "# 以下部分全是用于实现可视化处理的代码\n",
    "# --------------------------------------------------------------\n",
    "plt.imshow(X)\n",
    "plt.title('The original image', fontsize=12)\n",
    "plt.show()\n",
    "\n",
    "plt.figure(figsize=(10,1))\n",
    "for i in range(filters):\n",
    "    plt.subplot(1, filters, i+1)\n",
    "    ax = plt.gca() # get current axis\n",
    "    ax.tick_params(labelbottom=\"off\", labelleft=\"off\", bottom=\"off\", \n",
    "                   left=\"off\") # 删除坐标轴\n",
    "    plt.imshow(C[i])\n",
    "plt.suptitle('Convolution result', fontsize=12)\n",
    "plt.show()\n",
    "\n",
    "plt.figure(figsize=(10,1))\n",
    "for i in range(filters):\n",
    "    plt.subplot(1, filters, i+1)\n",
    "    ax = plt.gca() # get current axis\n",
    "    ax.tick_params(labelbottom=\"off\", labelleft=\"off\", bottom=\"off\", \n",
    "                   left=\"off\") # 删除坐标轴\n",
    "    plt.imshow(P1[i])\n",
    "plt.suptitle('Pooling result', fontsize=12)\n",
    "plt.show()\n",
    "\n",
    "plt.figure(figsize=(10,1))\n",
    "for i in range(filters):\n",
    "    plt.subplot(1, filters, i+1)\n",
    "    ax = plt.gca() # get current axis\n",
    "    ax.tick_params(labelbottom=\"off\", labelleft=\"off\", bottom=\"off\", \n",
    "                   left=\"off\") # 删除坐标轴\n",
    "    plt.imshow(P2[i])\n",
    "plt.suptitle('Pooling result', fontsize=12)\n",
    "plt.show()"
   ]
  },
  {
   "cell_type": "markdown",
   "metadata": {},
   "source": [
    "**程序清单 21.23：习题**"
   ]
  },
  {
   "cell_type": "markdown",
   "metadata": {},
   "source": [
    "#### □参考答案"
   ]
  },
  {
   "cell_type": "code",
   "execution_count": 12,
   "metadata": {
    "scrolled": true
   },
   "outputs": [
    {
     "data": {
      "image/png": "[encoded data removed]",
      "text/plain": [
       "<Figure size 432x288 with 1 Axes>"
      ]
     },
     "metadata": {
      "needs_background": "light"
     },
     "output_type": "display_data"
    },
    {
     "name": "stderr",
     "output_type": "stream",
     "text": [
      "C:\\Users\\miyakoshi\\Anaconda3\\envs\\aidemytest\\lib\\site-packages\\matplotlib\\cbook\\deprecation.py:107: MatplotlibDeprecationWarning: Passing one of 'on', 'true', 'off', 'false' as a boolean is deprecated; use an actual boolean (True/False) instead.\n",
      "  warnings.warn(message, mplDeprecation, stacklevel=1)\n"
     ]
    },
    {
     "data": {
      "image/png": "[encoded data removed]",
      "text/plain": [
       "<Figure size 720x72 with 4 Axes>"
      ]
     },
     "metadata": {},
     "output_type": "display_data"
    },
    {
     "data": {
      "image/png": "[encoded data removed]",
      "text/plain": [
       "<Figure size 720x72 with 4 Axes>"
      ]
     },
     "metadata": {},
     "output_type": "display_data"
    },
    {
     "data": {
      "image/png": "[encoded data removed]",
      "text/plain": [
       "<Figure size 720x72 with 4 Axes>"
      ]
     },
     "metadata": {},
     "output_type": "display_data"
    }
   ],
   "source": [
    "import numpy as np\n",
    "import matplotlib.pyplot as plt\n",
    "import urllib.request\n",
    "\n",
    "# 定义一个非常简单的卷积层\n",
    "class Conv:\n",
    "    def __init__(self, W, filters, kernel_size):\n",
    "        self.filters = filters\n",
    "        self.kernel_size = kernel_size\n",
    "        self.W = W # np.random.rand(filters, kernel_size[0], \n",
    "                   #                         kernel_size[1])\n",
    "    def f_prop(self, X):\n",
    "        k_h, k_w = self.kernel_size\n",
    "        out = np.zeros((filters, X.shape[0]-k_h+1, X.shape[1]-k_w+1))\n",
    "        for k in range(self.filters):\n",
    "            for i in range(out[0].shape[0]):\n",
    "                for j in range(out[0].shape[1]):\n",
    "                    x = X[i:i+k_h, j:j+k_w]\n",
    "                    out[k,i,j] = np.dot(self.W[k].flatten(), \n",
    "                                        x.flatten())\n",
    "        return out\n",
    "\n",
    "# 定义一个非常简单的池化层\n",
    "# 池化层只提供单通道的特征图的支持\n",
    "class Pool:\n",
    "    def __init__(self, pool_size, strides, padding):\n",
    "        self.pool_size = pool_size\n",
    "        self.strides = strides\n",
    "        self.padding = padding\n",
    "    def f_prop(self, X):\n",
    "        k_h, k_w = self.pool_size\n",
    "        s_h, s_w = self.strides\n",
    "        p_h, p_w = self.padding\n",
    "        out = np.zeros(((X.shape[0]+p_h*2-k_h)//s_h+1, \n",
    "                        (X.shape[1]+p_w*2-k_w)//s_w+1))\n",
    "        X = np.pad(X, ((p_h,p_h),(p_w,p_w)), 'constant', \n",
    "                   constant_values=((0,0),(0,0)))\n",
    "        for i in range(out.shape[0]):\n",
    "            for j in range(out.shape[1]):\n",
    "                out[i,j] = np.max(X[i*s_h:i*s_h+k_h, j*s_w:j*s_w+k_w])\n",
    "        return out\n",
    "\n",
    "local_filename, headers = urllib.request.urlretrieve('https://aidemyexcontentsdata.blob.core.windows.net/data/5100_cnn/circle.npy') \n",
    "X = np.load(local_filename)\n",
    "\n",
    "local_filename_w, headers = urllib.request.urlretrieve('https://aidemyexcontentsdata.blob.core.windows.net/data/5100_cnn/weight.npy') \n",
    "W = np.load(local_filename_w)\n",
    "\n",
    "# 进行卷积处理\n",
    "filters = 4\n",
    "kernel_size = (3,3)\n",
    "conv = Conv(W=W, filters=filters, kernel_size=kernel_size)\n",
    "C = conv.f_prop(X)\n",
    "\n",
    "# 池化处理1\n",
    "pool_size = (2,2)\n",
    "strides = (2,2)\n",
    "padding = (0,0)\n",
    "pool1 = Pool(pool_size=pool_size, strides=strides, padding=padding)\n",
    "P1 = [pool1.f_prop(C[i]) for i in range(len(C))]\n",
    "\n",
    "# 池化处理 2（请进行定义）\n",
    "pool_size = (2,2)\n",
    "strides = (2,2)\n",
    "padding = (1,1)\n",
    "pool2 = Pool(pool_size=pool_size, strides=strides, padding=padding)\n",
    "P2 = [pool2.f_prop(C[i]) for i in range(len(C))]\n",
    "# --------------------------------------------------------------\n",
    "# 以下部分全是用于实现可视化处理的代码\n",
    "# --------------------------------------------------------------\n",
    "plt.imshow(X)\n",
    "plt.title('The original image', fontsize=12)\n",
    "plt.show()\n",
    "\n",
    "plt.figure(figsize=(10,1))\n",
    "for i in range(filters):\n",
    "    plt.subplot(1, filters, i+1)\n",
    "    ax = plt.gca() # get current axis\n",
    "    ax.tick_params(labelbottom=\"off\", labelleft=\"off\", bottom=\"off\", \n",
    "                   left=\"off\") # 删除坐标轴\n",
    "    plt.imshow(C[i])\n",
    "plt.suptitle('Convolution result', fontsize=12)\n",
    "plt.show()\n",
    "\n",
    "plt.figure(figsize=(10,1))\n",
    "for i in range(filters):\n",
    "    plt.subplot(1, filters, i+1)\n",
    "    ax = plt.gca() # get current axis\n",
    "    ax.tick_params(labelbottom=\"off\", labelleft=\"off\", bottom=\"off\", \n",
    "                   left=\"off\") # 删除坐标轴\n",
    "    plt.imshow(P1[i])\n",
    "plt.suptitle('Pooling result', fontsize=12)\n",
    "plt.show()\n",
    "\n",
    "plt.figure(figsize=(10,1))\n",
    "for i in range(filters):\n",
    "    plt.subplot(1, filters, i+1)\n",
    "    ax = plt.gca() # get current axis\n",
    "    ax.tick_params(labelbottom=\"off\", labelleft=\"off\", bottom=\"off\", \n",
    "                   left=\"off\") # 删除坐标轴\n",
    "    plt.imshow(P2[i])\n",
    "plt.suptitle('Pooling result', fontsize=12)\n",
    "plt.show()"
   ]
  },
  {
   "cell_type": "markdown",
   "metadata": {},
   "source": [
    "**程序清单 21.24：参考答案**"
   ]
  },
  {
   "cell_type": "markdown",
   "metadata": {
    "id": "chapter_exam"
   },
   "source": [
    "## ●附加习题"
   ]
  },
  {
   "cell_type": "markdown",
   "metadata": {},
   "source": [
    "#### □习题"
   ]
  },
  {
   "cell_type": "code",
   "execution_count": null,
   "metadata": {},
   "outputs": [],
   "source": [
    "from keras.layers import Activation, Conv2D, Dense, Flatten, MaxPooling2D\n",
    "from keras.models import Sequential, load_model\n",
    "from keras.utils.np_utils import to_categorical\n",
    "\n",
    "# 定义模型\n",
    "# 请创建实例\n",
    "model = \n",
    "\n",
    "model.add(Conv2D(input_shape=(28, 28, 1), \n",
    "                 filters=32,\n",
    "                 kernel_size=(2, 2), \n",
    "                 strides=(1, 1), \n",
    "                 padding=\"same\"))\n",
    "model.add(MaxPooling2D(pool_size=(2, 2), \n",
    "                       strides=(1,1)))\n",
    "model.add(Conv2D(filters=32, \n",
    "                 kernel_size=(2, 2), \n",
    "                 strides=(1, 1), \n",
    "                 padding=\"same\"))\n",
    "model.add(MaxPooling2D(pool_size=(2, 2), \n",
    "                       strides=(1,1)))\n",
    "model.add(Flatten())\n",
    "model.add(Dense(256))\n",
    "\n",
    "\n",
    "# 请使用激励函数 sigmoid\n",
    "model.add()\n",
    "model.add(Dense(128))\n",
    "\n",
    "# 请使用激励函数 sigmoid\n",
    "model.add()\n",
    "model.add(Dense(10))\n",
    "\n",
    "# 请使用激励函数 softmax\n",
    "model.add()\n",
    "\n",
    "model.summary() "
   ]
  },
  {
   "cell_type": "markdown",
   "metadata": {},
   "source": [
    "**程序清单 21.25：习题**"
   ]
  },
  {
   "cell_type": "code",
   "execution_count": 13,
   "metadata": {},
   "outputs": [
    {
     "name": "stdout",
     "output_type": "stream",
     "text": [
      "_________________________________________________________________\n",
      "Layer (type)                 Output Shape              Param #   \n",
      "=================================================================\n",
      "conv2d_9 (Conv2D)            (None, 28, 28, 32)        160       \n",
      "_________________________________________________________________\n",
      "max_pooling2d_6 (MaxPooling2 (None, 27, 27, 32)        0         \n",
      "_________________________________________________________________\n",
      "conv2d_10 (Conv2D)           (None, 27, 27, 32)        4128      \n",
      "_________________________________________________________________\n",
      "max_pooling2d_7 (MaxPooling2 (None, 26, 26, 32)        0         \n",
      "_________________________________________________________________\n",
      "flatten_4 (Flatten)          (None, 21632)             0         \n",
      "_________________________________________________________________\n",
      "dense_8 (Dense)              (None, 256)               5538048   \n",
      "_________________________________________________________________\n",
      "activation_14 (Activation)   (None, 256)               0         \n",
      "_________________________________________________________________\n",
      "dense_9 (Dense)              (None, 128)               32896     \n",
      "_________________________________________________________________\n",
      "activation_15 (Activation)   (None, 128)               0         \n",
      "_________________________________________________________________\n",
      "dense_10 (Dense)             (None, 10)                1290      \n",
      "_________________________________________________________________\n",
      "activation_16 (Activation)   (None, 10)                0         \n",
      "=================================================================\n",
      "Total params: 5,576,522\n",
      "Trainable params: 5,576,522\n",
      "Non-trainable params: 0\n",
      "_________________________________________________________________\n"
     ]
    }
   ],
   "source": [
    "from keras.layers import Activation, Conv2D, Dense, Flatten, MaxPooling2D\n",
    "from keras.models import Sequential, load_model\n",
    "from keras.utils.np_utils import to_categorical\n",
    "\n",
    "# 定义模型\n",
    "# 请创建实例\n",
    "model = Sequential()\n",
    "\n",
    "model.add(Conv2D(input_shape=(28, 28, 1), \n",
    "                 filters=32,\n",
    "                 kernel_size=(2, 2), \n",
    "                 strides=(1, 1), \n",
    "                 padding=\"same\"))\n",
    "model.add(MaxPooling2D(pool_size=(2, 2), \n",
    "                       strides=(1,1)))\n",
    "model.add(Conv2D(filters=32, \n",
    "                 kernel_size=(2, 2), \n",
    "                 strides=(1, 1), \n",
    "                 padding=\"same\"))\n",
    "model.add(MaxPooling2D(pool_size=(2, 2), \n",
    "                       strides=(1,1)))\n",
    "model.add(Flatten())\n",
    "model.add(Dense(256))\n",
    "\n",
    "# 请使用激励函数 sigmoid\n",
    "model.add(Activation('sigmoid'))\n",
    "model.add(Dense(128))\n",
    "\n",
    "# 请使用激励函数 sigmoid\n",
    "model.add(Activation('sigmoid'))\n",
    "model.add(Dense(10))\n",
    "\n",
    "# 请使用激励函数 softmax\n",
    "model.add(Activation('softmax'))\n",
    "\n",
    "model.summary() "
   ]
  },
  {
   "cell_type": "markdown",
   "metadata": {},
   "source": [
    "**程序清单 21.26：参考答案**"
   ]
  }
 ],
 "metadata": {
  "celltoolbar": "Edit Metadata",
  "kernelspec": {
   "display_name": "Python 3",
   "language": "python",
   "name": "python3"
  },
  "language_info": {
   "codemirror_mode": {
    "name": "ipython",
    "version": 3
   },
   "file_extension": ".py",
   "mimetype": "text/x-python",
   "name": "python",
   "nbconvert_exporter": "python",
   "pygments_lexer": "ipython3",
   "version": "3.6.6"
  },
  "varInspector": {
   "cols": {
    "lenName": 16,
    "lenType": 16,
    "lenVar": 40
   },
   "kernels_config": {
    "python": {
     "delete_cmd_postfix": "",
     "delete_cmd_prefix": "del ",
     "library": "var_list.py",
     "varRefreshCmd": "print(var_dic_list())"
    },
    "r": {
     "delete_cmd_postfix": ") ",
     "delete_cmd_prefix": "rm(",
     "library": "var_list.r",
     "varRefreshCmd": "cat(var_dic_list()) "
    }
   },
   "types_to_exclude": [
    "module",
    "function",
    "builtin_function_or_method",
    "instance",
    "_Feature"
   ],
   "window_display": false
  }
 },
 "nbformat": 4,
 "nbformat_minor": 2
}
